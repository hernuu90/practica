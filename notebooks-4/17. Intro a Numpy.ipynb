{
 "cells": [
  {
   "cell_type": "markdown",
   "metadata": {},
   "source": [
    "# Our First NumPy Array\n",
    "In this chapter, we're going to dive into the world of baseball. Along the way, you'll get comfortable with the basics of `numpy`, a powerful package to do data science.\n",
    "\n",
    "A list baseball has already been defined in the Python script, representing the height of some baseball players in centimeters. Can you add some code here and there to create a numpy array from it?"
   ]
  },
  {
   "cell_type": "code",
   "execution_count": 2,
   "metadata": {},
   "outputs": [],
   "source": [
    "import numpy as np"
   ]
  },
  {
   "cell_type": "code",
   "execution_count": 3,
   "metadata": {},
   "outputs": [
    {
     "name": "stdout",
     "output_type": "stream",
     "text": [
      "<class 'numpy.ndarray'>\n"
     ]
    }
   ],
   "source": [
    "# Create list baseball\n",
    "baseball = [180, 215, 210, 210, 188, 176, 209, 200]\n",
    "\n",
    "# Create a numpy array from baseball: np_baseball\n",
    "np_baseball = np.array(baseball)\n",
    "\n",
    "# Print out type of np_baseball\n",
    "print(type(np_baseball))"
   ]
  },
  {
   "cell_type": "markdown",
   "metadata": {},
   "source": [
    "You are a huge baseball fan. You decide to call the MLB (Major League Baseball) and ask around for some more statistics on the height of the main players. They pass along data on more than a thousand players, which is stored as a regular Python list: `height_in`. The height is expressed in inches. Can you make a numpy array out of it and convert the units to meters?"
   ]
  },
  {
   "cell_type": "code",
   "execution_count": 4,
   "metadata": {},
   "outputs": [
    {
     "data": {
      "text/plain": [
       "81"
      ]
     },
     "execution_count": 4,
     "metadata": {},
     "output_type": "execute_result"
    }
   ],
   "source": [
    "weight_lb = [180, 215, 210, 210, 188, 176, 209, 200, 231, 180, 188, 180, 185,\n",
    "             160, 180, 185, 197, 189, 185, 219, 230, 205, 230, 195, 180, 192,\n",
    "             225, 203, 195, 182, 188, 200, 180, 200, 200, 245, 240, 215, 185,\n",
    "             175, 199, 200, 215, 200, 205, 206, 186, 188, 220, 210, 195, 244,\n",
    "             195, 200, 200, 212, 224, 210, 205, 220, 195, 200, 260, 228, 270,\n",
    "             200, 210, 190, 220, 180, 205, 210, 220, 211, 200, 180, 190, 170,\n",
    "             230, 155, 185]\n",
    "\n",
    "len(weight_lb)"
   ]
  },
  {
   "cell_type": "code",
   "execution_count": 5,
   "metadata": {},
   "outputs": [
    {
     "data": {
      "text/plain": [
       "81"
      ]
     },
     "execution_count": 5,
     "metadata": {},
     "output_type": "execute_result"
    }
   ],
   "source": [
    "height_in = [74, 72, 72, 73, 69, 69, 71, 76, 71, 73, 73, 74, 74, 69, 70, 72, 73,\n",
    "             75, 78, 79, 76, 74, 76, 72, 71, 75, 77, 74, 73, 74, 78, 73, 75, 73,\n",
    "             75, 75, 74, 69, 71, 74, 73, 73, 76, 74, 74, 70, 72, 77, 74, 70, 76,\n",
    "             75, 73, 75, 76, 76, 78, 74, 74, 76, 77, 81, 78, 75, 77, 75, 76, 74,\n",
    "             72, 72, 75, 73, 73, 73, 70, 70, 70, 76, 68, 71, 72]\n",
    "\n",
    "len(height_in)"
   ]
  },
  {
   "cell_type": "code",
   "execution_count": 6,
   "metadata": {},
   "outputs": [
    {
     "name": "stdout",
     "output_type": "stream",
     "text": [
      "[1.8796 1.8288 1.8288 1.8542 1.7526 1.7526 1.8034 1.9304 1.8034 1.8542\n",
      " 1.8542 1.8796 1.8796 1.7526 1.778  1.8288 1.8542 1.905  1.9812 2.0066\n",
      " 1.9304 1.8796 1.9304 1.8288 1.8034 1.905  1.9558 1.8796 1.8542 1.8796\n",
      " 1.9812 1.8542 1.905  1.8542 1.905  1.905  1.8796 1.7526 1.8034 1.8796\n",
      " 1.8542 1.8542 1.9304 1.8796 1.8796 1.778  1.8288 1.9558 1.8796 1.778\n",
      " 1.9304 1.905  1.8542 1.905  1.9304 1.9304 1.9812 1.8796 1.8796 1.9304\n",
      " 1.9558 2.0574 1.9812 1.905  1.9558 1.905  1.9304 1.8796 1.8288 1.8288\n",
      " 1.905  1.8542 1.8542 1.8542 1.778  1.778  1.778  1.9304 1.7272 1.8034\n",
      " 1.8288]\n"
     ]
    }
   ],
   "source": [
    "# Create a numpy array from height: np_height_in\n",
    "np_height_in = np.array(height_in)\n",
    "\n",
    "# Convert np_height to m: np_height_m\n",
    "np_height_m = 0.0254 * np_height_in\n",
    "\n",
    "# Print np_height_m\n",
    "print(np_height_m)"
   ]
  },
  {
   "cell_type": "markdown",
   "metadata": {},
   "source": [
    "# Create new arrays\n",
    "\n",
    "Let's use numpy to create a new array: `bmi`\n",
    "\n",
    "\\begin{equation*}\n",
    "BMI = \\frac{weight(kg)}{height(m)^2}\n",
    "\\end{equation*}"
   ]
  },
  {
   "cell_type": "code",
   "execution_count": 7,
   "metadata": {},
   "outputs": [
    {
     "name": "stdout",
     "output_type": "stream",
     "text": [
      "[23.11037639 29.15891904 28.48080465 27.70585312 27.76243923 25.99036864\n",
      " 29.14926052 24.34449467 32.21760373 23.7478741  24.80333518 23.11037639\n",
      " 23.75233129 23.62760785 25.82702472 25.09023267 25.99072888 23.62311861\n",
      " 21.37865979 24.67106431 27.99616887 26.32015089 27.99616887 26.44646146\n",
      " 25.10462629 23.99808874 26.68081066 26.06336893 25.72686361 23.36715835\n",
      " 21.72534076 26.38652678 22.4982082  26.38652678 24.99800911 30.62256116\n",
      " 30.81383519 31.74959805 25.80197702 22.46842149 26.25459415 26.38652678\n",
      " 26.17033177 25.67819599 26.32015089 29.55759495 25.22585554 22.29329957\n",
      " 28.24601559 30.13152883 23.73588231 30.49757111 25.72686361 24.99800911\n",
      " 24.34449467 25.80516435 25.88551239 26.96210579 26.32015089 26.77894414\n",
      " 23.12336924 21.43176364 30.04568402 28.49773038 32.01697279 24.99800911\n",
      " 25.56171941 24.39428619 29.83703344 24.41211827 25.62295933 27.70585312\n",
      " 29.02517946 27.83778576 28.69669413 25.82702472 27.26185942 20.69282047\n",
      " 34.97099295 21.61787263 25.09023267]\n"
     ]
    }
   ],
   "source": [
    "# height and weight are available as regular lists\n",
    "\n",
    "# Create array from height_in with metric units: np_height_m\n",
    "np_height_m = np.array(height_in) * 0.0254\n",
    "\n",
    "# Create array from weight_lb with metric units: np_weight_kg\n",
    "np_weight_kg = np.array(weight_lb) * 0.453592\n",
    "\n",
    "# Calculate the BMI: bmi\n",
    "bmi = np_weight_kg / np_height_m**2\n",
    "\n",
    "# Print out bmi\n",
    "print(bmi)"
   ]
  },
  {
   "cell_type": "markdown",
   "metadata": {},
   "source": [
    "# Subset\n",
    "\n",
    "To subset both regular Python lists and numpy arrays, you can use square brackets:\n",
    "\n",
    "`x = [4 , 9 , 6, 3, 1]\n",
    "x[1]`\n",
    "\n",
    "`import numpy as np\n",
    "y = np.array(x)\n",
    "y[1]`\n",
    "\n",
    "For numpy specifically, you can also use boolean numpy arrays:\n",
    "\n",
    "`high = y > 5\n",
    "y[high]`"
   ]
  },
  {
   "cell_type": "code",
   "execution_count": 10,
   "metadata": {},
   "outputs": [
    {
     "data": {
      "text/plain": [
       "array([False, False, False, False, False, False, False, False, False,\n",
       "       False, False, False, False, False, False, False, False, False,\n",
       "       False, False, False, False, False, False, False, False, False,\n",
       "       False, False, False, False, False, False, False, False, False,\n",
       "       False, False, False, False, False, False, False, False, False,\n",
       "       False, False, False, False, False, False, False, False, False,\n",
       "       False, False, False, False, False, False, False, False, False,\n",
       "       False, False, False, False, False, False, False, False, False,\n",
       "       False, False, False, False, False,  True, False, False, False])"
      ]
     },
     "execution_count": 10,
     "metadata": {},
     "output_type": "execute_result"
    }
   ],
   "source": [
    "# Calculate the BMI: bmi\n",
    "np_height_m = np.array(height_in) * 0.0254\n",
    "np_weight_kg = np.array(weight_lb) * 0.453592\n",
    "bmi = np_weight_kg / np_height_m ** 2\n",
    "\n",
    "# Create the light array\n",
    "light = bmi < 21\n",
    "\n",
    "# Print out light\n",
    "light"
   ]
  },
  {
   "cell_type": "code",
   "execution_count": 11,
   "metadata": {},
   "outputs": [
    {
     "data": {
      "text/plain": [
       "array([20.69282047])"
      ]
     },
     "execution_count": 11,
     "metadata": {},
     "output_type": "execute_result"
    }
   ],
   "source": [
    "# Print out BMIs of all baseball players whose BMI is below 21\n",
    "bmi[light]"
   ]
  },
  {
   "cell_type": "code",
   "execution_count": 12,
   "metadata": {},
   "outputs": [
    {
     "name": "stdout",
     "output_type": "stream",
     "text": [
      "[ True  True False False]\n",
      "[False  True  True False]\n"
     ]
    }
   ],
   "source": [
    "# Create arrays\n",
    "my_house = np.array([18.0, 20.0, 10.75, 9.50])\n",
    "your_house = np.array([14.0, 24.0, 14.25, 9.0])\n",
    "\n",
    "# my_house greater than or equal to 18\n",
    "print(my_house >=18)\n",
    "\n",
    "# my_house less than your_house\n",
    "print(my_house < your_house)"
   ]
  },
  {
   "cell_type": "code",
   "execution_count": 13,
   "metadata": {},
   "outputs": [
    {
     "name": "stdout",
     "output_type": "stream",
     "text": [
      "[False  True False  True]\n",
      "[False False False  True]\n"
     ]
    }
   ],
   "source": [
    "# Booleans\n",
    "my_house = np.array([18.0, 20.0, 10.75, 9.50])\n",
    "your_house = np.array([14.0, 24.0, 14.25, 9.0])\n",
    "\n",
    "# my_house greater than 18.5 or smaller than 10\n",
    "print(np.logical_or(my_house > 18.5, my_house < 10))\n",
    "\n",
    "# Both my_house and your_house smaller than 11\n",
    "print(np.logical_and(my_house < 11, your_house < 11))"
   ]
  },
  {
   "cell_type": "code",
   "execution_count": 14,
   "metadata": {},
   "outputs": [
    {
     "name": "stdout",
     "output_type": "stream",
     "text": [
      "195\n",
      "[76]\n"
     ]
    }
   ],
   "source": [
    "# Store weight and height lists as numpy arrays\n",
    "np_weight_lb = np.array(weight_lb)\n",
    "np_height_in = np.array(height_in)\n",
    "\n",
    "# Print out the weight at index 50\n",
    "print(np_weight_lb[50])\n",
    "\n",
    "# Print out sub-array of np_height\n",
    "print(np_height_in[50:52])"
   ]
  },
  {
   "cell_type": "markdown",
   "metadata": {},
   "source": [
    "# Numpy and types\n",
    "\n",
    "First of all, numpy arrays cannot contain elements with different types. If you try to build such a list, some of the elements' types are changed to end up with a homogeneous list. This is known as **type coercion**.\n",
    "\n",
    "Second, the typical arithmetic operators, such as `+`, `-`, `*` and `/` have a different meaning for regular Python lists and numpy arrays."
   ]
  },
  {
   "cell_type": "markdown",
   "metadata": {},
   "source": [
    "# Your First 2D NumPy Array\n",
    "Before working on the actual MLB data, let's try to create a 2D numpy array from a small list of lists.\n",
    "In this exercise, `baseball` is a list of lists. The main list contains 4 elements. Each of these elements is a list containing the height and the weight of 4 baseball players, in this order. baseball is already coded for you in the script."
   ]
  },
  {
   "cell_type": "code",
   "execution_count": 57,
   "metadata": {},
   "outputs": [
    {
     "name": "stdout",
     "output_type": "stream",
     "text": [
      "<class 'numpy.ndarray'>\n",
      "(4, 2)\n"
     ]
    }
   ],
   "source": [
    "# Create baseball, a list of lists\n",
    "baseball = [[180, 78.4],\n",
    "            [215, 102.7],\n",
    "            [210, 98.5],\n",
    "            [188, 75.2]]\n",
    "\n",
    "# Create a 2D numpy array from baseball: np_baseball\n",
    "np_baseball = np.array(baseball)\n",
    "\n",
    "# Print out the type of np_baseball\n",
    "print(type(np_baseball))\n",
    "\n",
    "# Print out the shape of np_baseball\n",
    "print(np_baseball.shape)"
   ]
  },
  {
   "cell_type": "markdown",
   "metadata": {},
   "source": [
    "# Subsetting 2D NumPy Arrays\n",
    "If your 2D numpy array has a regular structure, i.e. each row and column has a fixed number of values, complicated ways of subsetting become very easy. Have a look at the code below where the elements \"a\" and \"c\" are extracted from a list of lists.\n",
    "\n",
    "## regular list of lists\n",
    "\n",
    "`x = [[\"a\", \"b\"], [\"c\", \"d\"]]`\n",
    "\n",
    "`[x[0][0], x[1][0]]`\n",
    "\n",
    "## numpy\n",
    "\n",
    "`import numpy as np\n",
    "np_x = np.array(x)\n",
    "np_x[:,0]`\n",
    "\n",
    "For regular Python lists, this is a real pain. For 2D numpy arrays, however, it's pretty intuitive! The indexes before the comma refer to the rows, while those after the comma refer to the columns. The `:` is for slicing; in this example, it tells Python to include all rows.\n",
    "\n",
    "The code that converts the pre-loaded baseball list to a 2D numpy array is already in the script. The first column contains the players' height in inches and the second column holds player weight, in pounds. Add some lines to make the correct selections. Remember that in Python, the first element is at index 0!"
   ]
  },
  {
   "cell_type": "code",
   "execution_count": 62,
   "metadata": {},
   "outputs": [
    {
     "name": "stdout",
     "output_type": "stream",
     "text": [
      "[188.   75.2]\n",
      "[ 78.4 102.7  98.5  75.2]\n",
      "[98.5 75.2]\n"
     ]
    }
   ],
   "source": [
    "# Create np_baseball (2 cols)\n",
    "np_baseball = np.array(baseball)\n",
    "\n",
    "# Print out the 3rd row of np_baseball\n",
    "print(np_baseball[3,:])\n",
    "\n",
    "# Select the entire second column of np_baseball: np_weight_lb\n",
    "np_weight_lb = np_baseball[:,1]\n",
    "print(np_weight_lb)\n",
    "\n",
    "# Print out height of 124th player\n",
    "print(np_weight_lb[2:])"
   ]
  },
  {
   "cell_type": "markdown",
   "metadata": {},
   "source": [
    "Remember how you calculated the Body Mass Index for all baseball players? numpy was able to perform all calculations element-wise (i.e. element by element). For 2D numpy arrays this isn't any different! You can combine matrices with single numbers, with vectors, and with other matrices."
   ]
  },
  {
   "cell_type": "code",
   "execution_count": 64,
   "metadata": {},
   "outputs": [
    {
     "name": "stdout",
     "output_type": "stream",
     "text": [
      "[[ 2  4]\n",
      " [ 6  8]\n",
      " [10 12]]\n",
      "\n",
      "[[11 12]\n",
      " [13 14]\n",
      " [15 16]]\n",
      "\n",
      "[[ 2  4]\n",
      " [ 6  8]\n",
      " [10 12]]\n"
     ]
    }
   ],
   "source": [
    "np_mat = np.array([[1, 2],\n",
    "                   [3, 4],\n",
    "                   [5, 6]])\n",
    "\n",
    "print(np_mat * 2)\n",
    "print()\n",
    "\n",
    "# broadcast\n",
    "print(np_mat + np.array([10, 10]))\n",
    "print()\n",
    "print(np_mat + np_mat)"
   ]
  },
  {
   "cell_type": "markdown",
   "metadata": {},
   "source": [
    "# Statistics with numpy\n",
    "The baseball data is available as a 2D numpy array with 2 columns (height, weight) and 82 rows. The name of this numpy array is `np_baseball`. After restructuring the data, however, you notice that some height values are abnormally high. Follow the instructions and discover which summary statistic is best suited if you're dealing with so-called outliers."
   ]
  },
  {
   "cell_type": "code",
   "execution_count": 13,
   "metadata": {},
   "outputs": [],
   "source": [
    "baseball = [(74, 180), (72, 215), (72, 210), (73, 210), (69, 188), (69, 176), (71, 209), (76, 200),\n",
    "             (71, 231), (73, 180), (73, 188), (74, 180), (74, 185), (69, 160), (70, 180), (72, 185),\n",
    "             (73, 197), (75, 189), (78, 185), (79, 219), (76, 230), (74, 205), (76, 230), (72, 195),\n",
    "             (71, 180), (75, 192), (77, 225), (74, 203), (73, 195), (74, 182), (78, 188), (73, 200),\n",
    "             (75, 180), (73, 200), (75, 200), (75, 245), (74, 240), (69, 215), (71, 185), (74, 175),\n",
    "             (73, 199), (73, 200), (76, 215), (74, 200), (74, 205), (70, 206), (72, 186), (77, 188),\n",
    "             (74, 220), (70, 210), (76, 195), (75, 244), (73, 195), (75, 200), (76, 200), (76, 212),\n",
    "             (78, 224), (74, 210), (74, 205), (76, 220), (77, 195), (81, 200), (78, 260), (75, 228),\n",
    "             (77, 270), (75, 200), (76, 210), (74, 190), (72, 220), (72, 180), (75, 205), (73, 210),\n",
    "             (73, 220), (73, 211), (70, 200), (70, 180), (7000, 190), (76, 170), (68, 230), (71, 155),\n",
    "             (72, 185)]"
   ]
  },
  {
   "cell_type": "code",
   "execution_count": 16,
   "metadata": {},
   "outputs": [
    {
     "name": "stdout",
     "output_type": "stream",
     "text": [
      "Mean: 159.25925925925927\n",
      "Median: 74.0\n"
     ]
    }
   ],
   "source": [
    "# Create np_height_in from np_baseball\n",
    "np_baseball = np.array(baseball)\n",
    "\n",
    "np_height_in = np.array(np_baseball[:,0])\n",
    "\n",
    "# Print out the mean of np_height_in\n",
    "print('Mean:',np.mean(np_height_in))\n",
    "\n",
    "# Print out the median of np_height_in\n",
    "print('Median:', np.median(np_height_in))"
   ]
  },
  {
   "cell_type": "code",
   "execution_count": 3,
   "metadata": {},
   "outputs": [
    {
     "name": "stdout",
     "output_type": "stream",
     "text": [
      "media: 73.70370370370371\n",
      "mediana: 74.0\n"
     ]
    }
   ],
   "source": [
    "import numpy as np\n",
    "baseball = [(74, 180), (72, 215), (72, 210), (73, 210), (69, 188), (69, 176), (71, 209), (76, 200),\n",
    "             (71, 231), (73, 180), (73, 188), (74, 180), (74, 185), (69, 160), (70, 180), (72, 185),\n",
    "             (73, 197), (75, 189), (78, 185), (79, 219), (76, 230), (74, 205), (76, 230), (72, 195),\n",
    "             (71, 180), (75, 192), (77, 225), (74, 203), (73, 195), (74, 182), (78, 188), (73, 200),\n",
    "             (75, 180), (73, 200), (75, 200), (75, 245), (74, 240), (69, 215), (71, 185), (74, 175),\n",
    "             (73, 199), (73, 200), (76, 215), (74, 200), (74, 205), (70, 206), (72, 186), (77, 188),\n",
    "             (74, 220), (70, 210), (76, 195), (75, 244), (73, 195), (75, 200), (76, 200), (76, 212),\n",
    "             (78, 224), (74, 210), (74, 205), (76, 220), (77, 195), (81, 200), (78, 260), (75, 228),\n",
    "             (77, 270), (75, 200), (76, 210), (74, 190), (72, 220), (72, 180), (75, 205), (73, 210),\n",
    "             (73, 220), (73, 211), (70, 200), (70, 180), (70, 190), (76, 170), (68, 230), (71, 155),\n",
    "             (72, 185)]\n",
    "\n",
    "# Create np_height_in from np_baseball\n",
    "np_baseball = np.array(baseball)\n",
    "np_height_in = np.array(np_baseball)[:,0]\n",
    "print('media:',np.mean(np_height_in))\n",
    "print('mediana:',np.median(np_height_in))"
   ]
  },
  {
   "cell_type": "markdown",
   "metadata": {},
   "source": [
    "# Explore the baseball data\n",
    "Because the mean and median are so far apart, you decide to complain to the MLB. They find the error and send the corrected data over to you. It's again available as a 2D Numpy array `np_baseball`, with three columns.\n",
    "\n",
    "The Python script on the right already includes code to print out informative messages with the different summary statistics. Can you finish the job?"
   ]
  },
  {
   "cell_type": "code",
   "execution_count": 18,
   "metadata": {},
   "outputs": [
    {
     "name": "stdout",
     "output_type": "stream",
     "text": [
      "Average: 159.25925925925927\n"
     ]
    }
   ],
   "source": [
    "# Print mean height (first column)\n",
    "avg = np.mean(np_baseball[:,0])\n",
    "print(\"Average: \" + str(avg))"
   ]
  },
  {
   "cell_type": "code",
   "execution_count": 20,
   "metadata": {},
   "outputs": [
    {
     "name": "stdout",
     "output_type": "stream",
     "text": [
      "Median: 74.0\n"
     ]
    }
   ],
   "source": [
    "# Print median height. Replace 'None'\n",
    "med = np.median(np_baseball[:,0])\n",
    "print(\"Median: \" + str(med))"
   ]
  },
  {
   "cell_type": "code",
   "execution_count": 21,
   "metadata": {},
   "outputs": [
    {
     "name": "stdout",
     "output_type": "stream",
     "text": [
      "Standard Deviation: 764.8223028958156\n"
     ]
    }
   ],
   "source": [
    "# Print out the standard deviation on height. Replace 'None'\n",
    "stddev = np.std(np_baseball[:,0])\n",
    "print(\"Standard Deviation: \" + str(stddev))"
   ]
  },
  {
   "cell_type": "code",
   "execution_count": 23,
   "metadata": {},
   "outputs": [
    {
     "name": "stdout",
     "output_type": "stream",
     "text": [
      "Correlation: \n",
      "[[ 1.         -0.06470339]\n",
      " [-0.06470339  1.        ]]\n"
     ]
    }
   ],
   "source": [
    "# Print out correlation between first and second column. Replace 'None'\n",
    "corr = np.corrcoef(np_baseball[:,0], np_baseball[:,1])\n",
    "print(\"Correlation: \\n\" + str(corr))"
   ]
  },
  {
   "cell_type": "markdown",
   "metadata": {},
   "source": [
    "# LOOPS OVER NUMPY ARRAYS"
   ]
  },
  {
   "cell_type": "code",
   "execution_count": 4,
   "metadata": {},
   "outputs": [
    {
     "name": "stdout",
     "output_type": "stream",
     "text": [
      "74 pulgadas\n",
      "72 pulgadas\n",
      "72 pulgadas\n",
      "73 pulgadas\n",
      "69 pulgadas\n",
      "69 pulgadas\n",
      "71 pulgadas\n",
      "76 pulgadas\n",
      "71 pulgadas\n",
      "73 pulgadas\n",
      "73 pulgadas\n",
      "74 pulgadas\n",
      "74 pulgadas\n",
      "69 pulgadas\n",
      "70 pulgadas\n",
      "72 pulgadas\n",
      "73 pulgadas\n",
      "75 pulgadas\n",
      "78 pulgadas\n",
      "79 pulgadas\n",
      "76 pulgadas\n",
      "74 pulgadas\n",
      "76 pulgadas\n",
      "72 pulgadas\n",
      "71 pulgadas\n",
      "75 pulgadas\n",
      "77 pulgadas\n",
      "74 pulgadas\n",
      "73 pulgadas\n",
      "74 pulgadas\n",
      "78 pulgadas\n",
      "73 pulgadas\n",
      "75 pulgadas\n",
      "73 pulgadas\n",
      "75 pulgadas\n",
      "75 pulgadas\n",
      "74 pulgadas\n",
      "69 pulgadas\n",
      "71 pulgadas\n",
      "74 pulgadas\n",
      "73 pulgadas\n",
      "73 pulgadas\n",
      "76 pulgadas\n",
      "74 pulgadas\n",
      "74 pulgadas\n",
      "70 pulgadas\n",
      "72 pulgadas\n",
      "77 pulgadas\n",
      "74 pulgadas\n",
      "70 pulgadas\n",
      "76 pulgadas\n",
      "75 pulgadas\n",
      "73 pulgadas\n",
      "75 pulgadas\n",
      "76 pulgadas\n",
      "76 pulgadas\n",
      "78 pulgadas\n",
      "74 pulgadas\n",
      "74 pulgadas\n",
      "76 pulgadas\n",
      "77 pulgadas\n",
      "81 pulgadas\n",
      "78 pulgadas\n",
      "75 pulgadas\n",
      "77 pulgadas\n",
      "75 pulgadas\n",
      "76 pulgadas\n",
      "74 pulgadas\n",
      "72 pulgadas\n",
      "72 pulgadas\n",
      "75 pulgadas\n",
      "73 pulgadas\n",
      "73 pulgadas\n",
      "73 pulgadas\n",
      "70 pulgadas\n",
      "70 pulgadas\n",
      "70 pulgadas\n",
      "76 pulgadas\n",
      "68 pulgadas\n",
      "71 pulgadas\n",
      "72 pulgadas\n",
      "74\n",
      "180\n",
      "72\n",
      "215\n",
      "72\n",
      "210\n",
      "73\n",
      "210\n",
      "69\n",
      "188\n",
      "69\n",
      "176\n",
      "71\n",
      "209\n",
      "76\n",
      "200\n",
      "71\n",
      "231\n",
      "73\n",
      "180\n",
      "73\n",
      "188\n",
      "74\n",
      "180\n",
      "74\n",
      "185\n",
      "69\n",
      "160\n",
      "70\n",
      "180\n",
      "72\n",
      "185\n",
      "73\n",
      "197\n",
      "75\n",
      "189\n",
      "78\n",
      "185\n",
      "79\n",
      "219\n",
      "76\n",
      "230\n",
      "74\n",
      "205\n",
      "76\n",
      "230\n",
      "72\n",
      "195\n",
      "71\n",
      "180\n",
      "75\n",
      "192\n",
      "77\n",
      "225\n",
      "74\n",
      "203\n",
      "73\n",
      "195\n",
      "74\n",
      "182\n",
      "78\n",
      "188\n",
      "73\n",
      "200\n",
      "75\n",
      "180\n",
      "73\n",
      "200\n",
      "75\n",
      "200\n",
      "75\n",
      "245\n",
      "74\n",
      "240\n",
      "69\n",
      "215\n",
      "71\n",
      "185\n",
      "74\n",
      "175\n",
      "73\n",
      "199\n",
      "73\n",
      "200\n",
      "76\n",
      "215\n",
      "74\n",
      "200\n",
      "74\n",
      "205\n",
      "70\n",
      "206\n",
      "72\n",
      "186\n",
      "77\n",
      "188\n",
      "74\n",
      "220\n",
      "70\n",
      "210\n",
      "76\n",
      "195\n",
      "75\n",
      "244\n",
      "73\n",
      "195\n",
      "75\n",
      "200\n",
      "76\n",
      "200\n",
      "76\n",
      "212\n",
      "78\n",
      "224\n",
      "74\n",
      "210\n",
      "74\n",
      "205\n",
      "76\n",
      "220\n",
      "77\n",
      "195\n",
      "81\n",
      "200\n",
      "78\n",
      "260\n",
      "75\n",
      "228\n",
      "77\n",
      "270\n",
      "75\n",
      "200\n",
      "76\n",
      "210\n",
      "74\n",
      "190\n",
      "72\n",
      "220\n",
      "72\n",
      "180\n",
      "75\n",
      "205\n",
      "73\n",
      "210\n",
      "73\n",
      "220\n",
      "73\n",
      "211\n",
      "70\n",
      "200\n",
      "70\n",
      "180\n",
      "70\n",
      "190\n",
      "76\n",
      "170\n",
      "68\n",
      "230\n",
      "71\n",
      "155\n",
      "72\n",
      "185\n"
     ]
    }
   ],
   "source": [
    "# For loop over np_height\n",
    "for x in np_height_in: \n",
    "    print (str(x)+\" pulgadas\")\n",
    "\n",
    "# For loop over np_baseball\n",
    "for y in np.nditer(np_baseball):\n",
    "    print(y)"
   ]
  },
  {
   "cell_type": "markdown",
   "metadata": {},
   "source": [
    "Blend it all together\n",
    "In the last few exercises you've learned everything there is to know about heights and weights of baseball players. Now it's time to dive into another sport: soccer.\n",
    "\n",
    "You've contacted FIFA for some data and they handed you two lists. The lists are the following:\n",
    "\n",
    "`positions = ['GK', 'M', 'A', 'D', ...]`\n",
    "\n",
    "`heights = [191, 184, 185, 180, ...]`\n",
    "\n",
    "Each element in the lists corresponds to a player. The first list, positions, contains strings representing each player's position. The possible positions are: 'GK' (goalkeeper), 'M' (midfield), 'A' (attack) and 'D' (defense). The second list, heights, contains integers representing the height of the player in cm. The first player in the lists is a goalkeeper and is pretty tall (191 cm).\n",
    "\n",
    "You're fairly confident that the median height of goalkeepers is higher than that of other players on the soccer field. Some of your friends don't believe you, so you are determined to show them using the data you received from FIFA and your newly acquired Python skills."
   ]
  },
  {
   "cell_type": "code",
   "execution_count": 17,
   "metadata": {},
   "outputs": [
    {
     "name": "stdout",
     "output_type": "stream",
     "text": [
      "altura media de los arqueros es :189.0\n"
     ]
    }
   ],
   "source": [
    "import numpy as np\n",
    "fifa = np.array([[69, 'GK', 191, ' Right'],\n",
    "                   [64, 'GK', 193, ' Right'],\n",
    "                   [65, 'GK', 190, ' Right'],\n",
    "                   [67, 'D', 178, ' Right'],\n",
    "                   [61, 'GK', 185, ' Right'],\n",
    "                   [62, 'D', 185, ' Right'],\n",
    "                   [76, 'D', 193, ' Right'],\n",
    "                   [63, 'M', 183, ' Right'],\n",
    "                   [72, 'A', 184, ' Right'],\n",
    "                   [72, 'M', 178, ' Left'],\n",
    "                   [63, 'D', 180, ' Right'],\n",
    "                   [73, 'M', 177, ' Right'],\n",
    "                   [70, 'GK', 188, ' Right'],\n",
    "                   [64, 'M', 177, ' Right'],\n",
    "                   [65, 'GK', 187, ' Right'],\n",
    "                   [75, 'A', 186, ' Left'],\n",
    "                   [74, 'D', 183, ' Right'],\n",
    "                   [70, 'GK', 189, ' Right'],\n",
    "                   [78, 'A', 179, ' Right'],\n",
    "                   [66, 'GK', 196, ' Right'],\n",
    "                   [75, 'GK', 190, ' Right'],\n",
    "                   [67, 'GK', 189, ' Right'],\n",
    "                   [71, 'GK', 188, ' Right'],\n",
    "                   [70, 'A', 188, ' Right']])\n",
    "\n",
    "separar_posiciones= np.array(fifa[:,1]) #los dos puntos de un lado de la coma  me agarra todas las filas o todas las columnas\n",
    "\n",
    "separar_alturas= np.array(fifa[:,2]).astype(np.float)\n",
    "                          \n",
    "altura_arqueros=separar_alturas[separar_posiciones == 'GK'] \n",
    "altura_elresto=separar_alturas[separar_posiciones !='']                          \n",
    "print('altura media de los arqueros es :' + str (np.median(altura_arqueros)))                          "
   ]
  },
  {
   "cell_type": "code",
   "execution_count": 6,
   "metadata": {},
   "outputs": [
    {
     "name": "stdout",
     "output_type": "stream",
     "text": [
      "Median height of goalkeepers: 189.0\n"
     ]
    }
   ],
   "source": [
    "fifa = np.array([[69, 'GK', 191, ' Right'],\n",
    "                   [64, 'GK', 193, ' Right'],\n",
    "                   [65, 'GK', 190, ' Right'],\n",
    "                   [67, 'D', 178, ' Right'],\n",
    "                   [61, 'GK', 185, ' Right'],\n",
    "                   [62, 'D', 185, ' Right'],\n",
    "                   [76, 'D', 193, ' Right'],\n",
    "                   [63, 'M', 183, ' Right'],\n",
    "                   [72, 'A', 184, ' Right'],\n",
    "                   [72, 'M', 178, ' Left'],\n",
    "                   [63, 'D', 180, ' Right'],\n",
    "                   [73, 'M', 177, ' Right'],\n",
    "                   [70, 'GK', 188, ' Right'],\n",
    "                   [64, 'M', 177, ' Right'],\n",
    "                   [65, 'GK', 187, ' Right'],\n",
    "                   [75, 'A', 186, ' Left'],\n",
    "                   [74, 'D', 183, ' Right'],\n",
    "                   [70, 'GK', 189, ' Right'],\n",
    "                   [78, 'A', 179, ' Right'],\n",
    "                   [66, 'GK', 196, ' Right'],\n",
    "                   [75, 'GK', 190, ' Right'],\n",
    "                   [67, 'GK', 189, ' Right'],\n",
    "                   [71, 'GK', 188, ' Right'],\n",
    "                   [70, 'A', 188, ' Right']])\n",
    "# Convert positions and heights to numpy arrays: np_positions, np_heights\n",
    "np_positions = np.array(fifa[:,1])\n",
    "np_heights = np.array(fifa[:,2]).astype(np.float)\n",
    "\n",
    "# Heights of the goalkeepers: gk_heights\n",
    "gk_heights = np_heights[np_positions == 'GK']\n",
    "\n",
    "# Heights of the other players: other_heights\n",
    "other_heights = np_heights[np_positions != 'GK']\n",
    "\n",
    "# Print out the median height of goalkeepers. Replace 'None'\n",
    "print(\"Median height of goalkeepers: \" + str(np.median(gk_heights)))"
   ]
  },
  {
   "cell_type": "code",
   "execution_count": 30,
   "metadata": {},
   "outputs": [
    {
     "name": "stdout",
     "output_type": "stream",
     "text": [
      "Median height of other players: 183.0\n"
     ]
    }
   ],
   "source": [
    "# Print out the median height of other players. Replace 'None'\n",
    "print(\"Median height of other players: \" + str(np.median(other_heights)))"
   ]
  }
 ],
 "metadata": {
  "kernelspec": {
   "display_name": "Python 3",
   "language": "python",
   "name": "python3"
  },
  "language_info": {
   "codemirror_mode": {
    "name": "ipython",
    "version": 3
   },
   "file_extension": ".py",
   "mimetype": "text/x-python",
   "name": "python",
   "nbconvert_exporter": "python",
   "pygments_lexer": "ipython3",
   "version": "3.8.3"
  }
 },
 "nbformat": 4,
 "nbformat_minor": 2
}
