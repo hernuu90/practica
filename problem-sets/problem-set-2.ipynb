{
 "cells": [
  {
   "cell_type": "markdown",
   "metadata": {},
   "source": [
    "1. Define a procedure (function), `square`, that takes one number as its input, and **returns** the square of that number (result of multiplying the number by itself)."
   ]
  },
  {
   "cell_type": "code",
   "execution_count": 1,
   "metadata": {},
   "outputs": [
    {
     "name": "stdout",
     "output_type": "stream",
     "text": [
      "81\n"
     ]
    }
   ],
   "source": [
    "def square(x):\n",
    "    a = x*x\n",
    "    print (a)\n",
    "square(9)"
   ]
  },
  {
   "cell_type": "markdown",
   "metadata": {},
   "source": [
    "**input:** square(5)\n",
    "\n",
    "**expecteted output:** 25"
   ]
  },
  {
   "cell_type": "markdown",
   "metadata": {},
   "source": [
    "2. Define a procedure, `sum3`, that takes three inputs, and returns the sum of the three input numbers."
   ]
  },
  {
   "cell_type": "code",
   "execution_count": 24,
   "metadata": {},
   "outputs": [
    {
     "name": "stdout",
     "output_type": "stream",
     "text": [
      "6\n"
     ]
    }
   ],
   "source": [
    "#def sum3 (a,b,c) :\n",
    "    sumo = a+b+c\n",
    "    print(sumo)\n",
    "sum3(1,2,3)"
   ]
  },
  {
   "cell_type": "markdown",
   "metadata": {},
   "source": [
    "**input:** sum3(1,2,3)\n",
    "\n",
    "**expecteted output:** 6"
   ]
  },
  {
   "cell_type": "markdown",
   "metadata": {},
   "source": [
    "3. Replace the previous function, `sum3`, and modify it so it takes any number of parameters"
   ]
  },
  {
   "cell_type": "code",
   "execution_count": 5,
   "metadata": {},
   "outputs": [
    {
     "data": {
      "text/plain": [
       "1"
      ]
     },
     "execution_count": 5,
     "metadata": {},
     "output_type": "execute_result"
    }
   ],
   "source": [
    "#def sum3(a,b,c,d,e):\n",
    "def sum3(*args):\n",
    "    num_sum=0\n",
    "    for num in args:\n",
    "        num_sum=num+num_sum\n",
    "        return num_sum\n",
    " \n",
    "sum3(1,2,3,4,5)"
   ]
  },
  {
   "cell_type": "markdown",
   "metadata": {},
   "source": [
    "**input:** sum3(1,2,3,4,5)\n",
    "\n",
    "**expecteted output:** 15"
   ]
  },
  {
   "cell_type": "markdown",
   "metadata": {},
   "source": [
    "4. Define a procedure, `biggest`, that takes any numbers as inputs and returns the largest of those three numbers."
   ]
  },
  {
   "cell_type": "code",
   "execution_count": 6,
   "metadata": {},
   "outputs": [
    {
     "name": "stdout",
     "output_type": "stream",
     "text": [
      "105\n"
     ]
    }
   ],
   "source": [
    "def mejor (a,b,c):\n",
    "    if a>=b and a>=c :\n",
    "        return a \n",
    "    if b>=a and b>=c :\n",
    "        return b\n",
    "    if c>=a and c>=b :\n",
    "        return c\n",
    "\n",
    "print(mejor(92,105,77))"
   ]
  },
  {
   "cell_type": "code",
   "execution_count": 1,
   "metadata": {},
   "outputs": [
    {
     "data": {
      "text/plain": [
       "13"
      ]
     },
     "execution_count": 1,
     "metadata": {},
     "output_type": "execute_result"
    }
   ],
   "source": [
    "def biggest(a,b,c,d,e):\n",
    "    if a>b and a>c and a>d and a>e:\n",
    "        return a\n",
    "    if b>a and b>c and b>d and b>e:\n",
    "        return b\n",
    "    if c>a and c>b and c>d and c>e:\n",
    "        return c\n",
    "    if d>a and d>b and d>c and d>e:\n",
    "        return d\n",
    "    if e>a and e>b and e>c and e>d:\n",
    "        return e\n",
    "    \n",
    "biggest(10,8,11,13,1)\n",
    "        "
   ]
  },
  {
   "cell_type": "markdown",
   "metadata": {},
   "source": [
    "**input:** biggest(10,8,11,13,1)\n",
    "\n",
    "**expecteted output:** 13"
   ]
  },
  {
   "cell_type": "markdown",
   "metadata": {},
   "source": [
    "5. A palindrome is a word or a phrase that reads the same backwards as forwards. Make a program `is_palindrome` that checks if a word is a palindrome and prints the word. If the word is a palindrome, print True to the terminal, False otherwise. The function also has a boolean parameter called palindrome: if it's True, you will print the palindrome, otherwise it will print the input word.\n",
    "\n",
    "**HINT!**\n",
    "You can read a string backwards with the following syntax: `string[::-1]`"
   ]
  },
  {
   "cell_type": "code",
   "execution_count": 8,
   "metadata": {},
   "outputs": [
    {
     "ename": "NameError",
     "evalue": "name 'palabra' is not defined",
     "output_type": "error",
     "traceback": [
      "\u001b[1;31m---------------------------------------------------------------------------\u001b[0m",
      "\u001b[1;31mNameError\u001b[0m                                 Traceback (most recent call last)",
      "\u001b[1;32m<ipython-input-8-64db61d685d8>\u001b[0m in \u001b[0;36m<module>\u001b[1;34m\u001b[0m\n\u001b[0;32m      6\u001b[0m \u001b[1;33m\u001b[0m\u001b[0m\n\u001b[0;32m      7\u001b[0m \u001b[1;33m\u001b[0m\u001b[0m\n\u001b[1;32m----> 8\u001b[1;33m \u001b[0mis_palindrome\u001b[0m\u001b[1;33m(\u001b[0m\u001b[1;34m'neuquen'\u001b[0m\u001b[1;33m)\u001b[0m\u001b[1;33m\u001b[0m\u001b[1;33m\u001b[0m\u001b[0m\n\u001b[0m",
      "\u001b[1;32m<ipython-input-8-64db61d685d8>\u001b[0m in \u001b[0;36mis_palindrome\u001b[1;34m(word, palindrome)\u001b[0m\n\u001b[0;32m      1\u001b[0m \u001b[1;32mdef\u001b[0m \u001b[0mis_palindrome\u001b[0m\u001b[1;33m(\u001b[0m\u001b[0mword\u001b[0m\u001b[1;33m,\u001b[0m\u001b[0mpalindrome\u001b[0m\u001b[1;33m=\u001b[0m\u001b[1;32mFalse\u001b[0m\u001b[1;33m)\u001b[0m\u001b[1;33m:\u001b[0m\u001b[1;33m\u001b[0m\u001b[1;33m\u001b[0m\u001b[0m\n\u001b[1;32m----> 2\u001b[1;33m     \u001b[1;32mif\u001b[0m \u001b[0mpalabra\u001b[0m \u001b[1;33m==\u001b[0m \u001b[0mword\u001b[0m\u001b[1;33m[\u001b[0m\u001b[1;33m:\u001b[0m\u001b[1;33m:\u001b[0m\u001b[1;33m-\u001b[0m\u001b[1;36m1\u001b[0m\u001b[1;33m]\u001b[0m\u001b[1;33m:\u001b[0m\u001b[1;33m\u001b[0m\u001b[1;33m\u001b[0m\u001b[0m\n\u001b[0m\u001b[0;32m      3\u001b[0m         \u001b[0mprint\u001b[0m\u001b[1;33m(\u001b[0m\u001b[0mx\u001b[0m \u001b[1;33m+\u001b[0m \u001b[1;34m':'\u001b[0m\u001b[1;33m+\u001b[0m \u001b[1;32mTrue\u001b[0m\u001b[1;33m)\u001b[0m\u001b[1;33m\u001b[0m\u001b[1;33m\u001b[0m\u001b[0m\n\u001b[0;32m      4\u001b[0m     \u001b[1;32melse\u001b[0m \u001b[1;33m:\u001b[0m\u001b[1;33m\u001b[0m\u001b[1;33m\u001b[0m\u001b[0m\n\u001b[0;32m      5\u001b[0m         \u001b[0mprint\u001b[0m\u001b[1;33m(\u001b[0m\u001b[1;34m'palabra'\u001b[0m\u001b[1;33m)\u001b[0m\u001b[1;33m\u001b[0m\u001b[1;33m\u001b[0m\u001b[0m\n",
      "\u001b[1;31mNameError\u001b[0m: name 'palabra' is not defined"
     ]
    }
   ],
   "source": [
    "def is_palindrome(word,palindrome=False):\n",
    "    if palabra == word[::-1]:\n",
    "        print(x + ':'+ True)\n",
    "    else :\n",
    "        print('palabra')\n",
    "        \n",
    "        \n",
    "is_palindrome('neuquen')"
   ]
  },
  {
   "cell_type": "markdown",
   "metadata": {},
   "source": [
    "**input:** is_palindrome('Neuquen', palindrome=False)\n",
    "\n",
    "**expecteted output:** neuquen: True"
   ]
  },
  {
   "cell_type": "markdown",
   "metadata": {},
   "source": [
    "6. Create a dictionary where keys are countries and values are capital cities of those cities. Use it with a for-loop, an if-else clause and use the method `.items()`"
   ]
  },
  {
   "cell_type": "code",
   "execution_count": 10,
   "metadata": {},
   "outputs": [
    {
     "name": "stdout",
     "output_type": "stream",
     "text": [
      "la capital de arg:bue\n",
      "la capital de bra:silia\n",
      "la capital de uru:monte\n",
      "la capital de boli:lapa\n",
      "la capital de pol:cracova\n"
     ]
    }
   ],
   "source": [
    "latin = {'arg':'bue','bra':'silia','uru':'monte'}\n",
    "latin['boli']='lapa'\n",
    "latin['pol']='cracova'\n",
    "\n",
    "for x,v in latin.items():\n",
    "    print ('la capital de ' + x + ':' + v)\n",
    "    \n"
   ]
  },
  {
   "cell_type": "markdown",
   "metadata": {},
   "source": [
    "7. Create a function, `geography`, that takes any given number of countries and capital cities. The function prints the key and the value as following `The capital city of country_name is capital_city`"
   ]
  },
  {
   "cell_type": "code",
   "execution_count": 11,
   "metadata": {},
   "outputs": [],
   "source": [
    "latin2 = {'arg':'bue','bra':'silia','uru':'monte'}\n",
    "def capi (**kwargs):\n",
    "    for x,v in kwargs.items():\n",
    "        print('la capital de { } es {}'.format(x,v))\n",
    "capi()"
   ]
  },
  {
   "cell_type": "markdown",
   "metadata": {},
   "source": [
    "**input:** geography(france='paris')\n",
    "\n",
    "**expecteted output:** The capital city of Argentina is Buenos Aires"
   ]
  },
  {
   "cell_type": "markdown",
   "metadata": {},
   "source": [
    "8. Read the section `Modifying variables outside local scope` from notebook 06 and try to understand what the `global` clause do. Comment on QA your thoughts."
   ]
  },
  {
   "cell_type": "code",
   "execution_count": 13,
   "metadata": {},
   "outputs": [
    {
     "ename": "SyntaxError",
     "evalue": "invalid syntax (<ipython-input-13-dce157463667>, line 7)",
     "output_type": "error",
     "traceback": [
      "\u001b[1;36m  File \u001b[1;32m\"<ipython-input-13-dce157463667>\"\u001b[1;36m, line \u001b[1;32m7\u001b[0m\n\u001b[1;33m    def nomodificaGlobal()\u001b[0m\n\u001b[1;37m                          ^\u001b[0m\n\u001b[1;31mSyntaxError\u001b[0m\u001b[1;31m:\u001b[0m invalid syntax\n"
     ]
    }
   ],
   "source": [
    "x=5\n",
    "y=110\n",
    "def nomodificoGlobal():\n",
    "    x=10\n",
    "    print(x)\n",
    "    \n",
    "def nomodificaGlobal()\n",
    "print(x)\n",
    "\n",
    "def moficicabGlobal():\n",
    "    global x\n",
    "    global y\n",
    "    x=100\n",
    "    y=90\n",
    "    \n",
    "modificaGlobal()\n",
    "print(x)\n",
    "print(y)"
   ]
  },
  {
   "cell_type": "markdown",
   "metadata": {},
   "source": [
    "9. Import the module (library) `numpy` and rename it `np`. Then import `pyplot` from the library `matplotlib` and rename it as `plt`"
   ]
  },
  {
   "cell_type": "code",
   "execution_count": 17,
   "metadata": {},
   "outputs": [],
   "source": [
    "import numpy as np\n",
    "#dir(np)\n",
    "import matplotlib as plt"
   ]
  },
  {
   "cell_type": "markdown",
   "metadata": {},
   "source": [
    "10. Read `04. Tipos y Estructuras de Datos` and try to understand the sections `SETS` and `Write a basic list comprehension`."
   ]
  },
  {
   "cell_type": "code",
   "execution_count": 31,
   "metadata": {
    "scrolled": true
   },
   "outputs": [
    {
     "name": "stdout",
     "output_type": "stream",
     "text": [
      "{5}\n",
      "['hernu', 'Hernu', 'herNU', 'chicho', 'pochi', 'chochi']\n",
      "HERNU\n",
      "HERNU\n",
      "HERNU\n",
      "CHICHO\n",
      "POCHI\n",
      "CHOCHI\n"
     ]
    },
    {
     "data": {
      "text/plain": [
       "{'Hernu', 'chicho', 'chochi', 'herNU', 'hernu', 'pochi'}"
      ]
     },
     "execution_count": 31,
     "metadata": {},
     "output_type": "execute_result"
    }
   ],
   "source": [
    "x=[1,5,34,645,756,534,42,3453,756,785,643,45,34578,78,754,3]\n",
    "set(x)\n",
    "z=[5,5,55,5555,555,55,5,555,5,55,5,55,6,55,555,555555,5555,5,5,6]\n",
    "set(z)\n",
    "print(set(x).intersection(z))\n",
    "apo=['hernu','Hernu','herNU']\n",
    "dos=['chicho','pochi','chochi']\n",
    "apodos2=apo+dos\n",
    "print(apodos2)\n",
    "apodos=[]\n",
    "for nombres in apodos2:\n",
    "    print(nombres.upper())\n",
    "\n",
    "set (apodos2)"
   ]
  },
  {
   "cell_type": "code",
   "execution_count": null,
   "metadata": {},
   "outputs": [],
   "source": []
  }
 ],
 "metadata": {
  "kernelspec": {
   "display_name": "Python 3",
   "language": "python",
   "name": "python3"
  },
  "language_info": {
   "codemirror_mode": {
    "name": "ipython",
    "version": 3
   },
   "file_extension": ".py",
   "mimetype": "text/x-python",
   "name": "python",
   "nbconvert_exporter": "python",
   "pygments_lexer": "ipython3",
   "version": "3.8.3"
  }
 },
 "nbformat": 4,
 "nbformat_minor": 2
}
