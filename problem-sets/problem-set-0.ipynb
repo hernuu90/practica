{
 "cells": [
  {
   "cell_type": "markdown",
   "metadata": {},
   "source": [
    "- What's the difference between `%timeit` and `%%timeit`?"
   ]
  },
  {
   "cell_type": "code",
   "execution_count": 37,
   "metadata": {},
   "outputs": [
    {
     "name": "stdout",
     "output_type": "stream",
     "text": [
      "3.18 µs ± 338 ns per loop (mean ± std. dev. of 7 runs, 100000 loops each)\n"
     ]
    }
   ],
   "source": [
    "%timeit x = max(range(100))"
   ]
  },
  {
   "cell_type": "code",
   "execution_count": 39,
   "metadata": {},
   "outputs": [
    {
     "name": "stdout",
     "output_type": "stream",
     "text": [
      "2.5 µs ± 41.9 ns per loop (mean ± std. dev. of 7 runs, 100000 loops each)\n"
     ]
    }
   ],
   "source": [
    "%%timeit x = range(100)\n",
    "max(x)"
   ]
  },
  {
   "cell_type": "markdown",
   "metadata": {},
   "source": [
    "- Use `print()` and output on the same line the following numbers and strings: 1, 1, 2, 3, 5, 8, 13, 21, 'fibonacci!', 'yeah!', 'yeah!', 'yeah!'"
   ]
  },
  {
   "cell_type": "markdown",
   "metadata": {},
   "source": [
    "**expected output:** `1 1 2 3 5 8 13 21 fibonnaci yeah! yeah! yeah!`"
   ]
  },
  {
   "cell_type": "code",
   "execution_count": 5,
   "metadata": {},
   "outputs": [
    {
     "name": "stdout",
     "output_type": "stream",
     "text": [
      "1 1 2 3 5 8 13 21\n",
      "1 1 2 3 5 8 13 21\n"
     ]
    }
   ],
   "source": [
    "x=1;y=x+(x-1);z=(x+y);r=(z+y);q=(r+z);p=(q+r);s=(p+q);j=(s+p);\n",
    "print(x,y,z,r,q,p,s,j)\n",
    "print(1,1, 2, 3, 5, 8, 13, 21)"
   ]
  },
  {
   "cell_type": "markdown",
   "metadata": {},
   "source": [
    "- Convert the variable `pi` to `'3'` (`3` as a string type), all in the same line and print it out."
   ]
  },
  {
   "cell_type": "code",
   "execution_count": 10,
   "metadata": {},
   "outputs": [
    {
     "name": "stdout",
     "output_type": "stream",
     "text": [
      "3\n",
      "3\n"
     ]
    }
   ],
   "source": [
    "\n",
    "pi = '3.1415926'\n",
    "\n",
    "\n",
    "print(int(float(pi)))\n",
    "print(int(float(pi)))"
   ]
  },
  {
   "cell_type": "markdown",
   "metadata": {},
   "source": [
    "**expected output:** 3"
   ]
  },
  {
   "cell_type": "markdown",
   "metadata": {},
   "source": [
    "- Create a variable called `num` with the value 3. \n",
    "- Use `num` to create a new variable called `squared_3` with the value of `num * num`. \n",
    "- Fill the print statements to match the expected output."
   ]
  },
  {
   "cell_type": "code",
   "execution_count": 42,
   "metadata": {},
   "outputs": [
    {
     "name": "stdout",
     "output_type": "stream",
     "text": [
      "el cuadrado de 3 es 9\n"
     ]
    }
   ],
   "source": [
    "num=3 # create num\n",
    "squared_3=(num*num) # create squared_3\n",
    "\n",
    "print(\"el cuadrado de\",num,\"es\",squared_3) # print result"
   ]
  },
  {
   "cell_type": "markdown",
   "metadata": {},
   "source": [
    "**expected output:** The squared of 3 is 9"
   ]
  },
  {
   "cell_type": "markdown",
   "metadata": {},
   "source": [
    "- Create a list `my_first_list` containing: an integer, a string, a float, a boolean, a None, an empty list and a list containing your name"
   ]
  },
  {
   "cell_type": "code",
   "execution_count": 47,
   "metadata": {},
   "outputs": [
    {
     "data": {
      "text/plain": [
       "[8, 'ocho', 8.8, False, None, [], ['hernanurquiza']]"
      ]
     },
     "execution_count": 47,
     "metadata": {},
     "output_type": "execute_result"
    }
   ],
   "source": [
    "my_first_list = [8, \"ocho\" ,8.8 , False , None , [] , [ \"hernanurquiza\"]]\n",
    "my_first_list "
   ]
  },
  {
   "cell_type": "markdown",
   "metadata": {},
   "source": [
    "**expected output example:** `[1, 'one', 1.0, True, None, [], ['ignacio martin vilieri']]`"
   ]
  },
  {
   "cell_type": "markdown",
   "metadata": {},
   "source": [
    "- Is it possible to create a variable called, for example, `3_squared`?"
   ]
  },
  {
   "cell_type": "markdown",
   "metadata": {},
   "source": [
    "- Create a copy of this notebook, change its name to \"my-first-notebook\" and save it to a .HTML file"
   ]
  }
 ],
 "metadata": {
  "kernelspec": {
   "display_name": "Python 3",
   "language": "python",
   "name": "python3"
  },
  "language_info": {
   "codemirror_mode": {
    "name": "ipython",
    "version": 3
   },
   "file_extension": ".py",
   "mimetype": "text/x-python",
   "name": "python",
   "nbconvert_exporter": "python",
   "pygments_lexer": "ipython3",
   "version": "3.8.3"
  }
 },
 "nbformat": 4,
 "nbformat_minor": 2
}
