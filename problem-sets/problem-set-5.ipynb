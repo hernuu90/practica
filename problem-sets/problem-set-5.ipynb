{
 "cells": [
  {
   "cell_type": "markdown",
   "metadata": {},
   "source": [
    "For this problem-set we will be using the notebook `19. Analizando Datos Económicos`. Read the notebook `19. Analizando Datos Económicos` and asks questions on the QA about everything you do not understand. \n",
    "\n",
    "Do not go further than the `Lets INNER JOIN our state_api dataframes` title, as we will be covering it later (you can look it anyway :D)"
   ]
  },
  {
   "cell_type": "markdown",
   "metadata": {},
   "source": [
    "**Notes** Try importing all the libraries of the notebook. If you have problems importing libraries, write on a jupyter chunk the following code and run it: \n",
    "\n",
    "`!pip install requests`\n",
    "\n",
    "`!pip install sqlalchemy`\n",
    "\n",
    "`!pip install seaborn`"
   ]
  },
  {
   "cell_type": "code",
   "execution_count": 1,
   "metadata": {},
   "outputs": [
    {
     "name": "stdout",
     "output_type": "stream",
     "text": [
      "Requirement already satisfied: requests in c:\\users\\taisn\\anaconda3\\lib\\site-packages (2.24.0)\n",
      "Requirement already satisfied: idna<3,>=2.5 in c:\\users\\taisn\\anaconda3\\lib\\site-packages (from requests) (2.10)\n",
      "Requirement already satisfied: certifi>=2017.4.17 in c:\\users\\taisn\\anaconda3\\lib\\site-packages (from requests) (2020.6.20)\n",
      "Requirement already satisfied: chardet<4,>=3.0.2 in c:\\users\\taisn\\anaconda3\\lib\\site-packages (from requests) (3.0.4)\n",
      "Requirement already satisfied: urllib3!=1.25.0,!=1.25.1,<1.26,>=1.21.1 in c:\\users\\taisn\\anaconda3\\lib\\site-packages (from requests) (1.25.9)\n",
      "Requirement already satisfied: sqlalchemy in c:\\users\\taisn\\anaconda3\\lib\\site-packages (1.3.18)\n",
      "Requirement already satisfied: seaborn in c:\\users\\taisn\\anaconda3\\lib\\site-packages (0.10.1)\n",
      "Requirement already satisfied: numpy>=1.13.3 in c:\\users\\taisn\\anaconda3\\lib\\site-packages (from seaborn) (1.18.5)\n",
      "Requirement already satisfied: matplotlib>=2.1.2 in c:\\users\\taisn\\anaconda3\\lib\\site-packages (from seaborn) (3.2.2)\n",
      "Requirement already satisfied: pandas>=0.22.0 in c:\\users\\taisn\\anaconda3\\lib\\site-packages (from seaborn) (1.0.5)\n",
      "Requirement already satisfied: scipy>=1.0.1 in c:\\users\\taisn\\anaconda3\\lib\\site-packages (from seaborn) (1.5.0)\n",
      "Requirement already satisfied: pyparsing!=2.0.4,!=2.1.2,!=2.1.6,>=2.0.1 in c:\\users\\taisn\\anaconda3\\lib\\site-packages (from matplotlib>=2.1.2->seaborn) (2.4.7)\n",
      "Requirement already satisfied: python-dateutil>=2.1 in c:\\users\\taisn\\anaconda3\\lib\\site-packages (from matplotlib>=2.1.2->seaborn) (2.8.1)\n",
      "Requirement already satisfied: kiwisolver>=1.0.1 in c:\\users\\taisn\\anaconda3\\lib\\site-packages (from matplotlib>=2.1.2->seaborn) (1.2.0)\n",
      "Requirement already satisfied: cycler>=0.10 in c:\\users\\taisn\\anaconda3\\lib\\site-packages (from matplotlib>=2.1.2->seaborn) (0.10.0)\n",
      "Requirement already satisfied: pytz>=2017.2 in c:\\users\\taisn\\anaconda3\\lib\\site-packages (from pandas>=0.22.0->seaborn) (2020.1)\n",
      "Requirement already satisfied: six>=1.5 in c:\\users\\taisn\\anaconda3\\lib\\site-packages (from python-dateutil>=2.1->matplotlib>=2.1.2->seaborn) (1.15.0)\n"
     ]
    }
   ],
   "source": [
    "!pip install requests\n",
    "\n",
    "!pip install sqlalchemy\n",
    "\n",
    "!pip install seaborn"
   ]
  },
  {
   "cell_type": "markdown",
   "metadata": {},
   "source": [
    "**1.** Using the pandas dataframe `states`, create a new column `check_total` that represent the sum of each row and check if it's the same as the column `total`. What percentage of Hispanics identify as `Other`? Hint: Try yo figure out what `.sum()` does."
   ]
  },
  {
   "cell_type": "code",
   "execution_count": 8,
   "metadata": {},
   "outputs": [],
   "source": [
    "import pandas as pd"
   ]
  },
  {
   "cell_type": "code",
   "execution_count": 31,
   "metadata": {},
   "outputs": [
    {
     "data": {
      "text/html": [
       "<div>\n",
       "<style scoped>\n",
       "    .dataframe tbody tr th:only-of-type {\n",
       "        vertical-align: middle;\n",
       "    }\n",
       "\n",
       "    .dataframe tbody tr th {\n",
       "        vertical-align: top;\n",
       "    }\n",
       "\n",
       "    .dataframe thead th {\n",
       "        text-align: right;\n",
       "    }\n",
       "</style>\n",
       "<table border=\"1\" class=\"dataframe\">\n",
       "  <thead>\n",
       "    <tr style=\"text-align: right;\">\n",
       "      <th></th>\n",
       "      <th>total</th>\n",
       "      <th>nonhispanic</th>\n",
       "      <th>white</th>\n",
       "      <th>black</th>\n",
       "      <th>aian</th>\n",
       "      <th>asian</th>\n",
       "      <th>pacific</th>\n",
       "      <th>other</th>\n",
       "      <th>multiracial</th>\n",
       "      <th>hispanic</th>\n",
       "      <th>hispanic_white</th>\n",
       "      <th>hispanic_black</th>\n",
       "      <th>hispanic_aian</th>\n",
       "      <th>hispanic_asian</th>\n",
       "      <th>hispanic_pacific</th>\n",
       "      <th>hispanic_other</th>\n",
       "      <th>hispanic_multiracial</th>\n",
       "    </tr>\n",
       "  </thead>\n",
       "  <tbody>\n",
       "    <tr>\n",
       "      <th>Alabama</th>\n",
       "      <td>4779736</td>\n",
       "      <td>4594134</td>\n",
       "      <td>3204402</td>\n",
       "      <td>1244437</td>\n",
       "      <td>25907</td>\n",
       "      <td>52937</td>\n",
       "      <td>1976</td>\n",
       "      <td>4030</td>\n",
       "      <td>60445</td>\n",
       "      <td>185602</td>\n",
       "      <td>70992</td>\n",
       "      <td>6874</td>\n",
       "      <td>2311</td>\n",
       "      <td>658</td>\n",
       "      <td>1081</td>\n",
       "      <td>92880</td>\n",
       "      <td>10806</td>\n",
       "    </tr>\n",
       "    <tr>\n",
       "      <th>Alaska</th>\n",
       "      <td>710231</td>\n",
       "      <td>670982</td>\n",
       "      <td>455320</td>\n",
       "      <td>21949</td>\n",
       "      <td>102556</td>\n",
       "      <td>37459</td>\n",
       "      <td>7219</td>\n",
       "      <td>1111</td>\n",
       "      <td>45368</td>\n",
       "      <td>39249</td>\n",
       "      <td>18256</td>\n",
       "      <td>1314</td>\n",
       "      <td>2315</td>\n",
       "      <td>676</td>\n",
       "      <td>190</td>\n",
       "      <td>9991</td>\n",
       "      <td>6507</td>\n",
       "    </tr>\n",
       "    <tr>\n",
       "      <th>Arizona</th>\n",
       "      <td>6392017</td>\n",
       "      <td>4496868</td>\n",
       "      <td>3695647</td>\n",
       "      <td>239101</td>\n",
       "      <td>257426</td>\n",
       "      <td>170509</td>\n",
       "      <td>10959</td>\n",
       "      <td>8595</td>\n",
       "      <td>114631</td>\n",
       "      <td>1895149</td>\n",
       "      <td>971474</td>\n",
       "      <td>19907</td>\n",
       "      <td>39103</td>\n",
       "      <td>6186</td>\n",
       "      <td>1689</td>\n",
       "      <td>753121</td>\n",
       "      <td>103669</td>\n",
       "    </tr>\n",
       "    <tr>\n",
       "      <th>Arkansas</th>\n",
       "      <td>2915918</td>\n",
       "      <td>2729868</td>\n",
       "      <td>2173469</td>\n",
       "      <td>447102</td>\n",
       "      <td>20183</td>\n",
       "      <td>35647</td>\n",
       "      <td>5509</td>\n",
       "      <td>2121</td>\n",
       "      <td>45837</td>\n",
       "      <td>186050</td>\n",
       "      <td>71760</td>\n",
       "      <td>2793</td>\n",
       "      <td>2065</td>\n",
       "      <td>455</td>\n",
       "      <td>354</td>\n",
       "      <td>97450</td>\n",
       "      <td>11173</td>\n",
       "    </tr>\n",
       "    <tr>\n",
       "      <th>California</th>\n",
       "      <td>37253956</td>\n",
       "      <td>23240237</td>\n",
       "      <td>14956253</td>\n",
       "      <td>2163804</td>\n",
       "      <td>162250</td>\n",
       "      <td>4775070</td>\n",
       "      <td>128577</td>\n",
       "      <td>85587</td>\n",
       "      <td>968696</td>\n",
       "      <td>14013719</td>\n",
       "      <td>6497681</td>\n",
       "      <td>135268</td>\n",
       "      <td>200551</td>\n",
       "      <td>85937</td>\n",
       "      <td>15809</td>\n",
       "      <td>6231785</td>\n",
       "      <td>846688</td>\n",
       "    </tr>\n",
       "  </tbody>\n",
       "</table>\n",
       "</div>"
      ],
      "text/plain": [
       "               total  nonhispanic     white    black    aian    asian  \\\n",
       "Alabama      4779736      4594134   3204402  1244437   25907    52937   \n",
       "Alaska        710231       670982    455320    21949  102556    37459   \n",
       "Arizona      6392017      4496868   3695647   239101  257426   170509   \n",
       "Arkansas     2915918      2729868   2173469   447102   20183    35647   \n",
       "California  37253956     23240237  14956253  2163804  162250  4775070   \n",
       "\n",
       "            pacific  other  multiracial  hispanic  hispanic_white  \\\n",
       "Alabama        1976   4030        60445    185602           70992   \n",
       "Alaska         7219   1111        45368     39249           18256   \n",
       "Arizona       10959   8595       114631   1895149          971474   \n",
       "Arkansas       5509   2121        45837    186050           71760   \n",
       "California   128577  85587       968696  14013719         6497681   \n",
       "\n",
       "            hispanic_black  hispanic_aian  hispanic_asian  hispanic_pacific  \\\n",
       "Alabama               6874           2311             658              1081   \n",
       "Alaska                1314           2315             676               190   \n",
       "Arizona              19907          39103            6186              1689   \n",
       "Arkansas              2793           2065             455               354   \n",
       "California          135268         200551           85937             15809   \n",
       "\n",
       "            hispanic_other  hispanic_multiracial  \n",
       "Alabama              92880                 10806  \n",
       "Alaska                9991                  6507  \n",
       "Arizona             753121                103669  \n",
       "Arkansas             97450                 11173  \n",
       "California         6231785                846688  "
      ]
     },
     "execution_count": 31,
     "metadata": {},
     "output_type": "execute_result"
    }
   ],
   "source": [
    "datos= pd.read_csv('../data/19. Analizando Datos Económicos/states.csv',index_col=0)\n",
    "datos.head()"
   ]
  },
  {
   "cell_type": "code",
   "execution_count": 6,
   "metadata": {},
   "outputs": [
    {
     "ename": "NameError",
     "evalue": "name 'datos' is not defined",
     "output_type": "error",
     "traceback": [
      "\u001b[1;31m---------------------------------------------------------------------------\u001b[0m",
      "\u001b[1;31mNameError\u001b[0m                                 Traceback (most recent call last)",
      "\u001b[1;32m<ipython-input-6-4f27c4aefd19>\u001b[0m in \u001b[0;36m<module>\u001b[1;34m\u001b[0m\n\u001b[0;32m      1\u001b[0m \u001b[1;31m#check_total= datos['total'].sum() #si yo pongo datos[check_total] me arma una nueva columna. dsp le pongo datos.head() para verla\u001b[0m\u001b[1;33m\u001b[0m\u001b[1;33m\u001b[0m\u001b[1;33m\u001b[0m\u001b[0m\n\u001b[1;32m----> 2\u001b[1;33m \u001b[0mdatos\u001b[0m\u001b[1;33m.\u001b[0m\u001b[0mcolumns\u001b[0m\u001b[1;31m#print(check_total,'personas')#yo hice mal y sume todos los datos, esto debia agregar una columna y sumar fila\u001b[0m\u001b[1;33m\u001b[0m\u001b[1;33m\u001b[0m\u001b[0m\n\u001b[0m\u001b[0;32m      3\u001b[0m \u001b[0mstates\u001b[0m\u001b[1;33m[\u001b[0m\u001b[0mcheck_total\u001b[0m\u001b[1;33m]\u001b[0m\u001b[1;33m=\u001b[0m \u001b[0mstates\u001b[0m\u001b[1;33m[\u001b[0m\u001b[1;34m'nonhispanic'\u001b[0m\u001b[1;33m]\u001b[0m\u001b[1;33m+\u001b[0m \u001b[0mstates\u001b[0m\u001b[1;33m[\u001b[0m\u001b[1;34m'hispanic'\u001b[0m\u001b[1;33m]\u001b[0m\u001b[1;33m\u001b[0m\u001b[1;33m\u001b[0m\u001b[0m\n\u001b[0;32m      4\u001b[0m \u001b[0mmask\u001b[0m \u001b[1;33m=\u001b[0m \u001b[0mstates\u001b[0m\u001b[1;33m[\u001b[0m\u001b[1;34m'total'\u001b[0m\u001b[1;33m]\u001b[0m \u001b[1;33m==\u001b[0m \u001b[0mstates\u001b[0m\u001b[1;33m[\u001b[0m\u001b[1;34m'check_total'\u001b[0m\u001b[1;33m]\u001b[0m\u001b[1;33m\u001b[0m\u001b[1;33m\u001b[0m\u001b[0m\n\u001b[0;32m      5\u001b[0m \u001b[0mstates\u001b[0m\u001b[1;33m[\u001b[0m\u001b[0mmask\u001b[0m\u001b[1;33m]\u001b[0m\u001b[1;33m.\u001b[0m\u001b[0mhead\u001b[0m\u001b[1;33m(\u001b[0m\u001b[1;33m)\u001b[0m\u001b[1;33m\u001b[0m\u001b[1;33m\u001b[0m\u001b[0m\n",
      "\u001b[1;31mNameError\u001b[0m: name 'datos' is not defined"
     ]
    }
   ],
   "source": [
    "#check_total= datos['total'].sum() #si yo pongo datos[check_total] me arma una nueva columna. dsp le pongo datos.head() para verla\n",
    "datos.columns#print(check_total,'personas')#yo hice mal y sume todos los datos, esto debia agregar una columna y sumar fila\n",
    "states[check_total]= states['nonhispanic']+ states['hispanic']\n",
    "mask = states['total'] == states['check_total']\n",
    "states[mask].head()"
   ]
  },
  {
   "cell_type": "code",
   "execution_count": 48,
   "metadata": {},
   "outputs": [
    {
     "name": "stdout",
     "output_type": "stream",
     "text": [
      "porcentaje que se identifican como otros: 34.69328545635662 %\n"
     ]
    }
   ],
   "source": [
    "# el porcentaje que se identifica a otros\n",
    "# Use f-string to show it nicely\n",
    "hisp_pct = 100 * datos['hispanic_other'].sum() / datos['hispanic'].sum()\n",
    "print(f'porcentaje que se identifican como otros: {hisp_pct} %')"
   ]
  },
  {
   "cell_type": "markdown",
   "metadata": {},
   "source": [
    "**2.** Show the 3 top states with the largest value in column `hispanic_asian` using the pandas dataframe `states_hr`."
   ]
  },
  {
   "cell_type": "code",
   "execution_count": 70,
   "metadata": {},
   "outputs": [
    {
     "data": {
      "text/html": [
       "<div>\n",
       "<style scoped>\n",
       "    .dataframe tbody tr th:only-of-type {\n",
       "        vertical-align: middle;\n",
       "    }\n",
       "\n",
       "    .dataframe tbody tr th {\n",
       "        vertical-align: top;\n",
       "    }\n",
       "\n",
       "    .dataframe thead th {\n",
       "        text-align: right;\n",
       "    }\n",
       "</style>\n",
       "<table border=\"1\" class=\"dataframe\">\n",
       "  <thead>\n",
       "    <tr style=\"text-align: right;\">\n",
       "      <th></th>\n",
       "      <th>total</th>\n",
       "      <th>nonhispanic</th>\n",
       "      <th>white</th>\n",
       "      <th>black</th>\n",
       "      <th>aian</th>\n",
       "      <th>asian</th>\n",
       "      <th>pacific</th>\n",
       "      <th>other</th>\n",
       "      <th>multiracial</th>\n",
       "      <th>hispanic</th>\n",
       "      <th>hispanic_white</th>\n",
       "      <th>hispanic_black</th>\n",
       "      <th>hispanic_aian</th>\n",
       "      <th>hispanic_asian</th>\n",
       "      <th>hispanic_pacific</th>\n",
       "      <th>hispanic_other</th>\n",
       "      <th>hispanic_multiracial</th>\n",
       "    </tr>\n",
       "  </thead>\n",
       "  <tbody>\n",
       "    <tr>\n",
       "      <th>California</th>\n",
       "      <td>37253956</td>\n",
       "      <td>23240237</td>\n",
       "      <td>14956253</td>\n",
       "      <td>2163804</td>\n",
       "      <td>162250</td>\n",
       "      <td>4775070</td>\n",
       "      <td>128577</td>\n",
       "      <td>85587</td>\n",
       "      <td>968696</td>\n",
       "      <td>14013719</td>\n",
       "      <td>6497681</td>\n",
       "      <td>135268</td>\n",
       "      <td>200551</td>\n",
       "      <td>85937</td>\n",
       "      <td>15809</td>\n",
       "      <td>6231785</td>\n",
       "      <td>846688</td>\n",
       "    </tr>\n",
       "    <tr>\n",
       "      <th>Texas</th>\n",
       "      <td>25145561</td>\n",
       "      <td>15684640</td>\n",
       "      <td>11397345</td>\n",
       "      <td>2886825</td>\n",
       "      <td>80586</td>\n",
       "      <td>948426</td>\n",
       "      <td>17920</td>\n",
       "      <td>33980</td>\n",
       "      <td>319558</td>\n",
       "      <td>9460921</td>\n",
       "      <td>6304207</td>\n",
       "      <td>92773</td>\n",
       "      <td>90386</td>\n",
       "      <td>16170</td>\n",
       "      <td>3736</td>\n",
       "      <td>2594206</td>\n",
       "      <td>359443</td>\n",
       "    </tr>\n",
       "    <tr>\n",
       "      <th>New York</th>\n",
       "      <td>19378102</td>\n",
       "      <td>15961180</td>\n",
       "      <td>11304247</td>\n",
       "      <td>2783857</td>\n",
       "      <td>53908</td>\n",
       "      <td>1406194</td>\n",
       "      <td>5320</td>\n",
       "      <td>81620</td>\n",
       "      <td>326034</td>\n",
       "      <td>3416922</td>\n",
       "      <td>1436727</td>\n",
       "      <td>289943</td>\n",
       "      <td>52998</td>\n",
       "      <td>14050</td>\n",
       "      <td>3446</td>\n",
       "      <td>1359943</td>\n",
       "      <td>259815</td>\n",
       "    </tr>\n",
       "  </tbody>\n",
       "</table>\n",
       "</div>"
      ],
      "text/plain": [
       "               total  nonhispanic     white    black    aian    asian  \\\n",
       "California  37253956     23240237  14956253  2163804  162250  4775070   \n",
       "Texas       25145561     15684640  11397345  2886825   80586   948426   \n",
       "New York    19378102     15961180  11304247  2783857   53908  1406194   \n",
       "\n",
       "            pacific  other  multiracial  hispanic  hispanic_white  \\\n",
       "California   128577  85587       968696  14013719         6497681   \n",
       "Texas         17920  33980       319558   9460921         6304207   \n",
       "New York       5320  81620       326034   3416922         1436727   \n",
       "\n",
       "            hispanic_black  hispanic_aian  hispanic_asian  hispanic_pacific  \\\n",
       "California          135268         200551           85937             15809   \n",
       "Texas                92773          90386           16170              3736   \n",
       "New York            289943          52998           14050              3446   \n",
       "\n",
       "            hispanic_other  hispanic_multiracial  \n",
       "California         6231785                846688  \n",
       "Texas              2594206                359443  \n",
       "New York           1359943                259815  "
      ]
     },
     "execution_count": 70,
     "metadata": {},
     "output_type": "execute_result"
    }
   ],
   "source": [
    "datos.nlargest(3, 'hispanic_asian')"
   ]
  },
  {
   "cell_type": "markdown",
   "metadata": {},
   "source": [
    "**3.** Create a copy pandas dataframe called `state_api_class` from `states_api1`. \n",
    "    \n",
    "- Rename the columns from the pandas dataframe `state_api_class` with the list `[\"nombre\", \"mediana_edad\", \"tamaño_familiar_promedio\", \"estado\"]`. \n",
    "- Create the column `nombre_lower` which takes to lowercase the column `nombre`.\n",
    "- Keep only rows where `nomber_lower` starts with `n`."
   ]
  },
  {
   "cell_type": "code",
   "execution_count": null,
   "metadata": {},
   "outputs": [],
   "source": []
  },
  {
   "cell_type": "markdown",
   "metadata": {},
   "source": [
    "**4.** Create a new pandas dataframe called `states_above_median` from `states_api1` that contains only rows where `median_age` is above the mean of the sample plus 1 standard deviation. Then, get the mean value of `avg_family_size`."
   ]
  },
  {
   "cell_type": "markdown",
   "metadata": {},
   "source": [
    "**5.** Using `.scatter` from matplotlib, check from the pandas dataframe `states_api2` if there is any relationship between the columns `in_adult_pct` and `in_juvenile_pct`. **HINT:** Be creative :)\n",
    "\n",
    "Try things like:\n",
    "- Adding a measure of size with the parameter `s`\n",
    "- Adding color with the parameter `c`\n",
    "- Putting it a title and name the axis\n",
    "- Adding some text inside the chart!\n",
    "- ... \n",
    "\n",
    "Save it and share it on the `forum` section of teams!"
   ]
  }
 ],
 "metadata": {
  "kernelspec": {
   "display_name": "Python 3",
   "language": "python",
   "name": "python3"
  },
  "language_info": {
   "codemirror_mode": {
    "name": "ipython",
    "version": 3
   },
   "file_extension": ".py",
   "mimetype": "text/x-python",
   "name": "python",
   "nbconvert_exporter": "python",
   "pygments_lexer": "ipython3",
   "version": "3.8.3"
  }
 },
 "nbformat": 4,
 "nbformat_minor": 2
}
