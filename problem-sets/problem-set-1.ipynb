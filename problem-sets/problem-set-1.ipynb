{
 "cells": [
  {
   "cell_type": "markdown",
   "metadata": {},
   "source": [
    "1. Create a list called `my_house` which contains the name and the size of every place of the house as sublists."
   ]
  },
  {
   "cell_type": "code",
   "execution_count": 32,
   "metadata": {},
   "outputs": [
    {
     "name": "stdout",
     "output_type": "stream",
     "text": [
      "[['hallway', 11.25], ['kitchen', 18.0], ['living room', 20.0], ['bedroom', 10.75], ['bathroom', 9.5], ['poolhouse', 24.5]]\n"
     ]
    }
   ],
   "source": [
    "my_house2 =[['hallway',11.25],['kitchen',18.0],['living room',20.0],['bedroom',10.75],['bathroom',9.5],['poolhouse',24.5]]\n",
    "print(my_house2)"
   ]
  },
  {
   "cell_type": "markdown",
   "metadata": {},
   "source": [
    "**expected output**: `[['hallway', 11.25], ['kitchen', 18.0], ['living room', 20.0], ['bedroom', 10.75], ['bathroom', 9.5], ['poolhouse', 24.5]]`"
   ]
  },
  {
   "cell_type": "markdown",
   "metadata": {},
   "source": [
    "2. Delete the third elemnt of `my_house` and extend it with another place of the house you want."
   ]
  },
  {
   "cell_type": "code",
   "execution_count": 33,
   "metadata": {},
   "outputs": [
    {
     "name": "stdout",
     "output_type": "stream",
     "text": [
      "[['hallway', 11.25], ['kitchen', 18.0], ['bedroom', 10.75], ['bathroom', 9.5], ['poolhouse', 24.5], ['patio', 13.0]]\n"
     ]
    }
   ],
   "source": [
    "del(my_house2[2]) # delete first element\n",
    "my_house2+=[['patio',13.0]] # extend it\n",
    "print(my_house2)"
   ]
  },
  {
   "cell_type": "markdown",
   "metadata": {},
   "source": [
    "**expected output**: `[['hallway', 11.25], ['kitchen', 18.0], ['bedroom', 10.75], ['bathroom', 9.5], ['poolhouse', 24.5], ['patio', 13.0]]`"
   ]
  },
  {
   "cell_type": "markdown",
   "metadata": {},
   "source": [
    "3. Read the section `Practice` from the notebook `01. Introducción a Python` and comment on the QA why do you think you are getting that result on the lists `areas` and `areas_copy`"
   ]
  },
  {
   "cell_type": "markdown",
   "metadata": {},
   "source": [
    "4. **If-Else**: Fill the following code so it works correctly:"
   ]
  },
  {
   "cell_type": "code",
   "execution_count": 2,
   "metadata": {},
   "outputs": [
    {
     "name": "stdout",
     "output_type": "stream",
     "text": [
      "bed\n",
      "medium size, nice!\n"
     ]
    }
   ],
   "source": [
    "room = \"bed\"\n",
    "room_area = 14.0\n",
    "\n",
    "if room == 'bed':\n",
    "    print(\"bed\")\n",
    "    if room == 15 :\n",
    "        print(\"big place!\")\n",
    "    elif room == 10 :\n",
    "        print(\"medium size, nice!\")\n",
    "else :\n",
    "        print(\"pretty small.\")\n",
    "        \n",
    "if room_area < 3:\n",
    "    print('alguito')\n",
    "    if room_area > 3 :\n",
    "        print(\"big place!\")\n",
    "elif room_area == 14.0 :\n",
    "        print(\"medium size, nice!\")\n",
    "else :\n",
    "        print(\"pretty small.\")"
   ]
  },
  {
   "cell_type": "markdown",
   "metadata": {},
   "source": [
    "**expected output**: `bed` `medium size, nice!`"
   ]
  },
  {
   "cell_type": "markdown",
   "metadata": {},
   "source": [
    "5. **While loops**: Iterate over the list `my_house` and print the place of the house with its size. If you reach a place of the house called `poolhouse`, break the while loop and print `oh! a bathroom! be right back in 5' :)`"
   ]
  },
  {
   "cell_type": "code",
   "execution_count": 3,
   "metadata": {},
   "outputs": [
    {
     "ename": "KeyboardInterrupt",
     "evalue": "",
     "output_type": "error",
     "traceback": [
      "\u001b[1;31m---------------------------------------------------------------------------\u001b[0m",
      "\u001b[1;31mKeyboardInterrupt\u001b[0m                         Traceback (most recent call last)",
      "\u001b[1;32m<ipython-input-3-a9a1a6579128>\u001b[0m in \u001b[0;36m<module>\u001b[1;34m\u001b[0m\n\u001b[0;32m      2\u001b[0m \u001b[1;33m\u001b[0m\u001b[0m\n\u001b[0;32m      3\u001b[0m \u001b[1;32mwhile\u001b[0m \u001b[1;32mTrue\u001b[0m\u001b[1;33m:\u001b[0m\u001b[1;33m\u001b[0m\u001b[1;33m\u001b[0m\u001b[0m\n\u001b[1;32m----> 4\u001b[1;33m     \u001b[0mmy_house\u001b[0m\u001b[1;33m\u001b[0m\u001b[1;33m\u001b[0m\u001b[0m\n\u001b[0m\u001b[0;32m      5\u001b[0m \u001b[1;33m\u001b[0m\u001b[0m\n\u001b[0;32m      6\u001b[0m     \u001b[1;31m#el ejercicio era para ver que hacia el loop este\u001b[0m\u001b[1;33m\u001b[0m\u001b[1;33m\u001b[0m\u001b[1;33m\u001b[0m\u001b[0m\n",
      "\u001b[1;31mKeyboardInterrupt\u001b[0m: "
     ]
    }
   ],
   "source": [
    "my_house = [['hallway', 11.25], ['kitchen', 18.0], ['living room', 20.0], ['bedroom', 10.75], ['bathroom', 9.5], ['poolhouse', 24.5]]\n",
    "\n",
    "while True:\n",
    "    my_house\n",
    "    \n",
    "    #el ejercicio era para ver que hacia el loop este\n",
    "    \n",
    "\n",
    "print('oh! a bathroom! be right back in 5')\n",
    "\n",
    "    "
   ]
  },
  {
   "cell_type": "markdown",
   "metadata": {},
   "source": [
    "**expected output**: \n",
    "`hallway: 11.25`\n",
    "`kitchen: 18.0`\n",
    "`living room: 20.0`\n",
    "`bedroom: 10.75`\n",
    "`oh! a bathroom! be right back in 5' :)`"
   ]
  },
  {
   "cell_type": "markdown",
   "metadata": {},
   "source": [
    "6. **For Loop**: Using the list of lists `house`, iterate over every element and for each one of them print its place and size using the following template: **the `name_of_place` is `size_of_place` sqm**. But if it's the living room do not print anything."
   ]
  },
  {
   "cell_type": "code",
   "execution_count": 14,
   "metadata": {},
   "outputs": [
    {
     "name": "stdout",
     "output_type": "stream",
     "text": [
      "the hallway is 11.25sqm\n",
      "the kitchen is 18.0sqm\n",
      "the bedroom is 10.75sqm\n",
      "the bathroom is 9.5sqm\n"
     ]
    }
   ],
   "source": [
    "house = [[\"hallway\", 11.25], \n",
    "         [\"kitchen\", 18.0], \n",
    "         [\"living room\", 20.0], \n",
    "         [\"bedroom\", 10.75], \n",
    "         [\"bathroom\", 9.50]]\n",
    "         \n",
    "for x in house :\n",
    "   # print('the' +' '+ x[0] +' '+ 'is ' + str(x[1]) + 'sqm')\n",
    "    if x[0]=='living room':\n",
    "        continue\n",
    "    else: \n",
    "            print('the' +' '+ x[0] +' '+ 'is ' + str(x[1]) + 'sqm')"
   ]
  },
  {
   "cell_type": "markdown",
   "metadata": {},
   "source": [
    "**expected output**: \n",
    "`the hallway is 11.25 sqm`\n",
    "`the kitchen is 18.0 sqm`\n",
    "`the bedroom is 10.75 sqm`\n",
    "`the bathroom is 9.5 sqm`"
   ]
  },
  {
   "cell_type": "markdown",
   "metadata": {},
   "source": [
    "7. **Functions**: Create a function called `obiwan` that when called will print `Hello there`."
   ]
  },
  {
   "cell_type": "code",
   "execution_count": 7,
   "metadata": {},
   "outputs": [],
   "source": [
    "def obiwan ():\n",
    "    hola= ('Hello there')  #poner print('hello there') es lo mismo...xq se actualiza py y dsp no entiendo\n",
    "obiwan()    "
   ]
  },
  {
   "cell_type": "markdown",
   "metadata": {},
   "source": [
    "**expected output**: \n",
    "`Hello there`"
   ]
  }
 ],
 "metadata": {
  "kernelspec": {
   "display_name": "Python 3",
   "language": "python",
   "name": "python3"
  },
  "language_info": {
   "codemirror_mode": {
    "name": "ipython",
    "version": 3
   },
   "file_extension": ".py",
   "mimetype": "text/x-python",
   "name": "python",
   "nbconvert_exporter": "python",
   "pygments_lexer": "ipython3",
   "version": "3.8.3"
  }
 },
 "nbformat": 4,
 "nbformat_minor": 2
}
