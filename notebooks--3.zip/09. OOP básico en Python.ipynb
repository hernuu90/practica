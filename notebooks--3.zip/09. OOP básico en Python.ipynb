{
 "cells": [
  {
   "cell_type": "markdown",
   "metadata": {},
   "source": [
    "# OOP termininology\n",
    "\n",
    "- **classes**: is an abstract template\n",
    "- **objects**: a concrete representation of a class (instance)\n",
    "- **methods**: encode behaviour of an object and are represented by functions\n",
    "- **attributes**: encode the state of an object and are represnted by variables\n",
    "\n",
    "## Create your first class\n",
    "\n",
    "In this exercise, you'll start building the `Employee` class you briefly explored in the previous lesson. You'll start by creating methods that set attributes, and then add a few methods that manipulate them.\n",
    "\n",
    "As mentioned in the first video, an object-oriented approach is most useful when your code involves complex interactions of many objects. In real production code, classes can have dozens of attributes and methods with complicated logic, but the underlying structure is the same as with the most simple class."
   ]
  },
  {
   "cell_type": "code",
   "execution_count": 2,
   "metadata": {},
   "outputs": [],
   "source": [
    "# Create an empty class Employee\n",
    "class Employee:\n",
    "    pass\n",
    "\n",
    "# Create an object emp of class Employee  \n",
    "emp = Employee()\n",
    "\n",
    "class empleado:\n",
    "    pass"
   ]
  },
  {
   "cell_type": "markdown",
   "metadata": {},
   "source": [
    "## Understanding class definitions\n",
    "Objects and classes consist of attributes (storing the state) and methods (storing the behavior)."
   ]
  },
  {
   "cell_type": "code",
   "execution_count": 18,
   "metadata": {},
   "outputs": [
    {
     "name": "stdout",
     "output_type": "stream",
     "text": [
      "Korel Rossi\n",
      "el hernuu\n"
     ]
    },
    {
     "ename": "AttributeError",
     "evalue": "'empleado' object has no attribute 'misalario'",
     "output_type": "error",
     "traceback": [
      "\u001b[1;31m---------------------------------------------------------------------------\u001b[0m",
      "\u001b[1;31mAttributeError\u001b[0m                            Traceback (most recent call last)",
      "\u001b[1;32m<ipython-input-18-8f2667486300>\u001b[0m in \u001b[0;36m<module>\u001b[1;34m\u001b[0m\n\u001b[0;32m     26\u001b[0m     \u001b[0mmio\u001b[0m\u001b[1;33m.\u001b[0m\u001b[0msalario\u001b[0m\u001b[1;33m=\u001b[0m\u001b[0mnuevo_salario\u001b[0m\u001b[1;33m\u001b[0m\u001b[1;33m\u001b[0m\u001b[0m\n\u001b[0;32m     27\u001b[0m \u001b[0memp\u001b[0m\u001b[1;33m=\u001b[0m\u001b[0mempleado\u001b[0m\u001b[1;33m(\u001b[0m\u001b[1;33m)\u001b[0m\u001b[1;33m\u001b[0m\u001b[1;33m\u001b[0m\u001b[0m\n\u001b[1;32m---> 28\u001b[1;33m \u001b[0memp\u001b[0m\u001b[1;33m.\u001b[0m\u001b[0mmisalario\u001b[0m\u001b[1;33m(\u001b[0m\u001b[1;36m100000\u001b[0m\u001b[1;33m)\u001b[0m\u001b[1;33m\u001b[0m\u001b[1;33m\u001b[0m\u001b[0m\n\u001b[0m\u001b[0;32m     29\u001b[0m \u001b[0mprint\u001b[0m\u001b[1;33m(\u001b[0m\u001b[0memp\u001b[0m\u001b[1;33m.\u001b[0m\u001b[0msalario\u001b[0m\u001b[1;33m)\u001b[0m\u001b[1;33m\u001b[0m\u001b[1;33m\u001b[0m\u001b[0m\n",
      "\u001b[1;31mAttributeError\u001b[0m: 'empleado' object has no attribute 'misalario'"
     ]
    }
   ],
   "source": [
    "class empleado:\n",
    "    pass               # Include a set_name method\n",
    "class Employee:\n",
    "    # set_name() method\n",
    "    def set_name(self, new_name):\n",
    "        # set attribute\n",
    "        self.name = new_name\n",
    "\n",
    "#Create an object emp of class Employee  \n",
    "emp = Employee()\n",
    "\n",
    "# Use set_name() on emp to set the name of emp to 'Korel Rossi'\n",
    "emp.set_name('Korel Rossi')\n",
    "\n",
    "# Print the name of emp\n",
    "print(emp.name)\n",
    "\n",
    "class empleado:\n",
    "    def elnombre(suyo,nuevo_nombre):\n",
    "        suyo.nombre=nuevo_nombre\n",
    "emp= empleado()\n",
    "emp.elnombre('el hernuu')\n",
    "print(emp.nombre)\n",
    "\n",
    "def misalario(mio,nuevo_salario):\n",
    "    mio.salario=nuevo_salario\n",
    "emp=empleado()    \n",
    "emp.misalario(100000)      \n",
    "print(emp.salario)"
   ]
  },
  {
   "cell_type": "code",
   "execution_count": 16,
   "metadata": {},
   "outputs": [],
   "source": [
    "class Employee:\n",
    "    \n",
    "    # set_name() method\n",
    "    def set_name(self, new_name):\n",
    "        # set name attribute\n",
    "        self.name = new_name\n",
    "\n",
    "    # set_salary() method  \n",
    "    def set_salary(self, new_salary):\n",
    "        # set salary attribute\n",
    "        self.salary = new_salary \n",
    "  \n",
    "  \n",
    "# Create an object emp of class Employee  \n",
    "emp = Employee()\n",
    "\n",
    "# Use set_name to set the name of emp to 'Korel Rossi'\n",
    "emp.set_name('Korel Rossi')\n",
    "\n",
    "# Set the salary of emp to 50000\n",
    "emp.set_salary(50000)"
   ]
  },
  {
   "cell_type": "markdown",
   "metadata": {},
   "source": [
    "## Using attributes in class definition\n",
    "\n",
    "\n",
    "You defined an `Employee` class with two attributes and two methods setting those attributes. This kind of method, aptly called a setter method, is far from the only possible kind. ***Methods*** are functions, so anything you can do with a function, you can also do with a method. For example, you can use methods to print, return values, make plots, and raise exceptions, as long as it makes sense as the behavior of the objects described by the class (an Employee probably wouldn't have a `pivot_table()` method)."
   ]
  },
  {
   "cell_type": "code",
   "execution_count": 1,
   "metadata": {},
   "outputs": [
    {
     "name": "stdout",
     "output_type": "stream",
     "text": [
      "50000\n"
     ]
    }
   ],
   "source": [
    "class Employee:\n",
    "    def set_name(self, new_name):\n",
    "        self.name = new_name\n",
    "\n",
    "    def set_salary(self, new_salary):\n",
    "        self.salary = new_salary \n",
    "\n",
    "emp = Employee()\n",
    "emp.set_name('Korel Rossi')\n",
    "emp.set_salary(50000)\n",
    "\n",
    "# Print the salary attribute of emp\n",
    "print(emp.salary)"
   ]
  },
  {
   "cell_type": "markdown",
   "metadata": {},
   "source": [
    "***Attributes*** aren't read-only: use assignment (equality sign) to increase the `salary` attribute of `emp` by 1500"
   ]
  },
  {
   "cell_type": "code",
   "execution_count": null,
   "metadata": {},
   "outputs": [],
   "source": [
    "# Increase salary of emp by 1500\n",
    "emp.salary = emp.salary + 1500\n",
    "\n",
    "# Print the salary attribute of emp again\n",
    "print(emp.salary)"
   ]
  },
  {
   "cell_type": "markdown",
   "metadata": {},
   "source": [
    "Add a `.give_raise()` method with raise amount as a parameter"
   ]
  },
  {
   "cell_type": "code",
   "execution_count": 5,
   "metadata": {},
   "outputs": [
    {
     "name": "stdout",
     "output_type": "stream",
     "text": [
      "50000\n",
      "51500\n"
     ]
    }
   ],
   "source": [
    "class Employee:\n",
    "    def set_name(self, new_name):\n",
    "        self.name = new_name\n",
    "\n",
    "    def set_salary(self, new_salary):\n",
    "        self.salary = new_salary \n",
    "\n",
    "    # give_raise() method\n",
    "    def give_raise(self, amount):\n",
    "        self.salary = self.salary + amount\n",
    "\n",
    "emp = Employee()\n",
    "emp.set_name('Korel Rossi')\n",
    "emp.set_salary(50000)\n",
    "\n",
    "print(emp.salary)\n",
    "emp.give_raise(1500)\n",
    "print(emp.salary)"
   ]
  },
  {
   "cell_type": "markdown",
   "metadata": {},
   "source": [
    "## Class constructor\n",
    "\n",
    "Instead of using the methods like `set_salary()` that you wrote in the previous lesson, you will introduce a constructor that assigns name and salary to the employee at the moment when the object is created.\n",
    "\n",
    "Python allows you to run custom code - for example, initializing attributes - any time an object is created: you just need to define a special method called __init__(). Use this exercise to check your understanding of `__init__()` mechanics!"
   ]
  },
  {
   "cell_type": "code",
   "execution_count": 2,
   "metadata": {},
   "outputs": [
    {
     "name": "stdout",
     "output_type": "stream",
     "text": [
      "Korel Rossi\n",
      "0\n"
     ]
    }
   ],
   "source": [
    "class Employee:\n",
    "    # Create __init__() method\n",
    "    def __init__(self, name, salary=0):\n",
    "        # Create the name and salary attributes\n",
    "        self.name = name\n",
    "        self.salary = salary\n",
    "    \n",
    "    # From the previous lesson\n",
    "    def give_raise(self, amount):\n",
    "        self.salary += amount\n",
    "\n",
    "    def monthly_salary(self):\n",
    "        return self.salary/12\n",
    "        \n",
    "emp = Employee(\"Korel Rossi\")\n",
    "\n",
    "print(emp.name)\n",
    "print(emp.salary)"
   ]
  },
  {
   "cell_type": "code",
   "execution_count": 7,
   "metadata": {},
   "outputs": [
    {
     "name": "stdout",
     "output_type": "stream",
     "text": [
      "Invalid salary!\n",
      "Korel Rossi\n",
      "0\n"
     ]
    }
   ],
   "source": [
    "class Employee:\n",
    "    \n",
    "    def __init__(self, name, salary=0):\n",
    "        self.name = name\n",
    "        # Modify code below to check if salary is positive\n",
    "        if salary >= 0:\n",
    "          self.salary = salary\n",
    "        else:\n",
    "          self.salary = 0\n",
    "          print(\"Invalid salary! Setting as at 0$\")\n",
    "        \n",
    "      \n",
    "emp = Employee(\"Korel Rossi\", -1000)\n",
    "print(emp.name)\n",
    "print(emp.salary)"
   ]
  },
  {
   "cell_type": "markdown",
   "metadata": {},
   "source": [
    "We do not need to set the attribute ourselfs, we can do it as an internal attribute"
   ]
  },
  {
   "cell_type": "code",
   "execution_count": 8,
   "metadata": {},
   "outputs": [
    {
     "name": "stdout",
     "output_type": "stream",
     "text": [
      "Invalid salary!\n",
      "Korel Rossi\n",
      "2020-08-13 16:22:29.073138\n"
     ]
    }
   ],
   "source": [
    "# Import datetime from datetime\n",
    "from datetime import datetime\n",
    "\n",
    "class Employee:\n",
    "    \n",
    "    def __init__(self, name, salary=0):\n",
    "        self.name = name\n",
    "        if salary > 0:\n",
    "          self.salary = salary\n",
    "        else:\n",
    "          self.salary = 0\n",
    "          print(\"Invalid salary!\")\n",
    "          \n",
    "        # Add the hire_date attribute and set it to today's date\n",
    "        self.hire_date = datetime.today()\n",
    "        \n",
    "      \n",
    "emp = Employee(\"Korel Rossi\")\n",
    "print(emp.name)\n",
    "print(emp.hire_date)"
   ]
  },
  {
   "cell_type": "markdown",
   "metadata": {},
   "source": [
    "# Class-level attributes\n",
    "Class attributes store data that is shared among all the class instances. They are assigned values in the class body, and are referred to using the `ClassName.` syntax rather than `self.` syntax when used in methods.\n",
    "\n",
    "In this exercise, you will be a game developer working on a game that will have several players moving on a grid and interacting with each other. As the first step, you want to define a `Player` class that will just move along a straight line."
   ]
  },
  {
   "cell_type": "code",
   "execution_count": 9,
   "metadata": {
    "scrolled": true
   },
   "outputs": [
    {
     "name": "stdout",
     "output_type": "stream",
     "text": [
      "10\n",
      "10\n"
     ]
    }
   ],
   "source": [
    "# Create a Player class\n",
    "class Player:\n",
    "    MAX_POSITION = 10\n",
    "    \n",
    "    def __init__(self):\n",
    "      self.position = 0\n",
    "\n",
    "# Print Player.MAX_POSITION  \n",
    "print(Player.MAX_POSITION)\n",
    "\n",
    "# Create a player p and print its MAX_POSITITON\n",
    "p = Player()\n",
    "print(p.MAX_POSITION)"
   ]
  },
  {
   "cell_type": "markdown",
   "metadata": {},
   "source": [
    "`Player` will have a `position attribute` and a `move()` method. The grid is limited, so the position of `Player` will have a maximal value."
   ]
  },
  {
   "cell_type": "code",
   "execution_count": 29,
   "metadata": {},
   "outputs": [
    {
     "name": "stdout",
     "output_type": "stream",
     "text": [
      "|----------\n"
     ]
    }
   ],
   "source": [
    "class Player:\n",
    "    MAX_POSITION = 10\n",
    "    MAX_SPEED = 3\n",
    "    \n",
    "    def __init__(self):\n",
    "        self.position = 0\n",
    "\n",
    "    # Add a move() method with steps parameter     \n",
    "    def move(self, steps):\n",
    "        if self.position + steps < Player.MAX_POSITION:\n",
    "           self.position = self.position + steps \n",
    "        else:\n",
    "           self.position = Player.MAX_POSITION\n",
    "    \n",
    "    # This method provides a rudimentary visualization in the console    \n",
    "    def draw(self):\n",
    "        drawing = \"-\" * self.position + \"|\" + \"-\" * (Player.MAX_POSITION - self.position)\n",
    "        print(drawing)\n",
    "\n",
    "p = Player(); p.draw()"
   ]
  },
  {
   "cell_type": "code",
   "execution_count": 26,
   "metadata": {},
   "outputs": [
    {
     "name": "stdout",
     "output_type": "stream",
     "text": [
      "----|------\n"
     ]
    }
   ],
   "source": [
    "p.move(4); p.draw()"
   ]
  },
  {
   "cell_type": "code",
   "execution_count": 27,
   "metadata": {},
   "outputs": [
    {
     "name": "stdout",
     "output_type": "stream",
     "text": [
      "---------|-\n",
      "----------|\n"
     ]
    }
   ],
   "source": [
    "p.move(5); p.draw()\n",
    "p.move(3); p.draw()"
   ]
  },
  {
   "cell_type": "markdown",
   "metadata": {},
   "source": [
    "## Changing class attributes\n",
    "You learned how to define class attributes and how to access them from class instances. So what will happen if you try to assign another value to a class attribute when accessing it from an instance? The answer is not as simple as you might think!"
   ]
  },
  {
   "cell_type": "code",
   "execution_count": 30,
   "metadata": {},
   "outputs": [
    {
     "name": "stdout",
     "output_type": "stream",
     "text": [
      "MAX_SPEED of p1 and p2 before assignment:\n",
      "MAX_SPEED of Player1: 3\n",
      "MAX_SPEED of Player2: 3\n"
     ]
    }
   ],
   "source": [
    "# Create Players p1 and p2\n",
    "p1, p2 = Player(), Player()\n",
    "\n",
    "print(\"MAX_SPEED of p1 and p2 before assignment:\")\n",
    "print(\"MAX_SPEED of Player1:\", p1.MAX_SPEED)\n",
    "print(\"MAX_SPEED of Player2:\", p2.MAX_SPEED)"
   ]
  },
  {
   "cell_type": "code",
   "execution_count": 31,
   "metadata": {
    "scrolled": true
   },
   "outputs": [
    {
     "name": "stdout",
     "output_type": "stream",
     "text": [
      "MAX_SPEED of p1 and p2 after assignment:\n",
      "MAX_SPEED of Player1: 7\n",
      "MAX_SPEED of Player2: 3\n"
     ]
    }
   ],
   "source": [
    "# Assign 7 to p1.MAX_SPEED\n",
    "p1.MAX_SPEED = 7\n",
    "\n",
    "print(\"MAX_SPEED of p1 and p2 after assignment:\")\n",
    "# Print p1.MAX_SPEED and p2.MAX_SPEED\n",
    "print(\"MAX_SPEED of Player1:\", p1.MAX_SPEED)\n",
    "print(\"MAX_SPEED of Player2:\", p2.MAX_SPEED)"
   ]
  },
  {
   "cell_type": "code",
   "execution_count": 32,
   "metadata": {},
   "outputs": [
    {
     "name": "stdout",
     "output_type": "stream",
     "text": [
      "MAX_SPEED of Player CLASS: 3\n",
      "MAX_SPEED of Player CLASS after new setting: 0\n",
      "MAX_SPEED of Player1: 7\n",
      "MAX_SPEED of Player2: 0\n"
     ]
    }
   ],
   "source": [
    "print(\"MAX_SPEED of Player CLASS:\", Player.MAX_SPEED)\n",
    "\n",
    "Player.MAX_SPEED = 0\n",
    "print(\"MAX_SPEED of Player CLASS after new setting:\", Player.MAX_SPEED)\n",
    "\n",
    "print(\"MAX_SPEED of Player1:\", p1.MAX_SPEED)\n",
    "print(\"MAX_SPEED of Player2:\", p2.MAX_SPEED)"
   ]
  },
  {
   "cell_type": "markdown",
   "metadata": {},
   "source": [
    "## Method inheritance\n",
    "Inheritance is powerful because it allows us to reuse and customize code without rewriting existing code. By calling methods of the parent class within the child class, we reuse all the code in those methods, making our code concise and manageable."
   ]
  },
  {
   "cell_type": "code",
   "execution_count": 38,
   "metadata": {},
   "outputs": [],
   "source": [
    "class Employee:\n",
    "    MIN_SALARY = 30000    \n",
    "\n",
    "    def __init__(self, name, salary=MIN_SALARY):\n",
    "        self.name = name\n",
    "        if salary >= Employee.MIN_SALARY:\n",
    "            self.salary = salary\n",
    "        else:\n",
    "            self.salary = Employee.MIN_SALARY\n",
    "\n",
    "        def give_raise(self, amount):\n",
    "            self.salary += amount\n",
    "        \n",
    "# Define a new class Manager inheriting from Employee\n",
    "class Manager(Employee):\n",
    "    pass\n",
    "\n",
    "# Define a Manager object\n",
    "mng = Manager(\"Debbie Lashko\", 86500)"
   ]
  },
  {
   "cell_type": "code",
   "execution_count": 39,
   "metadata": {},
   "outputs": [
    {
     "name": "stdout",
     "output_type": "stream",
     "text": [
      "Debbie Lashko\n",
      "86500\n"
     ]
    }
   ],
   "source": [
    "# Print mng's name\n",
    "print(mng.name)\n",
    "print(mng.salary)"
   ]
  },
  {
   "cell_type": "markdown",
   "metadata": {},
   "source": [
    "## Create a subclass\n",
    "The purpose of child classes -- or sub-classes, as they are usually called - is to customize and extend functionality of the parent class."
   ]
  },
  {
   "cell_type": "code",
   "execution_count": 42,
   "metadata": {},
   "outputs": [],
   "source": [
    "class Employee:\n",
    "    MIN_SALARY = 30000    \n",
    "\n",
    "    def __init__(self, name, salary=MIN_SALARY):\n",
    "        self.name = name\n",
    "        if salary >= Employee.MIN_SALARY:\n",
    "            self.salary = salary\n",
    "        else:\n",
    "            self.salary = Employee.MIN_SALARY\n",
    "\n",
    "        def give_raise(self, amount):\n",
    "            self.salary += amount\n",
    "        \n",
    "# MODIFY Manager class and add a display method\n",
    "class Manager(Employee):\n",
    "    def display(self):\n",
    "        print(\"Manager:\", self.name)"
   ]
  },
  {
   "cell_type": "code",
   "execution_count": 41,
   "metadata": {},
   "outputs": [
    {
     "name": "stdout",
     "output_type": "stream",
     "text": [
      "Debbie Lashko\n",
      "Manager:  Debbie Lashko\n"
     ]
    }
   ],
   "source": [
    "mng = Manager(\"Debbie Lashko\", 86500)\n",
    "print(mng.name)\n",
    "\n",
    "# Call mng.display()\n",
    "mng.display()"
   ]
  },
  {
   "cell_type": "markdown",
   "metadata": {},
   "source": [
    "In this exercise, you'll continue working with the Manager class that is inherited from the `Employee` class. You'll add new data to the class, and customize the `give_raise()` method to increase the manager's raise amount by a bonus percentage whenever they are given a raise."
   ]
  },
  {
   "cell_type": "code",
   "execution_count": 43,
   "metadata": {},
   "outputs": [],
   "source": [
    "class Employee:\n",
    "    def __init__(self, name, salary=30000):\n",
    "        self.name = name\n",
    "        self.salary = salary\n",
    "\n",
    "    def give_raise(self, amount):\n",
    "        self.salary += amount\n",
    "\n",
    "\n",
    "class Manager(Employee):\n",
    "    def display(self):\n",
    "        print(\"Manager \", self.name)\n",
    "\n",
    "    def __init__(self, name, salary=50000, project=None):\n",
    "        Employee.__init__(self, name, salary)\n",
    "        self.project = project\n",
    "\n",
    "    # Add a give_raise method\n",
    "    def give_raise(self, amount, bonus=1.05):\n",
    "        new_amount = amount * bonus\n",
    "        Employee.give_raise(self, new_amount)"
   ]
  },
  {
   "cell_type": "code",
   "execution_count": 44,
   "metadata": {},
   "outputs": [
    {
     "name": "stdout",
     "output_type": "stream",
     "text": [
      "79550.0\n",
      "81610.0\n"
     ]
    }
   ],
   "source": [
    "mngr = Manager(\"Ashta Dunbar\", 78500)\n",
    "mngr.give_raise(1000)\n",
    "print(mngr.salary)\n",
    "\n",
    "mngr.give_raise(2000, bonus=1.03)\n",
    "print(mngr.salary)"
   ]
  },
  {
   "cell_type": "markdown",
   "metadata": {},
   "source": [
    "# String representation of objects\n",
    "\n",
    "There are two special methods in Python that return a string representation of an object. `__str__()` is called when you use `print()` or `str()` on an object, and `__repr__()` is called when you use `repr()` on an object, print the object in the console without calling `print()`, or instead of `__str__()` if `__str__()` is not defined.\n",
    "\n",
    "`__str__()` is supposed to provide a \"user-friendly\" output describing an object."
   ]
  },
  {
   "cell_type": "code",
   "execution_count": 45,
   "metadata": {},
   "outputs": [
    {
     "name": "stdout",
     "output_type": "stream",
     "text": [
      "Employee name: Amar Howard\n",
      "Employee salary: 30000\n"
     ]
    }
   ],
   "source": [
    "class Employee:\n",
    "    def __init__(self, name, salary=30000):\n",
    "        self.name, self.salary = name, salary\n",
    "      \n",
    "    # Add the __str__() method\n",
    "    def __str__(self):\n",
    "        s = \"Employee name: {name}\\nEmployee salary: {salary}\".format(name=self.name, salary=self.salary)      \n",
    "        return s\n",
    "\n",
    "emp1 = Employee(\"Amar Howard\", 30000)\n",
    "print(emp1)"
   ]
  },
  {
   "cell_type": "code",
   "execution_count": 46,
   "metadata": {},
   "outputs": [
    {
     "name": "stdout",
     "output_type": "stream",
     "text": [
      "Employee name: Carolyn Ramirez\n",
      "Employee salary: 35000\n"
     ]
    }
   ],
   "source": [
    "emp2 = Employee(\"Carolyn Ramirez\", 35000)\n",
    "print(emp2)"
   ]
  },
  {
   "cell_type": "markdown",
   "metadata": {},
   "source": [
    "`__repr__(`) should return the expression that, when evaluated, will return the same object, ensuring the reproducibility of your code."
   ]
  },
  {
   "cell_type": "code",
   "execution_count": 47,
   "metadata": {},
   "outputs": [
    {
     "data": {
      "text/plain": [
       "Employee(\"Amar Howard\", 30000)"
      ]
     },
     "execution_count": 47,
     "metadata": {},
     "output_type": "execute_result"
    }
   ],
   "source": [
    "class Employee:\n",
    "    def __init__(self, name, salary=30000):\n",
    "        self.name, self.salary = name, salary\n",
    "      \n",
    "\n",
    "    def __str__(self):\n",
    "        s = \"Employee name: {name}\\nEmployee salary: {salary}\".format(name=self.name, salary=self.salary)      \n",
    "        return s\n",
    "      \n",
    "    # Add the __repr__method  \n",
    "    def __repr__(self):\n",
    "        s = \"Employee(\\\"{name}\\\", {salary})\".format(name=self.name, salary=self.salary)      \n",
    "        return s      \n",
    "\n",
    "emp1 = Employee(\"Amar Howard\", 30000)\n",
    "emp1"
   ]
  },
  {
   "cell_type": "code",
   "execution_count": 48,
   "metadata": {},
   "outputs": [
    {
     "name": "stdout",
     "output_type": "stream",
     "text": [
      "Employee(\"Carolyn Ramirez\", 35000)\n"
     ]
    }
   ],
   "source": [
    "emp2 = Employee(\"Carolyn Ramirez\", 35000)\n",
    "print(repr(emp2))"
   ]
  },
  {
   "cell_type": "markdown",
   "metadata": {},
   "source": [
    "# Polymorphic methods\n",
    "\n",
    "To design classes effectively, you need to understand how inheritance and polymorphism work together.\n",
    "\n",
    "Polymorphism ensures that the exact method called is determined dynamically based on the instance."
   ]
  },
  {
   "cell_type": "code",
   "execution_count": 22,
   "metadata": {},
   "outputs": [
    {
     "name": "stdout",
     "output_type": "stream",
     "text": [
      "Parent talking!\n",
      "Child talking!\n",
      "TalkativeChild talking!\n",
      "Parent talking!\n"
     ]
    }
   ],
   "source": [
    "class Parent:\n",
    "    def talk(self):\n",
    "        print(\"Parent talking!\")     \n",
    "\n",
    "class Child(Parent):\n",
    "    def talk(self):\n",
    "        print(\"Child talking!\")          \n",
    "\n",
    "class TalkativeChild(Parent):\n",
    "    def talk(self):\n",
    "        print(\"TalkativeChild talking!\")\n",
    "        Parent.talk(self)\n",
    "\n",
    "\n",
    "p, c, tc = Parent(), Child(), TalkativeChild()\n",
    "\n",
    "for obj in (p, c, tc):\n",
    "    obj.talk()"
   ]
  },
  {
   "cell_type": "markdown",
   "metadata": {},
   "source": [
    "What do you think would happen if Child did not implement talk()?"
   ]
  },
  {
   "cell_type": "markdown",
   "metadata": {},
   "source": [
    "# Attribute naming conventions\n",
    "In Python, all data is public. Instead of access modifiers common in languages like **Java**, **Python** uses naming conventions to communicate the developer's intention to class users, shifting the responsibility of safe class use onto the class user.\n",
    "\n",
    "Python uses underscores extensively to signal the purpose of methods and attributes. In this exercise, you will match a use case with the appropriate naming convention.\n",
    "\n",
    "- The **single leading underscore** is a convention for internal details of implementation. \n",
    "- **Double leading underscores** are used for attributes that should not be inherited to aviod name clashes in child classes. \n",
    "- Finally, **leading and trailing double underscores** are reserved for built-in methods."
   ]
  },
  {
   "cell_type": "code",
   "execution_count": 59,
   "metadata": {},
   "outputs": [],
   "source": [
    "class BetterDate:\n",
    "    \n",
    "    MAX_MONTHS = 12\n",
    "    \n",
    "    # a 'version' attribute that stores the current version of the class and shouldn't be pass to child classes\n",
    "    __MAX_DAYS = 30\n",
    "    \n",
    "    # a method thats is run whenever an object is created and/or printed\n",
    "    def __init__(self, year, month, day):\n",
    "      self.year, self.month, self.day = year, month, day\n",
    "    \n",
    "    # A helper method that checks validity of attribute's value\n",
    "    def _is_valid(self):\n",
    "        return (self.day <= BetterDate.__MAX_DAYS) and \\\n",
    "               (self.month <= BetterDate.MAX_MONTHS)"
   ]
  },
  {
   "cell_type": "code",
   "execution_count": 58,
   "metadata": {},
   "outputs": [
    {
     "data": {
      "text/plain": [
       "False"
      ]
     },
     "execution_count": 58,
     "metadata": {},
     "output_type": "execute_result"
    }
   ],
   "source": [
    "bd2 = BetterDate(2020, 6, 45)\n",
    "bd2._is_valid()"
   ]
  },
  {
   "cell_type": "code",
   "execution_count": null,
   "metadata": {},
   "outputs": [],
   "source": [
    "bd2. # go to end of dot and press tab"
   ]
  }
 ],
 "metadata": {
  "kernelspec": {
   "display_name": "Python 3",
   "language": "python",
   "name": "python3"
  },
  "language_info": {
   "codemirror_mode": {
    "name": "ipython",
    "version": 3
   },
   "file_extension": ".py",
   "mimetype": "text/x-python",
   "name": "python",
   "nbconvert_exporter": "python",
   "pygments_lexer": "ipython3",
   "version": "3.8.3"
  }
 },
 "nbformat": 4,
 "nbformat_minor": 2
}
