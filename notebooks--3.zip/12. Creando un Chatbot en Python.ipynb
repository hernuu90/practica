{
 "cells": [
  {
   "cell_type": "markdown",
   "metadata": {},
   "source": [
    "# EchoBot I\n",
    "## Hello, World!\n",
    "\n",
    "You'll begin learning how to build chatbots in Python by writing two functions to build the simplest bot possible: EchoBot. \n",
    "\n",
    "EchoBot just responds by replying with the same message it receives."
   ]
  },
  {
   "cell_type": "code",
   "execution_count": 2,
   "metadata": {},
   "outputs": [
    {
     "name": "stdout",
     "output_type": "stream",
     "text": [
      "I can hear you! You said: hello!\n"
     ]
    }
   ],
   "source": [
    "# Define a function that responds to a user's message: respond\n",
    "def respond(message):\n",
    "    # Concatenate the user's message to the end of a standard bot respone\n",
    "    bot_message = \"I can hear you! You said: \" + message\n",
    "    # Return the result\n",
    "    return bot_message\n",
    "\n",
    "print(respond(\"hello!\"))"
   ]
  },
  {
   "cell_type": "code",
   "execution_count": 3,
   "metadata": {},
   "outputs": [
    {
     "name": "stdout",
     "output_type": "stream",
     "text": [
      "USER : hello\n",
      "BOT : I can hear you! You said: hello\n"
     ]
    }
   ],
   "source": [
    "#EchoBot II\n",
    "# Create templates\n",
    "bot_template = \"BOT : {0}\"\n",
    "user_template = \"USER : {0}\"\n",
    "\n",
    "# Define a function that sends a message to the bot: send_message\n",
    "def send_message(message):\n",
    "    # Print user_template including the user_message\n",
    "    print(user_template.format(message))\n",
    "    \n",
    "    # Get the bot's response to the message\n",
    "    response = respond(message)\n",
    "    \n",
    "    # Print the bot template including the bot's response.\n",
    "    print(bot_template.format(response))\n",
    "\n",
    "# Send a message to the bot\n",
    "send_message(\"hello\")"
   ]
  },
  {
   "cell_type": "markdown",
   "metadata": {},
   "source": [
    "## Chitchat\n",
    "Now you're going to leave the simple EchoBot behind and create a bot which can answer simple questions such as \"What's your name?\" and \"What's today's weather?\"\n",
    "\n",
    "You'll use a dictionary with these questions as keys and the correct responses as values.\n",
    "\n",
    "This means the bot will only respond correctly if the message matches exactly, which is a big limitation. In later exercises you will create much more robust solutions."
   ]
  },
  {
   "cell_type": "code",
   "execution_count": 4,
   "metadata": {},
   "outputs": [
    {
     "name": "stdout",
     "output_type": "stream",
     "text": [
      "the weather is cloudy\n",
      "my name is Greg\n",
      "i don't know!\n"
     ]
    }
   ],
   "source": [
    "# Define variables\n",
    "name = \"Greg\"\n",
    "weather = \"cloudy\"\n",
    "\n",
    "# Define a dictionary with the predefined responses\n",
    "responses = {\n",
    "  \"what's your name?\": \"my name is {0}\".format(name),\n",
    "  \"what's today's weather?\": \"the weather is {0}\".format(weather),\n",
    "  \"default\": \"i don't know!\"\n",
    "}\n",
    "\n",
    "# Return the matching response if there is one, default otherwise\n",
    "def respond(message):\n",
    "    # Check if the message is in the responses\n",
    "    if message in responses:\n",
    "        # Return the matching message\n",
    "        bot_message = responses[message]\n",
    "    else:\n",
    "        # Return the \"default\" message\n",
    "        bot_message = responses[\"default\"]\n",
    "    return bot_message\n",
    "    \n",
    "print(respond(\"what's today's weather?\"))\n",
    "print(respond(\"what's your name?\"))\n",
    "print(respond(\"what's your favorite color?\"))"
   ]
  },
  {
   "cell_type": "markdown",
   "metadata": {},
   "source": [
    "## Adding variety\n",
    "It can get a little boring hearing the same old answers over and over. In this exercise, you'll add some variation. If you ask your bot how it's feeling, the likelihood that it responds with \"oh I'm great!\" or \"I'm very sad today\" should be equal.\n",
    "\n",
    "Here, you'll use the random module - specifically `random.choice(ls)` - which randomly selects an element from a list `ls`.\n",
    "\n",
    "A dictionary called responses, which maps each message to a list of possible responses, has been defined for you."
   ]
  },
  {
   "cell_type": "code",
   "execution_count": 6,
   "metadata": {},
   "outputs": [],
   "source": [
    "# Import the random module\n",
    "import random"
   ]
  },
  {
   "cell_type": "code",
   "execution_count": 5,
   "metadata": {},
   "outputs": [],
   "source": [
    "name = \"Greg\"\n",
    "weather = \"cloudy\"\n",
    "\n",
    "# Define a dictionary containing a list of responses for each message\n",
    "responses = {\n",
    "  \"what's your name?\": [\"my name is {0}\".format(name),\n",
    "                        \"they call me {0}\".format(name),\n",
    "                        \"I go by {0}\".format(name)],\n",
    "    \n",
    "  \"what's today's weather?\": [\"the weather is {0}\".format(weather),\n",
    "                              \"it's {0} today\".format(weather)],\n",
    "    \n",
    "  \"default\": [\"i'm not available, try later!\", \n",
    "              \"i don't know\",\n",
    "              \"talk to you later\"]\n",
    "}"
   ]
  },
  {
   "cell_type": "code",
   "execution_count": 7,
   "metadata": {},
   "outputs": [],
   "source": [
    "# Use random.choice() to choose a matching response\n",
    "def respond(message):\n",
    "    # Check if the message is in the responses\n",
    "    if message in responses:\n",
    "        # Return a random matching response\n",
    "        bot_message = random.choice(responses[message])\n",
    "    else:\n",
    "        # Return a random \"default\" response\n",
    "        bot_message = random.choice(responses[\"default\"])\n",
    "    return bot_message"
   ]
  },
  {
   "cell_type": "code",
   "execution_count": 8,
   "metadata": {},
   "outputs": [
    {
     "name": "stdout",
     "output_type": "stream",
     "text": [
      "i don't know\n",
      "i'm not available, try later!\n",
      "talk to you later\n"
     ]
    }
   ],
   "source": [
    "print(respond('Hi!'))\n",
    "print(respond('Hi!'))\n",
    "print(respond('Hi!'))"
   ]
  },
  {
   "cell_type": "code",
   "execution_count": 9,
   "metadata": {},
   "outputs": [
    {
     "name": "stdout",
     "output_type": "stream",
     "text": [
      "I go by Greg\n",
      "my name is Greg\n",
      "my name is Greg\n"
     ]
    }
   ],
   "source": [
    "print(respond(\"what's your name?\"))\n",
    "print(respond(\"what's your name?\"))\n",
    "print(respond(\"what's your name?\"))"
   ]
  },
  {
   "cell_type": "markdown",
   "metadata": {},
   "source": [
    "## ELIZA I: asking questions\n",
    "Asking questions is a great way to create an engaging conversation. Here, you'll create the very first hint of ELIZA's famous personality, by responding to statements with a question and responding to questions with answers."
   ]
  },
  {
   "cell_type": "code",
   "execution_count": 10,
   "metadata": {},
   "outputs": [],
   "source": [
    "responses = {'question': [\"I don't know :(\", 'you tell me!'],\n",
    "             \n",
    "             'statement': ['tell me more!',\n",
    "                           'why do you think that?',\n",
    "                           'how long have you felt this way?',\n",
    "                           'I find that extremely interesting',\n",
    "                           'can you back that up?',\n",
    "                           'oh wow!',\n",
    "                           ':)']}"
   ]
  },
  {
   "cell_type": "code",
   "execution_count": 11,
   "metadata": {},
   "outputs": [],
   "source": [
    "def respond(message):\n",
    "    # Check for a question mark\n",
    "    if message.endswith('?'):\n",
    "        # Return a random question\n",
    "        return random.choice(responses[\"question\"])\n",
    "    # Return a random statement\n",
    "    return random.choice(responses[\"statement\"])"
   ]
  },
  {
   "cell_type": "code",
   "execution_count": 14,
   "metadata": {},
   "outputs": [
    {
     "name": "stdout",
     "output_type": "stream",
     "text": [
      "USER : what's today's weather?\n",
      "BOT : you tell me!\n",
      "\n",
      "USER : what's today's weather?\n",
      "BOT : I don't know :(\n"
     ]
    }
   ],
   "source": [
    "# Send messages ending in a question mark\n",
    "send_message(\"what's today's weather?\")\n",
    "print()\n",
    "send_message(\"what's today's weather?\")"
   ]
  },
  {
   "cell_type": "code",
   "execution_count": 15,
   "metadata": {},
   "outputs": [
    {
     "name": "stdout",
     "output_type": "stream",
     "text": [
      "USER : I love building chatbots\n",
      "BOT : how long have you felt this way?\n",
      "\n",
      "USER : I love building chatbots\n",
      "BOT : why do you think that?\n"
     ]
    }
   ],
   "source": [
    "# Send messages which don't end with a question mark\n",
    "send_message(\"I love building chatbots\")\n",
    "print()\n",
    "send_message(\"I love building chatbots\")"
   ]
  },
  {
   "cell_type": "markdown",
   "metadata": {},
   "source": [
    "## ELIZA II: Extracting key phrases\n",
    "The really clever thing about ELIZA is the way the program appears to understand what you told it by occasionally including phrases uttered by the user in its responses."
   ]
  },
  {
   "cell_type": "code",
   "execution_count": 16,
   "metadata": {},
   "outputs": [],
   "source": [
    "rules = {'I want (.*)': ['What would it mean if you got {0}',\n",
    "                         'Why do you want {0}',\n",
    "                         \"What's stopping you from getting {0}\"],\n",
    "         \n",
    "         'do you remember (.*)': ['Did you think I would forget {0}',\n",
    "                                  \"Why haven't you been able to forget {0}\",\n",
    "                                  'What about {0}',\n",
    "                                  'Yes .. and?'],\n",
    "         \n",
    "         'do you think (.*)': ['if {0}? Absolutely.', 'No chance'],\n",
    "         \n",
    "         'if (.*)': [\"Do you really think it's likely that {0}\",\n",
    "                     'Do you wish that {0}',\n",
    "                     'What do you think about {0}',\n",
    "                     'Really--if {0}']\n",
    "        }"
   ]
  },
  {
   "cell_type": "code",
   "execution_count": 17,
   "metadata": {},
   "outputs": [],
   "source": [
    "import re"
   ]
  },
  {
   "cell_type": "code",
   "execution_count": 18,
   "metadata": {},
   "outputs": [],
   "source": [
    "# Define match_rule()\n",
    "def match_rule(rules, message):\n",
    "    response, phrase = \"default\", None\n",
    "    \n",
    "    # Iterate over the rules dictionary\n",
    "    for pattern, responses in rules.items():\n",
    "        # Create a match object\n",
    "        match = re.search(pattern, message)\n",
    "        if match is not None:\n",
    "            # Choose a random response\n",
    "            response = random.choice(responses)\n",
    "            if '{0}' in response:\n",
    "                phrase = match.group(1)\n",
    "    # Return the response and phrase\n",
    "    return response.format(phrase)"
   ]
  },
  {
   "cell_type": "code",
   "execution_count": 21,
   "metadata": {},
   "outputs": [
    {
     "name": "stdout",
     "output_type": "stream",
     "text": [
      "What about your last birthday?\n"
     ]
    }
   ],
   "source": [
    "# Test match_rule\n",
    "print(match_rule(rules, \"do you remember your last birthday?\"))"
   ]
  },
  {
   "cell_type": "markdown",
   "metadata": {},
   "source": [
    "# ELIZA III"
   ]
  },
  {
   "cell_type": "code",
   "execution_count": 26,
   "metadata": {},
   "outputs": [],
   "source": [
    "# Define replace_pronouns()\n",
    "def replace_pronouns(message):\n",
    "    message = message.lower()\n",
    "    if 'me' in message:\n",
    "        # Replace 'me' with 'you'\n",
    "        return re.sub('me', 'you', message)\n",
    "    if 'my' in message:\n",
    "        # Replace 'my' with 'your'\n",
    "        return re.sub('my', 'your', message)\n",
    "    if 'your' in message:\n",
    "        # Replace 'your' with 'my'\n",
    "        return re.sub('your', 'my', message)\n",
    "    if 'you' in message:\n",
    "        # Replace 'you' with 'me'\n",
    "        return re.sub('you', 'me', message)\n",
    "    return message"
   ]
  },
  {
   "cell_type": "code",
   "execution_count": 27,
   "metadata": {},
   "outputs": [
    {
     "name": "stdout",
     "output_type": "stream",
     "text": [
      "your last birthday\n",
      "when me went to florida\n",
      "i had your own castle\n"
     ]
    }
   ],
   "source": [
    "print(replace_pronouns(\"my last birthday\"))\n",
    "print(replace_pronouns(\"when you went to Florida\"))\n",
    "print(replace_pronouns(\"I had my own castle\"))"
   ]
  },
  {
   "cell_type": "code",
   "execution_count": 47,
   "metadata": {},
   "outputs": [],
   "source": [
    "# Define respond()\n",
    "def match_rule(rules, message):\n",
    "    response, phrase = \"default\", None\n",
    "    \n",
    "    # Iterate over the rules dictionary\n",
    "    for pattern, responses in rules.items():\n",
    "        # Create a match object\n",
    "        match = re.search(pattern, message)\n",
    "        if match is not None:\n",
    "            # Choose a random response\n",
    "            response = random.choice(responses)\n",
    "            phrase = match.group(1)\n",
    "                \n",
    "    # Return the response and phrase\n",
    "    return response, phrase"
   ]
  },
  {
   "cell_type": "code",
   "execution_count": 39,
   "metadata": {},
   "outputs": [],
   "source": [
    "def respond(message):\n",
    "    # Call match_rule\n",
    "    response, phrase = match_rule(rules, message)\n",
    "    if '{0}' in response:\n",
    "        # Replace the pronouns in the phrase\n",
    "        phrase = replace_pronouns(phrase)\n",
    "        # Include the phrase in the response\n",
    "        response = response.format(phrase)\n",
    "    print(response)"
   ]
  },
  {
   "cell_type": "code",
   "execution_count": 62,
   "metadata": {},
   "outputs": [],
   "source": [
    "def respond(message):\n",
    "    # Call match_rule\n",
    "    response, phrase = match_rule(rules, message)\n",
    "    if '{0}' in response:\n",
    "        # Replace the pronouns in the phrase\n",
    "        phrase = replace_pronouns(phrase)\n",
    "        # Include the phrase in the response\n",
    "        response = response.format(phrase)\n",
    "    print(response)"
   ]
  },
  {
   "cell_type": "code",
   "execution_count": 65,
   "metadata": {},
   "outputs": [
    {
     "name": "stdout",
     "output_type": "stream",
     "text": [
      "What about your last birthday\n",
      "\n",
      "No chance\n",
      "\n",
      "What's stopping you from getting a robot friend\n",
      "\n",
      "Really--if me could be anything me wanted?\n"
     ]
    }
   ],
   "source": [
    "# Send the messages\n",
    "respond(\"do you remember my last birthday\")\n",
    "print()\n",
    "respond(\"do you think humans should be worried about AI?\")\n",
    "print()\n",
    "respond(\"I want a robot friend\")\n",
    "print()\n",
    "respond(\"what if you could be anything you wanted?\")"
   ]
  },
  {
   "cell_type": "code",
   "execution_count": 37,
   "metadata": {},
   "outputs": [
    {
     "name": "stdout",
     "output_type": "stream",
     "text": [
      "hola, soy un robot, como te llamas ? : j\n",
      "cuantos años tenes ? : 6\n",
      "años, mira vos que bueno\n",
      " que te gusta hacer ? 6\n"
     ]
    }
   ],
   "source": [
    "saludo1= str(input('hola, soy un robot, como te llamas ? : ')) ; # print('lll')\n",
    "edad = input('cuantos años tenes ? : '); #print('ahhh, que bueno, sos mas chica que yo')\n",
    "edad1=str(edad); print('años, mira vos que bueno')\n",
    "saludo3= input ( ' que te gusta hacer ? ')\n",
    "if 'mirar' in saludo3:\n",
    "    print('a mi tambien, miro dragon ball en la tele');\n",
    "if'cole' in saludo3:\n",
    "    print('que bueno que te guste el colegioooo!!')\n",
    "if 'nada' in saludo3:\n",
    "    print('ayyyy que aburridaaaaa')\n",
    "   "
   ]
  },
  {
   "cell_type": "code",
   "execution_count": null,
   "metadata": {},
   "outputs": [],
   "source": []
  }
 ],
 "metadata": {
  "kernelspec": {
   "display_name": "Python 3",
   "language": "python",
   "name": "python3"
  },
  "language_info": {
   "codemirror_mode": {
    "name": "ipython",
    "version": 3
   },
   "file_extension": ".py",
   "mimetype": "text/x-python",
   "name": "python",
   "nbconvert_exporter": "python",
   "pygments_lexer": "ipython3",
   "version": "3.8.3"
  }
 },
 "nbformat": 4,
 "nbformat_minor": 2
}
