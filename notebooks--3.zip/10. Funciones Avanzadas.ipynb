{
 "cells": [
  {
   "cell_type": "markdown",
   "metadata": {},
   "source": [
    " # DOCSTRINGS\n",
    " Writing Functions in Python will give you a strong foundation in writing complex and beautiful functions so that you can contribute research and engineering skills to your team. You'll learn useful tricks, like how to write context managers and decorators. You'll also learn best practices around how to write maintainable reusable functions with good documentation. They say that people who can do good research and write high-quality code are unicorns. Take this course and discover the magic!"
   ]
  },
  {
   "cell_type": "code",
   "execution_count": 4,
   "metadata": {},
   "outputs": [],
   "source": [
    "# Add a docstring to count_letter()\n",
    "def count_letter(content, letter):\n",
    "  '''\n",
    "    Count the number of times `letter` appears in `content`.\n",
    "  '''\n",
    "  if (not isinstance(letter, str)) or len(letter) != 1:\n",
    "    raise ValueError('`letter` must be a single character string.')\n",
    "  return len([char for char in content if char == letter])"
   ]
  },
  {
   "cell_type": "code",
   "execution_count": 3,
   "metadata": {},
   "outputs": [
    {
     "name": "stdout",
     "output_type": "stream",
     "text": [
      "############################\n",
      "\n",
      "    Count the number of times `letter` appears in `content`.\n",
      "  \n",
      "############################\n"
     ]
    }
   ],
   "source": [
    "# Get the docstring with an attribute of count_letter()\n",
    "docstring = count_letter.__doc__\n",
    "\n",
    "border = '#' * 28\n",
    "print('{}\\n{}\\n{}'.format(border, docstring, border))"
   ]
  },
  {
   "cell_type": "code",
   "execution_count": 5,
   "metadata": {},
   "outputs": [],
   "source": [
    "def build_tooltip(function):\n",
    "  \"\"\"Create a tooltip for any function that shows the \n",
    "  function's docstring.\n",
    "  \n",
    "  Args:\n",
    "    function (callable): The function we want a tooltip for.\n",
    "    \n",
    "  Returns:\n",
    "    str\n",
    "  \"\"\"\n",
    "  # Use 'inspect' to get the docstring\n",
    "  docstring = inspect.getdoc(function)\n",
    "  border = '#' * 28\n",
    "  return '{}\\n{}\\n{}'.format(border, docstring, border)\n"
   ]
  },
  {
   "cell_type": "markdown",
   "metadata": {},
   "source": [
    "# DRY: DO NOT REPEAT YOURSELF\n",
    "Writing a function to calculate the z-scores would improve this code.\n",
    "\n",
    "## Standardize the GPAs for each year\n",
    "`df['y1_z'] = (df.y1_gpa - df.y1_gpa.mean()) / df.y1_gpa.std()`<br>\n",
    "`df['y2_z'] = (df.y2_gpa - df.y2_gpa.mean()) / df.y2_gpa.std()`<br>\n",
    "`df['y3_z'] = (df.y3_gpa - df.y3_gpa.mean()) / df.y3_gpa.std()`<br>\n",
    "`df['y4_z'] = (df.y4_gpa - df.y4_gpa.mean()) / df.y4_gpa.std()`<br>"
   ]
  },
  {
   "cell_type": "code",
   "execution_count": 1,
   "metadata": {},
   "outputs": [
    {
     "data": {
      "text/html": [
       "<div>\n",
       "<style scoped>\n",
       "    .dataframe tbody tr th:only-of-type {\n",
       "        vertical-align: middle;\n",
       "    }\n",
       "\n",
       "    .dataframe tbody tr th {\n",
       "        vertical-align: top;\n",
       "    }\n",
       "\n",
       "    .dataframe thead th {\n",
       "        text-align: right;\n",
       "    }\n",
       "</style>\n",
       "<table border=\"1\" class=\"dataframe\">\n",
       "  <thead>\n",
       "    <tr style=\"text-align: right;\">\n",
       "      <th></th>\n",
       "      <th>y1_gpa</th>\n",
       "      <th>y2_gpa</th>\n",
       "      <th>y3_gpa</th>\n",
       "      <th>y4_gpa</th>\n",
       "    </tr>\n",
       "  </thead>\n",
       "  <tbody>\n",
       "    <tr>\n",
       "      <td>0</td>\n",
       "      <td>2.785877</td>\n",
       "      <td>2.052513</td>\n",
       "      <td>2.170544</td>\n",
       "      <td>0.065570</td>\n",
       "    </tr>\n",
       "    <tr>\n",
       "      <td>1</td>\n",
       "      <td>1.144557</td>\n",
       "      <td>2.666498</td>\n",
       "      <td>0.267098</td>\n",
       "      <td>2.884737</td>\n",
       "    </tr>\n",
       "    <tr>\n",
       "      <td>2</td>\n",
       "      <td>0.907406</td>\n",
       "      <td>0.423634</td>\n",
       "      <td>2.613459</td>\n",
       "      <td>0.030950</td>\n",
       "    </tr>\n",
       "    <tr>\n",
       "      <td>3</td>\n",
       "      <td>2.205259</td>\n",
       "      <td>0.523580</td>\n",
       "      <td>3.984345</td>\n",
       "      <td>0.339289</td>\n",
       "    </tr>\n",
       "    <tr>\n",
       "      <td>4</td>\n",
       "      <td>2.877876</td>\n",
       "      <td>1.287922</td>\n",
       "      <td>3.077589</td>\n",
       "      <td>0.901994</td>\n",
       "    </tr>\n",
       "  </tbody>\n",
       "</table>\n",
       "</div>"
      ],
      "text/plain": [
       "     y1_gpa    y2_gpa    y3_gpa    y4_gpa\n",
       "0  2.785877  2.052513  2.170544  0.065570\n",
       "1  1.144557  2.666498  0.267098  2.884737\n",
       "2  0.907406  0.423634  2.613459  0.030950\n",
       "3  2.205259  0.523580  3.984345  0.339289\n",
       "4  2.877876  1.287922  3.077589  0.901994"
      ]
     },
     "execution_count": 1,
     "metadata": {},
     "output_type": "execute_result"
    }
   ],
   "source": [
    "import pandas as pd\n",
    "\n",
    "df = pd.read_csv('../data/10. Funciones Avanzadas/gpa2.txt')\n",
    "df.head()"
   ]
  },
  {
   "cell_type": "code",
   "execution_count": 2,
   "metadata": {},
   "outputs": [],
   "source": [
    "def standardize(column):\n",
    "  \"\"\"Standardize the values in a column.\n",
    "\n",
    "  Args:\n",
    "    column (pandas Series): The data to standardize.\n",
    "\n",
    "  Returns:\n",
    "    pandas Series: the values as z-scores\n",
    "  \"\"\"\n",
    "  # Finish the function so that it returns the z-scores\n",
    "  z_score = (column - column.mean()) / column.std()\n",
    "  return z_score\n",
    "\n",
    "# Use the standardize() function to calculate the z-scores\n",
    "df['y1_z'] = standardize(df['y1_gpa'])\n",
    "df['y2_z'] = standardize(df['y2_gpa'])\n",
    "df['y3_z'] = standardize(df['y3_gpa'])\n",
    "df['y4_z'] = standardize(df['y4_gpa'])"
   ]
  },
  {
   "cell_type": "markdown",
   "metadata": {},
   "source": [
    "# Split up a function\n",
    "```\n",
    "def mean_and_median(values):\n",
    "  \"\"\"Get the mean and median of a list of values\n",
    "\n",
    "  Args:\n",
    "    values (iterable of float): A list of numbers\n",
    "\n",
    "  Returns:\n",
    "    tuple (float, float): The mean and median\n",
    "  \"\"\"\n",
    "  mean = sum(values) / len(values)\n",
    "  midpoint = int(len(values) / 2)\n",
    "  if len(values) % 2 == 0:\n",
    "    median = (values[midpoint - 1] + values[midpoint]) / 2\n",
    "  else:\n",
    "    median = values[midpoint]\n",
    "\n",
    "  return mean, median```"
   ]
  },
  {
   "cell_type": "code",
   "execution_count": 9,
   "metadata": {},
   "outputs": [],
   "source": [
    "def mean(values):\n",
    "    \"\"\"Get the mean of a list of values\n",
    "    Args:\n",
    "        values (iterable of float): A list of numbers\n",
    "\n",
    "    Returns: float\n",
    "    \"\"\"\n",
    "  # Write the mean() function\n",
    "  mean = sum(values) / len(values)\n",
    "  return mean"
   ]
  },
  {
   "cell_type": "code",
   "execution_count": 10,
   "metadata": {},
   "outputs": [],
   "source": [
    "def median(values):\n",
    "    \"\"\"Get the median of a list of values\n",
    "    Args:\n",
    "        values (iterable of float): A list of numbers\n",
    "    \n",
    "    Returns: float\n",
    "    \"\"\"\n",
    "    # Write the median() function\n",
    "    sorted_values =  sorted(values)\n",
    "    midpoint = int(len(sorted_values) / 2)\n",
    "    if len(sorted_values) % 2 == 0:\n",
    "        median = (sorted_values[midpoint - 1] + sorted_values[midpoint]) / 2\n",
    "    else:\n",
    "        median = sorted_values[midpoint]\n",
    "    return median"
   ]
  },
  {
   "cell_type": "code",
   "execution_count": 11,
   "metadata": {},
   "outputs": [],
   "source": [
    "# Best practice for default arguments\n",
    "\n",
    "# Use an immutable variable for the default argument \n",
    "def better_add_column(values, df=None):\n",
    "    \"\"\"Add a column of `values` to a DataFrame `df`.\n",
    "    The column will be named \"col_<n>\" where \"n\" is\n",
    "    the numerical index of the column.\n",
    "    \n",
    "    Args:\n",
    "    values (iterable): The values of the new column\n",
    "    df (DataFrame, optional): The DataFrame to update.\n",
    "      If no DataFrame is passed, one is created by default.\n",
    "      Returns:\n",
    "      DataFrame\n",
    "      \"\"\"\n",
    "  # Update the function to create a default DataFrame\n",
    "    if df is None:\n",
    "        df = pandas.DataFrame()\n",
    "    df['col_{}'.format(len(df.columns))] = values\n",
    "    return df"
   ]
  },
  {
   "cell_type": "code",
   "execution_count": 4,
   "metadata": {},
   "outputs": [
    {
     "name": "stdout",
     "output_type": "stream",
     "text": [
      "Lewis Carroll uses the word \"cat\" 24 times\n"
     ]
    }
   ],
   "source": [
    "# Open \"alice.txt\" and assign the file to \"file\"\n",
    "with open('../data/10. Funciones Avanzadas/alice.txt', encoding=\"utf8\") as file:\n",
    "    text = file.read()\n",
    "\n",
    "n = 0\n",
    "for word in text.split():\n",
    "    if word.lower() in ['cat', 'cats']:\n",
    "        n += 1\n",
    "\n",
    "print('Lewis Carroll uses the word \"cat\" {} times'.format(n))"
   ]
  },
  {
   "cell_type": "code",
   "execution_count": 5,
   "metadata": {},
   "outputs": [
    {
     "name": "stdout",
     "output_type": "stream",
     "text": [
      "5 + 2 = 7\n",
      "5 - 2 = 3\n"
     ]
    }
   ],
   "source": [
    "def create_math_function(func_name):\n",
    "    if func_name == 'add':\n",
    "        def add(a, b):\n",
    "            return a + b\n",
    "        return add\n",
    "    elif func_name == 'subtract':\n",
    "    # Define the subtract() function\n",
    "        def subtract(a, b):\n",
    "            return a - b\n",
    "        return subtract\n",
    "    else:\n",
    "        print(\"I don't know that one\")\n",
    "    \n",
    "add = create_math_function('add')\n",
    "print('5 + 2 = {}'.format(add(5, 2)))\n",
    "\n",
    "subtract = create_math_function('subtract')\n",
    "print('5 - 2 = {}'.format(subtract(5, 2)))"
   ]
  },
  {
   "cell_type": "markdown",
   "metadata": {},
   "source": [
    "# DECORATORS\n",
    "By definition, a decorator is a function that takes another function and extends the behavior of the latter function without explicitly modifying it."
   ]
  },
  {
   "cell_type": "code",
   "execution_count": 8,
   "metadata": {},
   "outputs": [],
   "source": [
    "def print_before_and_after(func):\n",
    "    def wrapper(*args):\n",
    "        print('Before {}'.format(func.__name__))\n",
    "        # Call the function being decorated with *args\n",
    "        func(*args)\n",
    "        print('After {}'.format(func.__name__))\n",
    "    # Return the nested function\n",
    "    return wrapper"
   ]
  },
  {
   "cell_type": "code",
   "execution_count": 9,
   "metadata": {},
   "outputs": [
    {
     "name": "stdout",
     "output_type": "stream",
     "text": [
      "Before multiply\n",
      "50\n",
      "After multiply\n"
     ]
    }
   ],
   "source": [
    "@print_before_and_after\n",
    "def multiply(a, b):\n",
    "    print(a * b)\n",
    "\n",
    "multiply(5, 10)"
   ]
  },
  {
   "cell_type": "markdown",
   "metadata": {},
   "source": [
    "**Put simply**: decorators wrap a function, modifying its behavior."
   ]
  },
  {
   "cell_type": "code",
   "execution_count": 11,
   "metadata": {},
   "outputs": [],
   "source": [
    "def print_return_type(func):\n",
    "    # Define wrapper(), the decorated function\n",
    "    def wrapper(*args, **kargs):\n",
    "        # Call the function being decorated\n",
    "        result = func(*args, **kargs)\n",
    "        print('{}() returned type {}'.format(func.__name__, type(result)))\n",
    "        return result\n",
    "    # Return the decorated function\n",
    "    return wrapper"
   ]
  },
  {
   "cell_type": "code",
   "execution_count": 13,
   "metadata": {},
   "outputs": [
    {
     "name": "stdout",
     "output_type": "stream",
     "text": [
      "foo() returned type <class 'int'>\n",
      "42\n"
     ]
    }
   ],
   "source": [
    "@print_return_type\n",
    "def foo(value):\n",
    "    return value\n",
    "  \n",
    "print(foo(42))"
   ]
  },
  {
   "cell_type": "code",
   "execution_count": 14,
   "metadata": {},
   "outputs": [
    {
     "name": "stdout",
     "output_type": "stream",
     "text": [
      "foo() returned type <class 'list'>\n",
      "[1, 2, 3]\n"
     ]
    }
   ],
   "source": [
    "print(foo([1, 2, 3]))"
   ]
  },
  {
   "cell_type": "code",
   "execution_count": 15,
   "metadata": {},
   "outputs": [
    {
     "name": "stdout",
     "output_type": "stream",
     "text": [
      "foo() returned type <class 'dict'>\n",
      "{'a': 42}\n"
     ]
    }
   ],
   "source": [
    "print(foo({'a': 42}))"
   ]
  },
  {
   "cell_type": "markdown",
   "metadata": {},
   "source": [
    "# LAMBDA FUNCTIONS"
   ]
  },
  {
   "cell_type": "markdown",
   "metadata": {},
   "source": [
    "### Writing a lambda function you already know\n",
    "Some function definitions are simple enough that they can be converted to a lambda function. By doing this, you write less lines of code, which is pretty awesome and will come in handy, especially when you're writing and maintaining big programs. In this exercise, you will use what you know about lambda functions to convert a function that does a simple task into a lambda function. Take a look at this function definition:\n",
    "\n",
    "`def echo_word(word1, echo):\n",
    "    \"\"\"Concatenate echo copies of word1.\"\"\"\n",
    "    words = word1 * echo\n",
    "    return words`\n",
    "    \n",
    "The function `echo_word` takes 2 parameters: a string value, `word1` and an integer value, `echo`. It returns a string that is a concatenation of echo copies of word1. Your task is to convert this simple function into a `lambda` function."
   ]
  },
  {
   "cell_type": "code",
   "execution_count": 17,
   "metadata": {},
   "outputs": [
    {
     "name": "stdout",
     "output_type": "stream",
     "text": [
      "heyheyheyheyhey\n"
     ]
    }
   ],
   "source": [
    "# Define echo_word as a lambda function: echo_word\n",
    "echo_word = (lambda word1, echo: word1 * echo)\n",
    "\n",
    "# Call echo_word: result\n",
    "result = echo_word('hey', 5)\n",
    "\n",
    "# Print result\n",
    "print(result)"
   ]
  },
  {
   "cell_type": "markdown",
   "metadata": {},
   "source": [
    "## Map() and lambda functions\n",
    "So far, you've used lambda functions to write short, simple functions as well as to redefine functions with simple functionality. The best use case for `lambda` functions, however, are for when you want these simple functionalities to be anonymously embedded within larger expressions. What that means is that the functionality is not stored in the environment, unlike a function defined with `def`. To understand this idea better, you will use a lambda function in the context of the `map()` function.\n",
    "\n",
    "Recall that `map()` applies a function over an object, such as a list. Here, you can use lambda functions to define the function that `map()` will use to process the object. For example:\n",
    "\n",
    "`nums = [2, 4, 6, 8, 10]`\n",
    "\n",
    "`result = map(lambda a: a ** 2, nums)`\n",
    "\n",
    "You can see here that a lambda function, which raises a value a to the power of 2, is passed to `map()` alongside a list of numbers, `nums`. The map object that results from the call to `map()` is stored in result. You will now practice the use of `lambda` functions with `map()`. For this exercise, you will map the functionality of the `add_bangs()` function you defined in previous exercises over a list of strings."
   ]
  },
  {
   "cell_type": "code",
   "execution_count": 2,
   "metadata": {},
   "outputs": [
    {
     "name": "stdout",
     "output_type": "stream",
     "text": [
      "['proteus!!!', 'magia8!!!', 'exito!!!', 'hakuna!!!']\n",
      "['protego!!!', 'accio!!!', 'expecto patronum!!!', 'legilimens!!!']\n"
     ]
    }
   ],
   "source": [
    "# Create a list of strings: spells\n",
    "spells = [\"protego\", \"accio\", \"expecto patronum\", \"legilimens\"]\n",
    "\n",
    "# Use map() to apply a lambda function over spells: shout_spells\n",
    "shout_spells = map(lambda a: a + '!!!', spells)\n",
    "\n",
    "# Convert shout_spells to a list: shout_spells_list\n",
    "shout_spells_list = list(shout_spells)\n",
    "\n",
    "hechizos=['proteus','magia8','exito','hakuna']\n",
    "muestra_hechizos= map(lambda b:b + '!!!', hechizos)\n",
    "listahechizos= list (muestra_hechizos)\n",
    "print(listahechizos)\n",
    "# print it\n",
    "print(shout_spells_list)"
   ]
  },
  {
   "cell_type": "markdown",
   "metadata": {},
   "source": [
    "## Filter() and lambda functions\n",
    "In the previous exercise, you used lambda functions to anonymously embed an operation within `map()`. You will practice this again in this exercise by using a lambda function with `filter()`, which may be new to you! The function `filter()` offers a way to filter out elements from a list that don't satisfy certain criteria.\n",
    "\n",
    "Your goal in this exercise is to use `filter()` to create, from an input list of strings, a new list that contains only strings that have more than 6 characters."
   ]
  },
  {
   "cell_type": "code",
   "execution_count": 6,
   "metadata": {},
   "outputs": [
    {
     "name": "stdout",
     "output_type": "stream",
     "text": [
      "['goku', 'napa', 'milk', 'ub']\n",
      "['samwise', 'aragorn', 'boromir', 'legolas', 'gandalf']\n"
     ]
    }
   ],
   "source": [
    "# Create a list of strings: fellowship\n",
    "fellowship = ['frodo', 'samwise', 'merry', 'pippin', 'aragorn', 'boromir', 'legolas', 'gimli', 'gandalf']\n",
    "\n",
    "# Use filter() to apply a lambda function over fellowship: result\n",
    "result = filter(lambda a: len(a) > 6, fellowship)\n",
    "\n",
    "# Convert result to a list: result_list\n",
    "result_list = list(result)\n",
    "personajes=['son gohan','vegeta','goku','picollo','napa','milk','yamcha','majin boo','ub','androide']\n",
    "separar= filter(lambda a :len(a)< 6,personajes)\n",
    "todoslista=list(separar)\n",
    "print(todoslista)\n",
    "# print it\n",
    "print(result_list)"
   ]
  },
  {
   "cell_type": "markdown",
   "metadata": {},
   "source": [
    "## Reduce() and lambda functions\n",
    "You're getting very good at using lambda functions! Here's one more function to add to your repertoire of skills. The `reduce()` function is useful for performing some computation on a list and, unlike `map()` and `filter()`, returns a single value as a result. To use `reduce()`, you must import it from the functools module.\n",
    "\n",
    "Remember `gibberish()` from a few exercises back?\n",
    "\n",
    "`def gibberish(*args):\n",
    "    \"\"\"Concatenate strings in *args together.\"\"\"\n",
    "    hodgepodge = ''\n",
    "    for word in args:\n",
    "        hodgepodge += word\n",
    "    return hodgepodge`\n",
    "\n",
    "`gibberish()` simply takes a list of strings as an argument and returns, as a single-value result, the concatenation of all of these strings. In this exercise, you will replicate this functionality by using `reduce()` and a lambda function that concatenates strings together."
   ]
  },
  {
   "cell_type": "code",
   "execution_count": 20,
   "metadata": {},
   "outputs": [
    {
     "name": "stdout",
     "output_type": "stream",
     "text": [
      "robbsansaaryabrandonrickon\n"
     ]
    }
   ],
   "source": [
    "# Import reduce from functools\n",
    "from functools import reduce\n",
    "\n",
    "# Create a list of strings: stark\n",
    "stark = ['robb', 'sansa', 'arya', 'brandon', 'rickon']\n",
    "\n",
    "# Use reduce() to apply a lambda function over stark: result\n",
    "result = reduce(lambda item1, item2: item1 + item2, stark)\n",
    "\n",
    "# Print the result\n",
    "print(result)"
   ]
  },
  {
   "cell_type": "markdown",
   "metadata": {},
   "source": [
    "Working : \n",
    "\n",
    "- At first step, first two elements of sequence are picked and the result is obtained.\n",
    "- Next step is to apply the same function to the previously attained result and the number just succeeding the second element and the result is again stored.\n",
    "- This process continues till no more elements are left in the container.\n",
    "- The final returned result is returned and printed on console."
   ]
  }
 ],
 "metadata": {
  "kernelspec": {
   "display_name": "Python 3",
   "language": "python",
   "name": "python3"
  },
  "language_info": {
   "codemirror_mode": {
    "name": "ipython",
    "version": 3
   },
   "file_extension": ".py",
   "mimetype": "text/x-python",
   "name": "python",
   "nbconvert_exporter": "python",
   "pygments_lexer": "ipython3",
   "version": "3.8.3"
  }
 },
 "nbformat": 4,
 "nbformat_minor": 2
}
