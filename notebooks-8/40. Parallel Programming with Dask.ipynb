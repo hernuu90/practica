{
 "cells": [
  {
   "cell_type": "markdown",
   "metadata": {},
   "source": [
    "# How big is my DataFrame?\n",
    "A DataFrame of daily weather data from The Weather Underground is provided for you as df. Your job is to determine the exact amount of memory used (in kilobytes) to store the DataFrame in entirety.\n",
    "\n",
    "You can use either `df.info()` or `df.memory_usage()` to determine this value. Remember that `df.memory_usage()` will return memory usage in bytes and the value must be divided by 1024 to convert to kilobytes (KB). This DataFrame has at least one column of text."
   ]
  },
  {
   "cell_type": "code",
   "execution_count": 2,
   "metadata": {},
   "outputs": [],
   "source": [
    "import h5py\n",
    "import pandas as pd\n",
    "import matplotlib.pyplot as plt"
   ]
  },
  {
   "cell_type": "code",
   "execution_count": 14,
   "metadata": {},
   "outputs": [
    {
     "data": {
      "text/html": [
       "<div>\n",
       "<style scoped>\n",
       "    .dataframe tbody tr th:only-of-type {\n",
       "        vertical-align: middle;\n",
       "    }\n",
       "\n",
       "    .dataframe tbody tr th {\n",
       "        vertical-align: top;\n",
       "    }\n",
       "\n",
       "    .dataframe thead th {\n",
       "        text-align: right;\n",
       "    }\n",
       "</style>\n",
       "<table border=\"1\" class=\"dataframe\">\n",
       "  <thead>\n",
       "    <tr style=\"text-align: right;\">\n",
       "      <th></th>\n",
       "      <th>Date</th>\n",
       "      <th>Max TemperatureF</th>\n",
       "      <th>Mean TemperatureF</th>\n",
       "      <th>Min TemperatureF</th>\n",
       "      <th>Max Dew PointF</th>\n",
       "      <th>MeanDew PointF</th>\n",
       "      <th>Min DewpointF</th>\n",
       "      <th>Max Humidity</th>\n",
       "      <th>Mean Humidity</th>\n",
       "      <th>Min Humidity</th>\n",
       "      <th>...</th>\n",
       "      <th>Max VisibilityMiles</th>\n",
       "      <th>Mean VisibilityMiles</th>\n",
       "      <th>Min VisibilityMiles</th>\n",
       "      <th>Max Wind SpeedMPH</th>\n",
       "      <th>Mean Wind SpeedMPH</th>\n",
       "      <th>Max Gust SpeedMPH</th>\n",
       "      <th>PrecipitationIn</th>\n",
       "      <th>CloudCover</th>\n",
       "      <th>Events</th>\n",
       "      <th>WindDirDegrees</th>\n",
       "    </tr>\n",
       "  </thead>\n",
       "  <tbody>\n",
       "    <tr>\n",
       "      <td>0</td>\n",
       "      <td>2016-01-01</td>\n",
       "      <td>46</td>\n",
       "      <td>43</td>\n",
       "      <td>39</td>\n",
       "      <td>38</td>\n",
       "      <td>33</td>\n",
       "      <td>27</td>\n",
       "      <td>82</td>\n",
       "      <td>68</td>\n",
       "      <td>53</td>\n",
       "      <td>...</td>\n",
       "      <td>10</td>\n",
       "      <td>10</td>\n",
       "      <td>10</td>\n",
       "      <td>22</td>\n",
       "      <td>13</td>\n",
       "      <td>25.0</td>\n",
       "      <td>0.00</td>\n",
       "      <td>8</td>\n",
       "      <td>NaN</td>\n",
       "      <td>320</td>\n",
       "    </tr>\n",
       "    <tr>\n",
       "      <td>1</td>\n",
       "      <td>2016-01-02</td>\n",
       "      <td>47</td>\n",
       "      <td>41</td>\n",
       "      <td>35</td>\n",
       "      <td>29</td>\n",
       "      <td>26</td>\n",
       "      <td>25</td>\n",
       "      <td>70</td>\n",
       "      <td>58</td>\n",
       "      <td>45</td>\n",
       "      <td>...</td>\n",
       "      <td>10</td>\n",
       "      <td>10</td>\n",
       "      <td>10</td>\n",
       "      <td>18</td>\n",
       "      <td>10</td>\n",
       "      <td>24.0</td>\n",
       "      <td>0.00</td>\n",
       "      <td>6</td>\n",
       "      <td>NaN</td>\n",
       "      <td>315</td>\n",
       "    </tr>\n",
       "    <tr>\n",
       "      <td>2</td>\n",
       "      <td>2016-01-03</td>\n",
       "      <td>53</td>\n",
       "      <td>44</td>\n",
       "      <td>35</td>\n",
       "      <td>29</td>\n",
       "      <td>27</td>\n",
       "      <td>25</td>\n",
       "      <td>70</td>\n",
       "      <td>53</td>\n",
       "      <td>35</td>\n",
       "      <td>...</td>\n",
       "      <td>10</td>\n",
       "      <td>10</td>\n",
       "      <td>10</td>\n",
       "      <td>17</td>\n",
       "      <td>10</td>\n",
       "      <td>23.0</td>\n",
       "      <td>0.00</td>\n",
       "      <td>6</td>\n",
       "      <td>NaN</td>\n",
       "      <td>310</td>\n",
       "    </tr>\n",
       "    <tr>\n",
       "      <td>3</td>\n",
       "      <td>2016-01-04</td>\n",
       "      <td>45</td>\n",
       "      <td>39</td>\n",
       "      <td>32</td>\n",
       "      <td>27</td>\n",
       "      <td>23</td>\n",
       "      <td>15</td>\n",
       "      <td>70</td>\n",
       "      <td>55</td>\n",
       "      <td>40</td>\n",
       "      <td>...</td>\n",
       "      <td>10</td>\n",
       "      <td>10</td>\n",
       "      <td>10</td>\n",
       "      <td>22</td>\n",
       "      <td>14</td>\n",
       "      <td>30.0</td>\n",
       "      <td>0.00</td>\n",
       "      <td>1</td>\n",
       "      <td>NaN</td>\n",
       "      <td>339</td>\n",
       "    </tr>\n",
       "    <tr>\n",
       "      <td>4</td>\n",
       "      <td>2016-01-05</td>\n",
       "      <td>44</td>\n",
       "      <td>35</td>\n",
       "      <td>26</td>\n",
       "      <td>17</td>\n",
       "      <td>14</td>\n",
       "      <td>12</td>\n",
       "      <td>58</td>\n",
       "      <td>44</td>\n",
       "      <td>29</td>\n",
       "      <td>...</td>\n",
       "      <td>10</td>\n",
       "      <td>10</td>\n",
       "      <td>10</td>\n",
       "      <td>18</td>\n",
       "      <td>10</td>\n",
       "      <td>24.0</td>\n",
       "      <td>0.00</td>\n",
       "      <td>1</td>\n",
       "      <td>NaN</td>\n",
       "      <td>88</td>\n",
       "    </tr>\n",
       "    <tr>\n",
       "      <td>...</td>\n",
       "      <td>...</td>\n",
       "      <td>...</td>\n",
       "      <td>...</td>\n",
       "      <td>...</td>\n",
       "      <td>...</td>\n",
       "      <td>...</td>\n",
       "      <td>...</td>\n",
       "      <td>...</td>\n",
       "      <td>...</td>\n",
       "      <td>...</td>\n",
       "      <td>...</td>\n",
       "      <td>...</td>\n",
       "      <td>...</td>\n",
       "      <td>...</td>\n",
       "      <td>...</td>\n",
       "      <td>...</td>\n",
       "      <td>...</td>\n",
       "      <td>...</td>\n",
       "      <td>...</td>\n",
       "      <td>...</td>\n",
       "      <td>...</td>\n",
       "    </tr>\n",
       "    <tr>\n",
       "      <td>361</td>\n",
       "      <td>2016-12-27</td>\n",
       "      <td>72</td>\n",
       "      <td>64</td>\n",
       "      <td>55</td>\n",
       "      <td>63</td>\n",
       "      <td>59</td>\n",
       "      <td>54</td>\n",
       "      <td>100</td>\n",
       "      <td>84</td>\n",
       "      <td>68</td>\n",
       "      <td>...</td>\n",
       "      <td>10</td>\n",
       "      <td>6</td>\n",
       "      <td>0</td>\n",
       "      <td>17</td>\n",
       "      <td>7</td>\n",
       "      <td>24.0</td>\n",
       "      <td>0.01</td>\n",
       "      <td>6</td>\n",
       "      <td>Fog-Rain</td>\n",
       "      <td>258</td>\n",
       "    </tr>\n",
       "    <tr>\n",
       "      <td>362</td>\n",
       "      <td>2016-12-28</td>\n",
       "      <td>67</td>\n",
       "      <td>57</td>\n",
       "      <td>47</td>\n",
       "      <td>58</td>\n",
       "      <td>47</td>\n",
       "      <td>36</td>\n",
       "      <td>96</td>\n",
       "      <td>68</td>\n",
       "      <td>39</td>\n",
       "      <td>...</td>\n",
       "      <td>10</td>\n",
       "      <td>10</td>\n",
       "      <td>10</td>\n",
       "      <td>14</td>\n",
       "      <td>6</td>\n",
       "      <td>18.0</td>\n",
       "      <td>0.00</td>\n",
       "      <td>7</td>\n",
       "      <td>NaN</td>\n",
       "      <td>259</td>\n",
       "    </tr>\n",
       "    <tr>\n",
       "      <td>363</td>\n",
       "      <td>2016-12-29</td>\n",
       "      <td>66</td>\n",
       "      <td>55</td>\n",
       "      <td>43</td>\n",
       "      <td>64</td>\n",
       "      <td>44</td>\n",
       "      <td>12</td>\n",
       "      <td>100</td>\n",
       "      <td>61</td>\n",
       "      <td>21</td>\n",
       "      <td>...</td>\n",
       "      <td>10</td>\n",
       "      <td>9</td>\n",
       "      <td>1</td>\n",
       "      <td>32</td>\n",
       "      <td>17</td>\n",
       "      <td>42.0</td>\n",
       "      <td>0.64</td>\n",
       "      <td>5</td>\n",
       "      <td>Rain-Thunderstorm</td>\n",
       "      <td>283</td>\n",
       "    </tr>\n",
       "    <tr>\n",
       "      <td>364</td>\n",
       "      <td>2016-12-30</td>\n",
       "      <td>51</td>\n",
       "      <td>43</td>\n",
       "      <td>35</td>\n",
       "      <td>21</td>\n",
       "      <td>17</td>\n",
       "      <td>12</td>\n",
       "      <td>52</td>\n",
       "      <td>37</td>\n",
       "      <td>21</td>\n",
       "      <td>...</td>\n",
       "      <td>10</td>\n",
       "      <td>10</td>\n",
       "      <td>10</td>\n",
       "      <td>21</td>\n",
       "      <td>12</td>\n",
       "      <td>28.0</td>\n",
       "      <td>0.00</td>\n",
       "      <td>1</td>\n",
       "      <td>NaN</td>\n",
       "      <td>297</td>\n",
       "    </tr>\n",
       "    <tr>\n",
       "      <td>365</td>\n",
       "      <td>2016-12-31</td>\n",
       "      <td>47</td>\n",
       "      <td>40</td>\n",
       "      <td>33</td>\n",
       "      <td>40</td>\n",
       "      <td>27</td>\n",
       "      <td>16</td>\n",
       "      <td>86</td>\n",
       "      <td>59</td>\n",
       "      <td>31</td>\n",
       "      <td>...</td>\n",
       "      <td>10</td>\n",
       "      <td>9</td>\n",
       "      <td>5</td>\n",
       "      <td>12</td>\n",
       "      <td>5</td>\n",
       "      <td>17.0</td>\n",
       "      <td>0.15</td>\n",
       "      <td>7</td>\n",
       "      <td>Rain</td>\n",
       "      <td>170</td>\n",
       "    </tr>\n",
       "  </tbody>\n",
       "</table>\n",
       "<p>366 rows × 23 columns</p>\n",
       "</div>"
      ],
      "text/plain": [
       "           Date  Max TemperatureF  Mean TemperatureF  Min TemperatureF  \\\n",
       "0    2016-01-01                46                 43                39   \n",
       "1    2016-01-02                47                 41                35   \n",
       "2    2016-01-03                53                 44                35   \n",
       "3    2016-01-04                45                 39                32   \n",
       "4    2016-01-05                44                 35                26   \n",
       "..          ...               ...                ...               ...   \n",
       "361  2016-12-27                72                 64                55   \n",
       "362  2016-12-28                67                 57                47   \n",
       "363  2016-12-29                66                 55                43   \n",
       "364  2016-12-30                51                 43                35   \n",
       "365  2016-12-31                47                 40                33   \n",
       "\n",
       "     Max Dew PointF  MeanDew PointF  Min DewpointF  Max Humidity  \\\n",
       "0                38              33             27            82   \n",
       "1                29              26             25            70   \n",
       "2                29              27             25            70   \n",
       "3                27              23             15            70   \n",
       "4                17              14             12            58   \n",
       "..              ...             ...            ...           ...   \n",
       "361              63              59             54           100   \n",
       "362              58              47             36            96   \n",
       "363              64              44             12           100   \n",
       "364              21              17             12            52   \n",
       "365              40              27             16            86   \n",
       "\n",
       "     Mean Humidity  Min Humidity  ...  Max VisibilityMiles  \\\n",
       "0               68            53  ...                   10   \n",
       "1               58            45  ...                   10   \n",
       "2               53            35  ...                   10   \n",
       "3               55            40  ...                   10   \n",
       "4               44            29  ...                   10   \n",
       "..             ...           ...  ...                  ...   \n",
       "361             84            68  ...                   10   \n",
       "362             68            39  ...                   10   \n",
       "363             61            21  ...                   10   \n",
       "364             37            21  ...                   10   \n",
       "365             59            31  ...                   10   \n",
       "\n",
       "     Mean VisibilityMiles  Min VisibilityMiles  Max Wind SpeedMPH  \\\n",
       "0                      10                   10                 22   \n",
       "1                      10                   10                 18   \n",
       "2                      10                   10                 17   \n",
       "3                      10                   10                 22   \n",
       "4                      10                   10                 18   \n",
       "..                    ...                  ...                ...   \n",
       "361                     6                    0                 17   \n",
       "362                    10                   10                 14   \n",
       "363                     9                    1                 32   \n",
       "364                    10                   10                 21   \n",
       "365                     9                    5                 12   \n",
       "\n",
       "     Mean Wind SpeedMPH  Max Gust SpeedMPH  PrecipitationIn  CloudCover  \\\n",
       "0                    13               25.0             0.00           8   \n",
       "1                    10               24.0             0.00           6   \n",
       "2                    10               23.0             0.00           6   \n",
       "3                    14               30.0             0.00           1   \n",
       "4                    10               24.0             0.00           1   \n",
       "..                  ...                ...              ...         ...   \n",
       "361                   7               24.0             0.01           6   \n",
       "362                   6               18.0             0.00           7   \n",
       "363                  17               42.0             0.64           5   \n",
       "364                  12               28.0             0.00           1   \n",
       "365                   5               17.0             0.15           7   \n",
       "\n",
       "                Events WindDirDegrees  \n",
       "0                  NaN            320  \n",
       "1                  NaN            315  \n",
       "2                  NaN            310  \n",
       "3                  NaN            339  \n",
       "4                  NaN             88  \n",
       "..                 ...            ...  \n",
       "361           Fog-Rain            258  \n",
       "362                NaN            259  \n",
       "363  Rain-Thunderstorm            283  \n",
       "364                NaN            297  \n",
       "365               Rain            170  \n",
       "\n",
       "[366 rows x 23 columns]"
      ]
     },
     "execution_count": 14,
     "metadata": {},
     "output_type": "execute_result"
    }
   ],
   "source": [
    "df = pd.read_csv('../data/40. Parallel Programming with Dask/weather/ATL.csv')\n",
    "df"
   ]
  },
  {
   "cell_type": "code",
   "execution_count": 3,
   "metadata": {},
   "outputs": [
    {
     "data": {
      "text/plain": [
       "Index                         128\n",
       "Date                         2928\n",
       "Max TemperatureF             2928\n",
       "Mean TemperatureF            2928\n",
       "Min TemperatureF             2928\n",
       "Max Dew PointF               2928\n",
       "MeanDew PointF               2928\n",
       "Min DewpointF                2928\n",
       "Max Humidity                 2928\n",
       "Mean Humidity                2928\n",
       "Min Humidity                 2928\n",
       "Max Sea Level PressureIn     2928\n",
       "Mean Sea Level PressureIn    2928\n",
       "Min Sea Level PressureIn     2928\n",
       "Max VisibilityMiles          2928\n",
       "Mean VisibilityMiles         2928\n",
       "Min VisibilityMiles          2928\n",
       "Max Wind SpeedMPH            2928\n",
       "Mean Wind SpeedMPH           2928\n",
       "Max Gust SpeedMPH            2928\n",
       "PrecipitationIn              2928\n",
       "CloudCover                   2928\n",
       "Events                       2928\n",
       "WindDirDegrees               2928\n",
       "dtype: int64"
      ]
     },
     "execution_count": 3,
     "metadata": {},
     "output_type": "execute_result"
    }
   ],
   "source": [
    "df.memory_usage()"
   ]
  },
  {
   "cell_type": "markdown",
   "metadata": {},
   "source": [
    "# Filtering WDI data in chunks\n",
    "Using the World Bank's World Development Indicators (or WDI) dataset, you're going to plot the percentage of the population of Australia in urban centers since 1980.\n",
    "\n",
    "Your job is to loop over chunks of the WDI dataset; from each chunk, you will filter out rows describing Australia's \"percent urban population.\" You'll then concatenate the filtered chunks and plot the results."
   ]
  },
  {
   "cell_type": "code",
   "execution_count": 4,
   "metadata": {},
   "outputs": [],
   "source": [
    "# Create empty list: dfs\n",
    "dfs = []\n",
    "\n",
    "# Loop over 'WDI.csv'\n",
    "for chunk in pd.read_csv('../data/40. Parallel Programming with Dask/WDI.csv', chunksize=1000):\n",
    "    # Create the first Series\n",
    "    is_urban = chunk['Indicator Name']=='Urban population (% of total)'\n",
    "    # Create the second Series\n",
    "    is_AUS = chunk['Country Code']=='AUS'\n",
    "\n",
    "    # Create the filtered chunk: filtered\n",
    "    filtered = chunk.loc[is_urban & is_AUS]\n",
    "\n",
    "    # Append the filtered chunk to the list dfs\n",
    "    dfs.append(filtered)"
   ]
  },
  {
   "cell_type": "code",
   "execution_count": 5,
   "metadata": {},
   "outputs": [
    {
     "data": {
      "text/html": [
       "<div>\n",
       "<style scoped>\n",
       "    .dataframe tbody tr th:only-of-type {\n",
       "        vertical-align: middle;\n",
       "    }\n",
       "\n",
       "    .dataframe tbody tr th {\n",
       "        vertical-align: top;\n",
       "    }\n",
       "\n",
       "    .dataframe thead th {\n",
       "        text-align: right;\n",
       "    }\n",
       "</style>\n",
       "<table border=\"1\" class=\"dataframe\">\n",
       "  <thead>\n",
       "    <tr style=\"text-align: right;\">\n",
       "      <th></th>\n",
       "      <th>Country Name</th>\n",
       "      <th>Country Code</th>\n",
       "      <th>Indicator Name</th>\n",
       "      <th>Indicator Code</th>\n",
       "      <th>Year</th>\n",
       "      <th>value</th>\n",
       "      <th>Region</th>\n",
       "    </tr>\n",
       "  </thead>\n",
       "  <tbody>\n",
       "    <tr>\n",
       "      <td>875</td>\n",
       "      <td>Australia</td>\n",
       "      <td>AUS</td>\n",
       "      <td>Urban population (% of total)</td>\n",
       "      <td>SP.URB.TOTL.IN.ZS</td>\n",
       "      <td>1980</td>\n",
       "      <td>85.76</td>\n",
       "      <td>East Asia &amp; Pacific</td>\n",
       "    </tr>\n",
       "    <tr>\n",
       "      <td>950</td>\n",
       "      <td>Australia</td>\n",
       "      <td>AUS</td>\n",
       "      <td>Urban population (% of total)</td>\n",
       "      <td>SP.URB.TOTL.IN.ZS</td>\n",
       "      <td>1981</td>\n",
       "      <td>85.70</td>\n",
       "      <td>East Asia &amp; Pacific</td>\n",
       "    </tr>\n",
       "    <tr>\n",
       "      <td>1026</td>\n",
       "      <td>Australia</td>\n",
       "      <td>AUS</td>\n",
       "      <td>Urban population (% of total)</td>\n",
       "      <td>SP.URB.TOTL.IN.ZS</td>\n",
       "      <td>1982</td>\n",
       "      <td>85.64</td>\n",
       "      <td>East Asia &amp; Pacific</td>\n",
       "    </tr>\n",
       "    <tr>\n",
       "      <td>1101</td>\n",
       "      <td>Australia</td>\n",
       "      <td>AUS</td>\n",
       "      <td>Urban population (% of total)</td>\n",
       "      <td>SP.URB.TOTL.IN.ZS</td>\n",
       "      <td>1983</td>\n",
       "      <td>85.58</td>\n",
       "      <td>East Asia &amp; Pacific</td>\n",
       "    </tr>\n",
       "    <tr>\n",
       "      <td>1176</td>\n",
       "      <td>Australia</td>\n",
       "      <td>AUS</td>\n",
       "      <td>Urban population (% of total)</td>\n",
       "      <td>SP.URB.TOTL.IN.ZS</td>\n",
       "      <td>1984</td>\n",
       "      <td>85.52</td>\n",
       "      <td>East Asia &amp; Pacific</td>\n",
       "    </tr>\n",
       "  </tbody>\n",
       "</table>\n",
       "</div>"
      ],
      "text/plain": [
       "     Country Name Country Code                 Indicator Name  \\\n",
       "875     Australia          AUS  Urban population (% of total)   \n",
       "950     Australia          AUS  Urban population (% of total)   \n",
       "1026    Australia          AUS  Urban population (% of total)   \n",
       "1101    Australia          AUS  Urban population (% of total)   \n",
       "1176    Australia          AUS  Urban population (% of total)   \n",
       "\n",
       "         Indicator Code  Year  value               Region  \n",
       "875   SP.URB.TOTL.IN.ZS  1980  85.76  East Asia & Pacific  \n",
       "950   SP.URB.TOTL.IN.ZS  1981  85.70  East Asia & Pacific  \n",
       "1026  SP.URB.TOTL.IN.ZS  1982  85.64  East Asia & Pacific  \n",
       "1101  SP.URB.TOTL.IN.ZS  1983  85.58  East Asia & Pacific  \n",
       "1176  SP.URB.TOTL.IN.ZS  1984  85.52  East Asia & Pacific  "
      ]
     },
     "execution_count": 5,
     "metadata": {},
     "output_type": "execute_result"
    }
   ],
   "source": [
    "df = pd.concat(dfs)\n",
    "df.head()"
   ]
  },
  {
   "cell_type": "code",
   "execution_count": 6,
   "metadata": {},
   "outputs": [
    {
     "data": {
      "image/png": "[encoded data removed]",
      "text/plain": [
       "<Figure size 432x288 with 1 Axes>"
      ]
     },
     "metadata": {
      "needs_background": "light"
     },
     "output_type": "display_data"
    }
   ],
   "source": [
    "df.plot.line(x='Year', y='value')\n",
    "plt.ylabel('% Urban population')\n",
    "\n",
    "# Call plt.show()\n",
    "plt.show()"
   ]
  },
  {
   "cell_type": "markdown",
   "metadata": {},
   "source": [
    "## Computing percentage of delayed flights\n",
    "Multiple CSV files of flight information have been provided from the Bureau of Transportation Statistics. Each file contains one month of information in 2016.\n",
    "\n",
    "Your first job is to build a function to compute the percentage of delayed flights given a DataFrame of flight information. Your function will take a single DataFrame as input and compute the percentage of its rows in which the `'DEP_DELAY'` value is greater than zero."
   ]
  },
  {
   "cell_type": "code",
   "execution_count": 7,
   "metadata": {},
   "outputs": [],
   "source": [
    "# Define function with single input called df: pct_delayed\n",
    "def pct_delayed(df):\n",
    "    # Compute number of delayed flights: n_delayed\n",
    "    n_delayed = (df['DEP_DELAY']>0).sum()\n",
    "    # Return percentage of delayed flights\n",
    "    return n_delayed  * 100 / len(df)"
   ]
  },
  {
   "cell_type": "markdown",
   "metadata": {},
   "source": [
    "## Generating & plotting delayed flights\n",
    "Now that you have a function to compute flight delays, you'll apply it with a generator to analyze the percentage of delayed flights for each month of 2016.\n",
    "\n",
    "You'll create a generator expression to loop over the provided list filenames and return a sequence of DataFrames. For each DataFrame, you'll then apply the function `pct_delayed()` (provided for you) within a list comprehension. Finally, you'll plot the results."
   ]
  },
  {
   "cell_type": "code",
   "execution_count": 8,
   "metadata": {},
   "outputs": [],
   "source": [
    "filenames = ['flightdelays-2016-1.csv','flightdelays-2016-2.csv',\n",
    "             'flightdelays-2016-3.csv','flightdelays-2016-4.csv',\n",
    "             'flightdelays-2016-5.csv']"
   ]
  },
  {
   "cell_type": "code",
   "execution_count": 16,
   "metadata": {},
   "outputs": [],
   "source": [
    "# Define the generator: dataframes\n",
    "dataframes = (pd.read_csv('../data/40. Parallel Programming with Dask/flights/'+file) for file in filenames)\n",
    "\n",
    "# Create the list comprehension: monthly_delayed\n",
    "monthly_delayed = [pct_delayed(df) for df in dataframes]"
   ]
  },
  {
   "cell_type": "code",
   "execution_count": 10,
   "metadata": {},
   "outputs": [
    {
     "data": {
      "image/png": "[encoded data removed]",
      "text/plain": [
       "<Figure size 432x288 with 1 Axes>"
      ]
     },
     "metadata": {
      "needs_background": "light"
     },
     "output_type": "display_data"
    }
   ],
   "source": [
    "# Create the plot\n",
    "x = range(1,6)\n",
    "plt.plot(x, monthly_delayed, marker='x', linewidth=0)\n",
    "plt.ylabel('% Delayed')\n",
    "plt.xlabel('Month - 2016')\n",
    "plt.xlim((1,5))\n",
    "plt.ylim((0,100))\n",
    "plt.show()"
   ]
  },
  {
   "cell_type": "markdown",
   "metadata": {},
   "source": [
    "# Building a pipeline with delayed\n",
    "If we use dask.delayed, we don't need to use generators; the dask scheduler will manage memory usage. In this version of the flight delay analysis, you'll compute the total yearly percentage of delayed flights.\n",
    "\n",
    "Along with pandas, the decorator function delayed has been imported for you from dask, and the following decorated function, which calls `pd.read_csv()` on a single file, has been created for you:\n",
    "\n",
    "`@delayed\n",
    "def read_one(filename):\n",
    "    return pd.read_csv(filename)`\n",
    "    \n",
    "Your job is to define three decorated functions to complete the pipeline: a function to total the number of flights, a function to count the number of delayed flights, and a function to aggregate the results."
   ]
  },
  {
   "cell_type": "code",
   "execution_count": 11,
   "metadata": {},
   "outputs": [],
   "source": [
    "from dask import delayed"
   ]
  },
  {
   "cell_type": "code",
   "execution_count": 12,
   "metadata": {},
   "outputs": [],
   "source": [
    "# Define count_flights\n",
    "@delayed\n",
    "def count_flights(df):\n",
    "    return len(df)\n",
    "\n",
    "# Define count_delayed\n",
    "@delayed\n",
    "def count_delayed(df):\n",
    "    return (df['DEP_DELAY']>0).sum()\n",
    "\n",
    "# Define pct_delayed\n",
    "@delayed\n",
    "def pct_delayed(n_delayed, n_flights):\n",
    "    return 100 * sum(n_delayed) / sum(n_flights)\n",
    "\n",
    "@delayed\n",
    "def read_one(filename):\n",
    "    return pd.read_csv(filename)"
   ]
  },
  {
   "cell_type": "markdown",
   "metadata": {},
   "source": [
    "## Computing pipelined results\n",
    "Now that the `dask.delayed` functions are defined, we can use them to construct the pipeline of delayed tasks.\n",
    "\n",
    "Your job is to loop over the file names, store the temporary information in lists, and aggregate the final result. Two empty lists, `n_delayed`, and `n_flights`, have been created for you.\n",
    "\n",
    "The distinction here is that we are working with `dask.delayed` functions and objects, not real, computed values. The computation will only be executed when you call `.compute()` on the final result (by contrast with earlier exercises)."
   ]
  },
  {
   "cell_type": "code",
   "execution_count": 17,
   "metadata": {},
   "outputs": [
    {
     "name": "stdout",
     "output_type": "stream",
     "text": [
      "32.406252934201824\n"
     ]
    }
   ],
   "source": [
    "n_delayed = []\n",
    "n_flights = []\n",
    "\n",
    "# Loop over the provided filenames list and call read_one: df\n",
    "for file in filenames:\n",
    "    df = read_one('../data/40. Parallel Programming with Dask/flights/'+file)\n",
    "\n",
    "    # Append to n_delayed and n_flights\n",
    "    n_delayed.append(count_delayed(df))\n",
    "    n_flights.append(count_flights(df))\n",
    "\n",
    "# Call pct_delayed with n_delayed and n_flights: result\n",
    "result = pct_delayed(n_delayed, n_flights)\n",
    "\n",
    "# Print the output of result.compute()\n",
    "print(result.compute())"
   ]
  },
  {
   "cell_type": "markdown",
   "metadata": {},
   "source": [
    "# Inspecting a Dask array\n",
    "A `dask.array` called energy is provided for you. The array energy contains electricity load in kWh in Texas sampled every 15 minutes for the year 2000. This dataset was provided by ERCOT.\n",
    "\n",
    "Your job is to determine the correct shape of the array energy and the total electricity (in kWh) consumed by Texas for the year 2000 (i.e., the sum of the electricity load). Remember to leverage both the `.sum()` and `.compute()` methods."
   ]
  },
  {
   "cell_type": "code",
   "execution_count": 33,
   "metadata": {},
   "outputs": [],
   "source": [
    "from dask import array as da"
   ]
  },
  {
   "cell_type": "code",
   "execution_count": 31,
   "metadata": {},
   "outputs": [
    {
     "data": {
      "text/plain": [
       "array([5282.56, 5267.62, 5252.65, ..., 5136.65, 5138.3 , 5139.89])"
      ]
     },
     "execution_count": 31,
     "metadata": {},
     "output_type": "execute_result"
    }
   ],
   "source": [
    "energy = h5py.File('../data/40. Parallel Programming with Dask/Texas/texas.2000.hdf5', 'r')\n",
    "energy = energy['load'].value\n",
    "energy"
   ]
  },
  {
   "cell_type": "markdown",
   "metadata": {},
   "source": [
    "## Chunking a NumPy array\n",
    "A NumPy array has been provided for you as energy. This is the electricity load in kWh for the state of Texas sampled every 15 minutes over the year 2000 (that's about 35 thousand samples).\n",
    "\n",
    "Your job is to convert the NumPy array into a `dask.array`; the `dask.array` should have chunks whose sizes are `1/4` of the number of elements of the array energy. You will then inspect the chunk sizes of the Dask array. Finally, you'll compute the mean electricity load in kWh in two ways (using the `dask.array` and using the `NumPy` array) to compare the results."
   ]
  },
  {
   "cell_type": "code",
   "execution_count": 34,
   "metadata": {},
   "outputs": [],
   "source": [
    "# Call da.from_array():  energy_dask\n",
    "energy_dask = da.from_array(energy, chunks=energy.shape[0]//4)"
   ]
  },
  {
   "cell_type": "code",
   "execution_count": 35,
   "metadata": {},
   "outputs": [
    {
     "data": {
      "text/plain": [
       "((8784, 8784, 8784, 8784),)"
      ]
     },
     "execution_count": 35,
     "metadata": {},
     "output_type": "execute_result"
    }
   ],
   "source": [
    "# Print energy_dask.chunks\n",
    "energy_dask.chunks"
   ]
  },
  {
   "cell_type": "code",
   "execution_count": 37,
   "metadata": {},
   "outputs": [
    {
     "name": "stdout",
     "output_type": "stream",
     "text": [
      "3.96 ms ± 197 µs per loop (mean ± std. dev. of 7 runs, 100 loops each)\n"
     ]
    }
   ],
   "source": [
    "# Print Dask array average and then NumPy array average\n",
    "%timeit energy_dask.mean().compute()"
   ]
  },
  {
   "cell_type": "code",
   "execution_count": 38,
   "metadata": {},
   "outputs": [
    {
     "name": "stdout",
     "output_type": "stream",
     "text": [
      "33 µs ± 3.56 µs per loop (mean ± std. dev. of 7 runs, 10000 loops each)\n"
     ]
    }
   ],
   "source": [
    "%timeit energy.mean()"
   ]
  },
  {
   "cell_type": "markdown",
   "metadata": {},
   "source": [
    "# Using Dask DataFrames\n",
    "\n",
    "### Inspecting a large DataFrame\n",
    "A Dask DataFrame is provided for you called `df`. This DataFrame connects to the World Development Indicators data set you worked with earlier.\n",
    "\n",
    "Your job is to inspect this Dask DataFrame using methods and correctly identify the number of columns, the number of rows, and the number of unique countries from either the Country Name or Country Code columns. You can use methods you are already familiar with such as `.describe()` and `.info()`. Remember to also use `.compute()`, since `df` is a Dask (and not pandas) DataFrame.\n",
    "\n",
    "Dask accepts a wildcard `*` for all the files in a folder:\n",
    "\n",
    "`transactions = dd.read_csv('*.csv')`"
   ]
  },
  {
   "cell_type": "code",
   "execution_count": 3,
   "metadata": {},
   "outputs": [],
   "source": [
    "import dask.dataframe as dd"
   ]
  },
  {
   "cell_type": "code",
   "execution_count": 2,
   "metadata": {},
   "outputs": [],
   "source": [
    "df = dd.read_csv('../data/40. Parallel Programming with Dask/WDI.csv')"
   ]
  },
  {
   "cell_type": "code",
   "execution_count": 3,
   "metadata": {},
   "outputs": [
    {
     "data": {
      "text/html": [
       "<div>\n",
       "<style scoped>\n",
       "    .dataframe tbody tr th:only-of-type {\n",
       "        vertical-align: middle;\n",
       "    }\n",
       "\n",
       "    .dataframe tbody tr th {\n",
       "        vertical-align: top;\n",
       "    }\n",
       "\n",
       "    .dataframe thead th {\n",
       "        text-align: right;\n",
       "    }\n",
       "</style>\n",
       "<table border=\"1\" class=\"dataframe\">\n",
       "  <thead>\n",
       "    <tr style=\"text-align: right;\">\n",
       "      <th></th>\n",
       "      <th>Year</th>\n",
       "      <th>value</th>\n",
       "    </tr>\n",
       "  </thead>\n",
       "  <tbody>\n",
       "    <tr>\n",
       "      <td>count</td>\n",
       "      <td>91048.000000</td>\n",
       "      <td>9.104800e+04</td>\n",
       "    </tr>\n",
       "    <tr>\n",
       "      <td>mean</td>\n",
       "      <td>1997.684990</td>\n",
       "      <td>1.960543e+06</td>\n",
       "    </tr>\n",
       "    <tr>\n",
       "      <td>std</td>\n",
       "      <td>10.280207</td>\n",
       "      <td>3.217680e+07</td>\n",
       "    </tr>\n",
       "    <tr>\n",
       "      <td>min</td>\n",
       "      <td>1980.000000</td>\n",
       "      <td>-2.071094e+02</td>\n",
       "    </tr>\n",
       "    <tr>\n",
       "      <td>25%</td>\n",
       "      <td>1989.000000</td>\n",
       "      <td>3.997965e+00</td>\n",
       "    </tr>\n",
       "    <tr>\n",
       "      <td>50%</td>\n",
       "      <td>1998.000000</td>\n",
       "      <td>1.042156e+01</td>\n",
       "    </tr>\n",
       "    <tr>\n",
       "      <td>75%</td>\n",
       "      <td>2007.000000</td>\n",
       "      <td>7.168516e+01</td>\n",
       "    </tr>\n",
       "    <tr>\n",
       "      <td>max</td>\n",
       "      <td>2016.000000</td>\n",
       "      <td>1.371220e+09</td>\n",
       "    </tr>\n",
       "  </tbody>\n",
       "</table>\n",
       "</div>"
      ],
      "text/plain": [
       "               Year         value\n",
       "count  91048.000000  9.104800e+04\n",
       "mean    1997.684990  1.960543e+06\n",
       "std       10.280207  3.217680e+07\n",
       "min     1980.000000 -2.071094e+02\n",
       "25%     1989.000000  3.997965e+00\n",
       "50%     1998.000000  1.042156e+01\n",
       "75%     2007.000000  7.168516e+01\n",
       "max     2016.000000  1.371220e+09"
      ]
     },
     "execution_count": 3,
     "metadata": {},
     "output_type": "execute_result"
    }
   ],
   "source": [
    "df.compute().describe()"
   ]
  },
  {
   "cell_type": "code",
   "execution_count": 4,
   "metadata": {},
   "outputs": [
    {
     "name": "stdout",
     "output_type": "stream",
     "text": [
      "<class 'pandas.core.frame.DataFrame'>\n",
      "RangeIndex: 91048 entries, 0 to 91047\n",
      "Data columns (total 7 columns):\n",
      "Country Name      91048 non-null object\n",
      "Country Code      91048 non-null object\n",
      "Indicator Name    91048 non-null object\n",
      "Indicator Code    91048 non-null object\n",
      "Year              91048 non-null int64\n",
      "value             91048 non-null float64\n",
      "Region            91048 non-null object\n",
      "dtypes: float64(1), int64(1), object(5)\n",
      "memory usage: 4.9+ MB\n"
     ]
    }
   ],
   "source": [
    "df.compute().info()"
   ]
  },
  {
   "cell_type": "markdown",
   "metadata": {},
   "source": [
    "### Building a pipeline of delayed tasks\n",
    "For this exercise, you'll use a Dask DataFrame to read and process the World Bank's World Development Indicators.\n",
    "\n",
    "Your job is to filter the DataFrame for the 'East Asia & Pacific' region and measurements of the percent population exposed to toxic air pollution. The output of this effort is a delayed Dask DataFrame; you'll compute the result in the next exercise."
   ]
  },
  {
   "cell_type": "code",
   "execution_count": 5,
   "metadata": {},
   "outputs": [
    {
     "data": {
      "text/html": [
       "<div>\n",
       "<style scoped>\n",
       "    .dataframe tbody tr th:only-of-type {\n",
       "        vertical-align: middle;\n",
       "    }\n",
       "\n",
       "    .dataframe tbody tr th {\n",
       "        vertical-align: top;\n",
       "    }\n",
       "\n",
       "    .dataframe thead th {\n",
       "        text-align: right;\n",
       "    }\n",
       "</style>\n",
       "<table border=\"1\" class=\"dataframe\">\n",
       "  <thead>\n",
       "    <tr style=\"text-align: right;\">\n",
       "      <th></th>\n",
       "      <th>Country Name</th>\n",
       "      <th>Country Code</th>\n",
       "      <th>Indicator Name</th>\n",
       "      <th>Indicator Code</th>\n",
       "      <th>Year</th>\n",
       "      <th>value</th>\n",
       "      <th>Region</th>\n",
       "    </tr>\n",
       "  </thead>\n",
       "  <tbody>\n",
       "    <tr>\n",
       "      <td>18</td>\n",
       "      <td>American Samoa</td>\n",
       "      <td>ASM</td>\n",
       "      <td>Urban population</td>\n",
       "      <td>SP.URB.TOTL</td>\n",
       "      <td>1980</td>\n",
       "      <td>24125.0</td>\n",
       "      <td>East Asia &amp; Pacific</td>\n",
       "    </tr>\n",
       "    <tr>\n",
       "      <td>39</td>\n",
       "      <td>American Samoa</td>\n",
       "      <td>ASM</td>\n",
       "      <td>Urban population</td>\n",
       "      <td>SP.URB.TOTL</td>\n",
       "      <td>1981</td>\n",
       "      <td>25130.0</td>\n",
       "      <td>East Asia &amp; Pacific</td>\n",
       "    </tr>\n",
       "    <tr>\n",
       "      <td>60</td>\n",
       "      <td>American Samoa</td>\n",
       "      <td>ASM</td>\n",
       "      <td>Urban population</td>\n",
       "      <td>SP.URB.TOTL</td>\n",
       "      <td>1982</td>\n",
       "      <td>26313.0</td>\n",
       "      <td>East Asia &amp; Pacific</td>\n",
       "    </tr>\n",
       "    <tr>\n",
       "      <td>81</td>\n",
       "      <td>American Samoa</td>\n",
       "      <td>ASM</td>\n",
       "      <td>Urban population</td>\n",
       "      <td>SP.URB.TOTL</td>\n",
       "      <td>1983</td>\n",
       "      <td>27641.0</td>\n",
       "      <td>East Asia &amp; Pacific</td>\n",
       "    </tr>\n",
       "    <tr>\n",
       "      <td>102</td>\n",
       "      <td>American Samoa</td>\n",
       "      <td>ASM</td>\n",
       "      <td>Urban population</td>\n",
       "      <td>SP.URB.TOTL</td>\n",
       "      <td>1984</td>\n",
       "      <td>29058.0</td>\n",
       "      <td>East Asia &amp; Pacific</td>\n",
       "    </tr>\n",
       "    <tr>\n",
       "      <td>...</td>\n",
       "      <td>...</td>\n",
       "      <td>...</td>\n",
       "      <td>...</td>\n",
       "      <td>...</td>\n",
       "      <td>...</td>\n",
       "      <td>...</td>\n",
       "      <td>...</td>\n",
       "    </tr>\n",
       "    <tr>\n",
       "      <td>90730</td>\n",
       "      <td>Vietnam</td>\n",
       "      <td>VNM</td>\n",
       "      <td>Urban population</td>\n",
       "      <td>SP.URB.TOTL</td>\n",
       "      <td>2011</td>\n",
       "      <td>27262172.0</td>\n",
       "      <td>East Asia &amp; Pacific</td>\n",
       "    </tr>\n",
       "    <tr>\n",
       "      <td>90813</td>\n",
       "      <td>Vietnam</td>\n",
       "      <td>VNM</td>\n",
       "      <td>Urban population</td>\n",
       "      <td>SP.URB.TOTL</td>\n",
       "      <td>2012</td>\n",
       "      <td>28124097.0</td>\n",
       "      <td>East Asia &amp; Pacific</td>\n",
       "    </tr>\n",
       "    <tr>\n",
       "      <td>90894</td>\n",
       "      <td>Vietnam</td>\n",
       "      <td>VNM</td>\n",
       "      <td>Urban population</td>\n",
       "      <td>SP.URB.TOTL</td>\n",
       "      <td>2013</td>\n",
       "      <td>29000397.0</td>\n",
       "      <td>East Asia &amp; Pacific</td>\n",
       "    </tr>\n",
       "    <tr>\n",
       "      <td>90977</td>\n",
       "      <td>Vietnam</td>\n",
       "      <td>VNM</td>\n",
       "      <td>Urban population</td>\n",
       "      <td>SP.URB.TOTL</td>\n",
       "      <td>2014</td>\n",
       "      <td>29896080.0</td>\n",
       "      <td>East Asia &amp; Pacific</td>\n",
       "    </tr>\n",
       "    <tr>\n",
       "      <td>91043</td>\n",
       "      <td>Vietnam</td>\n",
       "      <td>VNM</td>\n",
       "      <td>Urban population</td>\n",
       "      <td>SP.URB.TOTL</td>\n",
       "      <td>2015</td>\n",
       "      <td>30809249.0</td>\n",
       "      <td>East Asia &amp; Pacific</td>\n",
       "    </tr>\n",
       "  </tbody>\n",
       "</table>\n",
       "<p>1332 rows × 7 columns</p>\n",
       "</div>"
      ],
      "text/plain": [
       "         Country Name Country Code    Indicator Name Indicator Code  Year  \\\n",
       "18     American Samoa          ASM  Urban population    SP.URB.TOTL  1980   \n",
       "39     American Samoa          ASM  Urban population    SP.URB.TOTL  1981   \n",
       "60     American Samoa          ASM  Urban population    SP.URB.TOTL  1982   \n",
       "81     American Samoa          ASM  Urban population    SP.URB.TOTL  1983   \n",
       "102    American Samoa          ASM  Urban population    SP.URB.TOTL  1984   \n",
       "...               ...          ...               ...            ...   ...   \n",
       "90730         Vietnam          VNM  Urban population    SP.URB.TOTL  2011   \n",
       "90813         Vietnam          VNM  Urban population    SP.URB.TOTL  2012   \n",
       "90894         Vietnam          VNM  Urban population    SP.URB.TOTL  2013   \n",
       "90977         Vietnam          VNM  Urban population    SP.URB.TOTL  2014   \n",
       "91043         Vietnam          VNM  Urban population    SP.URB.TOTL  2015   \n",
       "\n",
       "            value               Region  \n",
       "18        24125.0  East Asia & Pacific  \n",
       "39        25130.0  East Asia & Pacific  \n",
       "60        26313.0  East Asia & Pacific  \n",
       "81        27641.0  East Asia & Pacific  \n",
       "102       29058.0  East Asia & Pacific  \n",
       "...           ...                  ...  \n",
       "90730  27262172.0  East Asia & Pacific  \n",
       "90813  28124097.0  East Asia & Pacific  \n",
       "90894  29000397.0  East Asia & Pacific  \n",
       "90977  29896080.0  East Asia & Pacific  \n",
       "91043  30809249.0  East Asia & Pacific  \n",
       "\n",
       "[1332 rows x 7 columns]"
      ]
     },
     "execution_count": 5,
     "metadata": {},
     "output_type": "execute_result"
    }
   ],
   "source": [
    "# Boolean series where 'Indicator Code' is 'SP.URB.TOTL': toxins\n",
    "toxins = df['Indicator Code'] == 'SP.URB.TOTL'\n",
    "\n",
    "# Boolean series where 'Region' is 'East Asia & Pacific': region\n",
    "region = df['Region'] == 'East Asia & Pacific'\n",
    "\n",
    "# Filter the DataFrame using toxins & region: filtered\n",
    "filtered = df.loc[toxins & region]\n",
    "filtered.compute()"
   ]
  },
  {
   "cell_type": "markdown",
   "metadata": {},
   "source": [
    "### Grouping & aggregating by year\n",
    "The filtered Dask DataFrame from the previous exercise has been provided for you as `filtered`. In this exercise you're going to plot the average percent of the population exposed to air pollution in the East Asia & Pacific region from 2010 to 2015.\n",
    "\n",
    "Your job is to use `.groupby()` to collect all of the individual country values by the `'Year'` column and aggregate with the `mean()` function. You'll then call `.compute()` to perform the computation in parallel, and finally plot the results."
   ]
  },
  {
   "cell_type": "code",
   "execution_count": 6,
   "metadata": {},
   "outputs": [],
   "source": [
    "# Grouby filtered by the 'Year' column: yearly\n",
    "yearly = filtered.groupby('Year')\n",
    "\n",
    "# Calculate the mean of yearly: yearly_mean\n",
    "yearly_mean = yearly.mean()\n",
    "\n",
    "# Call .compute() to perform the computation: result\n",
    "result = yearly_mean.compute()"
   ]
  },
  {
   "cell_type": "code",
   "execution_count": 9,
   "metadata": {},
   "outputs": [
    {
     "data": {
      "image/png": "[encoded data removed]",
      "text/plain": [
       "<Figure size 432x288 with 1 Axes>"
      ]
     },
     "metadata": {
      "needs_background": "light"
     },
     "output_type": "display_data"
    }
   ],
   "source": [
    "# Plot the 'value' column with .plot.line()\n",
    "result['value'].plot.line()\n",
    "plt.ylabel('% pop exposed')\n",
    "plt.show()"
   ]
  },
  {
   "cell_type": "markdown",
   "metadata": {},
   "source": [
    "# Reading & counting\n",
    "The `sotu/` directory contains text files for each of the 45 US Presidents as of 2017. These text files contain the State of the Union addresses delivered by each president. The texts of the speeches were obtained from the American Presidency Project.\n",
    "\n",
    "The entire speech for each State of the Union address is on a single line in each text file; that is, individual addresses are separated by `'\\n'`. For example, the 33rd US president Truman delivered 9 State of the Union speeches, so the file `sotu/33Truman.txt` has 9 lines). Distinct files, then have distinct numbers of lines according to the number of State of the Union addresses each president delivered during their presidency."
   ]
  },
  {
   "cell_type": "code",
   "execution_count": 5,
   "metadata": {},
   "outputs": [],
   "source": [
    "import glob\n",
    "from dask import bag as db"
   ]
  },
  {
   "cell_type": "markdown",
   "metadata": {},
   "source": [
    "The `glob` module finds all the pathnames matching a specified pattern according to the rules used by the Unix shell, although results are returned in arbitrary order. No tilde expansion is done, but `*`, `?`, and character ranges expressed with `[]` will be correctly matched. "
   ]
  },
  {
   "cell_type": "code",
   "execution_count": 27,
   "metadata": {},
   "outputs": [
    {
     "name": "stdout",
     "output_type": "stream",
     "text": [
      "237\n"
     ]
    }
   ],
   "source": [
    "# Glob filenames matching 'sotu/*.txt' and sort\n",
    "filenames = glob.glob('../data/40. Parallel Programming with Dask/sotu/*.txt')\n",
    "filenames = sorted(filenames)\n",
    "\n",
    "# Load filenames as Dask bag with db.read_text(): speeches\n",
    "speeches = db.read_text(filenames)\n",
    "\n",
    "# Print number of speeches with .count()\n",
    "print(speeches.count().compute())"
   ]
  },
  {
   "cell_type": "markdown",
   "metadata": {},
   "source": [
    "## Taking one element\n",
    "Let's start using data from the Dask bag speeches of State of the Union addresses. For large datasets, the `.take()` method is useful for inspecting data & data types while processing dask bags. The value returned by `.take(n)` is a tuple of the first n elements of the `dask.bag`.\n",
    "\n",
    "The speeches bag from the previous exercise is provided for you. Your task is to extract the first element of the bag using `.take()`, to determine its datatype, and to print the words of the first speech."
   ]
  },
  {
   "cell_type": "code",
   "execution_count": 28,
   "metadata": {},
   "outputs": [
    {
     "name": "stdout",
     "output_type": "stream",
     "text": [
      "<class 'str'>\n",
      " Fellow-Citizens of the Senate and House of Representatives:\n"
     ]
    }
   ],
   "source": [
    "# Call .take(1): one_element\n",
    "one_element = speeches.take(1)\n",
    "\n",
    "# Extract first element of one_element: first_speech\n",
    "first_speech = one_element[0]\n",
    "\n",
    "# Print type of first_speech and first 60 characters\n",
    "print(type(first_speech))\n",
    "print(first_speech[:60])"
   ]
  },
  {
   "cell_type": "markdown",
   "metadata": {},
   "source": [
    "### Splitting by word & count\n",
    "Using the speeches bag from earlier exercises let's examine some statistics about the State of the Union addresses.\n",
    "\n",
    "Your job is to split each speech into a list of words using a single space `' '` as the separator. At this point the Dask Bag can be considered a list-of-lists. You'll then map the `len()` function over each of the inner lists to compute the number of words in each speech and then compute the `mean()` of the lengths to get the average word count."
   ]
  },
  {
   "cell_type": "code",
   "execution_count": 29,
   "metadata": {},
   "outputs": [
    {
     "name": "stdout",
     "output_type": "stream",
     "text": [
      "<class 'dask.bag.core.Item'>\n",
      "8239.084388185654\n"
     ]
    }
   ],
   "source": [
    "# Call .str.split(' ') from speeches and assign it to by_word\n",
    "by_word = speeches.str.split(' ')\n",
    "\n",
    "# Map the len function over by_word and compute its mean\n",
    "n_words = by_word.map(len)\n",
    "avg_words = n_words.mean()\n",
    "\n",
    "# Print the type of avg_words and value of avg_words.compute()\n",
    "print(type(avg_words))\n",
    "print(avg_words.compute())"
   ]
  },
  {
   "cell_type": "markdown",
   "metadata": {},
   "source": [
    "### Filtering on a phrase\n",
    "In this exercise you'll make use of the filter function to take the 226 State of the Union addresses and find the addresses where the phrase health care was mentioned. In order to do this you must first standardize the capitalization of all words in each speech.\n",
    "\n",
    "Your job is to convert all speeches to lower case and write a lambda function that returns true if the substring `'health care'` is contained in each speech and filter with it. Finally, you'll count the number of speeches retained by the filter."
   ]
  },
  {
   "cell_type": "code",
   "execution_count": 31,
   "metadata": {},
   "outputs": [
    {
     "name": "stdout",
     "output_type": "stream",
     "text": [
      "47\n"
     ]
    }
   ],
   "source": [
    "# Convert speeches to lower case: lower\n",
    "lower = speeches.str.lower()\n",
    "\n",
    "# Filter lower for the presence of 'health care': health\n",
    "health = lower.filter(lambda s:'health care' in s)\n",
    "\n",
    "# Count the number of entries : n_health\n",
    "n_health = health.count()\n",
    "\n",
    "# Compute and print the value of n_health\n",
    "print(n_health.compute())"
   ]
  },
  {
   "cell_type": "markdown",
   "metadata": {},
   "source": [
    "# Loading & mapping from JSON\n",
    "A collection of JSON files for Congressional bills have been downloaded from GovTrack.us. All bills presented during each congressional session from 1973 - 2017 are provided in separate files.\n",
    "\n",
    "Your job is to read the `bills*.json` files into a Dask Bag. You'll then use the JSON module to map the text of each file into Python dictionaries. You'll then inspect the first element of the Dask Bag."
   ]
  },
  {
   "cell_type": "code",
   "execution_count": 1,
   "metadata": {},
   "outputs": [],
   "source": [
    "import json"
   ]
  },
  {
   "cell_type": "code",
   "execution_count": 6,
   "metadata": {},
   "outputs": [],
   "source": [
    "# Call db.read_text with congress/bills*.json: bills_text\n",
    "bills_text = db.read_text('../data/40. Parallel Programming with Dask/congress/bills*.json')\n",
    "\n",
    "# Map the json.loads function over all elements: bills_dicts\n",
    "bills_dicts = bills_text.map(json.loads)"
   ]
  },
  {
   "cell_type": "code",
   "execution_count": 7,
   "metadata": {},
   "outputs": [
    {
     "name": "stdout",
     "output_type": "stream",
     "text": [
      "dict_keys(['bill_resolution_type', 'bill_type', 'bill_type_label', 'committee_reports', 'congress', 'current_chamber', 'current_status', 'current_status_date', 'current_status_description', 'current_status_label', 'display_number', 'docs_house_gov_postdate', 'id', 'introduced_date', 'is_alive', 'is_current', 'link', 'lock_title', 'major_actions', 'noun', 'number', 'related_bills', 'scheduled_consideration_date', 'senate_floor_schedule_postdate', 'sliplawnum', 'sliplawpubpriv', 'source', 'source_link', 'sponsor', 'sponsor_role', 'text_incorporation', 'title', 'title_without_number', 'titles'])\n"
     ]
    }
   ],
   "source": [
    "# Extract the first element with .take(1) and index to the first position: first_bill\n",
    "first_bill = bills_dicts.take(1)[0]\n",
    "\n",
    "# Print the keys of first_bill\n",
    "print(first_bill.keys())"
   ]
  },
  {
   "cell_type": "markdown",
   "metadata": {},
   "source": [
    "# Filtering vetoed bills\n",
    "Now that you've got a Dask Bag prepared with congressional bills as dictionaries we can use filtering and mapping tools to find all of the bills since the 93rd congress that were vetoed by the sitting President and later overridden by congress.\n",
    "\n",
    "The `bills_dicts` Dask Bag from the previous exercise is provided for you. Your job is to filter the bills to retain those where the `current_status` key is `'enacted_veto_override'`. You'll then print the titles of the bills using `.pluck`."
   ]
  },
  {
   "cell_type": "code",
   "execution_count": 9,
   "metadata": {},
   "outputs": [],
   "source": [
    "def veto_override(d):\n",
    "    return d['current_status'] == 'enacted_veto_override'"
   ]
  },
  {
   "cell_type": "code",
   "execution_count": 11,
   "metadata": {},
   "outputs": [
    {
     "name": "stdout",
     "output_type": "stream",
     "text": [
      "3\n"
     ]
    },
    {
     "data": {
      "text/plain": [
       "['H.R. 12471 (93rd): A bill to amend section 552 of title 5, United States Code, known as the Freedom of Information Act.',\n",
       " 'H.R. 6198 (97th): A bill to amend the manufacturing clause of the copyright law.',\n",
       " 'H.R. 6863 (97th): Supplemental Appropriations Act, 1982']"
      ]
     },
     "execution_count": 11,
     "metadata": {},
     "output_type": "execute_result"
    }
   ],
   "source": [
    "# Filter the bills: overridden\n",
    "overridden = bills_dicts.filter(veto_override)\n",
    "\n",
    "# Print the number of bills retained\n",
    "print(overridden.count().compute())\n",
    "\n",
    "# Get the value of the 'title' key\n",
    "titles = overridden.pluck('title')\n",
    "\n",
    "# Compute and print the titles\n",
    "titles.compute()"
   ]
  },
  {
   "cell_type": "markdown",
   "metadata": {},
   "source": [
    "# Computing the average bill's lifespan\n",
    "Some congressional bills can take years to get through committees, floor reading, voting and presidential signatures.\n",
    "\n",
    "Each bill in the `bills_dicts` Dask Bag has `'current_status_date'` and `'introduced_date'` keys. Your job is to write a function that returns the number of days that have passed between these two dates. You'll then apply this function over the bills where the `'current_status'` is `'enacted_signed'`. Finally, you'll compute the average number of days. "
   ]
  },
  {
   "cell_type": "code",
   "execution_count": 12,
   "metadata": {},
   "outputs": [],
   "source": [
    "# Define a function lifespan that takes a dictionary d as input\n",
    "def lifespan(d):\n",
    "    # Convert to datetime\n",
    "    current = pd.to_datetime(d['current_status_date'])\n",
    "    intro = pd.to_datetime(d['introduced_date'])\n",
    "\n",
    "    # Return the number of days\n",
    "    return (current - intro).days"
   ]
  },
  {
   "cell_type": "code",
   "execution_count": 13,
   "metadata": {},
   "outputs": [
    {
     "name": "stdout",
     "output_type": "stream",
     "text": [
      "228.03521703521704\n"
     ]
    }
   ],
   "source": [
    "# Filter bills_dicts: days\n",
    "days = bills_dicts.filter(lambda s:s['current_status']=='enacted_signed').map(lifespan)\n",
    "\n",
    "# Print the mean value of the days Bag\n",
    "print(days.mean().compute())"
   ]
  }
 ],
 "metadata": {
  "kernelspec": {
   "display_name": "Python 3",
   "language": "python",
   "name": "python3"
  },
  "language_info": {
   "codemirror_mode": {
    "name": "ipython",
    "version": 3
   },
   "file_extension": ".py",
   "mimetype": "text/x-python",
   "name": "python",
   "nbconvert_exporter": "python",
   "pygments_lexer": "ipython3",
   "version": "3.7.4"
  }
 },
 "nbformat": 4,
 "nbformat_minor": 2
}
