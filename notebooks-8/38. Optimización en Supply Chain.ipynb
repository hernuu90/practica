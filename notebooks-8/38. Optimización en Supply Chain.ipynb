{
 "cells": [
  {
   "cell_type": "markdown",
   "metadata": {},
   "source": [
    "# Supply Chain Analytics\n",
    "\n",
    "Transform supply chain activities from guessing, to ones that makes decision using data. An essential tool in Supply Chain Analytics is using optimization analysis to assist in decision making. According to Deloitte, 79% of organizations with high performing supply chains achieve revenue growth that is significantly above average. \n",
    "\n",
    "This notebook will introduce you to `PuLP`, a Linear Program optimization modeler written in Python. Using `PuLP`, the notebook will show you how to formulate and answer Supply Chain optimization questions such as where a production facility should be located, how to allocate production demand across different facilities, and more. \n",
    "\n",
    "We will explore the results of the models and their implications through sensitivity and simulation testing. This notebook will help you position yourself to improve the decision making of a supply chain by leveraging the power of Python and `PuLP`.\n"
   ]
  },
  {
   "cell_type": "markdown",
   "metadata": {},
   "source": [
    "Linear Programming (LP) is a key technique for Supply Chain Optimization. The `PuLP` framework is an easy to use tool for working with LP problems and allows the programmer to focus on modeling. \n",
    "\n",
    "We learn the basics of LP problems and start to learn how to use the `PuLP` framework to solve them."
   ]
  },
  {
   "cell_type": "markdown",
   "metadata": {},
   "source": [
    "<img src= '../images/lp.jpg'>"
   ]
  },
  {
   "cell_type": "markdown",
   "metadata": {},
   "source": [
    "## To LP, or to not IP?\n",
    "In this exercise you are optimizing the manufacturing costs over a manufacturing site. The site only manufactures two types of hammers, types A and B. Considering the objective function and constraints listed below, what type of modeling optimization is this?\n",
    "\n",
    "- Minimize: `0.32*A + 0.74*B`\n",
    "\n",
    "- Subject to:\n",
    "    - `A ≥ 0`\n",
    "    - `B ≥ 0`\n",
    "    - `A + 6B ≥ 70`\n",
    "    \n",
    "- A = Number of individual hammers of type A\n",
    "- B = Number of individual hammers of type B\n",
    "\n",
    "Since our decision variables are the number of hammers they must be discrete variables. You are not manufacturing partial hammers."
   ]
  },
  {
   "cell_type": "markdown",
   "metadata": {},
   "source": [
    "# Simple resource scheduling exercise\n",
    "In this exercise you are planning the production at a glass manufacturer. This manufacturer only produces wine and beer glasses:\n",
    "\n",
    "- there is a maximum production capacity of 60 hours\n",
    "- each batch of wine and beer glasses takes 6 and 5 hours respectively\n",
    "- the warehouse has a maximum capacity of 150 rack spaces\n",
    "- each batch of the wine and beer glasses takes 10 and 20 spaces respectively\n",
    "- the production equipment can only make full batches, no partial batches\n",
    "\n",
    "Also, we only have orders for 6 batches of wine glasses. Therefore, we do not want to produce more than this. Each batch of the wine glasses earns a profit of usd5 and the beer usd4.5.\n",
    "\n",
    "The objective is to maximize the profit for the manufacturer."
   ]
  },
  {
   "cell_type": "code",
   "execution_count": 8,
   "metadata": {},
   "outputs": [],
   "source": [
    "from pulp import LpProblem, LpMaximize, LpVariable"
   ]
  },
  {
   "cell_type": "markdown",
   "metadata": {},
   "source": [
    "Initializes the model using the `LpProblem()` function. Remember you want to model the objective function as the amount of profit earned."
   ]
  },
  {
   "cell_type": "code",
   "execution_count": 6,
   "metadata": {},
   "outputs": [],
   "source": [
    "# Initialize Class\n",
    "model = LpProblem(\"Maximize_Glass_Profit\", LpMaximize)"
   ]
  },
  {
   "cell_type": "markdown",
   "metadata": {},
   "source": [
    "Define the model variables for the number of wine and beer produced. In terms of profit, the sky is the limit, but we definitely want to ensure we're not losing money."
   ]
  },
  {
   "cell_type": "code",
   "execution_count": 9,
   "metadata": {},
   "outputs": [],
   "source": [
    "# Define Decision Variables\n",
    "wine = LpVariable('Wine', lowBound=0, upBound=None, cat='Integer')\n",
    "beer = LpVariable('Beer', lowBound=0, upBound=None, cat='Integer')"
   ]
  },
  {
   "cell_type": "markdown",
   "metadata": {},
   "source": [
    "Write the objective function. How does each wine and beer glass produced affect profit?"
   ]
  },
  {
   "cell_type": "code",
   "execution_count": 10,
   "metadata": {},
   "outputs": [],
   "source": [
    "# Define Objective Function\n",
    "model += 5 * wine + 4.5 * beer"
   ]
  },
  {
   "cell_type": "markdown",
   "metadata": {},
   "source": [
    "Define the 3 model constraints. Think about the production capacity, reflect on the warehouse capacity, and don't forget about the current amount of orders. The 3 constraints:\n",
    "\n",
    "- One limits the total amount of production based on hours to less than or equal to 60.\n",
    "- One limits the total amount of production based the total rack spaces in the warehouse of less than or equal to 150\n",
    "- One limits wine glass production based on current demand of less than equal to 6 batches."
   ]
  },
  {
   "cell_type": "code",
   "execution_count": 11,
   "metadata": {},
   "outputs": [],
   "source": [
    "# Define Constraints\n",
    "model += 6 * wine + 5 * beer <= 60\n",
    "model += 10 * wine + 20 * beer <= 150\n",
    "model += wine <= 6"
   ]
  },
  {
   "cell_type": "code",
   "execution_count": 12,
   "metadata": {},
   "outputs": [
    {
     "data": {
      "text/plain": [
       "1"
      ]
     },
     "execution_count": 12,
     "metadata": {},
     "output_type": "execute_result"
    }
   ],
   "source": [
    "# Solve Model\n",
    "model.solve()"
   ]
  },
  {
   "cell_type": "code",
   "execution_count": 13,
   "metadata": {},
   "outputs": [
    {
     "name": "stdout",
     "output_type": "stream",
     "text": [
      "Produce 6.0 batches of wine glasses\n",
      "Produce 4.0 batches of beer glasses\n"
     ]
    }
   ],
   "source": [
    "print(\"Produce {} batches of wine glasses\".format(wine.varValue))\n",
    "print(\"Produce {} batches of beer glasses\".format(beer.varValue))"
   ]
  },
  {
   "cell_type": "markdown",
   "metadata": {},
   "source": [
    "Awesome job! Using `LpMaximize()` makes sense because we are trying to maximize profits. It does not make sense to set an upper bound on the number of wine or beer glasses produced: the more the better. However, setting a lower bound is important because producing negative glasses is impossible. Also, selecting the variable to be an integer makes sense because we can not make half batches. Adding the last constraint on wine based on current orders is important to add to avoid producing too many wine glasses."
   ]
  },
  {
   "cell_type": "markdown",
   "metadata": {},
   "source": [
    "# Logistics planning problem\n",
    "You are consulting for kitchen oven manufacturer helping to plan their logistics for next month. There are two warehouse locations (New York, and Atlanta), and four regional customer locations (East, South, Midwest, West). The expected demand next month for East it is 1,800, for South it is 1,200, for the Midwest it is 1,100, and for West it is 1000. The cost for shipping each of the warehouse locations to the regional customer's is listed in the table below. Your goal is to fulfill the regional demand at the lowest price.\n",
    "\n",
    "|Customer |\tNew York |\tAtlanta\n",
    "| -- | -- | -- |\n",
    "| East |\t211 |\t232\n",
    "| South |\t232 |\t212\n",
    "| Midwest |\t240 |\t230\n",
    "| West |\t300 |\t280"
   ]
  },
  {
   "cell_type": "code",
   "execution_count": 24,
   "metadata": {},
   "outputs": [],
   "source": [
    "from pulp import *"
   ]
  },
  {
   "cell_type": "markdown",
   "metadata": {},
   "source": [
    "Two Python dictionaries `costs` and `var_dict` have been created for you containing the costs and decision variables of the model. You can explore them in the console."
   ]
  },
  {
   "cell_type": "code",
   "execution_count": 18,
   "metadata": {},
   "outputs": [],
   "source": [
    "costs = {('Atlanta', 'East'): 232,\n",
    "         ('Atlanta', 'Midwest'): 230,\n",
    "         ('Atlanta', 'South'): 212,\n",
    "         ('Atlanta', 'West'): 280,\n",
    "         ('New York', 'East'): 211,\n",
    "         ('New York', 'Midwest'): 240,\n",
    "         ('New York', 'South'): 232,\n",
    "         ('New York', 'West'): 300}"
   ]
  },
  {
   "cell_type": "code",
   "execution_count": 21,
   "metadata": {},
   "outputs": [],
   "source": [
    "# Define Decision Variables\n",
    "atle = LpVariable('atle', lowBound=0, upBound=None, cat='Integer')\n",
    "atlm = LpVariable('atlm', lowBound=0, upBound=None, cat='Integer')\n",
    "atls = LpVariable('atls', lowBound=0, upBound=None, cat='Integer')\n",
    "atlw = LpVariable('atlw', lowBound=0, upBound=None, cat='Integer')\n",
    "ne = LpVariable('ne', lowBound=0, upBound=None, cat='Integer')\n",
    "nm = LpVariable('nm', lowBound=0, upBound=None, cat='Integer')\n",
    "ns = LpVariable('ns', lowBound=0, upBound=None, cat='Integer')\n",
    "nw = LpVariable('nw', lowBound=0, upBound=None, cat='Integer')"
   ]
  },
  {
   "cell_type": "code",
   "execution_count": 22,
   "metadata": {},
   "outputs": [],
   "source": [
    "var_dict = {('Atlanta', 'East'): atle,\n",
    "         ('Atlanta', 'Midwest'): atlm,\n",
    "         ('Atlanta', 'South'): atls,\n",
    "         ('Atlanta', 'West'): atlw,\n",
    "         ('New York', 'East'): ne,\n",
    "         ('New York', 'Midwest'): nm,\n",
    "         ('New York', 'South'): ns,\n",
    "         ('New York', 'West'): nw}"
   ]
  },
  {
   "cell_type": "code",
   "execution_count": 25,
   "metadata": {},
   "outputs": [],
   "source": [
    "# Initialize Model\n",
    "model = LpProblem(\"Minimize_Transportation_Costs\", LpMinimize)"
   ]
  },
  {
   "cell_type": "markdown",
   "metadata": {},
   "source": [
    "Create a list for the `warehouse` locations, the regional `customers` and the `regional_demand` respectively, making sure the demand and customer indices match, and zip the `customers` and `regional_demand` lists to build the `demand` dictionary."
   ]
  },
  {
   "cell_type": "code",
   "execution_count": 26,
   "metadata": {},
   "outputs": [
    {
     "data": {
      "text/plain": [
       "{'East': 1800, 'South': 1200, 'Midwest': 1100, 'West': 1000}"
      ]
     },
     "execution_count": 26,
     "metadata": {},
     "output_type": "execute_result"
    }
   ],
   "source": [
    "# Build the lists and the demand dictionary\n",
    "warehouse = ['New York', 'Atlanta']\n",
    "customers = ['East', 'South', 'Midwest', 'West']\n",
    "regional_demand = [1800, 1200, 1100, 1000]\n",
    "\n",
    "demand = dict(zip(customers, regional_demand))\n",
    "demand"
   ]
  },
  {
   "cell_type": "markdown",
   "metadata": {},
   "source": [
    "Our decision variables in this exercise are the number of shipments for each warehouse and customer combination. You want to minimize the total cost of shipping. The total cost of shipping is the shipping costs along a route multiplied by the number of shipments along that route. Define the objective function using `lpSum()` with list comprehension, using the `var_dict` dictionary that was created for you, iterating over customers."
   ]
  },
  {
   "cell_type": "code",
   "execution_count": 27,
   "metadata": {},
   "outputs": [],
   "source": [
    "# Define Objective\n",
    "model += lpSum([costs[(w, c)] * var_dict[(w, c)] \n",
    "                for c in customers for w in warehouse])"
   ]
  },
  {
   "cell_type": "markdown",
   "metadata": {},
   "source": [
    "Define the constraint using `lpSum`. Loop through the list of `customers`, and for each sum the shipments from the warehouses and set it equal to the customer demand. Remember we now have the customer demand as a dictionary with the customer name as the key."
   ]
  },
  {
   "cell_type": "code",
   "execution_count": 28,
   "metadata": {},
   "outputs": [],
   "source": [
    "# For each customer, sum warehouse shipments and set equal to customer demand\n",
    "for c in customers:\n",
    "    model += lpSum([var_dict[(w, c)] for w in warehouse]) == demand[c]"
   ]
  },
  {
   "cell_type": "code",
   "execution_count": 29,
   "metadata": {},
   "outputs": [
    {
     "data": {
      "text/plain": [
       "1"
      ]
     },
     "execution_count": 29,
     "metadata": {},
     "output_type": "execute_result"
    }
   ],
   "source": [
    "# Solve Model\n",
    "model.solve()"
   ]
  },
  {
   "cell_type": "code",
   "execution_count": 33,
   "metadata": {},
   "outputs": [
    {
     "name": "stdout",
     "output_type": "stream",
     "text": [
      "atle = 0.0\n",
      "atlm = 1100.0\n",
      "atls = 1200.0\n",
      "atlw = 1000.0\n",
      "ne = 1800.0\n",
      "nm = 0.0\n",
      "ns = 0.0\n",
      "nw = 0.0\n"
     ]
    }
   ],
   "source": [
    "print(\"atle = {}\".format(atle.varValue))\n",
    "print(\"atlm = {}\".format(atlm.varValue))\n",
    "print(\"atls = {}\".format(atls.varValue))\n",
    "print(\"atlw = {}\".format(atlw.varValue))\n",
    "print(\"ne = {}\".format(ne.varValue))\n",
    "print(\"nm = {}\".format(nm.varValue))\n",
    "print(\"ns = {}\".format(ns.varValue))\n",
    "print(\"nw = {}\".format(nw.varValue))"
   ]
  },
  {
   "cell_type": "markdown",
   "metadata": {},
   "source": [
    "# Scheduling workers problem\n",
    "You are looking to hire workers to work in a warehouse. Each worker is expected to work 5 consecutive days and then have two days off. The chart below has the estimated number of workers you will need each day. You are looking to hire the minimum number of workers to handle the workload for each day.\n",
    "\n",
    "Expected Workload:\n",
    "\n",
    "| Day of Week\t| Employees Needed |\n",
    "| -- | -- |\n",
    "| 0 = Monday\t| 31 |\n",
    "| 1 = Tuesday\t| 45 | \n",
    "| 2 = Wednesday\t| 40 |\n",
    "| 3 = Thursday\t| 40 |\n",
    "| 4 = Friday\t| 48 |\n",
    "| 5 = Saturday\t| 30 |\n",
    "| 6 = Sunday\t| 25 |"
   ]
  },
  {
   "cell_type": "code",
   "execution_count": 34,
   "metadata": {},
   "outputs": [],
   "source": [
    "model = LpProblem(\"Minimize Staffing\", LpMinimize)"
   ]
  },
  {
   "cell_type": "code",
   "execution_count": 35,
   "metadata": {},
   "outputs": [],
   "source": [
    "days = list(range(7))\n",
    "x = LpVariable.dicts('staff_', days, lowBound=0, cat='Integer')"
   ]
  },
  {
   "cell_type": "code",
   "execution_count": 36,
   "metadata": {},
   "outputs": [],
   "source": [
    "model += lpSum([x[i] for i in days])"
   ]
  },
  {
   "cell_type": "markdown",
   "metadata": {},
   "source": [
    "Define the seven constraints on the number of workers working on a day. There is a pattern to the constraints. Think about what days a worker would be off if they started on Mon., Tue., Wed., …."
   ]
  },
  {
   "cell_type": "code",
   "execution_count": 37,
   "metadata": {},
   "outputs": [],
   "source": [
    "# Define Constraints\n",
    "model += x[0] + x[3] + x[4] + x[5] + x[6] >= 31\n",
    "model += x[0] + x[1] + x[4] + x[5] + x[6] >= 45\n",
    "model += x[0] + x[1] + x[2] + x[5] + x[6] >= 40\n",
    "model += x[0] + x[1] + x[2] + x[3] + x[6] >= 40\n",
    "model += x[0] + x[1] + x[2] + x[3] + x[4] >= 48\n",
    "model += x[1] + x[2] + x[3] + x[4] + x[5] >= 30\n",
    "model += x[2] + x[3] + x[4] + x[5] + x[6] >= 25"
   ]
  },
  {
   "cell_type": "code",
   "execution_count": 38,
   "metadata": {},
   "outputs": [
    {
     "data": {
      "text/plain": [
       "1"
      ]
     },
     "execution_count": 38,
     "metadata": {},
     "output_type": "execute_result"
    }
   ],
   "source": [
    "model.solve()"
   ]
  },
  {
   "cell_type": "code",
   "execution_count": 48,
   "metadata": {
    "scrolled": true
   },
   "outputs": [
    {
     "name": "stdout",
     "output_type": "stream",
     "text": [
      "Day of the week 0 = 14.0\n",
      "Day of the week 1 = 14.0\n",
      "Day of the week 2 = 8.0\n",
      "Day of the week 3 = 0.0\n",
      "Day of the week 4 = 13.0\n",
      "Day of the week 5 = 0.0\n",
      "Day of the week 6 = 4.0\n",
      "Total workers 53.0\n"
     ]
    }
   ],
   "source": [
    "total = 0\n",
    "for i, v in x.items():\n",
    "    print(f'Day of the week {i} = {v.varValue}')\n",
    "    total += v.varValue\n",
    "print(f'Total workers {total}')"
   ]
  },
  {
   "cell_type": "markdown",
   "metadata": {},
   "source": [
    "# Logical constraint exercise\n",
    "Your customer has ordered six products to be delivered over the next month. You will need to ship multiple truck loads to deliver all of the products. There is a weight limit on your trucks of 25,000 lbs. For cash flow reasons you desire to ship the most profitable combination of products that can fit on your truck.\n",
    "\n",
    "| Product\t| Weight (lbs) |\tProfitability ($US) |\n",
    "| --- | --- | --- |\n",
    "| A\t| 12,583 |\t102,564 |\n",
    "| B\t| 9,204 |\t130,043 |\n",
    "| C\t| 12,611 |\t127,648 |\n",
    "| D\t| 12,131 |\t155,058 |\n",
    "| E\t| 12,889 |\t238,846 |\n",
    "| F\t| 11,529 |\t197,030 |"
   ]
  },
  {
   "cell_type": "code",
   "execution_count": 50,
   "metadata": {},
   "outputs": [],
   "source": [
    "weight = {'A':12583,\n",
    "         'B':9204,\n",
    "         'C':12611,\n",
    "         'D':12131,\n",
    "         'E':12889,\n",
    "         'F':11529}"
   ]
  },
  {
   "cell_type": "code",
   "execution_count": 51,
   "metadata": {},
   "outputs": [],
   "source": [
    "prof = {'A':102564,\n",
    "         'B':130043,\n",
    "         'C':127648,\n",
    "         'D':155058,\n",
    "         'E':238846,\n",
    "         'F':197030}"
   ]
  },
  {
   "cell_type": "code",
   "execution_count": 52,
   "metadata": {},
   "outputs": [],
   "source": [
    "prod = ['A','B','C','D','E','F']"
   ]
  },
  {
   "cell_type": "code",
   "execution_count": 53,
   "metadata": {},
   "outputs": [
    {
     "name": "stderr",
     "output_type": "stream",
     "text": [
      "C:\\Users\\vilieri.i\\AppData\\Local\\Continuum\\anaconda3\\lib\\site-packages\\pulp\\pulp.py:1195: UserWarning: Spaces are not permitted in the name. Converted to '_'\n",
      "  warnings.warn(\"Spaces are not permitted in the name. Converted to '_'\")\n"
     ]
    }
   ],
   "source": [
    "# Initialized model\n",
    "model = LpProblem(\"Loading_Truck_Problem\", LpMaximize)"
   ]
  },
  {
   "cell_type": "code",
   "execution_count": 54,
   "metadata": {},
   "outputs": [],
   "source": [
    "# Defined decision variables\n",
    "x = LpVariable.dicts('ship_', prod, cat='Binary')"
   ]
  },
  {
   "cell_type": "code",
   "execution_count": 55,
   "metadata": {},
   "outputs": [],
   "source": [
    "# Define Objective\n",
    "model += lpSum([prof[i] * x[i] for i in prod])"
   ]
  },
  {
   "cell_type": "code",
   "execution_count": 59,
   "metadata": {},
   "outputs": [],
   "source": [
    "# Define Constraint\n",
    "model += lpSum([weight[i] * x[i] for i in prod]) <= 25000\n",
    "model += x['D'] + x['E'] + x['F'] <= 1"
   ]
  },
  {
   "cell_type": "code",
   "execution_count": 60,
   "metadata": {},
   "outputs": [
    {
     "data": {
      "text/plain": [
       "1"
      ]
     },
     "execution_count": 60,
     "metadata": {},
     "output_type": "execute_result"
    }
   ],
   "source": [
    "model.solve()"
   ]
  },
  {
   "cell_type": "code",
   "execution_count": 61,
   "metadata": {},
   "outputs": [
    {
     "name": "stdout",
     "output_type": "stream",
     "text": [
      "A status 0.0\n",
      "B status 1.0\n",
      "C status 0.0\n",
      "D status 0.0\n",
      "E status 1.0\n",
      "F status 0.0\n"
     ]
    }
   ],
   "source": [
    "for i in prod:\n",
    "    print(\"{} status {}\".format(i, x[i].varValue))"
   ]
  }
 ],
 "metadata": {
  "kernelspec": {
   "display_name": "Python 3",
   "language": "python",
   "name": "python3"
  },
  "language_info": {
   "codemirror_mode": {
    "name": "ipython",
    "version": 3
   },
   "file_extension": ".py",
   "mimetype": "text/x-python",
   "name": "python",
   "nbconvert_exporter": "python",
   "pygments_lexer": "ipython3",
   "version": "3.7.4"
  }
 },
 "nbformat": 4,
 "nbformat_minor": 2
}
