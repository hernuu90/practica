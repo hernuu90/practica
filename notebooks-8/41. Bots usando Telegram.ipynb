{
 "cells": [
  {
   "cell_type": "markdown",
   "metadata": {},
   "source": [
    "# Your first Bot\n",
    "\n",
    "The `telegram.ext` submodule is built on top of the pure API implementation. It provides an easy-to-use interface and takes some work off the programmer, so you don't have to repeat yourself.\n",
    "\n",
    "It consists of several classes, but the two most important ones are `telegram.ext.Updater` and `telegram.ext.Dispatcher`.\n",
    "\n",
    "The `Updater` class continuously fetches new updates from telegram and passes them on to the `Dispatcher` class. If you create an `Updater` object, it will create a `Dispatcher` for you and link them together with a `Queue`. You can then register handlers of different types in the `Dispatcher`, which will sort the updates fetched by the `Updater` according to the handlers you registered, and deliver them to a callback function that you defined.\n",
    "\n",
    "Every handler is an instance of any subclass of the `telegram.ext.Handler` class. The library provides handler classes for almost all use cases, but if you need something very specific, you can also subclass Handler yourself."
   ]
  },
  {
   "cell_type": "markdown",
   "metadata": {},
   "source": [
    "To begin, you'll need an Access Token. If you have already read and followed Introduction to the API, you can use the one you generated then. If not: To generate an Access Token, you have to talk to `@BotFather` and follow a few simple steps (described here: https://core.telegram.org/bots#6-botfather). You should really read the introduction first, though."
   ]
  },
  {
   "cell_type": "code",
   "execution_count": null,
   "metadata": {},
   "outputs": [],
   "source": [
    "!pip install python-telegram-bot --upgrade"
   ]
  },
  {
   "cell_type": "code",
   "execution_count": 1,
   "metadata": {},
   "outputs": [],
   "source": [
    "import telegram\n",
    "from telegram.ext import Updater\n",
    "from telegram.ext import CommandHandler, MessageHandler, Filters"
   ]
  },
  {
   "cell_type": "code",
   "execution_count": 2,
   "metadata": {},
   "outputs": [],
   "source": [
    "def set_bot(token_for_bot):\n",
    "    '''\n",
    "    Starts and sets up the bot\n",
    "    Parameters:\n",
    "        token_for_bot : token ID of the bot\n",
    "    '''\n",
    "    bot = telegram.Bot(token=token_for_bot)\n",
    "    updater = Updater(token=token_for_bot)\n",
    "    dispatcher = updater.dispatcher\n",
    "    return bot, updater, dispatcher"
   ]
  },
  {
   "cell_type": "code",
   "execution_count": 6,
   "metadata": {},
   "outputs": [],
   "source": [
    "# Set bot token\n",
    "token_for_bot = '623369080:AAFG4DaG8V0mYtejZOk66pJyVuqXE85dwWo'\n",
    "\n",
    "# Set Chat ID\n",
    "chatID = -328059589"
   ]
  },
  {
   "cell_type": "code",
   "execution_count": null,
   "metadata": {},
   "outputs": [],
   "source": [
    "bot, updater, dispatcher = set_bot(token_for_bot)\n",
    "m = 'Data Science rulez!'\n",
    "\n",
    "bot.send_message(chat_id=chatID, text=m)"
   ]
  },
  {
   "cell_type": "markdown",
   "metadata": {},
   "source": [
    "## Your first Bot, step-by-step\n",
    "\n",
    "So, let's get started! Again, please fire up a Python command line if you want to follow this tutorial.\n",
    "\n",
    "First, you have to create an `Updater` object. Replace 'TOKEN' with your Bot's API token."
   ]
  },
  {
   "cell_type": "code",
   "execution_count": null,
   "metadata": {},
   "outputs": [],
   "source": [
    "updater = Updater(token=token_for_bot)"
   ]
  },
  {
   "cell_type": "markdown",
   "metadata": {},
   "source": [
    "**Note:** The `use_context=True` is a special argument only needed for version 12 of the library. The default value is False. It allows for better backwards compatibility with older versions of the library, and to give users some time to upgrade. From version 13 `use_context=True` will be the default.\n",
    "\n",
    "For quicker access to the Dispatcher used by your Updater, you can introduce it locally:"
   ]
  },
  {
   "cell_type": "code",
   "execution_count": null,
   "metadata": {},
   "outputs": [],
   "source": [
    "dispatcher = updater.dispatcher"
   ]
  },
  {
   "cell_type": "markdown",
   "metadata": {},
   "source": [
    "Now, you can define a function that should process a specific type of update:"
   ]
  },
  {
   "cell_type": "code",
   "execution_count": null,
   "metadata": {},
   "outputs": [],
   "source": [
    "def start(update, context):\n",
    "    context.bot.send_message(chat_id=update.effective_chat.id, text=\"I'm a bot, please talk to me!\")"
   ]
  },
  {
   "cell_type": "markdown",
   "metadata": {},
   "source": [
    "The goal is to have this function called every time the Bot receives a Telegram message that contains the `/start` command. To accomplish that, you can use a `CommandHandler` (one of the provided Handler subclasses) and register it in the dispatcher:"
   ]
  },
  {
   "cell_type": "code",
   "execution_count": null,
   "metadata": {},
   "outputs": [],
   "source": [
    "start_handler = CommandHandler('start', start)\n",
    "dispatcher.add_handler(start_handler)"
   ]
  },
  {
   "cell_type": "markdown",
   "metadata": {},
   "source": [
    "And that's all you need. To start the bot, run:"
   ]
  },
  {
   "cell_type": "code",
   "execution_count": null,
   "metadata": {},
   "outputs": [],
   "source": [
    "updater.start_polling()"
   ]
  },
  {
   "cell_type": "code",
   "execution_count": null,
   "metadata": {},
   "outputs": [],
   "source": [
    "updater.stop()"
   ]
  },
  {
   "cell_type": "markdown",
   "metadata": {},
   "source": [
    "Let's add some actual functionality to your bot. We want to implement a `/caps` command that will take some text as an argument and reply to it in CAPS. To make things easy, you can receive the arguments (as a list, split on spaces) that were passed to a command in the callback function:"
   ]
  },
  {
   "cell_type": "code",
   "execution_count": null,
   "metadata": {},
   "outputs": [],
   "source": [
    "def caps(update, context):\n",
    "    text_caps = ' '.join(context.args).upper()\n",
    "    context.bot.send_message(chat_id=update.effective_chat.id, text=text_caps)"
   ]
  },
  {
   "cell_type": "code",
   "execution_count": null,
   "metadata": {},
   "outputs": [],
   "source": [
    "caps_handler = CommandHandler('caps', caps)\n",
    "dispatcher.add_handler(caps_handler)"
   ]
  },
  {
   "cell_type": "markdown",
   "metadata": {},
   "source": [
    "Some confused users might try to send commands to the bot that it doesn't understand, so you can use a `MessageHandler` with a command filter to reply to all commands that were not recognized by the previous handlers."
   ]
  },
  {
   "cell_type": "code",
   "execution_count": null,
   "metadata": {},
   "outputs": [],
   "source": [
    "def unknown(update, context):\n",
    "    context.bot.send_message(chat_id=update.effective_chat.id, text=\"Sorry, I didn't understand that command.\")"
   ]
  },
  {
   "cell_type": "code",
   "execution_count": null,
   "metadata": {},
   "outputs": [],
   "source": [
    "unknown_handler = MessageHandler(Filters.command, unknown)\n",
    "dispatcher.add_handler(unknown_handler)"
   ]
  },
  {
   "cell_type": "markdown",
   "metadata": {},
   "source": [
    "# Telegram + Alpha Vantage"
   ]
  },
  {
   "cell_type": "code",
   "execution_count": 3,
   "metadata": {},
   "outputs": [],
   "source": [
    "from alpha_vantage.timeseries import TimeSeries"
   ]
  },
  {
   "cell_type": "code",
   "execution_count": 4,
   "metadata": {},
   "outputs": [],
   "source": [
    "# Api Key\n",
    "k = 'CTUT62DDBNIHLABT'"
   ]
  },
  {
   "cell_type": "code",
   "execution_count": null,
   "metadata": {},
   "outputs": [],
   "source": [
    "# Set bot token\n",
    "token_for_bot = '623369080:AAFG4DaG8V0mYtejZOk66pJyVuqXE85dwWo'"
   ]
  },
  {
   "cell_type": "code",
   "execution_count": 7,
   "metadata": {},
   "outputs": [],
   "source": [
    "bot, updater, dispatcher = set_bot(token_for_bot)"
   ]
  },
  {
   "cell_type": "code",
   "execution_count": 8,
   "metadata": {},
   "outputs": [],
   "source": [
    "def price(update, context):\n",
    "    ticker = context.args\n",
    "    ts = TimeSeries(key=k, output_format='pandas', indexing_type='date')\n",
    "    try:\n",
    "        data, meta_data = ts.get_intraday(symbol=ticker, interval='1min')\n",
    "        price = data.iloc[0, 3]\n",
    "        context.bot.send_message(chat_id=update.effective_chat.id, text=price)\n",
    "    except:\n",
    "        context.bot.send_message(chat_id=update.effective_chat.id, text='Wrong ticker name, try again!')"
   ]
  },
  {
   "cell_type": "code",
   "execution_count": 9,
   "metadata": {},
   "outputs": [],
   "source": [
    "price_handler = CommandHandler('price', price)\n",
    "dispatcher.add_handler(price_handler)"
   ]
  },
  {
   "cell_type": "code",
   "execution_count": 10,
   "metadata": {},
   "outputs": [
    {
     "data": {
      "text/plain": [
       "<queue.Queue at 0x1677dc37508>"
      ]
     },
     "execution_count": 10,
     "metadata": {},
     "output_type": "execute_result"
    }
   ],
   "source": [
    "updater.start_polling()"
   ]
  },
  {
   "cell_type": "code",
   "execution_count": null,
   "metadata": {},
   "outputs": [],
   "source": [
    "updater.stop()"
   ]
  },
  {
   "cell_type": "code",
   "execution_count": 6,
   "metadata": {},
   "outputs": [
    {
     "ename": "SyntaxError",
     "evalue": "invalid syntax (<ipython-input-6-2a7d031d4b66>, line 3)",
     "output_type": "error",
     "traceback": [
      "\u001b[1;36m  File \u001b[1;32m\"<ipython-input-6-2a7d031d4b66>\"\u001b[1;36m, line \u001b[1;32m3\u001b[0m\n\u001b[1;33m    print('hola' num2 ,'me llamo robotin')\u001b[0m\n\u001b[1;37m                 ^\u001b[0m\n\u001b[1;31mSyntaxError\u001b[0m\u001b[1;31m:\u001b[0m invalid syntax\n"
     ]
    }
   ],
   "source": [
    "num1=int(input('hola,que edad tenes? : '))\n",
    "num2=str(input('como te llamas? : '))\n",
    "print('hola' num2 ,'me llamo robotin')"
   ]
  },
  {
   "cell_type": "code",
   "execution_count": null,
   "metadata": {},
   "outputs": [],
   "source": []
  }
 ],
 "metadata": {
  "kernelspec": {
   "display_name": "Python 3",
   "language": "python",
   "name": "python3"
  },
  "language_info": {
   "codemirror_mode": {
    "name": "ipython",
    "version": 3
   },
   "file_extension": ".py",
   "mimetype": "text/x-python",
   "name": "python",
   "nbconvert_exporter": "python",
   "pygments_lexer": "ipython3",
   "version": "3.8.3"
  }
 },
 "nbformat": 4,
 "nbformat_minor": 2
}
