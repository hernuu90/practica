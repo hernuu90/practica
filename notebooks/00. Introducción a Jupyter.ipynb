{
 "cells": [
  {
   "cell_type": "markdown",
   "metadata": {},
   "source": [
    "# Jupyter Notebook"
   ]
  },
  {
   "cell_type": "markdown",
   "metadata": {},
   "source": [
    "Jupyter notebook, formerly known as the IPython notebook, is a flexible tool that helps you create readable analyses, as you can keep code, images, comments, formulae and plots together."
   ]
  },
  {
   "cell_type": "markdown",
   "metadata": {},
   "source": [
    "Jupyter is quite extensible, supports many programming languages and is easily hosted on your computer or on almost any server — you only need to have ssh or http access. Best of all, it’s completely free."
   ]
  },
  {
   "cell_type": "markdown",
   "metadata": {},
   "source": [
    "Project Jupyter was born out of the IPython project as the project evolved to become a notebook that could support multiple languages – hence its historical name as the IPython notebook. The name Jupyter is an indirect acronyum of the three core languages it was designed for: JUlia, PYThon, and R and is inspired by the planet Jupiter.\n",
    "\n",
    "When working with Python in Jupyter, the IPython kernel is used, which gives us some handy access to IPython features from within our Jupyter notebooks"
   ]
  },
  {
   "cell_type": "markdown",
   "metadata": {},
   "source": [
    "<img src= '../images/interface-screenshot.png'>"
   ]
  },
  {
   "cell_type": "markdown",
   "metadata": {},
   "source": [
    "If you want to start on your notebook, go back to the main menu and click the \"Python 3\" option in the \"Notebook\" category.\n",
    "\n",
    "You will immediately see the notebook name, a menu bar, a toolbar and an empty code cell."
   ]
  },
  {
   "cell_type": "code",
   "execution_count": null,
   "metadata": {},
   "outputs": [],
   "source": []
  },
  {
   "cell_type": "markdown",
   "metadata": {},
   "source": [
    "You can immediately start with importing the necessary libraries for your code. This is one of the best practices that we will discuss in more detail later on.\n",
    "\n",
    "After, you can add, remove or edit the cells according to your needs. And don't forget to insert explanatory text or titles and subtitles to clarify your code! That's what makes a notebook a notebook in the end. "
   ]
  },
  {
   "cell_type": "markdown",
   "metadata": {},
   "source": [
    "## 1. Keyboard Shortcuts"
   ]
  },
  {
   "cell_type": "markdown",
   "metadata": {},
   "source": [
    "As any power user knows, keyboard shortcuts will save you lots of time. Jupyter stores a list of keybord shortcuts under the menu at the top: Help > Keyboard Shortcuts, or by pressing H in command mode (more on that later). It’s worth checking this each time you update Jupyter, as more shortcuts are added all the time.\n",
    "\n",
    "Another way to access keyboard shortcuts, and a handy way to learn them is to use the command palette: Cmd + Shift + P (or Ctrl + Shift + P on Linux and Windows). This dialog box helps you run any command by name – useful if you don’t know the keyboard shortcut for an action or if what you want to do does not have a keyboard shortcut. The functionality is similar to Spotlight search on a Mac, and once you start using it you’ll wonder how you lived without it!"
   ]
  },
  {
   "cell_type": "markdown",
   "metadata": {},
   "source": [
    "Some of my favorites:\n",
    "\n",
    "- Esc will take you into command mode where you can navigate around your notebook with arrow keys. While in command mode:\n",
    "    - A to insert a new cell above the current cell, B to insert a new cell below.\n",
    "    - M to change the current cell to Markdown, Y to change it back to code\n",
    "    - D + D (press the key twice) to delete the current cell\n",
    "- Enter will take you from command mode back into edit mode for the given cell.\n",
    "- Shift + Tab will show you the Docstring (documentation) for the the object you have just typed in a code cell – you can keep pressing this short cut to cycle through a few modes of documentation.\n",
    "- Ctrl + Shift + - will split the current cell into two from where your cursor is.\n",
    "- Esc + F Find and replace on your code but not the outputs.\n",
    "- Esc + O Toggle cell output.\n",
    "- Select Multiple Cells:\n",
    "    - Shift + J or Shift + Down selects the next sell in a downwards direction. You can also select sells in an upwards direction by using Shift + K or Shift + Up.\n",
    "    - Once cells are selected, you can then delete / copy / cut / paste / run them as a batch. This is helpful when you need to move parts of a notebook.\n",
    "    - You can also use Shift + M to merge multiple cells."
   ]
  },
  {
   "cell_type": "markdown",
   "metadata": {},
   "source": [
    "## 2. Pretty Display of Variables\n",
    "The first part of this is pretty widely known. By finishing a Jupyter cell with the name of a variable or unassigned output of a statement, Jupyter will display that variable without the need for a print statement. This is especially useful when dealing with Pandas DataFrames, as the output is neatly formatted into a table."
   ]
  },
  {
   "cell_type": "markdown",
   "metadata": {},
   "source": [
    "## 3. Easy links to documentation\n",
    "Inside the Help menu you’ll find handy links to the online documentation for common libraries including NumPy, Pandas, SciPy and Matplotlib.\n",
    "\n",
    "Don’t forget also that by prepending a library, method or variable with ?, you can access the Docstring for quick reference on syntax."
   ]
  },
  {
   "cell_type": "markdown",
   "metadata": {},
   "source": [
    "## 4. Plotting in notebooks\n",
    "There are many options for generating plots in your notebooks.\n",
    "\n",
    "    - matplotlib (the de-facto standard), activated with %matplotlib inline\n",
    "    - %matplotlib notebook provides interactivity but can be a little slow, since rendering is done server-side.\n",
    "    - Seaborn is built over Matplotlib and makes building more attractive plots easier. Just by importing Seaborn, your matplotlib plots are made ‘prettier’ without any code modification.\n",
    "    - mpld3 provides alternative renderer (using d3) for matplotlib code. Quite nice, though incomplete.\n",
    "    - bokeh is a better option for building interactive plots.\n",
    "    - plot.ly can generate nice plots – this used to be a paid service only but was recently open sourced.\n",
    "    - Altair is a relatively new declarative visualization library for Python. It’s easy to use and makes great looking plots, however the ability to customize those plots is not nearly as powerful as in Matplotlib."
   ]
  },
  {
   "cell_type": "markdown",
   "metadata": {},
   "source": [
    "## 5. IPython Magic – %who: List all variables of global scope.\n",
    "The %who command without any arguments will list all variables that existing in the global scope. Passing a parameter like str will list only variables of that type."
   ]
  },
  {
   "cell_type": "markdown",
   "metadata": {},
   "source": [
    "## 6. IPython Magic – Timing\n",
    "There are two IPython Magic commands that are useful for timing – %%time and %timeit. These are especially handy when you have some slow code and you’re trying to indentify where the issue is.\n",
    "\n",
    "Stated differently, the magic commands are either line-oriented or cell-oriented. In the first case, the commands are prefixed with the `%` character and they work as follows: they get as an argument the rest of the line. When you want to pass not only the line but also the lines that follow, you need cell-oriented magic: then, the commands need to be prefixed with `%%`."
   ]
  },
  {
   "cell_type": "code",
   "execution_count": 1,
   "metadata": {},
   "outputs": [
    {
     "name": "stdout",
     "output_type": "stream",
     "text": [
      "Wall time: 0 ns\n"
     ]
    }
   ],
   "source": [
    "%time x = range(100)"
   ]
  },
  {
   "cell_type": "code",
   "execution_count": 3,
   "metadata": {},
   "outputs": [
    {
     "name": "stdout",
     "output_type": "stream",
     "text": [
      "3.34 µs ± 237 ns per loop (mean ± std. dev. of 7 runs, 100000 loops each)\n"
     ]
    }
   ],
   "source": [
    "%%timeit x = range(100)\n",
    "max(x)"
   ]
  },
  {
   "cell_type": "markdown",
   "metadata": {},
   "source": [
    "## 7. IPython Magic – %prun: Show how much time your program spent in each function.\n",
    "Using `%prun statement_name` will give you an ordered table showing you the number of times each internal function was called within the statement, the time each call took as well as the cumulative time of all runs of the function."
   ]
  },
  {
   "cell_type": "markdown",
   "metadata": {},
   "source": [
    "## 8. Running R and Python in the same notebook.\n",
    "The best solution to this is to install rpy2 (requires a working version of R as well), which can be easily done with pip:"
   ]
  },
  {
   "cell_type": "markdown",
   "metadata": {},
   "source": [
    "## 9. Writing functions in other languages\n",
    "Sometimes the speed of numpy is not enough and I need to write some fast code.\n",
    "In principle, you can compile function in the dynamic library and write python wrappers…\n",
    "\n",
    "But it is much better when this boring part is done for you, right?\n",
    "\n",
    "You can write functions in cython or fortran and use those directly from python code."
   ]
  },
  {
   "cell_type": "markdown",
   "metadata": {},
   "source": [
    "## 10. Sharing notebooks\n",
    "The easiest way to share your notebook is simply using the notebook file (.ipynb), but for those who don’t use Jupyter, you have a few options:\n",
    "\n",
    "- Convert notebooks to html files using the File > Download as > HTML Menu option.\n",
    "- Upload your .ipynb file to Google Colab.\n",
    "- Share your notebook file with gists or on github, both of which render the notebooks. See this example.\n",
    "- If you upload your notebook to a github repository, you can use the handy mybinder service to allow someone half an hour of interactive Jupyter access to your repository.\n",
    "- Setup your own system with jupyterhub, this is very handy when you organize mini-course or workshop and don’t have time to care about students machines.\n",
    "- Store your notebook e.g. in dropbox and put the link to nbviewer. nbviewer will render the notebook from whichever source you host it.\n",
    "- Use the File > Download as > PDF menu to save your notebook as a PDF. If you’re going this route, I highly recommend reading Julius Schulz’s excellent article Making publication ready Python notebooks.\n",
    "- Create a blog using Pelican from your Jupyter notebooks."
   ]
  },
  {
   "cell_type": "markdown",
   "metadata": {},
   "source": [
    "More tips and tricks -> https://www.dataquest.io/blog/jupyter-notebook-tips-tricks-shortcuts/"
   ]
  },
  {
   "cell_type": "code",
   "execution_count": null,
   "metadata": {},
   "outputs": [],
   "source": []
  }
 ],
 "metadata": {
  "kernelspec": {
   "display_name": "Python 3",
   "language": "python",
   "name": "python3"
  },
  "language_info": {
   "codemirror_mode": {
    "name": "ipython",
    "version": 3
   },
   "file_extension": ".py",
   "mimetype": "text/x-python",
   "name": "python",
   "nbconvert_exporter": "python",
   "pygments_lexer": "ipython3",
   "version": "3.7.4"
  }
 },
 "nbformat": 4,
 "nbformat_minor": 2
}
