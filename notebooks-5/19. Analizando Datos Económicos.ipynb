{
 "cells": [
  {
   "cell_type": "markdown",
   "metadata": {},
   "source": [
    "# Aggregate and Calculate Proportions\n",
    "In this exercise we will explore `Hispanic racial identity`. Hispanics self-identify as a variety of races. We will use the `.sum()` method to help calculate national percentages of Hispanics identifying as each race.\n",
    "\n",
    "Census workers are often promulgating information to the public, who are used to seeing proportions as percentages. For this reason, we will use percentages."
   ]
  },
  {
   "cell_type": "code",
   "execution_count": null,
   "metadata": {},
   "outputs": [],
   "source": [
    "import pandas as pd"
   ]
  },
  {
   "cell_type": "markdown",
   "metadata": {},
   "source": [
    "Load into the data frame `states` the State-level counts from table `P5 - Hispanic or Latino Origin by Race`  "
   ]
  },
  {
   "cell_type": "code",
   "execution_count": 2,
   "metadata": {},
   "outputs": [
    {
     "data": {
      "text/html": [
       "<div>\n",
       "<style scoped>\n",
       "    .dataframe tbody tr th:only-of-type {\n",
       "        vertical-align: middle;\n",
       "    }\n",
       "\n",
       "    .dataframe tbody tr th {\n",
       "        vertical-align: top;\n",
       "    }\n",
       "\n",
       "    .dataframe thead th {\n",
       "        text-align: right;\n",
       "    }\n",
       "</style>\n",
       "<table border=\"1\" class=\"dataframe\">\n",
       "  <thead>\n",
       "    <tr style=\"text-align: right;\">\n",
       "      <th></th>\n",
       "      <th>total</th>\n",
       "      <th>nonhispanic</th>\n",
       "      <th>white</th>\n",
       "      <th>black</th>\n",
       "      <th>aian</th>\n",
       "      <th>asian</th>\n",
       "      <th>pacific</th>\n",
       "      <th>other</th>\n",
       "      <th>multiracial</th>\n",
       "      <th>hispanic</th>\n",
       "      <th>hispanic_white</th>\n",
       "      <th>hispanic_black</th>\n",
       "      <th>hispanic_aian</th>\n",
       "      <th>hispanic_asian</th>\n",
       "      <th>hispanic_pacific</th>\n",
       "      <th>hispanic_other</th>\n",
       "      <th>hispanic_multiracial</th>\n",
       "    </tr>\n",
       "  </thead>\n",
       "  <tbody>\n",
       "    <tr>\n",
       "      <td>Alabama</td>\n",
       "      <td>4779736</td>\n",
       "      <td>4594134</td>\n",
       "      <td>3204402</td>\n",
       "      <td>1244437</td>\n",
       "      <td>25907</td>\n",
       "      <td>52937</td>\n",
       "      <td>1976</td>\n",
       "      <td>4030</td>\n",
       "      <td>60445</td>\n",
       "      <td>185602</td>\n",
       "      <td>70992</td>\n",
       "      <td>6874</td>\n",
       "      <td>2311</td>\n",
       "      <td>658</td>\n",
       "      <td>1081</td>\n",
       "      <td>92880</td>\n",
       "      <td>10806</td>\n",
       "    </tr>\n",
       "    <tr>\n",
       "      <td>Alaska</td>\n",
       "      <td>710231</td>\n",
       "      <td>670982</td>\n",
       "      <td>455320</td>\n",
       "      <td>21949</td>\n",
       "      <td>102556</td>\n",
       "      <td>37459</td>\n",
       "      <td>7219</td>\n",
       "      <td>1111</td>\n",
       "      <td>45368</td>\n",
       "      <td>39249</td>\n",
       "      <td>18256</td>\n",
       "      <td>1314</td>\n",
       "      <td>2315</td>\n",
       "      <td>676</td>\n",
       "      <td>190</td>\n",
       "      <td>9991</td>\n",
       "      <td>6507</td>\n",
       "    </tr>\n",
       "    <tr>\n",
       "      <td>Arizona</td>\n",
       "      <td>6392017</td>\n",
       "      <td>4496868</td>\n",
       "      <td>3695647</td>\n",
       "      <td>239101</td>\n",
       "      <td>257426</td>\n",
       "      <td>170509</td>\n",
       "      <td>10959</td>\n",
       "      <td>8595</td>\n",
       "      <td>114631</td>\n",
       "      <td>1895149</td>\n",
       "      <td>971474</td>\n",
       "      <td>19907</td>\n",
       "      <td>39103</td>\n",
       "      <td>6186</td>\n",
       "      <td>1689</td>\n",
       "      <td>753121</td>\n",
       "      <td>103669</td>\n",
       "    </tr>\n",
       "    <tr>\n",
       "      <td>Arkansas</td>\n",
       "      <td>2915918</td>\n",
       "      <td>2729868</td>\n",
       "      <td>2173469</td>\n",
       "      <td>447102</td>\n",
       "      <td>20183</td>\n",
       "      <td>35647</td>\n",
       "      <td>5509</td>\n",
       "      <td>2121</td>\n",
       "      <td>45837</td>\n",
       "      <td>186050</td>\n",
       "      <td>71760</td>\n",
       "      <td>2793</td>\n",
       "      <td>2065</td>\n",
       "      <td>455</td>\n",
       "      <td>354</td>\n",
       "      <td>97450</td>\n",
       "      <td>11173</td>\n",
       "    </tr>\n",
       "    <tr>\n",
       "      <td>California</td>\n",
       "      <td>37253956</td>\n",
       "      <td>23240237</td>\n",
       "      <td>14956253</td>\n",
       "      <td>2163804</td>\n",
       "      <td>162250</td>\n",
       "      <td>4775070</td>\n",
       "      <td>128577</td>\n",
       "      <td>85587</td>\n",
       "      <td>968696</td>\n",
       "      <td>14013719</td>\n",
       "      <td>6497681</td>\n",
       "      <td>135268</td>\n",
       "      <td>200551</td>\n",
       "      <td>85937</td>\n",
       "      <td>15809</td>\n",
       "      <td>6231785</td>\n",
       "      <td>846688</td>\n",
       "    </tr>\n",
       "  </tbody>\n",
       "</table>\n",
       "</div>"
      ],
      "text/plain": [
       "               total  nonhispanic     white    black    aian    asian  \\\n",
       "Alabama      4779736      4594134   3204402  1244437   25907    52937   \n",
       "Alaska        710231       670982    455320    21949  102556    37459   \n",
       "Arizona      6392017      4496868   3695647   239101  257426   170509   \n",
       "Arkansas     2915918      2729868   2173469   447102   20183    35647   \n",
       "California  37253956     23240237  14956253  2163804  162250  4775070   \n",
       "\n",
       "            pacific  other  multiracial  hispanic  hispanic_white  \\\n",
       "Alabama        1976   4030        60445    185602           70992   \n",
       "Alaska         7219   1111        45368     39249           18256   \n",
       "Arizona       10959   8595       114631   1895149          971474   \n",
       "Arkansas       5509   2121        45837    186050           71760   \n",
       "California   128577  85587       968696  14013719         6497681   \n",
       "\n",
       "            hispanic_black  hispanic_aian  hispanic_asian  hispanic_pacific  \\\n",
       "Alabama               6874           2311             658              1081   \n",
       "Alaska                1314           2315             676               190   \n",
       "Arizona              19907          39103            6186              1689   \n",
       "Arkansas              2793           2065             455               354   \n",
       "California          135268         200551           85937             15809   \n",
       "\n",
       "            hispanic_other  hispanic_multiracial  \n",
       "Alabama              92880                 10806  \n",
       "Alaska                9991                  6507  \n",
       "Arizona             753121                103669  \n",
       "Arkansas             97450                 11173  \n",
       "California         6231785                846688  "
      ]
     },
     "execution_count": 2,
     "metadata": {},
     "output_type": "execute_result"
    }
   ],
   "source": [
    "states = pd.read_csv('../data/19. Analizando Datos Económicos/states.csv', index_col=0)\n",
    "states.head()"
   ]
  },
  {
   "cell_type": "markdown",
   "metadata": {},
   "source": [
    "### Calculate the percentage of Hispanics who identify as White. \n",
    "\n",
    "Use 100 times the sum of values in the `hispanic_white` column divided by the sum of values in the `hispanic` column."
   ]
  },
  {
   "cell_type": "code",
   "execution_count": 3,
   "metadata": {},
   "outputs": [
    {
     "name": "stdout",
     "output_type": "stream",
     "text": [
      "percentage of Hispanics identify as White\n"
     ]
    }
   ],
   "source": [
    "# What percentage of Hispanics identify as White?\n",
    "# Use f-string to show it nicely\n",
    "hisp_pct = 100 * states['hispanic_white'].sum() / states['hispanic'].sum()\n",
    "print(f'percentage of Hispanics identify as White: {hisp_pct}')"
   ]
  },
  {
   "cell_type": "markdown",
   "metadata": {},
   "source": [
    "Create a list `hispanic_races` with the names of columns that count Hispanics by race. Hint: they start with `hispanic_`"
   ]
  },
  {
   "cell_type": "code",
   "execution_count": 4,
   "metadata": {},
   "outputs": [
    {
     "data": {
      "text/plain": [
       "['hispanic_white',\n",
       " 'hispanic_black',\n",
       " 'hispanic_aian',\n",
       " 'hispanic_asian',\n",
       " 'hispanic_pacific',\n",
       " 'hispanic_other',\n",
       " 'hispanic_multiracial']"
      ]
     },
     "execution_count": 4,
     "metadata": {},
     "output_type": "execute_result"
    }
   ],
   "source": [
    "hispanic_races = [s  for s in states.columns if 'hispanic_' in s]\n",
    "hispanic_races"
   ]
  },
  {
   "cell_type": "markdown",
   "metadata": {},
   "source": [
    "Calculate percentages using 100 times the sum of each race column (Use the list!) divided by the sum of the hispanic column."
   ]
  },
  {
   "cell_type": "code",
   "execution_count": 5,
   "metadata": {},
   "outputs": [
    {
     "data": {
      "text/plain": [
       "hispanic_white          54.524684\n",
       "hispanic_black           3.139062\n",
       "hispanic_aian            1.300926\n",
       "hispanic_asian           0.393289\n",
       "hispanic_pacific         0.108426\n",
       "hispanic_other          34.693285\n",
       "hispanic_multiracial     5.840328\n",
       "dtype: float64"
      ]
     },
     "execution_count": 5,
     "metadata": {},
     "output_type": "execute_result"
    }
   ],
   "source": [
    "# What percentage of Hispanics identify as each race?\n",
    "100 * states[hispanic_races].sum() / states['hispanic'].sum()"
   ]
  },
  {
   "cell_type": "markdown",
   "metadata": {},
   "source": [
    "## Calculate Proportions\n",
    "Nationally, 55% of Hispanics identify as White and 35% identify as \"Some Other Race\".\n",
    "\n",
    "But there is substantial state-to-state variation, which we will now investigate."
   ]
  },
  {
   "cell_type": "markdown",
   "metadata": {},
   "source": [
    "Use the `.copy()` method to create a deep copy of only the hispanic_races columns in states"
   ]
  },
  {
   "cell_type": "code",
   "execution_count": 6,
   "metadata": {},
   "outputs": [
    {
     "data": {
      "text/html": [
       "<div>\n",
       "<style scoped>\n",
       "    .dataframe tbody tr th:only-of-type {\n",
       "        vertical-align: middle;\n",
       "    }\n",
       "\n",
       "    .dataframe tbody tr th {\n",
       "        vertical-align: top;\n",
       "    }\n",
       "\n",
       "    .dataframe thead th {\n",
       "        text-align: right;\n",
       "    }\n",
       "</style>\n",
       "<table border=\"1\" class=\"dataframe\">\n",
       "  <thead>\n",
       "    <tr style=\"text-align: right;\">\n",
       "      <th></th>\n",
       "      <th>hispanic_white</th>\n",
       "      <th>hispanic_black</th>\n",
       "      <th>hispanic_aian</th>\n",
       "      <th>hispanic_asian</th>\n",
       "      <th>hispanic_pacific</th>\n",
       "      <th>hispanic_other</th>\n",
       "      <th>hispanic_multiracial</th>\n",
       "    </tr>\n",
       "  </thead>\n",
       "  <tbody>\n",
       "    <tr>\n",
       "      <td>Alabama</td>\n",
       "      <td>70992</td>\n",
       "      <td>6874</td>\n",
       "      <td>2311</td>\n",
       "      <td>658</td>\n",
       "      <td>1081</td>\n",
       "      <td>92880</td>\n",
       "      <td>10806</td>\n",
       "    </tr>\n",
       "    <tr>\n",
       "      <td>Alaska</td>\n",
       "      <td>18256</td>\n",
       "      <td>1314</td>\n",
       "      <td>2315</td>\n",
       "      <td>676</td>\n",
       "      <td>190</td>\n",
       "      <td>9991</td>\n",
       "      <td>6507</td>\n",
       "    </tr>\n",
       "    <tr>\n",
       "      <td>Arizona</td>\n",
       "      <td>971474</td>\n",
       "      <td>19907</td>\n",
       "      <td>39103</td>\n",
       "      <td>6186</td>\n",
       "      <td>1689</td>\n",
       "      <td>753121</td>\n",
       "      <td>103669</td>\n",
       "    </tr>\n",
       "    <tr>\n",
       "      <td>Arkansas</td>\n",
       "      <td>71760</td>\n",
       "      <td>2793</td>\n",
       "      <td>2065</td>\n",
       "      <td>455</td>\n",
       "      <td>354</td>\n",
       "      <td>97450</td>\n",
       "      <td>11173</td>\n",
       "    </tr>\n",
       "    <tr>\n",
       "      <td>California</td>\n",
       "      <td>6497681</td>\n",
       "      <td>135268</td>\n",
       "      <td>200551</td>\n",
       "      <td>85937</td>\n",
       "      <td>15809</td>\n",
       "      <td>6231785</td>\n",
       "      <td>846688</td>\n",
       "    </tr>\n",
       "  </tbody>\n",
       "</table>\n",
       "</div>"
      ],
      "text/plain": [
       "            hispanic_white  hispanic_black  hispanic_aian  hispanic_asian  \\\n",
       "Alabama              70992            6874           2311             658   \n",
       "Alaska               18256            1314           2315             676   \n",
       "Arizona             971474           19907          39103            6186   \n",
       "Arkansas             71760            2793           2065             455   \n",
       "California         6497681          135268         200551           85937   \n",
       "\n",
       "            hispanic_pacific  hispanic_other  hispanic_multiracial  \n",
       "Alabama                 1081           92880                 10806  \n",
       "Alaska                   190            9991                  6507  \n",
       "Arizona                 1689          753121                103669  \n",
       "Arkansas                 354           97450                 11173  \n",
       "California             15809         6231785                846688  "
      ]
     },
     "execution_count": 6,
     "metadata": {},
     "output_type": "execute_result"
    }
   ],
   "source": [
    "# Create a deep copy of only the Hispanic race columns\n",
    "states_hr = states[hispanic_races].copy()\n",
    "states_hr.head()"
   ]
  },
  {
   "cell_type": "markdown",
   "metadata": {},
   "source": [
    "As you iterate the races in the `hispanic_races` list, calculate the percentage of Hispanics identifying as each race as 100 times the count of the current race divided by the total number of Hispanics."
   ]
  },
  {
   "cell_type": "code",
   "execution_count": 7,
   "metadata": {},
   "outputs": [],
   "source": [
    "# Calculate percentages for all columns in the date frame\n",
    "for race in hispanic_races:\n",
    "    states_hr[race] = 100 * states[race] / states[\"hispanic\"]"
   ]
  },
  {
   "cell_type": "code",
   "execution_count": 8,
   "metadata": {},
   "outputs": [
    {
     "data": {
      "text/html": [
       "<div>\n",
       "<style scoped>\n",
       "    .dataframe tbody tr th:only-of-type {\n",
       "        vertical-align: middle;\n",
       "    }\n",
       "\n",
       "    .dataframe tbody tr th {\n",
       "        vertical-align: top;\n",
       "    }\n",
       "\n",
       "    .dataframe thead th {\n",
       "        text-align: right;\n",
       "    }\n",
       "</style>\n",
       "<table border=\"1\" class=\"dataframe\">\n",
       "  <thead>\n",
       "    <tr style=\"text-align: right;\">\n",
       "      <th></th>\n",
       "      <th>hispanic_white</th>\n",
       "      <th>hispanic_black</th>\n",
       "      <th>hispanic_aian</th>\n",
       "      <th>hispanic_asian</th>\n",
       "      <th>hispanic_pacific</th>\n",
       "      <th>hispanic_other</th>\n",
       "      <th>hispanic_multiracial</th>\n",
       "    </tr>\n",
       "  </thead>\n",
       "  <tbody>\n",
       "    <tr>\n",
       "      <td>Alabama</td>\n",
       "      <td>38.249588</td>\n",
       "      <td>3.703624</td>\n",
       "      <td>1.245137</td>\n",
       "      <td>0.354522</td>\n",
       "      <td>0.582429</td>\n",
       "      <td>50.042564</td>\n",
       "      <td>5.822136</td>\n",
       "    </tr>\n",
       "    <tr>\n",
       "      <td>Alaska</td>\n",
       "      <td>46.513287</td>\n",
       "      <td>3.347856</td>\n",
       "      <td>5.898239</td>\n",
       "      <td>1.722337</td>\n",
       "      <td>0.484089</td>\n",
       "      <td>25.455426</td>\n",
       "      <td>16.578766</td>\n",
       "    </tr>\n",
       "    <tr>\n",
       "      <td>Arizona</td>\n",
       "      <td>51.261088</td>\n",
       "      <td>1.050419</td>\n",
       "      <td>2.063321</td>\n",
       "      <td>0.326412</td>\n",
       "      <td>0.089122</td>\n",
       "      <td>39.739408</td>\n",
       "      <td>5.470230</td>\n",
       "    </tr>\n",
       "    <tr>\n",
       "      <td>Arkansas</td>\n",
       "      <td>38.570277</td>\n",
       "      <td>1.501209</td>\n",
       "      <td>1.109917</td>\n",
       "      <td>0.244558</td>\n",
       "      <td>0.190271</td>\n",
       "      <td>52.378393</td>\n",
       "      <td>6.005375</td>\n",
       "    </tr>\n",
       "    <tr>\n",
       "      <td>California</td>\n",
       "      <td>46.366571</td>\n",
       "      <td>0.965254</td>\n",
       "      <td>1.431105</td>\n",
       "      <td>0.613235</td>\n",
       "      <td>0.112811</td>\n",
       "      <td>44.469173</td>\n",
       "      <td>6.041851</td>\n",
       "    </tr>\n",
       "  </tbody>\n",
       "</table>\n",
       "</div>"
      ],
      "text/plain": [
       "            hispanic_white  hispanic_black  hispanic_aian  hispanic_asian  \\\n",
       "Alabama          38.249588        3.703624       1.245137        0.354522   \n",
       "Alaska           46.513287        3.347856       5.898239        1.722337   \n",
       "Arizona          51.261088        1.050419       2.063321        0.326412   \n",
       "Arkansas         38.570277        1.501209       1.109917        0.244558   \n",
       "California       46.366571        0.965254       1.431105        0.613235   \n",
       "\n",
       "            hispanic_pacific  hispanic_other  hispanic_multiracial  \n",
       "Alabama             0.582429       50.042564              5.822136  \n",
       "Alaska              0.484089       25.455426             16.578766  \n",
       "Arizona             0.089122       39.739408              5.470230  \n",
       "Arkansas            0.190271       52.378393              6.005375  \n",
       "California          0.112811       44.469173              6.041851  "
      ]
     },
     "execution_count": 8,
     "metadata": {},
     "output_type": "execute_result"
    }
   ],
   "source": [
    "states_hr.head()"
   ]
  },
  {
   "cell_type": "code",
   "execution_count": 9,
   "metadata": {},
   "outputs": [
    {
     "data": {
      "text/plain": [
       "True"
      ]
     },
     "execution_count": 9,
     "metadata": {},
     "output_type": "execute_result"
    }
   ],
   "source": [
    "# check all rows sum up to 100\n",
    "all(states_hr.sum(axis=1) > 99.99)"
   ]
  },
  {
   "cell_type": "markdown",
   "metadata": {},
   "source": [
    "Show the state with the largest value in column `hispanic_white`"
   ]
  },
  {
   "cell_type": "code",
   "execution_count": 10,
   "metadata": {},
   "outputs": [
    {
     "data": {
      "text/html": [
       "<div>\n",
       "<style scoped>\n",
       "    .dataframe tbody tr th:only-of-type {\n",
       "        vertical-align: middle;\n",
       "    }\n",
       "\n",
       "    .dataframe tbody tr th {\n",
       "        vertical-align: top;\n",
       "    }\n",
       "\n",
       "    .dataframe thead th {\n",
       "        text-align: right;\n",
       "    }\n",
       "</style>\n",
       "<table border=\"1\" class=\"dataframe\">\n",
       "  <thead>\n",
       "    <tr style=\"text-align: right;\">\n",
       "      <th></th>\n",
       "      <th>hispanic_white</th>\n",
       "      <th>hispanic_black</th>\n",
       "      <th>hispanic_aian</th>\n",
       "      <th>hispanic_asian</th>\n",
       "      <th>hispanic_pacific</th>\n",
       "      <th>hispanic_other</th>\n",
       "      <th>hispanic_multiracial</th>\n",
       "    </tr>\n",
       "  </thead>\n",
       "  <tbody>\n",
       "    <tr>\n",
       "      <td>Arkansas</td>\n",
       "      <td>38.570277</td>\n",
       "      <td>1.501209</td>\n",
       "      <td>1.109917</td>\n",
       "      <td>0.244558</td>\n",
       "      <td>0.190271</td>\n",
       "      <td>52.378393</td>\n",
       "      <td>6.005375</td>\n",
       "    </tr>\n",
       "  </tbody>\n",
       "</table>\n",
       "</div>"
      ],
      "text/plain": [
       "          hispanic_white  hispanic_black  hispanic_aian  hispanic_asian  \\\n",
       "Arkansas       38.570277        1.501209       1.109917        0.244558   \n",
       "\n",
       "          hispanic_pacific  hispanic_other  hispanic_multiracial  \n",
       "Arkansas          0.190271       52.378393              6.005375  "
      ]
     },
     "execution_count": 10,
     "metadata": {},
     "output_type": "execute_result"
    }
   ],
   "source": [
    "states_hr.nlargest(1, 'hispanic_other')"
   ]
  },
  {
   "cell_type": "markdown",
   "metadata": {},
   "source": [
    "Show the state with the smallest value in column `hispanic_other`."
   ]
  },
  {
   "cell_type": "code",
   "execution_count": 11,
   "metadata": {
    "scrolled": true
   },
   "outputs": [
    {
     "data": {
      "text/html": [
       "<div>\n",
       "<style scoped>\n",
       "    .dataframe tbody tr th:only-of-type {\n",
       "        vertical-align: middle;\n",
       "    }\n",
       "\n",
       "    .dataframe tbody tr th {\n",
       "        vertical-align: top;\n",
       "    }\n",
       "\n",
       "    .dataframe thead th {\n",
       "        text-align: right;\n",
       "    }\n",
       "</style>\n",
       "<table border=\"1\" class=\"dataframe\">\n",
       "  <thead>\n",
       "    <tr style=\"text-align: right;\">\n",
       "      <th></th>\n",
       "      <th>hispanic_white</th>\n",
       "      <th>hispanic_black</th>\n",
       "      <th>hispanic_aian</th>\n",
       "      <th>hispanic_asian</th>\n",
       "      <th>hispanic_pacific</th>\n",
       "      <th>hispanic_other</th>\n",
       "      <th>hispanic_multiracial</th>\n",
       "    </tr>\n",
       "  </thead>\n",
       "  <tbody>\n",
       "    <tr>\n",
       "      <td>Puerto Rico</td>\n",
       "      <td>75.862495</td>\n",
       "      <td>12.385538</td>\n",
       "      <td>0.528948</td>\n",
       "      <td>0.105762</td>\n",
       "      <td>0.007944</td>\n",
       "      <td>7.831978</td>\n",
       "      <td>3.277334</td>\n",
       "    </tr>\n",
       "  </tbody>\n",
       "</table>\n",
       "</div>"
      ],
      "text/plain": [
       "             hispanic_white  hispanic_black  hispanic_aian  hispanic_asian  \\\n",
       "Puerto Rico       75.862495       12.385538       0.528948        0.105762   \n",
       "\n",
       "             hispanic_pacific  hispanic_other  hispanic_multiracial  \n",
       "Puerto Rico          0.007944        7.831978              3.277334  "
      ]
     },
     "execution_count": 11,
     "metadata": {},
     "output_type": "execute_result"
    }
   ],
   "source": [
    "states_hr.nsmallest(1, 'hispanic_other')"
   ]
  },
  {
   "cell_type": "markdown",
   "metadata": {},
   "source": [
    "Notice that very few Hispanics identify as Asian, but one state is a high outlier. Show the state with the largest value in column `hispanic_asian`."
   ]
  },
  {
   "cell_type": "code",
   "execution_count": 12,
   "metadata": {},
   "outputs": [
    {
     "data": {
      "text/html": [
       "<div>\n",
       "<style scoped>\n",
       "    .dataframe tbody tr th:only-of-type {\n",
       "        vertical-align: middle;\n",
       "    }\n",
       "\n",
       "    .dataframe tbody tr th {\n",
       "        vertical-align: top;\n",
       "    }\n",
       "\n",
       "    .dataframe thead th {\n",
       "        text-align: right;\n",
       "    }\n",
       "</style>\n",
       "<table border=\"1\" class=\"dataframe\">\n",
       "  <thead>\n",
       "    <tr style=\"text-align: right;\">\n",
       "      <th></th>\n",
       "      <th>hispanic_white</th>\n",
       "      <th>hispanic_black</th>\n",
       "      <th>hispanic_aian</th>\n",
       "      <th>hispanic_asian</th>\n",
       "      <th>hispanic_pacific</th>\n",
       "      <th>hispanic_other</th>\n",
       "      <th>hispanic_multiracial</th>\n",
       "    </tr>\n",
       "  </thead>\n",
       "  <tbody>\n",
       "    <tr>\n",
       "      <td>Hawaii</td>\n",
       "      <td>22.555072</td>\n",
       "      <td>1.257841</td>\n",
       "      <td>1.109714</td>\n",
       "      <td>9.751576</td>\n",
       "      <td>5.958193</td>\n",
       "      <td>12.493173</td>\n",
       "      <td>46.874431</td>\n",
       "    </tr>\n",
       "  </tbody>\n",
       "</table>\n",
       "</div>"
      ],
      "text/plain": [
       "        hispanic_white  hispanic_black  hispanic_aian  hispanic_asian  \\\n",
       "Hawaii       22.555072        1.257841       1.109714        9.751576   \n",
       "\n",
       "        hispanic_pacific  hispanic_other  hispanic_multiracial  \n",
       "Hawaii          5.958193       12.493173             46.874431  "
      ]
     },
     "execution_count": 12,
     "metadata": {},
     "output_type": "execute_result"
    }
   ],
   "source": [
    "states_hr.nlargest(1, 'hispanic_asian')"
   ]
  },
  {
   "cell_type": "markdown",
   "metadata": {},
   "source": [
    "# A Basic API Request\n",
    "\n",
    "You will construct an API request to retrieve the average family size and median age for all states in the United States. The data will come from `Summary File 1` of the 2010 Decennial Census."
   ]
  },
  {
   "cell_type": "code",
   "execution_count": 13,
   "metadata": {},
   "outputs": [],
   "source": [
    "import requests"
   ]
  },
  {
   "cell_type": "markdown",
   "metadata": {},
   "source": [
    "Specify appropriate string values retrieve data for 2010 from Summary File 1 of the Decennial Census"
   ]
  },
  {
   "cell_type": "code",
   "execution_count": 14,
   "metadata": {},
   "outputs": [],
   "source": [
    "# Build base URL\n",
    "HOST = \"https://api.census.gov/data\"\n",
    "year = \"2010\"\n",
    "dataset = \"dec/sf1\"\n",
    "base_url = \"/\".join([HOST, year, dataset])"
   ]
  },
  {
   "cell_type": "markdown",
   "metadata": {},
   "source": [
    "Construct `get_vars`, the list of Census variables to request, with the following variable names: `NAME`, `P013001` (median age), `P037001` (average family size)"
   ]
  },
  {
   "cell_type": "code",
   "execution_count": 15,
   "metadata": {},
   "outputs": [],
   "source": [
    "# Specify Census variables and other predicates\n",
    "get_vars = [\"NAME\", \"P013001\", \"P037001\"]\n",
    "\n",
    "predicates = {}\n",
    "predicates[\"get\"] = \",\".join(get_vars)\n",
    "predicates[\"for\"] = \"state:*\""
   ]
  },
  {
   "cell_type": "code",
   "execution_count": 16,
   "metadata": {
    "scrolled": true
   },
   "outputs": [
    {
     "data": {
      "text/plain": [
       "'[[\"NAME\",\"P013001\",\"P037001\",\"state\"],\\n[\"Alabama\",\"37.9\",\"3.02\",\"01\"],\\n[\"Alaska\",\"33.8\",\"3.21\",\"02\"],\\n[\"Arizona\",\"35.9\",\"3.19\",\"04\"],\\n[\"Arkansas\",\"37.4\",\"3.00\",\"05\"],\\n[\"California\",\"35.2\",\"3.45\",\"06\"],\\n[\"Louisiana\",\"35.8\",\"3.10\",\"22\"],\\n[\"Kentucky\",\"38.1\",\"2.98\",\"21\"],\\n[\"Colorado\",\"36.1\",\"3.08\",\"08\"],\\n[\"Connecticut\",\"40.0\",\"3.08\",\"09\"],\\n[\"Delaware\",\"38.8\",\"3.06\",\"10\"],\\n[\"District of Columbia\",\"33.8\",\"3.01\",\"11\"],\\n[\"Florida\",\"40.7\",\"3.01\",\"12\"],\\n[\"Georgia\",\"35.3\",\"3.17\",\"13\"],\\n[\"Hawaii\",\"38.6\",\"3.42\",\"15\"],\\n[\"Idaho\",\"34.6\",\"3.16\",\"16\"],\\n[\"Illinois\",\"36.6\",\"3.20\",\"17\"],\\n[\"Indiana\",\"37.0\",\"3.05\",\"18\"],\\n[\"Iowa\",\"38.1\",\"2.97\",\"19\"],\\n[\"Kansas\",\"36.0\",\"3.06\",\"20\"],\\n[\"Maine\",\"42.7\",\"2.83\",\"23\"],\\n[\"Maryland\",\"38.0\",\"3.15\",\"24\"],\\n[\"Massachusetts\",\"39.1\",\"3.08\",\"25\"],\\n[\"Michigan\",\"38.9\",\"3.05\",\"26\"],\\n[\"Minnesota\",\"37.4\",\"3.05\",\"27\"],\\n[\"Mississippi\",\"36.0\",\"3.11\",\"28\"],\\n[\"Missouri\",\"37.9\",\"3.00\",\"29\"],\\n[\"Montana\",\"39.8\",\"2.91\",\"30\"],\\n[\"Nebraska\",\"36.2\",\"3.04\",\"31\"],\\n[\"Nevada\",\"36.3\",\"3.20\",\"32\"],\\n[\"New Hampshire\",\"41.1\",\"2.96\",\"33\"],\\n[\"New Jersey\",\"39.0\",\"3.22\",\"34\"],\\n[\"New Mexico\",\"36.7\",\"3.13\",\"35\"],\\n[\"New York\",\"38.0\",\"3.20\",\"36\"],\\n[\"North Carolina\",\"37.4\",\"3.01\",\"37\"],\\n[\"North Dakota\",\"37.0\",\"2.91\",\"38\"],\\n[\"Ohio\",\"38.8\",\"3.01\",\"39\"],\\n[\"Oklahoma\",\"36.2\",\"3.04\",\"40\"],\\n[\"Oregon\",\"38.4\",\"3.00\",\"41\"],\\n[\"Pennsylvania\",\"40.1\",\"3.02\",\"42\"],\\n[\"Rhode Island\",\"39.4\",\"3.04\",\"44\"],\\n[\"South Carolina\",\"37.9\",\"3.01\",\"45\"],\\n[\"South Dakota\",\"36.9\",\"3.00\",\"46\"],\\n[\"Tennessee\",\"38.0\",\"3.01\",\"47\"],\\n[\"Texas\",\"33.6\",\"3.31\",\"48\"],\\n[\"Utah\",\"29.2\",\"3.56\",\"49\"],\\n[\"Vermont\",\"41.5\",\"2.85\",\"50\"],\\n[\"Virginia\",\"37.5\",\"3.06\",\"51\"],\\n[\"Washington\",\"37.3\",\"3.06\",\"53\"],\\n[\"West Virginia\",\"41.3\",\"2.88\",\"54\"],\\n[\"Wisconsin\",\"38.5\",\"2.99\",\"55\"],\\n[\"Wyoming\",\"36.8\",\"2.96\",\"56\"],\\n[\"Puerto Rico\",\"36.9\",\"3.17\",\"72\"]]'"
      ]
     },
     "execution_count": 16,
     "metadata": {},
     "output_type": "execute_result"
    }
   ],
   "source": [
    "# Execute the request, examine text of response object\n",
    "r = requests.get(base_url, params=predicates)\n",
    "r.text"
   ]
  },
  {
   "cell_type": "markdown",
   "metadata": {},
   "source": [
    "## The API Response and Pandas\n",
    "In this exercise you will load data from an API response object into a `pandas` data frame. You will assign user-friendly column names and convert the values from strings to appropriate data types.\n",
    "\n",
    "After creating the data frame, run the sample code to create a scatterplot to visualize the relationship between average family size and median age in the United States."
   ]
  },
  {
   "cell_type": "code",
   "execution_count": 17,
   "metadata": {},
   "outputs": [
    {
     "data": {
      "text/html": [
       "<div>\n",
       "<style scoped>\n",
       "    .dataframe tbody tr th:only-of-type {\n",
       "        vertical-align: middle;\n",
       "    }\n",
       "\n",
       "    .dataframe tbody tr th {\n",
       "        vertical-align: top;\n",
       "    }\n",
       "\n",
       "    .dataframe thead th {\n",
       "        text-align: right;\n",
       "    }\n",
       "</style>\n",
       "<table border=\"1\" class=\"dataframe\">\n",
       "  <thead>\n",
       "    <tr style=\"text-align: right;\">\n",
       "      <th></th>\n",
       "      <th>name</th>\n",
       "      <th>median_age</th>\n",
       "      <th>avg_family_size</th>\n",
       "      <th>state</th>\n",
       "    </tr>\n",
       "  </thead>\n",
       "  <tbody>\n",
       "    <tr>\n",
       "      <td>0</td>\n",
       "      <td>Alabama</td>\n",
       "      <td>37.9</td>\n",
       "      <td>3.02</td>\n",
       "      <td>01</td>\n",
       "    </tr>\n",
       "    <tr>\n",
       "      <td>1</td>\n",
       "      <td>Alaska</td>\n",
       "      <td>33.8</td>\n",
       "      <td>3.21</td>\n",
       "      <td>02</td>\n",
       "    </tr>\n",
       "    <tr>\n",
       "      <td>2</td>\n",
       "      <td>Arizona</td>\n",
       "      <td>35.9</td>\n",
       "      <td>3.19</td>\n",
       "      <td>04</td>\n",
       "    </tr>\n",
       "    <tr>\n",
       "      <td>3</td>\n",
       "      <td>Arkansas</td>\n",
       "      <td>37.4</td>\n",
       "      <td>3.00</td>\n",
       "      <td>05</td>\n",
       "    </tr>\n",
       "    <tr>\n",
       "      <td>4</td>\n",
       "      <td>California</td>\n",
       "      <td>35.2</td>\n",
       "      <td>3.45</td>\n",
       "      <td>06</td>\n",
       "    </tr>\n",
       "  </tbody>\n",
       "</table>\n",
       "</div>"
      ],
      "text/plain": [
       "         name median_age avg_family_size state\n",
       "0     Alabama       37.9            3.02    01\n",
       "1      Alaska       33.8            3.21    02\n",
       "2     Arizona       35.9            3.19    04\n",
       "3    Arkansas       37.4            3.00    05\n",
       "4  California       35.2            3.45    06"
      ]
     },
     "execution_count": 17,
     "metadata": {},
     "output_type": "execute_result"
    }
   ],
   "source": [
    "# Construct the data frame\n",
    "col_names = [\"name\", \"median_age\", \"avg_family_size\", \"state\"]\n",
    "states_api1 = pd.DataFrame(columns = col_names, data = r.json()[1:])\n",
    "states_api1.head()"
   ]
  },
  {
   "cell_type": "markdown",
   "metadata": {},
   "source": [
    "Use the `.astype` method on each column to assign the correct data type."
   ]
  },
  {
   "cell_type": "code",
   "execution_count": 18,
   "metadata": {},
   "outputs": [],
   "source": [
    "# Convert each column with numeric data to an appropriate type\n",
    "states_api1[\"median_age\"] = states_api1[\"median_age\"].astype(float)\n",
    "states_api1[\"avg_family_size\"] = states_api1[\"avg_family_size\"].astype(float)"
   ]
  },
  {
   "cell_type": "markdown",
   "metadata": {},
   "source": [
    "Get the summary statistics for both columns and find which states have a higher rate than the mean value for `avg_family size`"
   ]
  },
  {
   "cell_type": "code",
   "execution_count": 19,
   "metadata": {},
   "outputs": [
    {
     "data": {
      "text/html": [
       "<div>\n",
       "<style scoped>\n",
       "    .dataframe tbody tr th:only-of-type {\n",
       "        vertical-align: middle;\n",
       "    }\n",
       "\n",
       "    .dataframe tbody tr th {\n",
       "        vertical-align: top;\n",
       "    }\n",
       "\n",
       "    .dataframe thead th {\n",
       "        text-align: right;\n",
       "    }\n",
       "</style>\n",
       "<table border=\"1\" class=\"dataframe\">\n",
       "  <thead>\n",
       "    <tr style=\"text-align: right;\">\n",
       "      <th></th>\n",
       "      <th>median_age</th>\n",
       "      <th>avg_family_size</th>\n",
       "    </tr>\n",
       "  </thead>\n",
       "  <tbody>\n",
       "    <tr>\n",
       "      <td>count</td>\n",
       "      <td>52.000000</td>\n",
       "      <td>52.000000</td>\n",
       "    </tr>\n",
       "    <tr>\n",
       "      <td>mean</td>\n",
       "      <td>37.490385</td>\n",
       "      <td>3.077692</td>\n",
       "    </tr>\n",
       "    <tr>\n",
       "      <td>std</td>\n",
       "      <td>2.291011</td>\n",
       "      <td>0.140177</td>\n",
       "    </tr>\n",
       "    <tr>\n",
       "      <td>min</td>\n",
       "      <td>29.200000</td>\n",
       "      <td>2.830000</td>\n",
       "    </tr>\n",
       "    <tr>\n",
       "      <td>25%</td>\n",
       "      <td>36.200000</td>\n",
       "      <td>3.000000</td>\n",
       "    </tr>\n",
       "    <tr>\n",
       "      <td>50%</td>\n",
       "      <td>37.450000</td>\n",
       "      <td>3.050000</td>\n",
       "    </tr>\n",
       "    <tr>\n",
       "      <td>75%</td>\n",
       "      <td>38.800000</td>\n",
       "      <td>3.152500</td>\n",
       "    </tr>\n",
       "    <tr>\n",
       "      <td>max</td>\n",
       "      <td>42.700000</td>\n",
       "      <td>3.560000</td>\n",
       "    </tr>\n",
       "  </tbody>\n",
       "</table>\n",
       "</div>"
      ],
      "text/plain": [
       "       median_age  avg_family_size\n",
       "count   52.000000        52.000000\n",
       "mean    37.490385         3.077692\n",
       "std      2.291011         0.140177\n",
       "min     29.200000         2.830000\n",
       "25%     36.200000         3.000000\n",
       "50%     37.450000         3.050000\n",
       "75%     38.800000         3.152500\n",
       "max     42.700000         3.560000"
      ]
     },
     "execution_count": 19,
     "metadata": {},
     "output_type": "execute_result"
    }
   ],
   "source": [
    "states_api1[['median_age','avg_family_size']].describe()"
   ]
  },
  {
   "cell_type": "code",
   "execution_count": 20,
   "metadata": {
    "scrolled": true
   },
   "outputs": [
    {
     "data": {
      "text/html": [
       "<div>\n",
       "<style scoped>\n",
       "    .dataframe tbody tr th:only-of-type {\n",
       "        vertical-align: middle;\n",
       "    }\n",
       "\n",
       "    .dataframe tbody tr th {\n",
       "        vertical-align: top;\n",
       "    }\n",
       "\n",
       "    .dataframe thead th {\n",
       "        text-align: right;\n",
       "    }\n",
       "</style>\n",
       "<table border=\"1\" class=\"dataframe\">\n",
       "  <thead>\n",
       "    <tr style=\"text-align: right;\">\n",
       "      <th></th>\n",
       "      <th>name</th>\n",
       "      <th>median_age</th>\n",
       "      <th>avg_family_size</th>\n",
       "      <th>state</th>\n",
       "    </tr>\n",
       "  </thead>\n",
       "  <tbody>\n",
       "    <tr>\n",
       "      <td>1</td>\n",
       "      <td>Alaska</td>\n",
       "      <td>33.8</td>\n",
       "      <td>3.21</td>\n",
       "      <td>02</td>\n",
       "    </tr>\n",
       "    <tr>\n",
       "      <td>2</td>\n",
       "      <td>Arizona</td>\n",
       "      <td>35.9</td>\n",
       "      <td>3.19</td>\n",
       "      <td>04</td>\n",
       "    </tr>\n",
       "    <tr>\n",
       "      <td>4</td>\n",
       "      <td>California</td>\n",
       "      <td>35.2</td>\n",
       "      <td>3.45</td>\n",
       "      <td>06</td>\n",
       "    </tr>\n",
       "    <tr>\n",
       "      <td>5</td>\n",
       "      <td>Louisiana</td>\n",
       "      <td>35.8</td>\n",
       "      <td>3.10</td>\n",
       "      <td>22</td>\n",
       "    </tr>\n",
       "    <tr>\n",
       "      <td>7</td>\n",
       "      <td>Colorado</td>\n",
       "      <td>36.1</td>\n",
       "      <td>3.08</td>\n",
       "      <td>08</td>\n",
       "    </tr>\n",
       "    <tr>\n",
       "      <td>8</td>\n",
       "      <td>Connecticut</td>\n",
       "      <td>40.0</td>\n",
       "      <td>3.08</td>\n",
       "      <td>09</td>\n",
       "    </tr>\n",
       "    <tr>\n",
       "      <td>12</td>\n",
       "      <td>Georgia</td>\n",
       "      <td>35.3</td>\n",
       "      <td>3.17</td>\n",
       "      <td>13</td>\n",
       "    </tr>\n",
       "    <tr>\n",
       "      <td>13</td>\n",
       "      <td>Hawaii</td>\n",
       "      <td>38.6</td>\n",
       "      <td>3.42</td>\n",
       "      <td>15</td>\n",
       "    </tr>\n",
       "    <tr>\n",
       "      <td>14</td>\n",
       "      <td>Idaho</td>\n",
       "      <td>34.6</td>\n",
       "      <td>3.16</td>\n",
       "      <td>16</td>\n",
       "    </tr>\n",
       "    <tr>\n",
       "      <td>15</td>\n",
       "      <td>Illinois</td>\n",
       "      <td>36.6</td>\n",
       "      <td>3.20</td>\n",
       "      <td>17</td>\n",
       "    </tr>\n",
       "    <tr>\n",
       "      <td>20</td>\n",
       "      <td>Maryland</td>\n",
       "      <td>38.0</td>\n",
       "      <td>3.15</td>\n",
       "      <td>24</td>\n",
       "    </tr>\n",
       "    <tr>\n",
       "      <td>21</td>\n",
       "      <td>Massachusetts</td>\n",
       "      <td>39.1</td>\n",
       "      <td>3.08</td>\n",
       "      <td>25</td>\n",
       "    </tr>\n",
       "    <tr>\n",
       "      <td>24</td>\n",
       "      <td>Mississippi</td>\n",
       "      <td>36.0</td>\n",
       "      <td>3.11</td>\n",
       "      <td>28</td>\n",
       "    </tr>\n",
       "    <tr>\n",
       "      <td>28</td>\n",
       "      <td>Nevada</td>\n",
       "      <td>36.3</td>\n",
       "      <td>3.20</td>\n",
       "      <td>32</td>\n",
       "    </tr>\n",
       "    <tr>\n",
       "      <td>30</td>\n",
       "      <td>New Jersey</td>\n",
       "      <td>39.0</td>\n",
       "      <td>3.22</td>\n",
       "      <td>34</td>\n",
       "    </tr>\n",
       "    <tr>\n",
       "      <td>31</td>\n",
       "      <td>New Mexico</td>\n",
       "      <td>36.7</td>\n",
       "      <td>3.13</td>\n",
       "      <td>35</td>\n",
       "    </tr>\n",
       "    <tr>\n",
       "      <td>32</td>\n",
       "      <td>New York</td>\n",
       "      <td>38.0</td>\n",
       "      <td>3.20</td>\n",
       "      <td>36</td>\n",
       "    </tr>\n",
       "    <tr>\n",
       "      <td>43</td>\n",
       "      <td>Texas</td>\n",
       "      <td>33.6</td>\n",
       "      <td>3.31</td>\n",
       "      <td>48</td>\n",
       "    </tr>\n",
       "    <tr>\n",
       "      <td>44</td>\n",
       "      <td>Utah</td>\n",
       "      <td>29.2</td>\n",
       "      <td>3.56</td>\n",
       "      <td>49</td>\n",
       "    </tr>\n",
       "    <tr>\n",
       "      <td>51</td>\n",
       "      <td>Puerto Rico</td>\n",
       "      <td>36.9</td>\n",
       "      <td>3.17</td>\n",
       "      <td>72</td>\n",
       "    </tr>\n",
       "  </tbody>\n",
       "</table>\n",
       "</div>"
      ],
      "text/plain": [
       "             name  median_age  avg_family_size state\n",
       "1          Alaska        33.8             3.21    02\n",
       "2         Arizona        35.9             3.19    04\n",
       "4      California        35.2             3.45    06\n",
       "5       Louisiana        35.8             3.10    22\n",
       "7        Colorado        36.1             3.08    08\n",
       "8     Connecticut        40.0             3.08    09\n",
       "12        Georgia        35.3             3.17    13\n",
       "13         Hawaii        38.6             3.42    15\n",
       "14          Idaho        34.6             3.16    16\n",
       "15       Illinois        36.6             3.20    17\n",
       "20       Maryland        38.0             3.15    24\n",
       "21  Massachusetts        39.1             3.08    25\n",
       "24    Mississippi        36.0             3.11    28\n",
       "28         Nevada        36.3             3.20    32\n",
       "30     New Jersey        39.0             3.22    34\n",
       "31     New Mexico        36.7             3.13    35\n",
       "32       New York        38.0             3.20    36\n",
       "43          Texas        33.6             3.31    48\n",
       "44           Utah        29.2             3.56    49\n",
       "51    Puerto Rico        36.9             3.17    72"
      ]
     },
     "execution_count": 20,
     "metadata": {},
     "output_type": "execute_result"
    }
   ],
   "source": [
    "states_api1[states_api1['avg_family_size'] > states_api1['avg_family_size'].mean()]"
   ]
  },
  {
   "cell_type": "markdown",
   "metadata": {},
   "source": [
    "Now investigate where juvenile offenders are incarcerated. This exercise introduces the concept of \"group quarters\" populations, which includes college dorms, correctional facilities, nursing homes, military bases, etc."
   ]
  },
  {
   "cell_type": "markdown",
   "metadata": {},
   "source": [
    "As we learn, we can create functions to avoid repeating ourselfs (DRY principle)"
   ]
  },
  {
   "cell_type": "code",
   "execution_count": 21,
   "metadata": {},
   "outputs": [],
   "source": [
    "def api_census_request(year, dataset, vars_list):\n",
    "    # Build base URL\n",
    "    HOST = \"https://api.census.gov/data\"\n",
    "    base_url = \"/\".join([HOST, year, dataset])\n",
    "    \n",
    "    # Specify Census variables and other predicates\n",
    "    get_vars = vars_list\n",
    "\n",
    "    predicates = {}\n",
    "    predicates[\"get\"] = \",\".join(get_vars)\n",
    "    predicates[\"for\"] = \"state:*\"\n",
    "    r = requests.get(base_url, params=predicates)\n",
    "    return r"
   ]
  },
  {
   "cell_type": "code",
   "execution_count": 22,
   "metadata": {},
   "outputs": [],
   "source": [
    "def request_to_df(r, col_names):\n",
    "    col_names = [\"name\", \"in_adult\", \"in_juvenile\", \"state\"]\n",
    "    states_api2 = pd.DataFrame(columns=col_names, data=r.json()[1:])\n",
    "    return states_api2"
   ]
  },
  {
   "cell_type": "markdown",
   "metadata": {},
   "source": [
    "You will visualize the percentage, by state, of incarcerated minor males in adult correctional facilities. The variables to request are:\n",
    "\n",
    "- `PCT021005` - Male: Under 18 years: Institutionalized population: Correctional facilities for adults\n",
    "- `PCT021015` - Male: Under 18 years: Institutionalized population: Juvenile facilities: Correctional facilities intended for juveniles"
   ]
  },
  {
   "cell_type": "code",
   "execution_count": 23,
   "metadata": {},
   "outputs": [],
   "source": [
    "# Specify variables and execute API request\n",
    "get_vars = [\"NAME\", \"PCT021005\", \"PCT021015\"]\n",
    "r = api_census_request(year, dataset, get_vars)"
   ]
  },
  {
   "cell_type": "code",
   "execution_count": 24,
   "metadata": {},
   "outputs": [
    {
     "data": {
      "text/html": [
       "<div>\n",
       "<style scoped>\n",
       "    .dataframe tbody tr th:only-of-type {\n",
       "        vertical-align: middle;\n",
       "    }\n",
       "\n",
       "    .dataframe tbody tr th {\n",
       "        vertical-align: top;\n",
       "    }\n",
       "\n",
       "    .dataframe thead th {\n",
       "        text-align: right;\n",
       "    }\n",
       "</style>\n",
       "<table border=\"1\" class=\"dataframe\">\n",
       "  <thead>\n",
       "    <tr style=\"text-align: right;\">\n",
       "      <th></th>\n",
       "      <th>name</th>\n",
       "      <th>in_adult</th>\n",
       "      <th>in_juvenile</th>\n",
       "      <th>state</th>\n",
       "    </tr>\n",
       "  </thead>\n",
       "  <tbody>\n",
       "    <tr>\n",
       "      <td>0</td>\n",
       "      <td>Alabama</td>\n",
       "      <td>131</td>\n",
       "      <td>536</td>\n",
       "      <td>01</td>\n",
       "    </tr>\n",
       "    <tr>\n",
       "      <td>1</td>\n",
       "      <td>Alaska</td>\n",
       "      <td>83</td>\n",
       "      <td>92</td>\n",
       "      <td>02</td>\n",
       "    </tr>\n",
       "    <tr>\n",
       "      <td>2</td>\n",
       "      <td>Arizona</td>\n",
       "      <td>681</td>\n",
       "      <td>629</td>\n",
       "      <td>04</td>\n",
       "    </tr>\n",
       "    <tr>\n",
       "      <td>3</td>\n",
       "      <td>Arkansas</td>\n",
       "      <td>89</td>\n",
       "      <td>541</td>\n",
       "      <td>05</td>\n",
       "    </tr>\n",
       "    <tr>\n",
       "      <td>4</td>\n",
       "      <td>California</td>\n",
       "      <td>321</td>\n",
       "      <td>6489</td>\n",
       "      <td>06</td>\n",
       "    </tr>\n",
       "  </tbody>\n",
       "</table>\n",
       "</div>"
      ],
      "text/plain": [
       "         name  in_adult  in_juvenile state\n",
       "0     Alabama       131          536    01\n",
       "1      Alaska        83           92    02\n",
       "2     Arizona       681          629    04\n",
       "3    Arkansas        89          541    05\n",
       "4  California       321         6489    06"
      ]
     },
     "execution_count": 24,
     "metadata": {},
     "output_type": "execute_result"
    }
   ],
   "source": [
    "# Construct data frame\n",
    "col_names = [\"name\", \"in_adult\", \"in_juvenile\", \"state\"]\n",
    "states_api2 = request_to_df(r, col_names)\n",
    "states_api2[[\"in_adult\", \"in_juvenile\"]] = states_api2[[\"in_adult\", \"in_juvenile\"]].astype(int)\n",
    "states_api2.head()"
   ]
  },
  {
   "cell_type": "code",
   "execution_count": 25,
   "metadata": {
    "scrolled": true
   },
   "outputs": [
    {
     "data": {
      "text/html": [
       "<div>\n",
       "<style scoped>\n",
       "    .dataframe tbody tr th:only-of-type {\n",
       "        vertical-align: middle;\n",
       "    }\n",
       "\n",
       "    .dataframe tbody tr th {\n",
       "        vertical-align: top;\n",
       "    }\n",
       "\n",
       "    .dataframe thead th {\n",
       "        text-align: right;\n",
       "    }\n",
       "</style>\n",
       "<table border=\"1\" class=\"dataframe\">\n",
       "  <thead>\n",
       "    <tr style=\"text-align: right;\">\n",
       "      <th></th>\n",
       "      <th>name</th>\n",
       "      <th>in_adult</th>\n",
       "      <th>in_juvenile</th>\n",
       "      <th>state</th>\n",
       "      <th>pct_in_adult</th>\n",
       "    </tr>\n",
       "  </thead>\n",
       "  <tbody>\n",
       "    <tr>\n",
       "      <td>40</td>\n",
       "      <td>South Carolina</td>\n",
       "      <td>451</td>\n",
       "      <td>265</td>\n",
       "      <td>45</td>\n",
       "      <td>62.988827</td>\n",
       "    </tr>\n",
       "    <tr>\n",
       "      <td>33</td>\n",
       "      <td>North Carolina</td>\n",
       "      <td>655</td>\n",
       "      <td>552</td>\n",
       "      <td>37</td>\n",
       "      <td>54.266777</td>\n",
       "    </tr>\n",
       "    <tr>\n",
       "      <td>2</td>\n",
       "      <td>Arizona</td>\n",
       "      <td>681</td>\n",
       "      <td>629</td>\n",
       "      <td>04</td>\n",
       "      <td>51.984733</td>\n",
       "    </tr>\n",
       "    <tr>\n",
       "      <td>10</td>\n",
       "      <td>District of Columbia</td>\n",
       "      <td>28</td>\n",
       "      <td>27</td>\n",
       "      <td>11</td>\n",
       "      <td>50.909091</td>\n",
       "    </tr>\n",
       "    <tr>\n",
       "      <td>1</td>\n",
       "      <td>Alaska</td>\n",
       "      <td>83</td>\n",
       "      <td>92</td>\n",
       "      <td>02</td>\n",
       "      <td>47.428571</td>\n",
       "    </tr>\n",
       "  </tbody>\n",
       "</table>\n",
       "</div>"
      ],
      "text/plain": [
       "                    name  in_adult  in_juvenile state  pct_in_adult\n",
       "40        South Carolina       451          265    45     62.988827\n",
       "33        North Carolina       655          552    37     54.266777\n",
       "2                Arizona       681          629    04     51.984733\n",
       "10  District of Columbia        28           27    11     50.909091\n",
       "1                 Alaska        83           92    02     47.428571"
      ]
     },
     "execution_count": 25,
     "metadata": {},
     "output_type": "execute_result"
    }
   ],
   "source": [
    "# Calculate percentage of incarcerated male minors in adult facilities\n",
    "states_api2[\"pct_in_adult\"] = 100 * states_api2[\"in_adult\"] / (states_api2[\"in_adult\"] + states_api2[\"in_juvenile\"])\n",
    "states_api2.sort_values(by = \"pct_in_adult\", ascending = False, inplace = True)\n",
    "states_api2.head()"
   ]
  },
  {
   "cell_type": "markdown",
   "metadata": {},
   "source": [
    "# Lets INNER JOIN our state_api dataframes\n",
    "\n",
    "As we saw with SQL, we can join our tables."
   ]
  },
  {
   "cell_type": "code",
   "execution_count": 26,
   "metadata": {},
   "outputs": [],
   "source": [
    "from sqlalchemy import create_engine"
   ]
  },
  {
   "cell_type": "code",
   "execution_count": 27,
   "metadata": {},
   "outputs": [],
   "source": [
    "engine = create_engine('sqlite://', echo=False)"
   ]
  },
  {
   "cell_type": "code",
   "execution_count": 28,
   "metadata": {},
   "outputs": [],
   "source": [
    "states_api1.to_sql('states_api1', con=engine)\n",
    "states_api2.to_sql('states_api2', con=engine)"
   ]
  },
  {
   "cell_type": "code",
   "execution_count": 32,
   "metadata": {},
   "outputs": [
    {
     "data": {
      "text/html": [
       "<div>\n",
       "<style scoped>\n",
       "    .dataframe tbody tr th:only-of-type {\n",
       "        vertical-align: middle;\n",
       "    }\n",
       "\n",
       "    .dataframe tbody tr th {\n",
       "        vertical-align: top;\n",
       "    }\n",
       "\n",
       "    .dataframe thead th {\n",
       "        text-align: right;\n",
       "    }\n",
       "</style>\n",
       "<table border=\"1\" class=\"dataframe\">\n",
       "  <thead>\n",
       "    <tr style=\"text-align: right;\">\n",
       "      <th></th>\n",
       "      <th>name</th>\n",
       "      <th>median_age</th>\n",
       "      <th>avg_family_size</th>\n",
       "      <th>in_adult</th>\n",
       "      <th>in_juvenile</th>\n",
       "      <th>pct_in_adult</th>\n",
       "    </tr>\n",
       "  </thead>\n",
       "  <tbody>\n",
       "    <tr>\n",
       "      <td>0</td>\n",
       "      <td>Alabama</td>\n",
       "      <td>37.9</td>\n",
       "      <td>3.02</td>\n",
       "      <td>131</td>\n",
       "      <td>536</td>\n",
       "      <td>19.640180</td>\n",
       "    </tr>\n",
       "    <tr>\n",
       "      <td>1</td>\n",
       "      <td>Alaska</td>\n",
       "      <td>33.8</td>\n",
       "      <td>3.21</td>\n",
       "      <td>83</td>\n",
       "      <td>92</td>\n",
       "      <td>47.428571</td>\n",
       "    </tr>\n",
       "    <tr>\n",
       "      <td>2</td>\n",
       "      <td>Arizona</td>\n",
       "      <td>35.9</td>\n",
       "      <td>3.19</td>\n",
       "      <td>681</td>\n",
       "      <td>629</td>\n",
       "      <td>51.984733</td>\n",
       "    </tr>\n",
       "    <tr>\n",
       "      <td>3</td>\n",
       "      <td>Arkansas</td>\n",
       "      <td>37.4</td>\n",
       "      <td>3.00</td>\n",
       "      <td>89</td>\n",
       "      <td>541</td>\n",
       "      <td>14.126984</td>\n",
       "    </tr>\n",
       "    <tr>\n",
       "      <td>4</td>\n",
       "      <td>California</td>\n",
       "      <td>35.2</td>\n",
       "      <td>3.45</td>\n",
       "      <td>321</td>\n",
       "      <td>6489</td>\n",
       "      <td>4.713656</td>\n",
       "    </tr>\n",
       "  </tbody>\n",
       "</table>\n",
       "</div>"
      ],
      "text/plain": [
       "         name  median_age  avg_family_size  in_adult  in_juvenile  \\\n",
       "0     Alabama        37.9             3.02       131          536   \n",
       "1      Alaska        33.8             3.21        83           92   \n",
       "2     Arizona        35.9             3.19       681          629   \n",
       "3    Arkansas        37.4             3.00        89          541   \n",
       "4  California        35.2             3.45       321         6489   \n",
       "\n",
       "   pct_in_adult  \n",
       "0     19.640180  \n",
       "1     47.428571  \n",
       "2     51.984733  \n",
       "3     14.126984  \n",
       "4      4.713656  "
      ]
     },
     "execution_count": 32,
     "metadata": {},
     "output_type": "execute_result"
    }
   ],
   "source": [
    "rs = engine.execute(\"SELECT states_api1.name, median_age, avg_family_size, in_adult, in_juvenile, pct_in_adult FROM states_api1 INNER JOIN states_api2 ON states_api1.name = states_api2.name\")\n",
    "df = pd.DataFrame(rs.fetchall())\n",
    "df.columns = rs.keys()\n",
    "df.head()"
   ]
  },
  {
   "cell_type": "markdown",
   "metadata": {},
   "source": [
    "# Wouldn't it be simpler if we use plots?\n",
    "\n",
    "Absolutly yes, and that's why we will learn to use matplotlib and seaborn libraries for visualizing data."
   ]
  },
  {
   "cell_type": "code",
   "execution_count": 64,
   "metadata": {},
   "outputs": [],
   "source": [
    "import seaborn as sns\n",
    "import matplotlib.pyplot as plt"
   ]
  },
  {
   "cell_type": "code",
   "execution_count": 71,
   "metadata": {},
   "outputs": [
    {
     "data": {
      "image/png": "[encoded data removed]",
      "text/plain": [
       "<Figure size 432x288 with 1 Axes>"
      ]
     },
     "metadata": {
      "needs_background": "light"
     },
     "output_type": "display_data"
    }
   ],
   "source": [
    "# Create a boxplot\n",
    "sns.boxplot(data = states_hr, orient = \"h\")\n",
    "plt.show()"
   ]
  },
  {
   "cell_type": "code",
   "execution_count": 65,
   "metadata": {},
   "outputs": [
    {
     "data": {
      "image/png": "[encoded data removed]",
      "text/plain": [
       "<Figure size 360x360 with 1 Axes>"
      ]
     },
     "metadata": {
      "needs_background": "light"
     },
     "output_type": "display_data"
    }
   ],
   "source": [
    "# Scatterplot with regression line\n",
    "sns.lmplot(x = \"avg_family_size\", y = \"median_age\", data = states_api1)\n",
    "plt.show()"
   ]
  },
  {
   "cell_type": "code",
   "execution_count": 70,
   "metadata": {},
   "outputs": [
    {
     "data": {
      "image/png": "[encoded data removed]",
      "text/plain": [
       "<Figure size 432x288 with 1 Axes>"
      ]
     },
     "metadata": {
      "needs_background": "light"
     },
     "output_type": "display_data"
    },
    {
     "data": {
      "text/plain": [
       "<Figure size 2160x2160 with 0 Axes>"
      ]
     },
     "metadata": {},
     "output_type": "display_data"
    }
   ],
   "source": [
    "sns.stripplot(x = \"pct_in_adult\", y = \"name\", data = states_api2)\n",
    "plt.show()"
   ]
  }
 ],
 "metadata": {
  "kernelspec": {
   "display_name": "Python 3",
   "language": "python",
   "name": "python3"
  },
  "language_info": {
   "codemirror_mode": {
    "name": "ipython",
    "version": 3
   },
   "file_extension": ".py",
   "mimetype": "text/x-python",
   "name": "python",
   "nbconvert_exporter": "python",
   "pygments_lexer": "ipython3",
   "version": "3.8.3"
  }
 },
 "nbformat": 4,
 "nbformat_minor": 2
}
