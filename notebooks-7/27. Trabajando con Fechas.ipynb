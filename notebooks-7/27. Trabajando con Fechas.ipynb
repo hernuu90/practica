{
 "cells": [
  {
   "cell_type": "markdown",
   "metadata": {},
   "source": [
    "# DateTimes\n",
    "Time to begin your DateTime journey! You'll start by using the `.strptime()` method from the datetime object as shown in the video, passing it both the string and the format. A full list of the format string components is available in the Python <a href=\"https://docs.python.org/3/library/datetime.html#strftime-strptime-behavior\" target=\"_blank\">documentation</a>."
   ]
  },
  {
   "cell_type": "code",
   "execution_count": 74,
   "metadata": {},
   "outputs": [],
   "source": [
    "from datetime import datetime"
   ]
  },
  {
   "cell_type": "code",
   "execution_count": 75,
   "metadata": {},
   "outputs": [],
   "source": [
    "dates_list= ['02/19/2001',\n",
    "             '04/10/2001',\n",
    "             '05/30/2001',\n",
    "             '07/19/2001',\n",
    "             '09/07/2001',\n",
    "             '10/27/2001',\n",
    "             '12/16/2001',\n",
    "             '02/04/2002',\n",
    "             '03/26/2002',\n",
    "             '05/15/2002']"
   ]
  },
  {
   "cell_type": "code",
   "execution_count": 76,
   "metadata": {},
   "outputs": [
    {
     "name": "stdout",
     "output_type": "stream",
     "text": [
      "2001-02-19 00:00:00\n",
      "2001-04-10 00:00:00\n",
      "2001-05-30 00:00:00\n",
      "2001-07-19 00:00:00\n",
      "2001-09-07 00:00:00\n",
      "2001-10-27 00:00:00\n",
      "2001-12-16 00:00:00\n",
      "2002-02-04 00:00:00\n",
      "2002-03-26 00:00:00\n",
      "2002-05-15 00:00:00\n"
     ]
    }
   ],
   "source": [
    "# Iterate over the dates_list \n",
    "for date_str in dates_list:\n",
    "    # Convert each date to a datetime object: date_dt\n",
    "    date_dt = datetime.strptime(date_str, '%m/%d/%Y')\n",
    "    \n",
    "    # Print each date_dt\n",
    "    print(date_dt)"
   ]
  },
  {
   "cell_type": "markdown",
   "metadata": {},
   "source": [
    "## Converting to a String\n",
    "Converting from a datetime object to a string is done with the `.strftime()` method on a instance of the datetime object. You pass a format string just like the ones used in the prior exercise.\n",
    "\n",
    "There is also a widely used string output standard called ISO-8601. It has a shortcut method named `.isoformat()`. I encourage you to use it anytime you write out to a file."
   ]
  },
  {
   "cell_type": "code",
   "execution_count": 77,
   "metadata": {},
   "outputs": [],
   "source": [
    "datetimes_list = [datetime(2001, 2, 19, 0, 0),\n",
    "                 datetime(2001, 4, 10, 0, 0),\n",
    "                 datetime(2001, 5, 30, 0, 0),\n",
    "                 datetime(2001, 7, 19, 0, 0),\n",
    "                 datetime(2001, 9, 7, 0, 0),\n",
    "                 datetime(2001, 10, 27, 0, 0),\n",
    "                 datetime(2001, 12, 16, 0, 0),\n",
    "                 datetime(2002, 2, 4, 0, 0),\n",
    "                 datetime(2002, 3, 26, 0, 0),\n",
    "                 datetime(2002, 5, 15, 0, 0)]"
   ]
  },
  {
   "cell_type": "code",
   "execution_count": 78,
   "metadata": {},
   "outputs": [
    {
     "name": "stdout",
     "output_type": "stream",
     "text": [
      "02/19/2001\n",
      "2001-02-19T00:00:00\n",
      "04/10/2001\n",
      "2001-04-10T00:00:00\n",
      "05/30/2001\n",
      "2001-05-30T00:00:00\n",
      "07/19/2001\n",
      "2001-07-19T00:00:00\n",
      "09/07/2001\n",
      "2001-09-07T00:00:00\n",
      "10/27/2001\n",
      "2001-10-27T00:00:00\n",
      "12/16/2001\n",
      "2001-12-16T00:00:00\n",
      "02/04/2002\n",
      "2002-02-04T00:00:00\n",
      "03/26/2002\n",
      "2002-03-26T00:00:00\n",
      "05/15/2002\n",
      "2002-05-15T00:00:00\n"
     ]
    }
   ],
   "source": [
    "# Loop over the first 10 items of the datetimes_list\n",
    "for item in datetimes_list:\n",
    "    # Print out the record as a string in the format of 'MM/DD/YYYY'\n",
    "    print(item.strftime('%m/%d/%Y'))\n",
    "    \n",
    "    # Print out the record as an ISO standard string\n",
    "    print(item.isoformat())"
   ]
  },
  {
   "cell_type": "markdown",
   "metadata": {},
   "source": [
    "## Pieces of Time\n",
    "When working with datetime objects, you'll often want to group them by some component of the datetime such as the month, year, day, etc. Each of these are available as attributes on an instance of a datetime object."
   ]
  },
  {
   "cell_type": "code",
   "execution_count": 79,
   "metadata": {},
   "outputs": [],
   "source": [
    "from collections import defaultdict"
   ]
  },
  {
   "cell_type": "code",
   "execution_count": 80,
   "metadata": {},
   "outputs": [
    {
     "name": "stdout",
     "output_type": "stream",
     "text": [
      "2\n",
      "4\n",
      "5\n",
      "7\n",
      "9\n",
      "10\n",
      "12\n",
      "2\n",
      "3\n",
      "5\n"
     ]
    }
   ],
   "source": [
    "# Loop over the first 10 items of the datetimes_list\n",
    "for item in datetimes_list:\n",
    "    # Print out the record as a string in the format of 'MM/DD/YYYY'\n",
    "    print(item.month)"
   ]
  },
  {
   "cell_type": "markdown",
   "metadata": {},
   "source": [
    "## Creating DateTime Objects... Now\n",
    "Often when working with datetime objects, you'll want to work on windows or ranges that start from the current date and time. You can do this using the datetime now functions. There is a `.now()` method on the `datetime` object in the `datetime` module and a `.utcnow()` method. The `.now()` method returns the current local time on the machine on which it is run, and `.utcnow()` does the same thing but returns the value in UTC time. You'll need to be very familiar with these methods."
   ]
  },
  {
   "cell_type": "code",
   "execution_count": 81,
   "metadata": {},
   "outputs": [
    {
     "name": "stdout",
     "output_type": "stream",
     "text": [
      "2020-09-11 17:08:57.960405\n",
      "2020-09-11 20:08:57.960405\n"
     ]
    }
   ],
   "source": [
    "# Import datetime from the datetime module\n",
    "from datetime import datetime\n",
    "\n",
    "# Compute the local datetime: local_dt\n",
    "local_dt = datetime.now()\n",
    "\n",
    "# Print the local datetime\n",
    "print(local_dt)\n",
    "\n",
    "# Compute the UTC datetime: utc_dt\n",
    "utc_dt = datetime.utcnow()\n",
    "\n",
    "# Print the UTC datetime\n",
    "print(utc_dt)"
   ]
  },
  {
   "cell_type": "markdown",
   "metadata": {},
   "source": [
    "## Finding a time in the future and from the past\n",
    "Another common case when working with times is to get a date 30, 60, or 90 days in the past from some date. In Python, the timedelta object from the datetime module is used to represent differences in datetime objects. You can create a timedelta by passing any number of keyword arguments such as days, seconds, microseconds, milliseconds, minutes, hours, and weeks to `timedelta()`.\n",
    "\n",
    "Once you have a timedelta object, you can add or subtract it from a datetime object to get a datetime object relative to the original datetime object."
   ]
  },
  {
   "cell_type": "code",
   "execution_count": 82,
   "metadata": {},
   "outputs": [
    {
     "name": "stdout",
     "output_type": "stream",
     "text": [
      "Current Date: 2001-02-19 00:00:00\n",
      "Previous Date: 2001-02-14 00:00:00\n",
      "\n",
      "\n",
      "Current Date: 2001-04-10 00:00:00\n",
      "Previous Date: 2001-04-05 00:00:00\n",
      "\n",
      "\n",
      "Current Date: 2001-05-30 00:00:00\n",
      "Previous Date: 2001-05-25 00:00:00\n",
      "\n",
      "\n",
      "Current Date: 2001-07-19 00:00:00\n",
      "Previous Date: 2001-07-14 00:00:00\n",
      "\n",
      "\n",
      "Current Date: 2001-09-07 00:00:00\n",
      "Previous Date: 2001-09-02 00:00:00\n",
      "\n",
      "\n",
      "Current Date: 2001-10-27 00:00:00\n",
      "Previous Date: 2001-10-22 00:00:00\n",
      "\n",
      "\n",
      "Current Date: 2001-12-16 00:00:00\n",
      "Previous Date: 2001-12-11 00:00:00\n",
      "\n",
      "\n",
      "Current Date: 2002-02-04 00:00:00\n",
      "Previous Date: 2002-01-30 00:00:00\n",
      "\n",
      "\n",
      "Current Date: 2002-03-26 00:00:00\n",
      "Previous Date: 2002-03-21 00:00:00\n",
      "\n",
      "\n",
      "Current Date: 2002-05-15 00:00:00\n",
      "Previous Date: 2002-05-10 00:00:00\n",
      "\n",
      "\n"
     ]
    }
   ],
   "source": [
    "# Import timedelta from the datetime module\n",
    "from datetime import timedelta\n",
    "\n",
    "# Build a timedelta of 30 days: glanceback\n",
    "glanceback = timedelta(days=5)\n",
    "\n",
    "# Iterate over the review_dates as date\n",
    "for date in datetimes_list:\n",
    "    # Calculate the date 30 days back: prior_period_dt\n",
    "    prior_period_dt = date - glanceback\n",
    "    \n",
    "    # Print the review_date, day_type and total_ridership\n",
    "    print('Current Date: %s' %\n",
    "         (date))\n",
    "\n",
    "    # Print the prior_period_dt, day_type and total_ridership\n",
    "    print('Previous Date: %s' %\n",
    "         (prior_period_dt))\n",
    "    print('\\n')"
   ]
  },
  {
   "cell_type": "markdown",
   "metadata": {},
   "source": [
    "## Finding differences in DateTimes\n",
    "Just like you were able to subtract a timedelta from a datetime to find a date in the past, you can also calculate the difference between two dates to get the timedelta between in return. Here, you'll find out how much time has elapsed between two transit dates."
   ]
  },
  {
   "cell_type": "code",
   "execution_count": 83,
   "metadata": {},
   "outputs": [],
   "source": [
    "date_ranges = [(datetime(2001, 1, 30, 0, 0), datetime(2001, 3, 1, 0, 0)),\n",
    "               (datetime(2001, 3, 31, 0, 0), datetime(2001, 4, 30, 0, 0)),\n",
    "               (datetime(2001, 5, 30, 0, 0), datetime(2001, 6, 29, 0, 0)),\n",
    "               (datetime(2001, 7, 29, 0, 0), datetime(2001, 8, 28, 0, 0)),\n",
    "               (datetime(2001, 9, 27, 0, 0), datetime(2001, 10, 27, 0, 0))]"
   ]
  },
  {
   "cell_type": "code",
   "execution_count": 84,
   "metadata": {},
   "outputs": [
    {
     "name": "stdout",
     "output_type": "stream",
     "text": [
      "2001-03-01 00:00:00 2001-01-30 00:00:00\n",
      "Difference = 30 days, 0:00:00\n",
      "2001-04-30 00:00:00 2001-03-31 00:00:00\n",
      "Difference = 30 days, 0:00:00\n",
      "2001-06-29 00:00:00 2001-05-30 00:00:00\n",
      "Difference = 30 days, 0:00:00\n",
      "2001-08-28 00:00:00 2001-07-29 00:00:00\n",
      "Difference = 30 days, 0:00:00\n",
      "2001-10-27 00:00:00 2001-09-27 00:00:00\n",
      "Difference = 30 days, 0:00:00\n"
     ]
    }
   ],
   "source": [
    "# Iterate over the date_ranges\n",
    "for start_date, end_date in date_ranges:\n",
    "    # Print the End and Start Date\n",
    "    print(end_date, start_date)\n",
    "    # Print the difference between each end and start date\n",
    "    print('Difference =',end_date - start_date)"
   ]
  },
  {
   "cell_type": "markdown",
   "metadata": {},
   "source": [
    "## Find the Months with the Highest Number of Crimes\n",
    "Let's get started! The exercises in this chapter are intentionally more challenging, to give you a chance to really solidify your knowledge. Don't lose heart if you find yourself stuck; think back to the concepts you've learned in previous chapters and how you can apply them to this crime dataset. Good luck!\n",
    "Using the `crime_data` list from the prior exercise, you'll answer a common question that arises when dealing with crime data: How many crimes are committed each month?"
   ]
  },
  {
   "cell_type": "code",
   "execution_count": 85,
   "metadata": {},
   "outputs": [],
   "source": [
    "import csv \n",
    "import pandas as pd\n",
    "from datetime import datetime\n",
    "from collections import Counter\n",
    "from collections import defaultdict"
   ]
  },
  {
   "cell_type": "code",
   "execution_count": 86,
   "metadata": {},
   "outputs": [
    {
     "data": {
      "text/html": [
       "<div>\n",
       "<style scoped>\n",
       "    .dataframe tbody tr th:only-of-type {\n",
       "        vertical-align: middle;\n",
       "    }\n",
       "\n",
       "    .dataframe tbody tr th {\n",
       "        vertical-align: top;\n",
       "    }\n",
       "\n",
       "    .dataframe thead th {\n",
       "        text-align: right;\n",
       "    }\n",
       "</style>\n",
       "<table border=\"1\" class=\"dataframe\">\n",
       "  <thead>\n",
       "    <tr style=\"text-align: right;\">\n",
       "      <th></th>\n",
       "      <th>Date</th>\n",
       "      <th>Block</th>\n",
       "      <th>Primary Type</th>\n",
       "      <th>Description</th>\n",
       "      <th>Location Description</th>\n",
       "      <th>Arrest</th>\n",
       "      <th>Domestic</th>\n",
       "      <th>District</th>\n",
       "    </tr>\n",
       "  </thead>\n",
       "  <tbody>\n",
       "    <tr>\n",
       "      <td>0</td>\n",
       "      <td>05/23/2016 05:35:00 PM</td>\n",
       "      <td>024XX W DIVISION ST</td>\n",
       "      <td>ASSAULT</td>\n",
       "      <td>SIMPLE</td>\n",
       "      <td>STREET</td>\n",
       "      <td>False</td>\n",
       "      <td>True</td>\n",
       "      <td>14</td>\n",
       "    </tr>\n",
       "    <tr>\n",
       "      <td>1</td>\n",
       "      <td>03/26/2016 08:20:00 PM</td>\n",
       "      <td>019XX W HOWARD ST</td>\n",
       "      <td>BURGLARY</td>\n",
       "      <td>FORCIBLE ENTRY</td>\n",
       "      <td>SMALL RETAIL STORE</td>\n",
       "      <td>False</td>\n",
       "      <td>False</td>\n",
       "      <td>24</td>\n",
       "    </tr>\n",
       "    <tr>\n",
       "      <td>2</td>\n",
       "      <td>04/25/2016 03:05:00 PM</td>\n",
       "      <td>001XX W 79TH ST</td>\n",
       "      <td>THEFT</td>\n",
       "      <td>RETAIL THEFT</td>\n",
       "      <td>DEPARTMENT STORE</td>\n",
       "      <td>True</td>\n",
       "      <td>False</td>\n",
       "      <td>6</td>\n",
       "    </tr>\n",
       "    <tr>\n",
       "      <td>3</td>\n",
       "      <td>04/26/2016 05:30:00 PM</td>\n",
       "      <td>010XX N PINE AVE</td>\n",
       "      <td>BATTERY</td>\n",
       "      <td>SIMPLE</td>\n",
       "      <td>SIDEWALK</td>\n",
       "      <td>False</td>\n",
       "      <td>False</td>\n",
       "      <td>15</td>\n",
       "    </tr>\n",
       "    <tr>\n",
       "      <td>4</td>\n",
       "      <td>06/19/2016 01:15:00 AM</td>\n",
       "      <td>027XX W AUGUSTA BLVD</td>\n",
       "      <td>BATTERY</td>\n",
       "      <td>AGGRAVATED: HANDGUN</td>\n",
       "      <td>SIDEWALK</td>\n",
       "      <td>False</td>\n",
       "      <td>False</td>\n",
       "      <td>12</td>\n",
       "    </tr>\n",
       "  </tbody>\n",
       "</table>\n",
       "</div>"
      ],
      "text/plain": [
       "                     Date                 Block Primary Type  \\\n",
       "0  05/23/2016 05:35:00 PM   024XX W DIVISION ST      ASSAULT   \n",
       "1  03/26/2016 08:20:00 PM     019XX W HOWARD ST     BURGLARY   \n",
       "2  04/25/2016 03:05:00 PM       001XX W 79TH ST        THEFT   \n",
       "3  04/26/2016 05:30:00 PM      010XX N PINE AVE      BATTERY   \n",
       "4  06/19/2016 01:15:00 AM  027XX W AUGUSTA BLVD      BATTERY   \n",
       "\n",
       "           Description Location Description  Arrest  Domestic  District  \n",
       "0               SIMPLE               STREET   False      True        14  \n",
       "1       FORCIBLE ENTRY   SMALL RETAIL STORE   False     False        24  \n",
       "2         RETAIL THEFT     DEPARTMENT STORE    True     False         6  \n",
       "3               SIMPLE             SIDEWALK   False     False        15  \n",
       "4  AGGRAVATED: HANDGUN             SIDEWALK   False     False        12  "
      ]
     },
     "execution_count": 86,
     "metadata": {},
     "output_type": "execute_result"
    }
   ],
   "source": [
    "crime = pd.read_csv('../data/14. Tipos de datos en Ciencia de Datos/crimes.csv')\n",
    "crime.head()"
   ]
  },
  {
   "cell_type": "code",
   "execution_count": 87,
   "metadata": {},
   "outputs": [
    {
     "name": "stdout",
     "output_type": "stream",
     "text": [
      "[('05/23/2016 05:35:00 PM', 'ASSAULT', 'STREET', 'False')]\n"
     ]
    }
   ],
   "source": [
    "# Create the file object: csvfile\n",
    "csvfile = open('../data/14. Tipos de datos en Ciencia de Datos/crimes.csv', 'r')\n",
    "\n",
    "# Create an empty list: crime_data\n",
    "crime_data = []\n",
    "\n",
    "# Loop over a csv reader on the file object\n",
    "for row in csv.reader(csvfile):\n",
    "\n",
    "\n",
    "    # Append the date, type of crime, location description, and arrest\n",
    "    crime_data.append((row[0], row[2], row[4], row[5]))\n",
    "    \n",
    "# Remove the first element from crime_data\n",
    "crime_data.pop(0)\n",
    "\n",
    "# Print the first 10 records\n",
    "print(crime_data[:1])"
   ]
  },
  {
   "cell_type": "code",
   "execution_count": 88,
   "metadata": {},
   "outputs": [],
   "source": [
    "# Create a Counter Object: crimes_by_month\n",
    "crimes_by_month = Counter()\n",
    "\n",
    "# Loop over the crime_data list\n",
    "for row in crime_data:\n",
    "    \n",
    "    # Convert the first element of each item into a Python Datetime Object\n",
    "    date = datetime.strptime(row[0], '%m/%d/%Y %I:%M:%S %p')\n",
    "    \n",
    "    # Increment the counter for the month of the row by one\n",
    "    crimes_by_month[date.month] += 1\n"
   ]
  },
  {
   "cell_type": "code",
   "execution_count": 89,
   "metadata": {},
   "outputs": [
    {
     "data": {
      "text/plain": [
       "Counter({5: 1092,\n",
       "         3: 1223,\n",
       "         4: 1036,\n",
       "         6: 1136,\n",
       "         7: 1257,\n",
       "         10: 1128,\n",
       "         2: 1862,\n",
       "         12: 928,\n",
       "         1: 1948,\n",
       "         9: 1146,\n",
       "         11: 1026,\n",
       "         8: 1218})"
      ]
     },
     "execution_count": 89,
     "metadata": {},
     "output_type": "execute_result"
    }
   ],
   "source": [
    "crimes_by_month"
   ]
  },
  {
   "cell_type": "code",
   "execution_count": 90,
   "metadata": {},
   "outputs": [
    {
     "name": "stdout",
     "output_type": "stream",
     "text": [
      "[(1, 1948), (2, 1862), (7, 1257)]\n"
     ]
    }
   ],
   "source": [
    "# Print the 3 most common months for crime\n",
    "print(crimes_by_month.most_common(3))"
   ]
  },
  {
   "cell_type": "markdown",
   "metadata": {},
   "source": [
    "## Transforming your Data Containers to Month and Location\n",
    "Now let's flip your crime_data list into a dictionary keyed by month with a list of location values for each month, and filter down to the records for the year 2016. Remember you can use the shell to look at the crime_data list, such as `crime_data[1][4]` to see the location of the crime in the second item of the list (since lists start at 0)."
   ]
  },
  {
   "cell_type": "code",
   "execution_count": 91,
   "metadata": {},
   "outputs": [],
   "source": [
    "# Create the file object: csvfile\n",
    "csvfile = open('../data/14. Tipos de datos en Ciencia de Datos/crimes.csv', 'r')\n",
    "\n",
    "# Create an empty list: crime_data\n",
    "crime_data = []\n",
    "\n",
    "# Loop over a csv reader on the file object\n",
    "for row in csv.reader(csvfile):\n",
    "\n",
    "\n",
    "    # Append the date, type of crime, location description, and arrest\n",
    "    crime_data.append(row)\n",
    "    \n",
    "# Remove the first element from crime_data\n",
    "crime_data.pop(0);"
   ]
  },
  {
   "cell_type": "code",
   "execution_count": 92,
   "metadata": {},
   "outputs": [
    {
     "name": "stdout",
     "output_type": "stream",
     "text": [
      "defaultdict(<class 'list'>, {5: ['STREET', 'GAS STATION', '', 'PARKING LOT/GARAGE(NON.RESID.)', 'RESIDENCE', 'STREET', 'RESTAURANT', 'SMALL RETAIL STORE', 'STREET', 'APARTMENT', 'SIDEWALK', 'PARKING LOT/GARAGE(NON.RESID.)', 'DEPARTMENT STORE', 'PARKING LOT/GARAGE(NON.RESID.)', 'SMALL RETAIL STORE', 'RESIDENCE', 'STREET', 'RESIDENCE', 'APARTMENT', 'RESIDENCE-GARAGE', 'APARTMENT', 'ALLEY', 'HIGHWAY/EXPRESSWAY', 'SIDEWALK', 'POLICE FACILITY/VEH PARKING LOT', 'RESIDENCE', 'STREET', 'APARTMENT', 'RESIDENCE PORCH/HALLWAY', 'STREET', 'RESIDENCE', 'SMALL RETAIL STORE', 'SCHOOL, PUBLIC, BUILDING', 'SIDEWALK', 'SCHOOL, PUBLIC, BUILDING', 'STREET', 'APARTMENT', 'STREET', 'SIDEWALK', 'SMALL RETAIL STORE', 'ALLEY', 'OTHER', 'APARTMENT', 'STREET', 'RESIDENCE', 'GROCERY FOOD STORE', 'SIDEWALK', 'SCHOOL, PUBLIC, BUILDING', 'APARTMENT', 'APARTMENT', 'PARKING LOT/GARAGE(NON.RESID.)', 'RESIDENCE', 'STREET', 'APARTMENT', 'APARTMENT', 'CURRENCY EXCHANGE', 'RESIDENTIAL YARD (FRONT/BACK)', 'ALLEY', 'CTA TRAIN', 'RESIDENCE', 'RESTAURANT', 'OTHER', 'STREET', 'RESIDENCE', 'RESIDENCE PORCH/HALLWAY', 'APARTMENT', 'GAS STATION', 'SCHOOL, PUBLIC, GROUNDS', 'SIDEWALK', 'STREET', 'RESIDENCE-GARAGE', 'RESIDENCE', 'RESIDENCE-GARAGE', 'RESIDENCE', 'OTHER', 'APARTMENT', 'SIDEWALK', 'SCHOOL, PRIVATE, BUILDING', 'RESIDENCE', 'STREET', 'ALLEY', 'RESIDENCE', 'HOTEL/MOTEL', 'SIDEWALK', 'RESIDENCE PORCH/HALLWAY', 'SIDEWALK', 'ALLEY', 'SIDEWALK', 'ALLEY', 'ALLEY', 'RESIDENCE', 'ALLEY', 'CTA BUS', 'DEPARTMENT STORE', 'RESTAURANT', 'RESIDENCE', 'STREET', 'SIDEWALK', 'DEPARTMENT STORE', 'OTHER', 'APARTMENT', 'RESIDENTIAL YARD (FRONT/BACK)', 'HOTEL/MOTEL', 'BAR OR TAVERN', 'APARTMENT', 'STREET', 'STREET', 'APARTMENT', 'OTHER', 'SCHOOL, PRIVATE, BUILDING', 'ABANDONED BUILDING', 'GAS STATION', 'APARTMENT', 'BANK', 'STREET', 'RESIDENCE', 'SMALL RETAIL STORE', 'APARTMENT', 'STREET', 'RESIDENCE', 'STREET', 'STREET', 'RESIDENCE', 'APARTMENT', 'RESTAURANT', 'APARTMENT', 'STREET', 'STREET', 'RESIDENCE', 'ABANDONED BUILDING', 'RESIDENCE', 'AIRPORT TERMINAL UPPER LEVEL - SECURE AREA', 'PARKING LOT/GARAGE(NON.RESID.)', 'SIDEWALK', 'RESIDENCE', 'RESIDENCE', 'RESIDENCE', 'STREET', 'STREET', 'SCHOOL, PUBLIC, BUILDING', 'RESIDENCE', 'STREET', 'SIDEWALK', 'RESIDENTIAL YARD (FRONT/BACK)', 'SMALL RETAIL STORE', 'RESIDENCE', 'PARKING LOT/GARAGE(NON.RESID.)', 'BANK', 'RESIDENCE', 'ALLEY', 'RESTAURANT', 'APARTMENT', 'STREET', 'RESIDENCE PORCH/HALLWAY', 'SIDEWALK', 'DEPARTMENT STORE', 'GAS STATION', 'PARKING LOT/GARAGE(NON.RESID.)', 'PARK PROPERTY', 'RESIDENTIAL YARD (FRONT/BACK)', 'VEHICLE NON-COMMERCIAL', 'STREET', 'STREET', 'SIDEWALK', 'STREET', 'RESIDENCE', 'STREET', 'APARTMENT', 'ATM (AUTOMATIC TELLER MACHINE)', 'STREET', 'SCHOOL, PUBLIC, BUILDING', 'GAS STATION', 'CTA BUS', 'RESIDENCE', 'STREET', 'DEPARTMENT STORE', 'SIDEWALK', 'SIDEWALK', 'STREET', 'RESIDENCE', 'STREET', 'SIDEWALK', 'ALLEY', 'SIDEWALK', 'STREET', 'RESIDENCE', 'APARTMENT', 'ALLEY', 'SIDEWALK', 'STREET', 'STREET', 'OTHER', 'RESIDENCE', 'RESIDENCE', 'SCHOOL, PUBLIC, BUILDING', 'PARKING LOT/GARAGE(NON.RESID.)', 'RESIDENCE', 'ALLEY', 'STREET', 'APARTMENT', '', 'SCHOOL, PUBLIC, BUILDING', 'STREET', 'APARTMENT', 'GROCERY FOOD STORE', 'RESIDENCE', 'STREET', 'GROCERY FOOD STORE', 'APARTMENT', 'STREET', 'STREET', 'APARTMENT', 'STREET', 'STREET', 'RESTAURANT', 'STREET', 'STREET', 'SCHOOL, PUBLIC, GROUNDS', 'SIDEWALK', 'APARTMENT', 'OTHER', 'OTHER', '', 'SIDEWALK', 'STREET', 'STREET', 'STREET', 'SIDEWALK', 'SIDEWALK', 'CURRENCY EXCHANGE', 'SIDEWALK', 'APARTMENT', 'ALLEY', 'STREET', 'RESIDENCE', 'APARTMENT', 'APARTMENT', 'STREET', 'STREET', 'RESIDENCE', 'CTA STATION', 'STREET', 'STREET', 'RESIDENCE', 'GAS STATION', 'RESIDENCE', 'APARTMENT', 'STREET', 'RESIDENCE', 'STREET', 'STREET', 'STREET', 'DEPARTMENT STORE', 'RESIDENCE', 'ALLEY', 'DRUG STORE', 'STREET', 'STREET', 'SCHOOL, PUBLIC, BUILDING', 'RESIDENCE', 'STREET', 'SIDEWALK', 'DEPARTMENT STORE', 'RESIDENCE', 'STREET', 'APARTMENT', 'PARK PROPERTY', 'VEHICLE NON-COMMERCIAL', 'RESIDENCE', 'VEHICLE NON-COMMERCIAL', 'OTHER', 'RESIDENCE', 'APARTMENT', 'RESIDENCE PORCH/HALLWAY', 'RESIDENCE', 'ALLEY', 'RESIDENCE', 'APARTMENT', 'BANK', 'RESIDENTIAL YARD (FRONT/BACK)', 'SMALL RETAIL STORE', 'SMALL RETAIL STORE', 'APARTMENT', 'RESIDENCE', 'APARTMENT', 'SIDEWALK', 'APARTMENT', 'RESIDENCE-GARAGE', 'RESIDENCE', 'STREET', 'SIDEWALK', 'SCHOOL, PUBLIC, BUILDING', 'APARTMENT', 'STREET', 'CTA STATION', 'OTHER', 'RESIDENCE PORCH/HALLWAY', 'SIDEWALK', 'OTHER', 'SCHOOL, PUBLIC, BUILDING', 'STREET', 'STREET', 'STREET', 'OTHER', 'OTHER', 'STREET', 'SIDEWALK', 'STREET', 'AIRPORT VENDING ESTABLISHMENT', 'STREET', 'PARK PROPERTY', 'STREET', 'CONSTRUCTION SITE', 'RESIDENCE-GARAGE', 'RESIDENCE', 'STREET', 'VEHICLE NON-COMMERCIAL', 'STREET', 'RESIDENCE PORCH/HALLWAY', 'RESIDENCE', 'VEHICLE NON-COMMERCIAL', 'SIDEWALK', 'STREET', 'RESIDENCE', 'RESIDENCE', 'PARK PROPERTY', 'APARTMENT', 'STREET', 'RESIDENCE', 'CTA TRAIN', 'SCHOOL, PUBLIC, BUILDING', 'GAS STATION', 'RESIDENCE', 'ABANDONED BUILDING', 'OTHER', 'STREET', 'STREET', 'GAS STATION', 'RESIDENCE', 'STREET', 'APARTMENT', 'OTHER COMMERCIAL TRANSPORTATION', 'ALLEY', 'APARTMENT', 'PARKING LOT/GARAGE(NON.RESID.)', 'VEHICLE NON-COMMERCIAL', 'ALLEY', 'RESIDENCE', 'CTA TRAIN', 'APARTMENT', 'STREET', 'RESIDENCE', 'RESIDENCE', 'VEHICLE NON-COMMERCIAL', 'STREET', 'RESIDENCE', 'STREET', 'CTA TRAIN', 'GROCERY FOOD STORE', 'CTA BUS STOP', 'STREET', 'SMALL RETAIL STORE', 'APARTMENT', 'PARKING LOT/GARAGE(NON.RESID.)', 'RESIDENTIAL YARD (FRONT/BACK)', 'STREET', 'SIDEWALK', 'SCHOOL, PUBLIC, BUILDING', 'STREET', 'RESTAURANT', 'CTA STATION', 'APARTMENT', 'STREET', 'RESIDENCE', 'RESIDENCE', 'STREET', 'RESIDENCE', 'SMALL RETAIL STORE', 'SCHOOL, PUBLIC, GROUNDS', 'RESIDENCE-GARAGE', 'GAS STATION', 'OTHER', 'RESIDENCE', 'HOTEL/MOTEL', 'RESIDENCE-GARAGE', 'PARKING LOT/GARAGE(NON.RESID.)', 'GROCERY FOOD STORE', 'RESIDENCE', 'PARKING LOT/GARAGE(NON.RESID.)', 'STREET', 'STREET', 'RESIDENCE', 'STREET', 'STREET', 'STREET', 'RESIDENCE', 'OTHER', 'PARKING LOT/GARAGE(NON.RESID.)', 'STREET', 'VEHICLE NON-COMMERCIAL', 'RESIDENCE', 'STREET', 'APARTMENT', 'HOTEL/MOTEL', 'APARTMENT', 'STREET', 'APARTMENT', 'STREET', 'APARTMENT', 'APARTMENT', 'RESIDENCE', 'APARTMENT', 'STREET', 'STREET', 'STREET', 'STREET', 'APARTMENT', 'APARTMENT', 'OTHER', 'STREET', 'PARK PROPERTY', 'OTHER', 'RESIDENCE', 'GAS STATION', 'SIDEWALK', 'RESTAURANT', 'RESIDENCE', 'STREET', 'RESIDENTIAL YARD (FRONT/BACK)', 'STREET', 'RESIDENCE', 'RESIDENCE', 'TAXICAB', 'RESIDENCE', 'CTA STATION', 'STREET', 'POLICE FACILITY/VEH PARKING LOT', 'RESIDENCE', 'STREET', 'STREET', 'SIDEWALK', 'SIDEWALK', 'APARTMENT', 'ALLEY', 'STREET', 'SIDEWALK', 'GAS STATION', 'APARTMENT', 'RESIDENCE', 'CTA TRAIN', 'STREET', 'STREET', 'RESIDENCE', 'CTA TRAIN', 'OTHER', 'VEHICLE NON-COMMERCIAL', 'STREET', 'GAS STATION', 'APARTMENT', 'SIDEWALK', 'APARTMENT', 'RESIDENCE', 'RESIDENCE', 'BAR OR TAVERN', 'STREET', 'COMMERCIAL / BUSINESS OFFICE', 'PARK PROPERTY', 'STREET', 'STREET', 'OTHER', 'RESIDENCE', 'PARKING LOT/GARAGE(NON.RESID.)', 'OTHER', 'ALLEY', 'SCHOOL, PUBLIC, BUILDING', 'STREET', 'GROCERY FOOD STORE', 'SIDEWALK', 'RESTAURANT', 'STREET', 'SIDEWALK', 'STREET', 'APARTMENT', 'VEHICLE NON-COMMERCIAL', 'STREET', 'APARTMENT', 'SIDEWALK', 'RESIDENCE', 'RESIDENCE-GARAGE', 'APARTMENT', 'GROCERY FOOD STORE', 'RESIDENCE', 'SIDEWALK', 'APARTMENT', 'RESIDENCE', 'STREET', 'APARTMENT', 'STREET', 'RESIDENCE-GARAGE', 'OTHER', 'STREET', 'CHA PARKING LOT/GROUNDS', 'SIDEWALK', 'SIDEWALK', 'RESIDENCE', 'RESIDENTIAL YARD (FRONT/BACK)', 'STREET', 'ALLEY', 'STREET', 'SIDEWALK', 'APARTMENT', 'STREET', 'RESIDENCE', 'ABANDONED BUILDING', 'DEPARTMENT STORE', 'RESIDENCE', 'RESIDENTIAL YARD (FRONT/BACK)', 'OTHER', 'POLICE FACILITY/VEH PARKING LOT', 'RESIDENCE-GARAGE', 'RESIDENCE', 'DRUG STORE', 'TAVERN/LIQUOR STORE', 'APARTMENT', 'STREET', 'OTHER', 'STREET', 'SCHOOL, PUBLIC, BUILDING', 'STREET', 'OTHER', 'RESTAURANT', 'APARTMENT', 'STREET', 'GROCERY FOOD STORE', 'PARK PROPERTY', 'ALLEY', 'APARTMENT', 'ALLEY', 'PARKING LOT/GARAGE(NON.RESID.)', 'APARTMENT', 'STREET', 'STREET', 'APARTMENT', 'SIDEWALK', 'STREET', 'RESIDENCE', 'STREET', 'SIDEWALK', 'RESIDENCE', 'APARTMENT', 'PARKING LOT/GARAGE(NON.RESID.)', 'SIDEWALK', 'SCHOOL, PUBLIC, BUILDING', 'CONVENIENCE STORE', 'RESIDENCE', 'APARTMENT', 'SIDEWALK', 'ALLEY', 'STREET', 'SIDEWALK', 'PARKING LOT/GARAGE(NON.RESID.)', 'RESIDENCE-GARAGE', 'APARTMENT', 'APARTMENT', 'SMALL RETAIL STORE', 'STREET', 'STREET', 'RESIDENCE', 'APARTMENT', 'RESIDENCE', 'RESIDENCE', 'RESIDENCE', '', 'RESIDENCE', 'RESIDENCE', 'OTHER', 'RESIDENCE', 'RESTAURANT', 'COMMERCIAL / BUSINESS OFFICE', 'GOVERNMENT BUILDING/PROPERTY', 'STREET', 'RESIDENCE', 'STREET', 'STREET', 'RESIDENCE', 'ALLEY', 'STREET', 'STREET', 'STREET', 'VEHICLE NON-COMMERCIAL', 'ALLEY', 'PARK PROPERTY', 'STREET', 'RESIDENCE-GARAGE', 'DEPARTMENT STORE', 'RESIDENCE', 'RESIDENCE', 'DRUG STORE', 'SIDEWALK', 'APARTMENT', 'RESIDENCE', 'SIDEWALK', 'PARK PROPERTY', 'RESIDENCE', 'GROCERY FOOD STORE', 'RESIDENCE PORCH/HALLWAY', 'GAS STATION', 'SIDEWALK', 'GROCERY FOOD STORE', 'RESIDENCE', 'RESIDENCE', 'RESIDENTIAL YARD (FRONT/BACK)', 'RESIDENCE', 'OTHER', 'APARTMENT', 'SCHOOL, PRIVATE, BUILDING', 'APARTMENT', 'PARK PROPERTY', 'APARTMENT', 'VEHICLE NON-COMMERCIAL', 'DAY CARE CENTER', 'DEPARTMENT STORE', 'SIDEWALK', 'OTHER', 'PARKING LOT/GARAGE(NON.RESID.)', 'SMALL RETAIL STORE', 'RESIDENCE', 'APARTMENT', 'RESIDENCE', 'RESIDENCE PORCH/HALLWAY', 'RESIDENCE', 'STREET', 'RESIDENCE', 'DEPARTMENT STORE', 'STREET', 'APARTMENT', 'SIDEWALK', 'RESIDENTIAL YARD (FRONT/BACK)', 'STREET', 'STREET', 'STREET', '', 'RESIDENTIAL YARD (FRONT/BACK)', 'RESIDENCE', 'RESIDENCE', 'STREET', 'APARTMENT', 'APARTMENT', 'STREET', 'ALLEY', 'SIDEWALK', 'STREET', 'RESIDENCE', 'STREET', 'SIDEWALK', 'RESIDENTIAL YARD (FRONT/BACK)', 'RESIDENCE-GARAGE', 'RESTAURANT', 'PARKING LOT/GARAGE(NON.RESID.)', 'STREET', 'STREET', 'APARTMENT', 'SIDEWALK', 'RESIDENCE', 'STREET', 'RESIDENCE', 'RESIDENCE', 'SIDEWALK', 'SIDEWALK', 'CTA STATION', 'GROCERY FOOD STORE', 'STREET', 'STREET', 'RESIDENCE-GARAGE', 'SIDEWALK', 'CTA BUS STOP', 'SIDEWALK', 'RESIDENCE', 'GROCERY FOOD STORE', 'RESIDENCE', 'CAR WASH', 'RESIDENCE', 'VEHICLE NON-COMMERCIAL', 'SCHOOL, PUBLIC, BUILDING', 'APARTMENT', 'VEHICLE NON-COMMERCIAL', 'PARKING LOT/GARAGE(NON.RESID.)', 'RESIDENCE', 'STREET', 'SMALL RETAIL STORE', 'STREET', 'RESIDENCE-GARAGE', 'VEHICLE NON-COMMERCIAL', 'STREET', 'ALLEY', 'PARK PROPERTY', 'RESIDENCE', 'STREET', 'RESIDENCE', 'RESIDENCE', 'STREET', 'RESIDENCE PORCH/HALLWAY', 'PARKING LOT/GARAGE(NON.RESID.)', 'DEPARTMENT STORE', 'SIDEWALK', 'SIDEWALK', 'VEHICLE NON-COMMERCIAL', 'DRUG STORE', 'CTA BUS', 'STREET', 'AIRPORT PARKING LOT', 'APARTMENT', 'STREET', 'STREET', 'PARK PROPERTY', 'VEHICLE NON-COMMERCIAL', 'SIDEWALK', 'COLLEGE/UNIVERSITY RESIDENCE HALL', 'STREET', 'APARTMENT', 'VEHICLE NON-COMMERCIAL', 'SIDEWALK', 'PARKING LOT/GARAGE(NON.RESID.)', 'RESIDENTIAL YARD (FRONT/BACK)', 'VACANT LOT/LAND', 'RESIDENTIAL YARD (FRONT/BACK)', 'RESIDENCE', 'STREET', 'RESIDENCE-GARAGE', 'RESIDENCE-GARAGE', 'STREET', 'ATHLETIC CLUB', 'RESIDENCE', 'ALLEY', 'DRUG STORE', 'RESIDENCE', 'PARKING LOT/GARAGE(NON.RESID.)', 'CHA APARTMENT', 'STREET', 'SIDEWALK', 'CTA STATION', 'OTHER', 'SIDEWALK', 'SIDEWALK', 'STREET', 'STREET', 'SCHOOL, PUBLIC, BUILDING', 'STREET', 'STREET', 'SCHOOL, PUBLIC, GROUNDS', 'RESIDENCE', 'RESTAURANT', 'STREET', 'VACANT LOT/LAND', 'STREET', 'RESIDENCE PORCH/HALLWAY', 'RESIDENCE', 'APARTMENT', 'ALLEY', 'APARTMENT', 'RESIDENCE', 'ALLEY', 'RESIDENCE', 'RESIDENCE PORCH/HALLWAY', 'STREET', 'STREET', 'APARTMENT', 'STREET', 'ANIMAL HOSPITAL', 'VEHICLE NON-COMMERCIAL', 'STREET', 'STREET', 'RESTAURANT', 'STREET', 'ATM (AUTOMATIC TELLER MACHINE)', 'STREET', 'APARTMENT', 'RESIDENCE PORCH/HALLWAY', 'STREET', 'STREET', 'STREET', 'OTHER', 'RESIDENCE-GARAGE', 'VEHICLE NON-COMMERCIAL', 'STREET', 'VEHICLE NON-COMMERCIAL', 'RESIDENCE', 'RESIDENCE', 'SMALL RETAIL STORE', 'SIDEWALK', 'APARTMENT', 'OTHER', 'RESIDENTIAL YARD (FRONT/BACK)', 'SIDEWALK', 'RESIDENCE', 'VEHICLE NON-COMMERCIAL', 'GAS STATION', 'SIDEWALK', 'OTHER', 'APARTMENT', 'APARTMENT', 'PARKING LOT/GARAGE(NON.RESID.)', 'RESIDENCE-GARAGE', 'GROCERY FOOD STORE', 'RESIDENCE', 'SIDEWALK', 'RESIDENCE-GARAGE', 'CHA PARKING LOT/GROUNDS', 'VEHICLE NON-COMMERCIAL', 'RESIDENCE PORCH/HALLWAY', 'RESIDENCE', 'RESTAURANT', 'APARTMENT', 'SIDEWALK', 'STREET', 'STREET', 'STREET', 'RESIDENCE-GARAGE', 'SIDEWALK', 'GAS STATION', 'SIDEWALK', 'APARTMENT', 'STREET', 'APARTMENT', 'GAS STATION', 'STREET', 'STREET', 'APARTMENT', 'STREET', 'RESIDENCE', 'OTHER', 'SIDEWALK', 'STREET', 'RESIDENCE', 'RESIDENTIAL YARD (FRONT/BACK)', 'SIDEWALK', 'STREET', 'STREET', 'APARTMENT', 'RESIDENCE', 'RESIDENCE-GARAGE', 'RESIDENCE', 'STREET', 'ABANDONED BUILDING', 'APARTMENT', 'CTA TRAIN', 'SIDEWALK', 'CTA TRAIN', 'RESIDENCE', 'APARTMENT', 'STREET', 'APARTMENT', 'RESIDENCE', 'OTHER', 'RESIDENCE', 'SIDEWALK', 'STREET', 'RESIDENCE', 'RESIDENCE', 'LIBRARY', 'RESIDENCE', 'RESIDENCE-GARAGE', 'RESIDENCE', 'STREET', 'STREET', 'APARTMENT', 'RESIDENCE PORCH/HALLWAY', 'SIDEWALK', 'APARTMENT', 'RESIDENCE PORCH/HALLWAY', 'APARTMENT', 'CHA PARKING LOT/GROUNDS', 'RESIDENCE', 'SIDEWALK', 'PARKING LOT/GARAGE(NON.RESID.)', 'STREET', 'STREET', 'STREET', 'SIDEWALK', 'PARKING LOT/GARAGE(NON.RESID.)', 'RESIDENCE', 'STREET', 'APARTMENT', 'SIDEWALK', 'APARTMENT', 'STREET', 'COMMERCIAL / BUSINESS OFFICE', 'STREET', 'COMMERCIAL / BUSINESS OFFICE', 'OTHER', 'RESIDENCE', 'ABANDONED BUILDING', 'RESIDENCE', 'STREET', 'SIDEWALK', 'APARTMENT', 'STREET', 'SIDEWALK', 'GROCERY FOOD STORE', 'DRUG STORE', 'SIDEWALK', 'RESIDENCE', 'DRUG STORE', 'OTHER', 'RESIDENCE', 'SIDEWALK', 'STREET', 'RESIDENCE', 'RESIDENCE', 'STREET', 'RESIDENCE', 'SIDEWALK', 'RESIDENCE', 'SIDEWALK', 'RESIDENCE PORCH/HALLWAY', 'APARTMENT', 'APARTMENT', 'SIDEWALK', 'APARTMENT', 'COMMERCIAL / BUSINESS OFFICE', 'RESIDENCE', 'SIDEWALK', 'GROCERY FOOD STORE', 'CONVENIENCE STORE', 'STREET', 'PARK PROPERTY', 'CTA STATION', 'RESIDENCE', 'ATM (AUTOMATIC TELLER MACHINE)', 'SCHOOL, PUBLIC, GROUNDS', 'SCHOOL, PUBLIC, BUILDING', 'OTHER', 'STREET', 'SIDEWALK', 'SIDEWALK', 'STREET', 'ALLEY', 'STREET', 'RESIDENCE', 'ALLEY', 'STREET', 'OTHER', 'RESIDENCE-GARAGE', 'SIDEWALK', 'PARKING LOT/GARAGE(NON.RESID.)', 'APARTMENT', 'PARKING LOT/GARAGE(NON.RESID.)', 'SIDEWALK', 'SIDEWALK', 'APARTMENT', 'SIDEWALK', 'APARTMENT', 'STREET', 'RESIDENCE', 'STREET', 'OTHER', 'DEPARTMENT STORE', 'AIRPORT TERMINAL MEZZANINE - NON-SECURE AREA', 'RESIDENCE', 'CURRENCY EXCHANGE', 'APARTMENT', 'SIDEWALK', 'RESIDENCE', 'SIDEWALK', 'STREET', 'APARTMENT', 'AIRPORT TERMINAL LOWER LEVEL - NON-SECURE AREA', 'STREET', 'STREET', 'STREET', 'RESIDENCE', 'APARTMENT', 'STREET', 'STREET', 'OTHER', 'STREET', 'RESIDENCE-GARAGE', 'COMMERCIAL / BUSINESS OFFICE', 'SMALL RETAIL STORE', 'APARTMENT', 'SIDEWALK', 'RESIDENCE', 'STREET', 'STREET', 'APARTMENT', 'SIDEWALK', 'RESIDENTIAL YARD (FRONT/BACK)', 'RESIDENTIAL YARD (FRONT/BACK)', 'APARTMENT', 'RESTAURANT', 'ALLEY', 'STREET', 'RESIDENTIAL YARD (FRONT/BACK)', 'DRIVEWAY - RESIDENTIAL', 'ALLEY', 'RESIDENCE', 'RESTAURANT', 'SIDEWALK', 'RESIDENCE-GARAGE', 'AIRPORT TERMINAL LOWER LEVEL - NON-SECURE AREA', 'STREET', 'STREET', 'PARKING LOT/GARAGE(NON.RESID.)', 'RESIDENTIAL YARD (FRONT/BACK)', 'RESIDENCE', 'AIRPORT TERMINAL MEZZANINE - NON-SECURE AREA', 'SCHOOL, PUBLIC, BUILDING', 'APARTMENT', 'GROCERY FOOD STORE', 'SIDEWALK', 'RESTAURANT', 'OTHER', 'SMALL RETAIL STORE', 'RESIDENCE', 'APARTMENT', 'RESIDENCE', 'APARTMENT', 'STREET', 'CONSTRUCTION SITE', 'SIDEWALK', 'STREET', 'RESIDENCE', 'APARTMENT', 'SIDEWALK', 'CTA TRAIN', 'STREET', 'SIDEWALK', 'APARTMENT', 'STREET', 'PARKING LOT/GARAGE(NON.RESID.)', 'APPLIANCE STORE', 'APARTMENT', 'APARTMENT', 'TAVERN/LIQUOR STORE', 'RESIDENCE', 'RESIDENCE', 'RESIDENTIAL YARD (FRONT/BACK)', 'RESIDENTIAL YARD (FRONT/BACK)', 'STREET', 'RESIDENCE', 'STREET', 'CHA PARKING LOT/GROUNDS', 'RESIDENCE', 'DRIVEWAY - RESIDENTIAL', 'SCHOOL, PRIVATE, GROUNDS', 'RESIDENCE-GARAGE', 'SIDEWALK', 'VACANT LOT/LAND', 'SIDEWALK', 'APARTMENT', 'RESIDENTIAL YARD (FRONT/BACK)', 'GAS STATION', 'STREET', 'ALLEY', 'APARTMENT', 'VEHICLE NON-COMMERCIAL', 'CTA GARAGE / OTHER PROPERTY', 'PARKING LOT/GARAGE(NON.RESID.)', 'CHA APARTMENT', 'SMALL RETAIL STORE', 'RESIDENCE', 'RESIDENCE', 'STREET', 'SCHOOL, PUBLIC, BUILDING', 'RESIDENCE PORCH/HALLWAY', 'SIDEWALK', 'GAS STATION', 'CTA TRAIN', 'CTA PLATFORM', 'COMMERCIAL / BUSINESS OFFICE', 'STREET', 'RESIDENCE', 'DEPARTMENT STORE', 'SIDEWALK', 'APARTMENT', 'STREET', 'DEPARTMENT STORE', 'RESIDENCE-GARAGE', 'RESIDENTIAL YARD (FRONT/BACK)', 'RESIDENTIAL YARD (FRONT/BACK)', 'STREET', 'RESTAURANT', 'STREET', 'STREET', 'SMALL RETAIL STORE', 'SCHOOL, PUBLIC, GROUNDS', 'CTA STATION', 'SIDEWALK', 'APARTMENT', 'RESIDENTIAL YARD (FRONT/BACK)', 'STREET', 'RESTAURANT'], 3: ['SMALL RETAIL STORE', 'RESIDENCE', 'STREET', 'APARTMENT', 'CTA TRAIN', 'SCHOOL, PUBLIC, BUILDING', 'RESIDENTIAL YARD (FRONT/BACK)', 'SIDEWALK', 'RESIDENCE', 'STREET', 'RESIDENCE', 'APARTMENT', 'GROCERY FOOD STORE', 'DEPARTMENT STORE', 'RESTAURANT', 'DEPARTMENT STORE', 'STREET', 'SCHOOL, PUBLIC, BUILDING', 'RESIDENTIAL YARD (FRONT/BACK)', 'RESIDENCE', 'ALLEY', 'APARTMENT', 'STREET', 'RESIDENCE', 'STREET', 'RESIDENCE PORCH/HALLWAY', 'RESIDENCE', 'STREET', 'RESIDENTIAL YARD (FRONT/BACK)', 'STREET', 'STREET', 'ALLEY', 'ATHLETIC CLUB', 'SIDEWALK', 'STREET', 'STREET', 'STREET', 'RESIDENCE', 'OTHER', 'APARTMENT', 'RESIDENCE', 'RESIDENCE', 'SIDEWALK', 'OTHER', 'BAR OR TAVERN', 'DEPARTMENT STORE', 'STREET', 'APARTMENT', 'RESIDENCE-GARAGE', 'SIDEWALK', 'CTA GARAGE / OTHER PROPERTY', 'APARTMENT', 'SIDEWALK', 'SCHOOL, PUBLIC, BUILDING', 'ALLEY', 'RESIDENCE', 'RESIDENCE', 'GAS STATION', 'APARTMENT', '', 'GOVERNMENT BUILDING/PROPERTY', 'SIDEWALK', 'SIDEWALK', 'SIDEWALK', 'OTHER', 'STREET', 'APARTMENT', 'APARTMENT', 'HOTEL/MOTEL', 'RESIDENCE', 'STREET', 'SCHOOL, PUBLIC, BUILDING', 'ALLEY', 'STREET', 'STREET', 'APARTMENT', 'STREET', 'APARTMENT', 'CHA APARTMENT', 'RESIDENCE', 'RESIDENTIAL YARD (FRONT/BACK)', 'SCHOOL, PUBLIC, GROUNDS', 'SIDEWALK', 'APARTMENT', 'SIDEWALK', 'OTHER', 'STREET', 'RESIDENCE', 'STREET', 'OTHER', 'STREET', 'SIDEWALK', 'RESIDENCE', 'STREET', 'SIDEWALK', 'CTA BUS STOP', 'SIDEWALK', 'SMALL RETAIL STORE', 'SIDEWALK', 'STREET', 'GAS STATION', 'BARBERSHOP', 'SIDEWALK', 'APARTMENT', 'STREET', 'OTHER', 'STREET', 'SIDEWALK', 'RESIDENCE', 'SCHOOL, PRIVATE, BUILDING', 'STREET', 'RESIDENCE PORCH/HALLWAY', 'RESIDENCE', 'COMMERCIAL / BUSINESS OFFICE', 'COMMERCIAL / BUSINESS OFFICE', 'STREET', 'SIDEWALK', 'VEHICLE NON-COMMERCIAL', 'AIRPORT VENDING ESTABLISHMENT', 'APARTMENT', 'APARTMENT', 'OTHER', 'APARTMENT', 'STREET', 'DEPARTMENT STORE', 'APARTMENT', 'VEHICLE NON-COMMERCIAL', 'RESIDENCE', 'PARK PROPERTY', 'APARTMENT', 'RESIDENTIAL YARD (FRONT/BACK)', 'SIDEWALK', 'APARTMENT', 'OTHER', 'CURRENCY EXCHANGE', 'APARTMENT', 'RESIDENCE', 'SIDEWALK', 'RESIDENCE', 'STREET', 'BAR OR TAVERN', 'RESIDENCE', 'APARTMENT', 'SIDEWALK', 'APARTMENT', 'RESIDENCE PORCH/HALLWAY', 'RESIDENCE', 'STREET', 'RESIDENCE-GARAGE', 'CONVENIENCE STORE', 'RESIDENCE', 'RESIDENCE', 'STREET', 'STREET', 'RESIDENCE', 'VEHICLE NON-COMMERCIAL', 'OTHER', 'BANK', 'SIDEWALK', 'STREET', 'AIRPORT BUILDING NON-TERMINAL - SECURE AREA', 'APARTMENT', 'OTHER', 'STREET', 'STREET', 'APARTMENT', 'RESIDENCE PORCH/HALLWAY', 'COLLEGE/UNIVERSITY RESIDENCE HALL', 'RESIDENCE PORCH/HALLWAY', 'SIDEWALK', 'OTHER', 'STREET', 'PARKING LOT/GARAGE(NON.RESID.)', 'RESIDENCE', 'APARTMENT', 'VEHICLE NON-COMMERCIAL', 'VEHICLE NON-COMMERCIAL', 'CTA GARAGE / OTHER PROPERTY', 'PARK PROPERTY', 'SIDEWALK', 'RESTAURANT', 'STREET', 'SCHOOL, PRIVATE, BUILDING', 'PARK PROPERTY', 'NURSING HOME/RETIREMENT HOME', 'SIDEWALK', 'SIDEWALK', 'RESIDENCE', 'APARTMENT', 'RESIDENCE', 'COMMERCIAL / BUSINESS OFFICE', 'STREET', 'STREET', 'STREET', 'ALLEY', 'RESIDENCE', 'RESIDENCE', 'STREET', 'STREET', 'STREET', 'SIDEWALK', 'APARTMENT', 'APARTMENT', 'SMALL RETAIL STORE', 'SIDEWALK', 'APARTMENT', 'STREET', 'HOSPITAL BUILDING/GROUNDS', 'RESIDENCE', 'APARTMENT', 'SIDEWALK', 'RESIDENCE', 'STREET', 'CTA BUS', 'STREET', 'STREET', 'STREET', 'APARTMENT', 'OTHER', 'STREET', 'STREET', 'ALLEY', 'OTHER', 'SIDEWALK', 'OTHER', 'RESIDENCE', 'STREET', 'APARTMENT', 'STREET', 'DEPARTMENT STORE', 'RESIDENCE-GARAGE', 'RESIDENCE', 'RESIDENCE', 'POLICE FACILITY/VEH PARKING LOT', 'STREET', 'STREET', 'SIDEWALK', 'APARTMENT', 'STREET', 'APARTMENT', 'RESIDENCE', 'SMALL RETAIL STORE', 'SIDEWALK', 'SCHOOL, PUBLIC, BUILDING', 'APARTMENT', 'STREET', 'SPORTS ARENA/STADIUM', 'APARTMENT', 'APARTMENT', 'RESIDENCE PORCH/HALLWAY', 'STREET', 'SIDEWALK', 'STREET', 'SIDEWALK', 'APARTMENT', 'VEHICLE NON-COMMERCIAL', 'COMMERCIAL / BUSINESS OFFICE', 'SCHOOL, PUBLIC, BUILDING', 'HIGHWAY/EXPRESSWAY', 'STREET', 'CTA GARAGE / OTHER PROPERTY', 'APARTMENT', 'RESIDENCE PORCH/HALLWAY', 'GAS STATION', 'APARTMENT', 'SIDEWALK', 'AIRPORT TERMINAL UPPER LEVEL - NON-SECURE AREA', 'RESIDENCE', 'STREET', 'RESIDENCE', 'RESIDENCE', 'SMALL RETAIL STORE', 'SIDEWALK', 'PARKING LOT/GARAGE(NON.RESID.)', 'APARTMENT', 'VEHICLE NON-COMMERCIAL', 'OTHER', '', 'RESIDENCE', 'COMMERCIAL / BUSINESS OFFICE', 'STREET', 'ALLEY', 'STREET', 'STREET', 'CTA PLATFORM', 'STREET', 'STREET', 'AIRCRAFT', 'RESTAURANT', 'APARTMENT', 'RESIDENCE', 'RESIDENCE', 'RESIDENCE', 'VEHICLE NON-COMMERCIAL', 'STREET', 'VEHICLE NON-COMMERCIAL', 'SMALL RETAIL STORE', 'VEHICLE NON-COMMERCIAL', 'OTHER', 'STREET', 'SIDEWALK', 'SMALL RETAIL STORE', 'APARTMENT', 'STREET', 'SIDEWALK', 'OTHER', 'APARTMENT', 'ALLEY', 'SIDEWALK', 'STREET', 'CTA TRAIN', 'RESIDENCE', 'STREET', 'RESIDENCE', 'STREET', 'STREET', 'APARTMENT', 'APARTMENT', 'STREET', 'APARTMENT', 'RESIDENCE', 'RESTAURANT', 'RESIDENCE', 'APARTMENT', 'SCHOOL, PRIVATE, BUILDING', 'WAREHOUSE', 'APARTMENT', 'SMALL RETAIL STORE', 'RESIDENCE', 'SIDEWALK', 'RESIDENCE', 'STREET', 'APARTMENT', 'RESIDENCE', 'OTHER', 'RESIDENCE', 'GROCERY FOOD STORE', 'RESIDENCE-GARAGE', 'APARTMENT', 'PARKING LOT/GARAGE(NON.RESID.)', 'GROCERY FOOD STORE', 'VEHICLE NON-COMMERCIAL', 'APARTMENT', 'POLICE FACILITY/VEH PARKING LOT', 'RESIDENCE', 'OTHER', 'STREET', 'APARTMENT', 'RESIDENCE', 'RESIDENCE', 'STREET', 'RESTAURANT', 'GROCERY FOOD STORE', 'STREET', 'RESIDENCE', 'RESIDENCE', 'STREET', 'RESIDENCE', 'SIDEWALK', 'AIRPORT TERMINAL LOWER LEVEL - SECURE AREA', 'COMMERCIAL / BUSINESS OFFICE', 'APARTMENT', 'STREET', 'POLICE FACILITY/VEH PARKING LOT', 'VEHICLE-COMMERCIAL', 'SIDEWALK', 'STREET', 'RESTAURANT', 'OTHER', 'STREET', 'STREET', 'RESIDENCE', 'RESIDENCE', 'PARKING LOT/GARAGE(NON.RESID.)', 'RESIDENCE', 'SIDEWALK', 'SCHOOL, PUBLIC, BUILDING', 'RESIDENCE', 'APARTMENT', 'STREET', 'PARKING LOT/GARAGE(NON.RESID.)', 'SMALL RETAIL STORE', 'STREET', 'DEPARTMENT STORE', 'RESIDENCE', 'STREET', 'RESIDENCE', 'STREET', 'PARKING LOT/GARAGE(NON.RESID.)', 'MEDICAL/DENTAL OFFICE', 'STREET', 'RESIDENCE PORCH/HALLWAY', 'OTHER', 'RESIDENCE PORCH/HALLWAY', 'STREET', 'APARTMENT', 'STREET', 'RESIDENCE', 'GAS STATION', 'STREET', 'RESIDENCE', 'RESIDENTIAL YARD (FRONT/BACK)', 'RESIDENCE', 'APARTMENT', 'SIDEWALK', 'RESIDENCE', 'HOTEL/MOTEL', 'STREET', 'SIDEWALK', 'STREET', 'RESTAURANT', 'RESIDENCE', 'RESIDENCE', 'STREET', 'APARTMENT', 'STREET', 'STREET', 'CTA BUS', 'RESTAURANT', 'SIDEWALK', 'STREET', 'APARTMENT', 'OTHER', 'RESIDENCE', 'APARTMENT', 'APARTMENT', 'ALLEY', 'OTHER', 'SMALL RETAIL STORE', '', 'DEPARTMENT STORE', 'STREET', 'STREET', 'DEPARTMENT STORE', 'CTA STATION', 'APARTMENT', 'SIDEWALK', 'RESIDENCE', 'APARTMENT', 'RESTAURANT', 'SIDEWALK', 'STREET', 'SMALL RETAIL STORE', 'PARKING LOT/GARAGE(NON.RESID.)', 'DRUG STORE', 'ATM (AUTOMATIC TELLER MACHINE)', 'STREET', 'SIDEWALK', 'APARTMENT', 'GROCERY FOOD STORE', 'RESIDENCE', 'RESIDENCE', 'APARTMENT', 'STREET', 'COMMERCIAL / BUSINESS OFFICE', 'OTHER', 'RESIDENTIAL YARD (FRONT/BACK)', 'RESIDENCE', 'STREET', 'STREET', 'BANK', 'STREET', 'ABANDONED BUILDING', 'STREET', 'APARTMENT', 'APARTMENT', 'SIDEWALK', 'OTHER', 'RESIDENCE', 'STREET', 'STREET', 'GAS STATION', 'STREET', 'SMALL RETAIL STORE', 'RESIDENCE', 'CONVENIENCE STORE', 'BOWLING ALLEY', 'RESIDENCE', 'CTA PLATFORM', 'RESIDENCE', 'RESIDENTIAL YARD (FRONT/BACK)', 'BAR OR TAVERN', 'STREET', 'APARTMENT', 'APARTMENT', 'DEPARTMENT STORE', 'RESTAURANT', 'STREET', 'RESIDENCE PORCH/HALLWAY', 'APARTMENT', 'RESIDENCE', 'SCHOOL, PUBLIC, BUILDING', 'RESIDENCE-GARAGE', 'RESIDENCE', 'STREET', 'OTHER', 'RESIDENCE', 'RESIDENCE', 'WAREHOUSE', 'RESIDENCE', 'PARK PROPERTY', 'HOTEL/MOTEL', 'RESIDENCE', 'STREET', 'STREET', 'ATM (AUTOMATIC TELLER MACHINE)', 'GROCERY FOOD STORE', 'STREET', 'DEPARTMENT STORE', 'STREET', 'ALLEY', 'STREET', 'DEPARTMENT STORE', 'RESIDENCE', 'APARTMENT', 'SMALL RETAIL STORE', 'DEPARTMENT STORE', 'STREET', 'SCHOOL, PUBLIC, BUILDING', 'STREET', 'OTHER', 'SCHOOL, PUBLIC, BUILDING', 'OTHER', 'RESIDENCE', 'PARKING LOT/GARAGE(NON.RESID.)', 'RESIDENCE', 'DEPARTMENT STORE', 'HOSPITAL BUILDING/GROUNDS', 'OTHER', 'OTHER', 'SCHOOL, PUBLIC, BUILDING', 'STREET', 'RESIDENCE', 'DEPARTMENT STORE', 'SMALL RETAIL STORE', 'DRUG STORE', 'AIRPORT TERMINAL UPPER LEVEL - SECURE AREA', 'STREET', 'RESIDENCE', 'RESIDENCE', 'APARTMENT', 'RESIDENCE', 'PARKING LOT/GARAGE(NON.RESID.)', 'STREET', 'DEPARTMENT STORE', 'RESIDENCE', 'SMALL RETAIL STORE', 'HOSPITAL BUILDING/GROUNDS', 'SCHOOL, PUBLIC, GROUNDS', 'RESIDENCE PORCH/HALLWAY', 'RESIDENCE', 'WAREHOUSE', 'APARTMENT', 'RESIDENCE', 'STREET', 'STREET', 'RESIDENCE PORCH/HALLWAY', 'RESIDENCE', 'OTHER', 'VEHICLE NON-COMMERCIAL', 'RESIDENCE', 'SMALL RETAIL STORE', 'SIDEWALK', 'RESIDENCE-GARAGE', 'RESIDENCE', 'STREET', 'SMALL RETAIL STORE', 'RESIDENCE', 'SIDEWALK', 'COMMERCIAL / BUSINESS OFFICE', 'OTHER', 'RESIDENCE', 'RESIDENCE', 'STREET', 'RESTAURANT', 'STREET', 'STREET', 'RESIDENCE', 'HOSPITAL BUILDING/GROUNDS', 'RESIDENCE', 'SIDEWALK', 'DEPARTMENT STORE', 'SMALL RETAIL STORE', 'STREET', 'SIDEWALK', 'SIDEWALK', 'APARTMENT', 'SMALL RETAIL STORE', 'SIDEWALK', 'STREET', 'APARTMENT', 'SMALL RETAIL STORE', 'RESTAURANT', 'COMMERCIAL / BUSINESS OFFICE', 'SIDEWALK', 'STREET', 'STREET', 'CTA BUS', 'OTHER', 'RESTAURANT', 'VEHICLE NON-COMMERCIAL', 'SCHOOL, PUBLIC, BUILDING', 'APARTMENT', 'RESIDENCE', 'PARKING LOT/GARAGE(NON.RESID.)', 'RESIDENCE', 'SMALL RETAIL STORE', 'STREET', 'SIDEWALK', 'SMALL RETAIL STORE', 'RESIDENCE', 'ALLEY', 'SMALL RETAIL STORE', 'SIDEWALK', 'STREET', 'BAR OR TAVERN', 'SIDEWALK', 'RESIDENCE', 'RESIDENCE', 'RESIDENCE', 'RESIDENCE', 'STREET', 'STREET', 'RESIDENCE', 'RESIDENCE PORCH/HALLWAY', 'STREET', 'RESIDENCE', 'HOTEL/MOTEL', 'STREET', 'APARTMENT', 'RESIDENCE', 'STREET', 'RESIDENCE-GARAGE', 'NURSING HOME/RETIREMENT HOME', 'RESIDENCE', 'OTHER', 'STREET', 'STREET', 'STREET', 'STREET', 'STREET', 'SMALL RETAIL STORE', 'APARTMENT', 'COMMERCIAL / BUSINESS OFFICE', 'RESIDENCE', 'OTHER', 'HOTEL/MOTEL', 'STREET', 'RESTAURANT', 'SCHOOL, PUBLIC, BUILDING', 'STREET', 'SIDEWALK', 'DRUG STORE', 'APARTMENT', 'STREET', 'VEHICLE NON-COMMERCIAL', 'STREET', 'RESIDENTIAL YARD (FRONT/BACK)', 'RESIDENCE', 'RESIDENCE', 'GROCERY FOOD STORE', 'RESIDENCE', 'APARTMENT', 'FOREST PRESERVE', 'SIDEWALK', 'APARTMENT', 'STREET', 'SIDEWALK', 'SIDEWALK', 'STREET', 'SCHOOL, PUBLIC, BUILDING', 'SIDEWALK', 'APARTMENT', 'ALLEY', 'RESIDENCE', 'RESIDENCE', 'SIDEWALK', 'RESIDENTIAL YARD (FRONT/BACK)', 'SIDEWALK', 'RESIDENCE', 'RESIDENCE', 'RESIDENCE', 'RESIDENCE', 'PARKING LOT/GARAGE(NON.RESID.)', 'PARKING LOT/GARAGE(NON.RESID.)', 'STREET', 'RESIDENCE', 'ALLEY', 'RESIDENCE', 'RESIDENCE', 'OTHER', 'APARTMENT', 'RESIDENCE', 'ALLEY', 'PARKING LOT/GARAGE(NON.RESID.)', 'STREET', 'APARTMENT', 'PARKING LOT/GARAGE(NON.RESID.)', 'CTA STATION', 'APARTMENT', 'HOTEL/MOTEL', 'STREET', 'VEHICLE NON-COMMERCIAL', 'RESIDENCE', 'STREET', 'STREET', 'STREET', 'RESIDENCE PORCH/HALLWAY', 'STREET', 'RESIDENCE', 'OTHER', 'STREET', 'GAS STATION', 'PARKING LOT/GARAGE(NON.RESID.)', 'CTA BUS', 'STREET', 'PARKING LOT/GARAGE(NON.RESID.)', 'PARKING LOT/GARAGE(NON.RESID.)', 'PARKING LOT/GARAGE(NON.RESID.)', 'RESIDENCE', 'RESIDENCE-GARAGE', 'STREET', 'BAR OR TAVERN', 'OTHER', 'RESIDENCE', 'SCHOOL, PRIVATE, BUILDING', 'RESIDENCE-GARAGE', 'VEHICLE NON-COMMERCIAL', 'SIDEWALK', 'APARTMENT', 'PARKING LOT/GARAGE(NON.RESID.)', 'RESIDENCE', 'STREET', 'STREET', 'RESIDENTIAL YARD (FRONT/BACK)', 'RESIDENCE-GARAGE', 'STREET', 'STREET', 'COMMERCIAL / BUSINESS OFFICE', 'RESIDENCE', 'STREET', 'VEHICLE NON-COMMERCIAL', 'SCHOOL, PUBLIC, GROUNDS', 'SIDEWALK', 'STREET', 'APARTMENT', 'APARTMENT', 'SIDEWALK', 'SIDEWALK', 'APARTMENT', 'GOVERNMENT BUILDING/PROPERTY', 'SIDEWALK', 'RESIDENCE', 'RESTAURANT', 'TAXICAB', 'VEHICLE NON-COMMERCIAL', 'APARTMENT', 'STREET', 'DRUG STORE', 'STREET', 'APARTMENT', 'APARTMENT', 'STREET', 'RESIDENCE', 'RESIDENCE', 'PARKING LOT/GARAGE(NON.RESID.)', 'SCHOOL, PUBLIC, GROUNDS', 'APARTMENT', 'APARTMENT', 'STREET', 'PARKING LOT/GARAGE(NON.RESID.)', 'OTHER', 'STREET', 'COMMERCIAL / BUSINESS OFFICE', 'SIDEWALK', 'DRIVEWAY - RESIDENTIAL', 'RESIDENCE', 'OTHER', 'RESIDENCE', 'RESIDENCE', 'STREET', 'STREET', 'APARTMENT', 'CONVENIENCE STORE', 'APARTMENT', 'RESIDENCE', 'RESIDENCE', 'APARTMENT', 'APARTMENT', 'RESIDENTIAL YARD (FRONT/BACK)', 'RESIDENCE', 'RESIDENCE', 'STREET', 'RESIDENCE', 'APARTMENT', 'STREET', 'APARTMENT', 'RESIDENCE', 'RESIDENCE', 'SPORTS ARENA/STADIUM', 'CHURCH/SYNAGOGUE/PLACE OF WORSHIP', 'RESIDENCE', 'PARKING LOT/GARAGE(NON.RESID.)', 'STREET', 'SCHOOL, PUBLIC, BUILDING', 'CTA GARAGE / OTHER PROPERTY', 'SCHOOL, PUBLIC, BUILDING', 'SIDEWALK', 'RESIDENCE', 'BAR OR TAVERN', 'RESTAURANT', 'SMALL RETAIL STORE', 'STREET', 'OTHER', 'SIDEWALK', 'RESIDENCE', 'STREET', 'RESIDENCE', 'STREET', 'STREET', 'RESIDENCE', 'STREET', 'DEPARTMENT STORE', 'SIDEWALK', 'SCHOOL, PUBLIC, BUILDING', 'COMMERCIAL / BUSINESS OFFICE', 'APARTMENT', 'STREET', 'VEHICLE NON-COMMERCIAL', 'STREET', 'APARTMENT', 'APARTMENT', 'VEHICLE - DELIVERY TRUCK', 'STREET', 'SCHOOL, PUBLIC, BUILDING', 'RESIDENCE PORCH/HALLWAY', 'SCHOOL, PUBLIC, BUILDING', 'STREET', 'VEHICLE NON-COMMERCIAL', 'RESIDENCE', 'STREET', 'STREET', 'APARTMENT', 'SIDEWALK', 'STREET', 'APARTMENT', 'SPORTS ARENA/STADIUM', 'APARTMENT', 'APARTMENT', 'APARTMENT', 'STREET', 'RESIDENCE', 'SCHOOL, PUBLIC, GROUNDS', 'APARTMENT', 'RESIDENCE', 'PARKING LOT/GARAGE(NON.RESID.)', 'APARTMENT', 'APARTMENT', 'STREET', 'RESIDENCE', 'PARKING LOT/GARAGE(NON.RESID.)', 'ALLEY', 'STREET', 'SIDEWALK', 'OTHER', 'RESIDENCE', 'RESIDENCE', 'APARTMENT', 'APARTMENT', 'RESIDENCE', 'GROCERY FOOD STORE', 'ALLEY', 'ABANDONED BUILDING', 'VACANT LOT/LAND', 'STREET', 'APARTMENT', 'STREET', 'STREET', 'RESIDENCE', 'SCHOOL, PUBLIC, BUILDING', 'STREET', 'STREET', 'APARTMENT', 'STREET', 'RESIDENCE PORCH/HALLWAY', 'RESTAURANT', 'APARTMENT', 'STREET', 'DEPARTMENT STORE', 'STREET', 'RESIDENCE PORCH/HALLWAY', 'RESIDENCE', 'RESIDENCE', 'VEHICLE NON-COMMERCIAL', 'RESIDENCE', 'STREET', 'STREET', 'SIDEWALK', 'APARTMENT', 'STREET', 'SIDEWALK', 'STREET', 'RESIDENCE', 'DEPARTMENT STORE', 'GROCERY FOOD STORE', 'COMMERCIAL / BUSINESS OFFICE', 'SCHOOL, PUBLIC, BUILDING', 'GROCERY FOOD STORE', 'STREET', 'DRUG STORE', 'OTHER', 'RESIDENCE', 'APARTMENT', 'RESIDENCE', 'SIDEWALK', 'OTHER', 'RESIDENCE', 'RESTAURANT', 'SMALL RETAIL STORE', 'RESIDENCE', 'CONVENIENCE STORE', 'STREET', 'DEPARTMENT STORE', 'STREET', 'SMALL RETAIL STORE', 'SIDEWALK', 'OTHER', 'STREET', 'STREET', 'SIDEWALK', 'SMALL RETAIL STORE', 'SMALL RETAIL STORE', 'STREET', 'RESIDENCE', 'RESIDENCE PORCH/HALLWAY', 'STREET', 'STREET', 'SIDEWALK', 'RESTAURANT', 'SIDEWALK', 'STREET', 'SCHOOL, PUBLIC, GROUNDS', 'BANK', 'STREET', 'APARTMENT', 'SMALL RETAIL STORE', 'SMALL RETAIL STORE', 'STREET', 'STREET', 'STREET', 'STREET', 'RESIDENCE', 'STREET', 'SIDEWALK', 'STREET', 'SIDEWALK', 'STREET', 'CTA TRAIN', 'RESIDENCE', 'SCHOOL, PUBLIC, BUILDING', 'RESIDENCE', 'APARTMENT', 'SIDEWALK', 'APARTMENT', 'APARTMENT', 'BANK', 'RESIDENCE', 'SIDEWALK', 'APARTMENT', 'BANK', 'STREET', 'PARKING LOT/GARAGE(NON.RESID.)', 'SMALL RETAIL STORE', 'SIDEWALK', 'STREET', 'APARTMENT', 'APARTMENT', 'RESTAURANT', 'RESTAURANT', 'RESIDENCE', 'OTHER', 'STREET', 'STREET', 'DEPARTMENT STORE', 'HOTEL/MOTEL', 'OTHER', 'CTA BUS', 'STREET', 'PARKING LOT/GARAGE(NON.RESID.)', 'STREET', 'RESIDENCE-GARAGE', 'APARTMENT', 'APARTMENT', 'RESIDENCE', 'DEPARTMENT STORE', 'OTHER', 'APARTMENT', 'LIBRARY', 'STREET', 'OTHER', 'APARTMENT', 'SIDEWALK', 'SIDEWALK', 'RESIDENCE', 'STREET', 'APARTMENT', 'RESIDENCE', 'RESIDENCE', 'APARTMENT', 'RESIDENCE', 'STREET', 'APARTMENT', 'RESIDENCE', 'VEHICLE NON-COMMERCIAL', 'STREET', 'STREET', 'STREET', 'SIDEWALK', 'APARTMENT', 'RESIDENCE', 'SIDEWALK', 'SIDEWALK', 'CTA BUS', 'STREET', 'CONVENIENCE STORE', 'OTHER', 'APARTMENT', 'RESIDENCE', 'AIRPORT TERMINAL UPPER LEVEL - SECURE AREA', 'APARTMENT', 'SIDEWALK', 'PARKING LOT/GARAGE(NON.RESID.)', 'RESIDENTIAL YARD (FRONT/BACK)', 'CTA STATION', 'RESIDENCE', 'STREET', 'GROCERY FOOD STORE', 'RESIDENCE', 'RESIDENCE-GARAGE', 'STREET', 'STREET', 'DRIVEWAY - RESIDENTIAL', 'DAY CARE CENTER', 'CTA BUS', 'VEHICLE NON-COMMERCIAL', 'RESIDENCE', 'DEPARTMENT STORE', 'GROCERY FOOD STORE', 'RESIDENCE-GARAGE', 'RESIDENCE', 'RESIDENCE', 'OTHER', 'RESIDENCE PORCH/HALLWAY', 'SIDEWALK', 'SIDEWALK', 'STREET', 'GOVERNMENT BUILDING/PROPERTY', 'SIDEWALK', 'VEHICLE NON-COMMERCIAL', 'OTHER', 'RESIDENTIAL YARD (FRONT/BACK)', 'HOSPITAL BUILDING/GROUNDS', 'APARTMENT', 'APARTMENT', 'RESIDENCE', 'RESIDENCE', 'CHA PARKING LOT/GROUNDS', 'APARTMENT', 'APARTMENT', 'BAR OR TAVERN', 'VEHICLE NON-COMMERCIAL', 'SIDEWALK', 'STREET', 'RESIDENCE', 'STREET', 'STREET', 'STREET', 'RESIDENCE', 'RESIDENCE-GARAGE', 'STREET'], 4: ['DEPARTMENT STORE', 'SIDEWALK', 'VEHICLE NON-COMMERCIAL', 'PARKING LOT/GARAGE(NON.RESID.)', 'GAS STATION', 'HOTEL/MOTEL', 'APARTMENT', 'ALLEY', 'RESIDENCE', 'APARTMENT', 'CTA STATION', 'APARTMENT', 'CTA TRAIN', 'RESIDENTIAL YARD (FRONT/BACK)', 'APARTMENT', 'TAVERN/LIQUOR STORE', 'RESIDENCE PORCH/HALLWAY', 'RESIDENCE', 'ALLEY', 'APARTMENT', 'STREET', 'STREET', 'STREET', 'STREET', 'STREET', 'RESIDENCE', 'APARTMENT', 'APARTMENT', 'ALLEY', 'OTHER', 'NURSING HOME/RETIREMENT HOME', 'SIDEWALK', 'SIDEWALK', 'STREET', 'APARTMENT', 'OTHER', 'STREET', 'STREET', 'STREET', 'STREET', 'STREET', 'STREET', 'STREET', 'STREET', 'STREET', 'RESIDENCE', 'SIDEWALK', 'OTHER COMMERCIAL TRANSPORTATION', 'PARKING LOT/GARAGE(NON.RESID.)', 'RESIDENTIAL YARD (FRONT/BACK)', 'APARTMENT', 'APARTMENT', 'OTHER', 'WAREHOUSE', 'STREET', 'DRUG STORE', 'STREET', 'SIDEWALK', 'APARTMENT', 'PARKING LOT/GARAGE(NON.RESID.)', 'RESIDENCE', 'STREET', 'RESIDENCE PORCH/HALLWAY', 'CHA APARTMENT', 'CONVENIENCE STORE', 'RESIDENCE', 'APARTMENT', 'OTHER', 'GROCERY FOOD STORE', 'RESIDENCE', 'SIDEWALK', 'RESIDENCE', 'STREET', 'PARKING LOT/GARAGE(NON.RESID.)', 'STREET', 'STREET', 'APARTMENT', 'RESIDENTIAL YARD (FRONT/BACK)', 'HOSPITAL BUILDING/GROUNDS', 'BANK', 'OTHER', 'RESTAURANT', 'APARTMENT', 'RESIDENCE', 'APARTMENT', 'STREET', 'RESIDENCE', 'STREET', 'APARTMENT', 'ALLEY', 'APARTMENT', 'OTHER', 'APARTMENT', 'RESIDENCE', 'STREET', 'STREET', 'SMALL RETAIL STORE', 'APARTMENT', 'CTA BUS', 'COMMERCIAL / BUSINESS OFFICE', 'APARTMENT', 'PARKING LOT/GARAGE(NON.RESID.)', 'STREET', 'GROCERY FOOD STORE', 'APARTMENT', 'RESTAURANT', '', 'CTA TRAIN', 'SMALL RETAIL STORE', 'STREET', 'SIDEWALK', 'STREET', 'RESIDENCE PORCH/HALLWAY', 'HOSPITAL BUILDING/GROUNDS', 'STREET', 'RESIDENCE', 'RESIDENCE', 'RESIDENCE', 'GROCERY FOOD STORE', 'STREET', 'SIDEWALK', 'STREET', 'SIDEWALK', 'STREET', '', 'APARTMENT', 'RESIDENCE', 'RESTAURANT', 'BANK', 'CONVENIENCE STORE', 'STREET', 'SIDEWALK', 'APARTMENT', 'STREET', 'AIRPORT/AIRCRAFT', 'APARTMENT', 'SIDEWALK', 'GROCERY FOOD STORE', 'STREET', 'CTA STATION', 'SIDEWALK', 'SCHOOL, PUBLIC, BUILDING', '', 'APARTMENT', 'STREET', 'RESIDENCE', 'RESIDENCE PORCH/HALLWAY', 'SIDEWALK', 'SIDEWALK', 'SCHOOL, PUBLIC, BUILDING', 'RESIDENCE', 'SPORTS ARENA/STADIUM', 'STREET', 'PARKING LOT/GARAGE(NON.RESID.)', 'CTA BUS STOP', 'STREET', 'CHA APARTMENT', 'SIDEWALK', 'CONVENIENCE STORE', 'PARKING LOT/GARAGE(NON.RESID.)', 'STREET', '', 'SIDEWALK', 'STREET', 'STREET', 'RESIDENTIAL YARD (FRONT/BACK)', 'SIDEWALK', 'STREET', 'BANK', 'GROCERY FOOD STORE', 'SMALL RETAIL STORE', 'RESIDENCE PORCH/HALLWAY', 'STREET', 'OTHER', 'APARTMENT', 'SIDEWALK', 'ATM (AUTOMATIC TELLER MACHINE)', 'RESIDENCE PORCH/HALLWAY', 'SMALL RETAIL STORE', 'APARTMENT', 'RESIDENCE', 'RESIDENCE', 'RESIDENCE', 'APARTMENT', 'RESIDENCE', 'APARTMENT', 'APARTMENT', 'CURRENCY EXCHANGE', 'STREET', 'DEPARTMENT STORE', 'HOSPITAL BUILDING/GROUNDS', 'DRUG STORE', 'DEPARTMENT STORE', 'ALLEY', 'APARTMENT', 'OTHER', 'SIDEWALK', 'STREET', 'STREET', 'DEPARTMENT STORE', 'APARTMENT', 'RESIDENCE', 'STREET', 'RESIDENCE', 'STREET', 'STREET', 'STREET', 'STREET', 'STREET', 'RESIDENCE PORCH/HALLWAY', 'CURRENCY EXCHANGE', 'APARTMENT', 'APARTMENT', 'STREET', 'APARTMENT', 'STREET', 'SCHOOL, PUBLIC, GROUNDS', 'CONVENIENCE STORE', 'STREET', 'BAR OR TAVERN', 'RESIDENTIAL YARD (FRONT/BACK)', 'CURRENCY EXCHANGE', 'RESIDENTIAL YARD (FRONT/BACK)', 'RESIDENCE-GARAGE', 'DEPARTMENT STORE', 'RESIDENCE', 'STREET', 'OTHER', 'APARTMENT', 'OTHER', 'RESIDENCE', 'RESIDENCE', 'SMALL RETAIL STORE', 'APARTMENT', 'ALLEY', 'SIDEWALK', 'APARTMENT', 'STREET', 'STREET', 'RESIDENCE', 'BARBERSHOP', 'RESIDENCE', 'STREET', 'SIDEWALK', 'SIDEWALK', 'COLLEGE/UNIVERSITY GROUNDS', 'STREET', 'HOTEL/MOTEL', 'APARTMENT', 'RESIDENCE', 'GAS STATION', 'STREET', 'SMALL RETAIL STORE', 'APARTMENT', 'PARKING LOT/GARAGE(NON.RESID.)', 'SMALL RETAIL STORE', 'PARKING LOT/GARAGE(NON.RESID.)', 'STREET', 'STREET', 'RESIDENCE', 'RESIDENCE', 'RESIDENCE', 'STREET', 'SIDEWALK', 'OTHER', 'STREET', 'VEHICLE NON-COMMERCIAL', 'APARTMENT', 'STREET', 'SMALL RETAIL STORE', 'SCHOOL, PUBLIC, BUILDING', 'RESIDENCE', 'STREET', 'APARTMENT', 'DRIVEWAY - RESIDENTIAL', 'SMALL RETAIL STORE', 'RESIDENCE PORCH/HALLWAY', 'APARTMENT', 'SCHOOL, PRIVATE, BUILDING', 'RESIDENCE', 'APARTMENT', 'STREET', 'STREET', 'MEDICAL/DENTAL OFFICE', 'SIDEWALK', 'TAXICAB', 'STREET', 'RESIDENCE', 'AIRPORT TERMINAL UPPER LEVEL - SECURE AREA', 'STREET', 'RESIDENCE', 'RESIDENCE', 'OTHER', 'STREET', 'STREET', 'POLICE FACILITY/VEH PARKING LOT', 'STREET', 'APARTMENT', 'STREET', 'RESIDENCE', 'STREET', 'OTHER', 'SCHOOL, PRIVATE, GROUNDS', 'STREET', 'STREET', 'APARTMENT', 'SIDEWALK', 'STREET', 'AIRPORT TERMINAL LOWER LEVEL - NON-SECURE AREA', 'APARTMENT', 'SIDEWALK', 'CHA HALLWAY/STAIRWELL/ELEVATOR', 'RESIDENCE', 'PARKING LOT/GARAGE(NON.RESID.)', 'POLICE FACILITY/VEH PARKING LOT', 'STREET', 'RESIDENCE', 'OTHER', 'SIDEWALK', 'RESTAURANT', 'BAR OR TAVERN', 'STREET', 'FEDERAL BUILDING', 'RESIDENCE', 'RESIDENCE', 'RESIDENCE', 'OTHER', 'ALLEY', 'SMALL RETAIL STORE', 'RESIDENCE', 'GOVERNMENT BUILDING/PROPERTY', 'CHA PARKING LOT/GROUNDS', 'SIDEWALK', 'STREET', 'SIDEWALK', 'RESIDENCE', 'MEDICAL/DENTAL OFFICE', 'SMALL RETAIL STORE', 'RESIDENCE', 'COMMERCIAL / BUSINESS OFFICE', 'SIDEWALK', 'DRIVEWAY - RESIDENTIAL', 'SCHOOL, PUBLIC, BUILDING', 'RESIDENCE', 'STREET', 'SIDEWALK', 'HOTEL/MOTEL', 'ABANDONED BUILDING', 'ALLEY', 'PARKING LOT/GARAGE(NON.RESID.)', 'RESIDENCE PORCH/HALLWAY', 'APARTMENT', 'SCHOOL, PUBLIC, BUILDING', 'STREET', 'ATHLETIC CLUB', 'ALLEY', 'RESIDENCE-GARAGE', 'APARTMENT', 'RESIDENCE', 'RESIDENCE', 'STREET', 'RESIDENCE', 'RESIDENCE PORCH/HALLWAY', 'SMALL RETAIL STORE', 'AIRPORT TERMINAL UPPER LEVEL - NON-SECURE AREA', 'CTA TRAIN', 'DRUG STORE', 'CTA STATION', 'SIDEWALK', 'SCHOOL, PUBLIC, BUILDING', 'RESIDENCE', 'APARTMENT', 'GROCERY FOOD STORE', 'STREET', 'SIDEWALK', 'DEPARTMENT STORE', 'RESIDENCE', 'RESIDENCE', 'RESIDENCE', 'APARTMENT', 'RESIDENCE', 'STREET', 'APARTMENT', 'APARTMENT', 'APARTMENT', 'STREET', 'STREET', 'VEHICLE NON-COMMERCIAL', 'RESIDENCE PORCH/HALLWAY', 'RESIDENCE', 'OTHER', 'STREET', 'APARTMENT', 'STREET', 'APARTMENT', 'DEPARTMENT STORE', 'RESIDENCE', 'VACANT LOT/LAND', 'STREET', 'SMALL RETAIL STORE', 'APARTMENT', 'CTA BUS', 'RESTAURANT', 'APARTMENT', 'SIDEWALK', 'CTA BUS STOP', 'APARTMENT', 'APARTMENT', 'DEPARTMENT STORE', 'APARTMENT', 'RESIDENCE', 'PARK PROPERTY', 'APARTMENT', 'HOTEL/MOTEL', 'SMALL RETAIL STORE', 'STREET', 'SIDEWALK', 'RESIDENCE', 'ATHLETIC CLUB', 'RESIDENCE-GARAGE', 'STREET', 'RESIDENCE', 'SCHOOL, PUBLIC, BUILDING', 'STREET', 'APARTMENT', 'STREET', 'STREET', 'APARTMENT', 'STREET', 'APARTMENT', 'VEHICLE NON-COMMERCIAL', 'APARTMENT', 'STREET', 'RESIDENCE', 'APARTMENT', 'SIDEWALK', 'APARTMENT', 'STREET', 'RESTAURANT', 'OTHER COMMERCIAL TRANSPORTATION', 'OTHER', 'STREET', 'VEHICLE NON-COMMERCIAL', 'APARTMENT', 'APARTMENT', 'RESIDENTIAL YARD (FRONT/BACK)', 'STREET', 'APARTMENT', 'RESIDENCE', 'CHA PARKING LOT/GROUNDS', 'RESIDENCE', 'APARTMENT', 'APARTMENT', 'STREET', 'OTHER', 'APARTMENT', 'STREET', 'ATHLETIC CLUB', 'RESIDENCE', 'SIDEWALK', 'STREET', 'RESIDENCE', 'SIDEWALK', 'STREET', 'CTA STATION', 'RESIDENTIAL YARD (FRONT/BACK)', 'PARKING LOT/GARAGE(NON.RESID.)', 'SMALL RETAIL STORE', 'STREET', 'RESIDENCE', 'BAR OR TAVERN', 'RESIDENCE', 'VACANT LOT/LAND', 'DEPARTMENT STORE', 'RESIDENCE', 'DEPARTMENT STORE', 'SMALL RETAIL STORE', 'ALLEY', 'APARTMENT', 'PARKING LOT/GARAGE(NON.RESID.)', 'CHA PARKING LOT/GROUNDS', 'STREET', 'STREET', 'SIDEWALK', 'STREET', 'SIDEWALK', 'RESIDENCE', 'APARTMENT', 'VEHICLE NON-COMMERCIAL', 'RESIDENCE', 'RESIDENCE', 'CTA BUS STOP', 'APARTMENT', 'APARTMENT', 'APARTMENT', 'STREET', 'SIDEWALK', 'STREET', 'STREET', 'APARTMENT', 'APARTMENT', 'RESIDENCE-GARAGE', 'SIDEWALK', 'RESIDENCE', 'DEPARTMENT STORE', 'STREET', 'RESIDENCE-GARAGE', 'APARTMENT', 'STREET', 'PARK PROPERTY', 'STREET', 'STREET', 'BAR OR TAVERN', 'CTA TRAIN', 'STREET', 'RESIDENCE', 'APARTMENT', 'SIDEWALK', 'APARTMENT', 'SCHOOL, PUBLIC, GROUNDS', 'RESTAURANT', 'SIDEWALK', 'CHA APARTMENT', 'HOTEL/MOTEL', 'PARKING LOT/GARAGE(NON.RESID.)', 'RESIDENCE PORCH/HALLWAY', 'ALLEY', 'STREET', 'APARTMENT', 'SMALL RETAIL STORE', 'APARTMENT', 'STREET', 'POLICE FACILITY/VEH PARKING LOT', 'ALLEY', 'GROCERY FOOD STORE', 'APARTMENT', 'APARTMENT', 'RESIDENCE', 'SCHOOL, PUBLIC, BUILDING', 'RESIDENCE', 'CTA PLATFORM', 'RESIDENCE', 'SIDEWALK', 'DEPARTMENT STORE', 'OTHER', 'RESIDENCE', 'APARTMENT', 'GAS STATION', 'SMALL RETAIL STORE', 'STREET', 'RESTAURANT', 'POOL ROOM', 'APARTMENT', 'OTHER', 'SIDEWALK', 'STREET', 'SMALL RETAIL STORE', 'RESIDENTIAL YARD (FRONT/BACK)', 'SMALL RETAIL STORE', 'STREET', 'SIDEWALK', 'STREET', 'RESIDENCE', 'RESIDENCE', 'RESIDENCE', 'CONSTRUCTION SITE', 'RESIDENCE', 'DEPARTMENT STORE', 'RESIDENCE', 'STREET', 'GAS STATION', 'STREET', 'SIDEWALK', 'STREET', 'RESIDENCE', 'BANK', 'RESIDENCE', 'SIDEWALK', 'APARTMENT', 'STREET', 'RESIDENTIAL YARD (FRONT/BACK)', 'ALLEY', 'RESIDENCE-GARAGE', 'STREET', 'RESIDENCE', 'RESIDENCE', 'SMALL RETAIL STORE', 'APARTMENT', 'RESIDENCE', 'CTA PLATFORM', 'SIDEWALK', 'RESIDENCE', 'STREET', 'APARTMENT', 'STREET', 'STREET', 'APARTMENT', 'SMALL RETAIL STORE', 'PARKING LOT/GARAGE(NON.RESID.)', 'PARKING LOT/GARAGE(NON.RESID.)', 'STREET', 'STREET', 'RESIDENCE', 'STREET', 'SIDEWALK', 'GROCERY FOOD STORE', 'PARKING LOT/GARAGE(NON.RESID.)', 'STREET', 'RESIDENCE', 'RESIDENCE', 'STREET', 'STREET', 'COMMERCIAL / BUSINESS OFFICE', 'DRUG STORE', 'APARTMENT', 'RESIDENCE-GARAGE', 'APARTMENT', 'RESIDENCE', 'SCHOOL, PUBLIC, GROUNDS', 'APARTMENT', 'RESIDENCE', 'SIDEWALK', 'STREET', 'RESTAURANT', 'VACANT LOT/LAND', 'SCHOOL, PUBLIC, GROUNDS', 'ALLEY', 'STREET', 'SMALL RETAIL STORE', 'STREET', 'SMALL RETAIL STORE', 'BRIDGE', 'RESTAURANT', 'OTHER', 'GAS STATION', 'RESIDENCE', 'SCHOOL, PUBLIC, BUILDING', 'RESIDENCE', 'VEHICLE NON-COMMERCIAL', 'SIDEWALK', 'RESIDENCE PORCH/HALLWAY', 'RESIDENCE', 'RESIDENCE PORCH/HALLWAY', 'RESIDENCE', 'STREET', 'SIDEWALK', 'RESIDENCE', 'ALLEY', 'RESIDENCE', 'OTHER', 'RESIDENCE', 'STREET', 'STREET', 'RESIDENCE-GARAGE', 'ATM (AUTOMATIC TELLER MACHINE)', 'STREET', 'OTHER', 'APARTMENT', 'APARTMENT', 'STREET', 'RESIDENCE', 'APARTMENT', 'STREET', 'RESIDENCE', 'RESIDENCE', 'SIDEWALK', 'APARTMENT', 'RESIDENCE', 'RESIDENCE', 'RESIDENTIAL YARD (FRONT/BACK)', 'RESIDENTIAL YARD (FRONT/BACK)', 'RESIDENCE', 'APARTMENT', 'ALLEY', 'PARKING LOT/GARAGE(NON.RESID.)', 'APARTMENT', 'ALLEY', 'STREET', 'RESIDENCE', 'STREET', 'APARTMENT', 'SIDEWALK', 'RESIDENCE-GARAGE', 'STREET', 'SCHOOL, PUBLIC, GROUNDS', 'STREET', 'SIDEWALK', 'APARTMENT', 'GOVERNMENT BUILDING/PROPERTY', 'DRIVEWAY - RESIDENTIAL', 'STREET', 'OTHER', 'RESTAURANT', 'STREET', 'PARKING LOT/GARAGE(NON.RESID.)', 'RESIDENCE', 'SMALL RETAIL STORE', 'STREET', 'APARTMENT', 'SMALL RETAIL STORE', 'COMMERCIAL / BUSINESS OFFICE', 'STREET', 'CTA STATION', 'SCHOOL, PUBLIC, BUILDING', 'APARTMENT', 'SCHOOL, PRIVATE, BUILDING', 'SIDEWALK', 'STREET', 'RESIDENCE PORCH/HALLWAY', 'RESIDENCE', 'SCHOOL, PUBLIC, BUILDING', 'STREET', 'RESIDENCE-GARAGE', 'APARTMENT', 'SMALL RETAIL STORE', 'SIDEWALK', 'PARKING LOT/GARAGE(NON.RESID.)', 'RESIDENCE', 'HOTEL/MOTEL', 'RESIDENCE', 'SCHOOL, PUBLIC, BUILDING', 'GROCERY FOOD STORE', 'RESIDENCE', 'APARTMENT', 'STREET', 'BARBERSHOP', 'SIDEWALK', 'CHURCH/SYNAGOGUE/PLACE OF WORSHIP', 'APARTMENT', 'RESIDENCE-GARAGE', 'DEPARTMENT STORE', 'SCHOOL, PRIVATE, BUILDING', 'VEHICLE NON-COMMERCIAL', 'RESIDENCE', 'STREET', 'RESTAURANT', 'RESIDENCE', 'POLICE FACILITY/VEH PARKING LOT', 'SIDEWALK', 'VEHICLE NON-COMMERCIAL', 'STREET', 'STREET', 'STREET', 'STREET', 'ALLEY', 'SMALL RETAIL STORE', 'APARTMENT', 'STREET', 'APARTMENT', 'SMALL RETAIL STORE', 'RESIDENCE-GARAGE', 'STREET', 'RESIDENCE', 'RESIDENTIAL YARD (FRONT/BACK)', 'RESIDENCE', 'RESIDENCE', 'STREET', 'GAS STATION', 'STREET', 'SIDEWALK', 'STREET', 'STREET', 'ABANDONED BUILDING', 'RESTAURANT', 'WAREHOUSE', 'SIDEWALK', 'APARTMENT', 'RESIDENTIAL YARD (FRONT/BACK)', 'APARTMENT', 'STREET', 'RESIDENCE', 'RESIDENCE', 'STREET', 'VEHICLE NON-COMMERCIAL', 'APARTMENT', 'SIDEWALK', 'RESIDENCE', 'SIDEWALK', 'STREET', 'SIDEWALK', 'APARTMENT', 'BAR OR TAVERN', 'CTA BUS', 'DEPARTMENT STORE', 'APARTMENT', 'ALLEY', 'RESIDENCE', 'APARTMENT', 'SCHOOL, PRIVATE, BUILDING', 'RESIDENCE', 'SIDEWALK', 'HOTEL/MOTEL', 'OTHER', 'STREET', 'AIRPORT/AIRCRAFT', 'CHA PARKING LOT/GROUNDS', 'SCHOOL, PRIVATE, BUILDING', 'APARTMENT', 'DRUG STORE', 'PARKING LOT/GARAGE(NON.RESID.)', 'CHA PARKING LOT/GROUNDS', 'RESIDENCE', 'COLLEGE/UNIVERSITY GROUNDS', 'RESIDENCE', 'RESIDENCE', 'RESIDENCE PORCH/HALLWAY', 'RESIDENCE', 'RESIDENCE', 'RESIDENCE PORCH/HALLWAY', 'STREET', 'RESIDENCE', 'SIDEWALK', 'SIDEWALK', 'CTA STATION', 'VEHICLE NON-COMMERCIAL', 'GAS STATION', 'SIDEWALK', 'OTHER', 'STREET', 'RESIDENCE', 'SIDEWALK', 'ALLEY', 'RESIDENCE PORCH/HALLWAY', 'STREET', 'RESIDENCE', 'NURSING HOME/RETIREMENT HOME', 'APARTMENT', 'VEHICLE NON-COMMERCIAL', 'OTHER', 'STREET', 'STREET', 'RESIDENCE', 'STREET', 'VEHICLE NON-COMMERCIAL', 'DEPARTMENT STORE', 'STREET', 'RESIDENCE PORCH/HALLWAY', 'SIDEWALK', 'SIDEWALK', 'OTHER', 'APARTMENT', 'STREET', 'VEHICLE NON-COMMERCIAL', 'RESIDENCE', 'CHA PARKING LOT/GROUNDS', 'RESIDENCE', 'OTHER', 'RESIDENCE', 'OTHER', 'AIRPORT TERMINAL LOWER LEVEL - NON-SECURE AREA', 'RESIDENCE', 'OTHER', 'BAR OR TAVERN', 'RESIDENCE', 'SIDEWALK', 'RESIDENTIAL YARD (FRONT/BACK)', 'SIDEWALK', 'ALLEY', 'STREET', 'SMALL RETAIL STORE', 'COMMERCIAL / BUSINESS OFFICE', 'RESIDENCE', 'APARTMENT', 'SIDEWALK', 'STREET', 'SMALL RETAIL STORE', 'RESIDENTIAL YARD (FRONT/BACK)', 'CONVENIENCE STORE', 'SIDEWALK', 'RESIDENCE', 'SIDEWALK', 'APARTMENT', 'RESIDENCE', 'STREET', 'STREET', 'COMMERCIAL / BUSINESS OFFICE', 'RESIDENCE', 'SIDEWALK', 'APARTMENT', 'FACTORY/MANUFACTURING BUILDING', 'RESIDENCE', 'VEHICLE NON-COMMERCIAL', 'PARKING LOT/GARAGE(NON.RESID.)', 'RESIDENCE', 'RESIDENCE', 'STREET', 'APARTMENT', 'APARTMENT', 'RESIDENCE', 'STREET', 'STREET', 'DEPARTMENT STORE', 'APARTMENT', 'ALLEY', 'CTA PLATFORM', 'STREET', 'DRIVEWAY - RESIDENTIAL', 'STREET', 'APARTMENT', 'DEPARTMENT STORE', 'RESIDENCE', 'APARTMENT', 'SIDEWALK', 'RESIDENCE-GARAGE', 'RESTAURANT', 'HOTEL/MOTEL', 'STREET', 'RESIDENCE', 'SIDEWALK', 'OTHER', 'RESIDENCE', 'APARTMENT', 'RESIDENTIAL YARD (FRONT/BACK)', 'GROCERY FOOD STORE', 'STREET', 'RESIDENCE PORCH/HALLWAY', 'APARTMENT', 'STREET', 'APARTMENT', 'APARTMENT', 'STREET', 'APARTMENT', 'APARTMENT', 'OTHER', 'RESIDENCE', 'DEPARTMENT STORE', 'SIDEWALK', 'APARTMENT', 'COMMERCIAL / BUSINESS OFFICE', 'APARTMENT', 'RESIDENCE-GARAGE', 'CONSTRUCTION SITE', 'OTHER', 'APARTMENT', 'CTA PLATFORM', 'APARTMENT', 'BAR OR TAVERN', 'STREET', 'STREET', 'STREET', 'SIDEWALK', 'RESIDENCE', 'RESIDENCE', 'STREET', 'SIDEWALK', 'SIDEWALK', 'APARTMENT', 'RESIDENTIAL YARD (FRONT/BACK)', 'APARTMENT', 'SIDEWALK', 'AIRPORT BUILDING NON-TERMINAL - SECURE AREA', 'RESIDENCE', 'APARTMENT', 'STREET', 'OTHER', 'BAR OR TAVERN', 'APARTMENT', 'RESIDENCE', 'APARTMENT', 'RESIDENCE', 'SIDEWALK', 'OTHER', 'OTHER', 'SIDEWALK', 'CONSTRUCTION SITE', 'TAXICAB', 'APARTMENT', 'CTA TRAIN', 'RESIDENCE', 'ALLEY', 'APARTMENT', 'CHURCH/SYNAGOGUE/PLACE OF WORSHIP', 'PARKING LOT/GARAGE(NON.RESID.)', 'STREET', 'SIDEWALK', 'STREET', 'APARTMENT', 'STREET', 'CTA GARAGE / OTHER PROPERTY', 'RESIDENCE', 'TAXICAB', 'CTA GARAGE / OTHER PROPERTY', 'STREET', 'RESIDENCE', 'SIDEWALK', 'STREET', 'RESIDENCE', 'STREET', 'STREET', 'RESIDENCE', 'APARTMENT', 'STREET', 'APARTMENT', 'RESIDENCE', 'RESIDENCE', 'HOSPITAL BUILDING/GROUNDS', 'SIDEWALK', 'RESIDENCE PORCH/HALLWAY', 'AIRPORT TERMINAL LOWER LEVEL - NON-SECURE AREA', 'SCHOOL, PUBLIC, BUILDING', 'STREET', 'COMMERCIAL / BUSINESS OFFICE', 'APARTMENT', 'OTHER', 'RESIDENCE', 'ALLEY', 'RESIDENCE', 'GROCERY FOOD STORE', 'STREET', 'RESIDENCE', 'APARTMENT', 'RESIDENCE', 'STREET', 'RESIDENCE', 'STREET', 'SCHOOL, PUBLIC, GROUNDS', 'RESIDENCE PORCH/HALLWAY', 'OTHER', 'DEPARTMENT STORE', 'SIDEWALK', 'RESIDENCE', 'RESIDENCE', 'RESIDENCE', 'SIDEWALK', 'RESIDENCE', 'OTHER', 'VEHICLE NON-COMMERCIAL', 'SIDEWALK', 'RESTAURANT', 'SIDEWALK', 'RESIDENCE', 'STREET', 'APARTMENT', 'SIDEWALK', 'STREET', 'RESIDENCE'], 6: ['SIDEWALK', 'STREET', 'BAR OR TAVERN', 'SCHOOL, PUBLIC, GROUNDS', 'STREET', 'RESIDENCE', 'APARTMENT', 'RESIDENCE', 'RESIDENCE', 'SIDEWALK', 'SIDEWALK', 'RESIDENCE', 'VACANT LOT/LAND', 'APARTMENT', 'STREET', 'RESTAURANT', 'STREET', 'RESIDENCE', 'RESTAURANT', 'APARTMENT', 'APARTMENT', 'RESIDENTIAL YARD (FRONT/BACK)', 'STREET', 'STREET', 'PARKING LOT/GARAGE(NON.RESID.)', 'SIDEWALK', 'APARTMENT', '', 'STREET', 'COMMERCIAL / BUSINESS OFFICE', 'APARTMENT', 'RESIDENCE', 'STREET', 'ALLEY', 'APARTMENT', 'PARKING LOT/GARAGE(NON.RESID.)', 'SIDEWALK', 'APARTMENT', 'GROCERY FOOD STORE', 'STREET', 'RESIDENCE', 'RESIDENCE PORCH/HALLWAY', 'ALLEY', 'SIDEWALK', 'OTHER', 'RESTAURANT', 'STREET', 'STREET', 'RESIDENCE', 'APARTMENT', 'STREET', 'RESIDENCE', 'OTHER', 'STREET', 'CONVENIENCE STORE', 'RESIDENCE', 'STREET', 'APARTMENT', 'STREET', 'PARK PROPERTY', 'CONVENIENCE STORE', 'SIDEWALK', 'SMALL RETAIL STORE', 'STREET', 'SCHOOL, PRIVATE, BUILDING', 'APARTMENT', 'SIDEWALK', 'STREET', 'RESIDENCE', 'RESTAURANT', 'RESIDENCE PORCH/HALLWAY', 'SIDEWALK', 'PARK PROPERTY', 'STREET', 'RESIDENCE', 'GAS STATION', 'ALLEY', 'ABANDONED BUILDING', 'RESIDENTIAL YARD (FRONT/BACK)', 'STREET', 'STREET', 'RESIDENCE', 'STREET', 'APARTMENT', 'STREET', 'APARTMENT', 'RESIDENTIAL YARD (FRONT/BACK)', 'RESIDENCE', 'RESIDENCE', 'STREET', 'VACANT LOT/LAND', 'BAR OR TAVERN', 'APARTMENT', 'DEPARTMENT STORE', 'RESIDENCE', 'POLICE FACILITY/VEH PARKING LOT', 'RESIDENCE', 'APARTMENT', 'STREET', 'STREET', 'CONVENIENCE STORE', 'RESIDENCE', 'RESIDENCE', 'RESIDENCE', 'APARTMENT', 'SCHOOL, PUBLIC, BUILDING', 'RESIDENCE', 'ALLEY', 'RESIDENCE', 'STREET', 'RESIDENTIAL YARD (FRONT/BACK)', 'SCHOOL, PUBLIC, GROUNDS', 'RESIDENTIAL YARD (FRONT/BACK)', 'PARK PROPERTY', 'APARTMENT', 'CTA STATION', 'PARKING LOT/GARAGE(NON.RESID.)', 'APARTMENT', 'RESIDENCE', 'STREET', 'SIDEWALK', 'APARTMENT', 'RESIDENCE', 'OTHER', 'SIDEWALK', 'RESIDENCE', 'RESIDENCE', 'OTHER', 'CTA TRAIN', 'ALLEY', 'OTHER', 'PARKING LOT/GARAGE(NON.RESID.)', 'TAXICAB', 'RESIDENTIAL YARD (FRONT/BACK)', 'STREET', 'DEPARTMENT STORE', 'APARTMENT', 'APARTMENT', 'PARKING LOT/GARAGE(NON.RESID.)', 'APARTMENT', 'STREET', 'RESIDENCE', 'OTHER', 'APARTMENT', 'OTHER', 'SIDEWALK', 'STREET', 'TAXICAB', 'STREET', 'RESIDENCE', 'STREET', 'APARTMENT', 'RESIDENCE', 'COMMERCIAL / BUSINESS OFFICE', 'RESIDENCE', 'VACANT LOT/LAND', 'STREET', 'APARTMENT', 'RESIDENCE', 'RESIDENTIAL YARD (FRONT/BACK)', 'STREET', 'APARTMENT', 'RESIDENCE', 'APARTMENT', 'STREET', 'SIDEWALK', 'STREET', 'VEHICLE NON-COMMERCIAL', 'STREET', 'STREET', 'DRIVEWAY - RESIDENTIAL', 'STREET', 'SIDEWALK', 'SMALL RETAIL STORE', 'RESIDENTIAL YARD (FRONT/BACK)', 'RESIDENCE', 'SIDEWALK', 'SMALL RETAIL STORE', 'HOTEL/MOTEL', 'APARTMENT', 'STREET', 'RESTAURANT', 'STREET', 'RESIDENCE', 'GAS STATION', 'STREET', 'NURSING HOME/RETIREMENT HOME', 'RESIDENCE', 'APARTMENT', 'RESIDENCE', 'APARTMENT', 'SIDEWALK', 'RESIDENCE', 'STREET', 'STREET', 'SIDEWALK', 'APARTMENT', 'APARTMENT', 'MEDICAL/DENTAL OFFICE', 'CTA PLATFORM', 'VEHICLE NON-COMMERCIAL', 'CONVENIENCE STORE', 'HOTEL/MOTEL', 'HOSPITAL BUILDING/GROUNDS', 'BARBERSHOP', 'STREET', 'SIDEWALK', 'SIDEWALK', 'RESIDENCE', 'STREET', 'NURSING HOME/RETIREMENT HOME', 'PARKING LOT/GARAGE(NON.RESID.)', 'STREET', 'APARTMENT', 'SIDEWALK', 'AIRPORT BUILDING NON-TERMINAL - NON-SECURE AREA', 'STREET', 'STREET', 'OTHER', 'AIRPORT VENDING ESTABLISHMENT', 'RESIDENTIAL YARD (FRONT/BACK)', 'RESIDENCE', 'APARTMENT', 'STREET', 'RESIDENCE PORCH/HALLWAY', 'RESIDENCE', 'COMMERCIAL / BUSINESS OFFICE', 'STREET', 'SIDEWALK', 'HOTEL/MOTEL', 'SCHOOL, PUBLIC, BUILDING', 'CONVENIENCE STORE', 'OTHER', 'SIDEWALK', 'OTHER', 'SIDEWALK', 'VACANT LOT/LAND', 'SIDEWALK', 'STREET', 'STREET', 'STREET', 'STREET', 'STREET', 'CTA TRAIN', 'RESIDENCE-GARAGE', 'RESIDENCE', 'ALLEY', 'RESIDENCE', 'APARTMENT', 'STREET', 'RESIDENCE', 'AIRPORT PARKING LOT', 'APARTMENT', 'APARTMENT', 'APARTMENT', 'RESTAURANT', 'STREET', 'ALLEY', 'SMALL RETAIL STORE', 'ALLEY', 'SMALL RETAIL STORE', 'APARTMENT', 'PARKING LOT/GARAGE(NON.RESID.)', 'APARTMENT', 'PARKING LOT/GARAGE(NON.RESID.)', 'RESIDENCE', 'RESTAURANT', 'STREET', 'PARKING LOT/GARAGE(NON.RESID.)', 'APARTMENT', 'STREET', 'ABANDONED BUILDING', 'STREET', 'RESIDENCE', 'RESIDENCE', 'APARTMENT', 'APARTMENT', 'STREET', 'SIDEWALK', 'APARTMENT', 'SIDEWALK', 'GOVERNMENT BUILDING/PROPERTY', 'ABANDONED BUILDING', 'APARTMENT', 'OTHER', 'PARKING LOT/GARAGE(NON.RESID.)', 'RESIDENCE', 'CONVENIENCE STORE', 'HOTEL/MOTEL', 'RESIDENCE', 'VACANT LOT/LAND', 'STREET', 'CTA STATION', 'RESTAURANT', 'APARTMENT', 'RESIDENCE', 'APARTMENT', 'STREET', 'SIDEWALK', 'RESIDENCE', 'APARTMENT', 'RESIDENCE', 'HOSPITAL BUILDING/GROUNDS', 'STREET', 'OTHER', 'RESIDENCE', 'BAR OR TAVERN', 'SIDEWALK', 'SIDEWALK', 'SIDEWALK', 'RESIDENCE', 'APARTMENT', 'SIDEWALK', 'SCHOOL, PUBLIC, BUILDING', 'RESIDENCE', 'TAVERN/LIQUOR STORE', 'STREET', 'STREET', 'OTHER', 'CONVENIENCE STORE', 'SIDEWALK', 'SIDEWALK', 'STREET', 'STREET', 'RESIDENCE', 'LAKEFRONT/WATERFRONT/RIVERBANK', 'BAR OR TAVERN', 'APARTMENT', 'STREET', 'DEPARTMENT STORE', 'SIDEWALK', 'STREET', 'SMALL RETAIL STORE', 'RESIDENCE', 'CHA APARTMENT', 'STREET', 'STREET', 'STREET', 'OTHER', 'CTA TRAIN', 'STREET', 'RESIDENCE', 'NURSING HOME/RETIREMENT HOME', 'PARKING LOT/GARAGE(NON.RESID.)', 'STREET', 'RESIDENCE', 'STREET', 'SMALL RETAIL STORE', 'RESIDENCE', 'RESIDENCE', 'OTHER', 'POLICE FACILITY/VEH PARKING LOT', 'VEHICLE NON-COMMERCIAL', 'SIDEWALK', 'STREET', 'ALLEY', 'SIDEWALK', 'STREET', 'APARTMENT', 'RESIDENCE', 'SMALL RETAIL STORE', 'STREET', 'AIRCRAFT', 'PARK PROPERTY', 'APARTMENT', 'STREET', 'SMALL RETAIL STORE', 'RESIDENCE', 'APARTMENT', 'PARK PROPERTY', 'RESIDENCE-GARAGE', 'APARTMENT', 'RESIDENCE', 'STREET', 'STREET', 'APARTMENT', 'SCHOOL, PRIVATE, BUILDING', 'HOTEL/MOTEL', 'SIDEWALK', 'STREET', 'STREET', 'STREET', 'OTHER', 'STREET', 'RESIDENCE', 'APARTMENT', 'APARTMENT', 'RESIDENTIAL YARD (FRONT/BACK)', 'RESIDENCE-GARAGE', 'SIDEWALK', 'STREET', 'RESTAURANT', 'CTA BUS', 'HOSPITAL BUILDING/GROUNDS', 'VEHICLE NON-COMMERCIAL', 'VEHICLE NON-COMMERCIAL', 'STREET', 'PARKING LOT/GARAGE(NON.RESID.)', 'OTHER', 'SMALL RETAIL STORE', 'DEPARTMENT STORE', 'ALLEY', 'STREET', 'GAS STATION', 'RESIDENCE', 'SIDEWALK', 'RESIDENCE', 'SMALL RETAIL STORE', 'RESIDENCE', 'STREET', 'BANK', 'RESIDENCE PORCH/HALLWAY', 'RESIDENCE-GARAGE', 'SIDEWALK', 'SMALL RETAIL STORE', 'RESIDENCE', 'STREET', 'CTA BUS', 'DEPARTMENT STORE', 'STREET', 'OTHER', 'STREET', 'STREET', 'SIDEWALK', 'STREET', 'OTHER', 'RESIDENCE', 'APARTMENT', 'PARKING LOT/GARAGE(NON.RESID.)', 'STREET', 'APARTMENT', 'STREET', 'STREET', 'STREET', 'SIDEWALK', 'OTHER', 'RESIDENCE', 'OTHER', 'APARTMENT', 'SCHOOL, PUBLIC, GROUNDS', 'DEPARTMENT STORE', 'PARKING LOT/GARAGE(NON.RESID.)', 'PARKING LOT/GARAGE(NON.RESID.)', 'RESIDENTIAL YARD (FRONT/BACK)', 'APARTMENT', 'ALLEY', 'PARKING LOT/GARAGE(NON.RESID.)', 'RESIDENCE', 'RESIDENCE', 'HOTEL/MOTEL', '', 'STREET', 'AIRPORT TERMINAL LOWER LEVEL - NON-SECURE AREA', 'RESIDENCE', 'PARKING LOT/GARAGE(NON.RESID.)', 'CURRENCY EXCHANGE', 'SIDEWALK', 'CHURCH/SYNAGOGUE/PLACE OF WORSHIP', 'STREET', 'OTHER', 'RESIDENCE', 'OTHER', 'RESIDENTIAL YARD (FRONT/BACK)', 'STREET', 'STREET', 'STREET', 'STREET', 'RESIDENCE', 'SIDEWALK', 'APARTMENT', 'OTHER', 'RESIDENCE', 'APARTMENT', 'APARTMENT', 'RESIDENTIAL YARD (FRONT/BACK)', 'SIDEWALK', 'PARK PROPERTY', 'PARKING LOT/GARAGE(NON.RESID.)', 'CTA STATION', 'PARKING LOT/GARAGE(NON.RESID.)', 'APARTMENT', 'SIDEWALK', 'STREET', 'STREET', 'VEHICLE NON-COMMERCIAL', 'STREET', 'STREET', 'STREET', 'RESIDENCE', 'OTHER', 'PARKING LOT/GARAGE(NON.RESID.)', 'ALLEY', 'MEDICAL/DENTAL OFFICE', 'STREET', 'SIDEWALK', 'STREET', 'RESIDENCE-GARAGE', 'VACANT LOT/LAND', 'CONVENIENCE STORE', 'STREET', 'STREET', 'SIDEWALK', 'RESIDENCE', 'STREET', 'STREET', 'RESIDENCE', 'RESIDENCE', 'RESIDENCE PORCH/HALLWAY', 'SIDEWALK', 'ALLEY', 'STREET', 'STREET', 'VACANT LOT/LAND', 'APARTMENT', 'OTHER', 'CHA PARKING LOT/GROUNDS', 'RESIDENCE', 'SCHOOL, PRIVATE, BUILDING', 'PARK PROPERTY', 'STREET', 'APARTMENT', 'SIDEWALK', 'ALLEY', 'RESIDENCE-GARAGE', 'STREET', 'APARTMENT', 'OTHER', 'SIDEWALK', 'OTHER', 'SMALL RETAIL STORE', 'APARTMENT', 'VEHICLE-COMMERCIAL', 'RESIDENCE', 'RESIDENCE-GARAGE', 'APARTMENT', 'APARTMENT', 'STREET', 'STREET', 'SCHOOL, PUBLIC, GROUNDS', 'PARKING LOT/GARAGE(NON.RESID.)', 'SIDEWALK', 'VACANT LOT/LAND', 'PARKING LOT/GARAGE(NON.RESID.)', 'STREET', 'SIDEWALK', 'RESIDENCE', 'RESIDENCE', 'SCHOOL, PUBLIC, GROUNDS', 'RESIDENCE PORCH/HALLWAY', 'SIDEWALK', 'SIDEWALK', 'SIDEWALK', 'SCHOOL, PUBLIC, BUILDING', 'APARTMENT', 'RESIDENCE', 'RESIDENCE', 'STREET', 'APARTMENT', 'ABANDONED BUILDING', 'RESIDENCE', 'RESIDENCE PORCH/HALLWAY', 'CONVENIENCE STORE', 'RESIDENCE PORCH/HALLWAY', 'APARTMENT', 'PARKING LOT/GARAGE(NON.RESID.)', 'CTA TRAIN', 'STREET', 'STREET', 'PARKING LOT/GARAGE(NON.RESID.)', 'ALLEY', 'STREET', 'VEHICLE NON-COMMERCIAL', 'SIDEWALK', 'RESIDENCE PORCH/HALLWAY', 'PARKING LOT/GARAGE(NON.RESID.)', 'STREET', 'APARTMENT', 'STREET', 'APARTMENT', 'RESIDENCE-GARAGE', 'APARTMENT', 'SIDEWALK', 'STREET', 'BANK', 'APARTMENT', 'RESIDENCE', 'RESIDENCE', 'RESIDENCE', 'STREET', 'STREET', 'RESIDENCE', 'APARTMENT', 'STREET', 'SIDEWALK', 'STREET', 'DRUG STORE', 'HOSPITAL BUILDING/GROUNDS', 'APARTMENT', 'OTHER', 'CTA BUS STOP', 'APARTMENT', 'PARK PROPERTY', 'OTHER', 'RESIDENCE', 'STREET', 'RESIDENCE', 'STREET', 'STREET', 'RESIDENCE', 'RESIDENCE', 'STREET', 'APARTMENT', 'SIDEWALK', 'SIDEWALK', 'RESIDENCE', 'SIDEWALK', 'APARTMENT', 'PARKING LOT/GARAGE(NON.RESID.)', 'STREET', 'SCHOOL, PUBLIC, BUILDING', 'STREET', 'ALLEY', 'RESIDENCE', '', 'RESIDENCE', 'CTA TRAIN', 'SIDEWALK', 'APARTMENT', 'CONVENIENCE STORE', 'SIDEWALK', 'VEHICLE NON-COMMERCIAL', 'RESIDENCE', 'SIDEWALK', 'RESIDENCE', 'JAIL / LOCK-UP FACILITY', 'RESIDENCE PORCH/HALLWAY', 'SIDEWALK', 'SIDEWALK', 'APARTMENT', 'RESIDENCE', 'CTA STATION', 'STREET', 'RESIDENCE', 'APARTMENT', 'POLICE FACILITY/VEH PARKING LOT', 'SCHOOL, PUBLIC, GROUNDS', 'APARTMENT', 'SIDEWALK', 'SIDEWALK', 'APARTMENT', 'RESIDENCE', 'SIDEWALK', 'SCHOOL, PUBLIC, BUILDING', 'PARK PROPERTY', 'APARTMENT', 'SIDEWALK', 'RESIDENCE', 'APARTMENT', 'APARTMENT', 'STREET', 'APARTMENT', 'RESIDENTIAL YARD (FRONT/BACK)', 'APARTMENT', 'STREET', 'SCHOOL, PUBLIC, GROUNDS', 'STREET', 'RESIDENCE', 'SIDEWALK', 'WAREHOUSE', 'PARKING LOT/GARAGE(NON.RESID.)', 'CTA BUS STOP', 'APARTMENT', 'CTA BUS', 'SIDEWALK', 'STREET', 'SIDEWALK', 'RESIDENCE-GARAGE', 'SIDEWALK', 'OTHER', 'PARKING LOT/GARAGE(NON.RESID.)', 'RESIDENCE', 'CHA APARTMENT', 'RESIDENTIAL YARD (FRONT/BACK)', 'PARK PROPERTY', 'APARTMENT', 'SIDEWALK', 'STREET', 'RESIDENCE', 'OTHER RAILROAD PROP / TRAIN DEPOT', 'STREET', 'STREET', 'APARTMENT', 'STREET', 'BANK', 'APARTMENT', 'STREET', 'RESIDENCE-GARAGE', 'PARKING LOT/GARAGE(NON.RESID.)', 'APARTMENT', 'STREET', 'RESIDENCE', 'STREET', 'APARTMENT', 'PARKING LOT/GARAGE(NON.RESID.)', 'RESIDENCE-GARAGE', 'APARTMENT', 'SIDEWALK', 'BANK', 'RESIDENCE', 'APARTMENT', 'STREET', 'STREET', 'ALLEY', 'RESIDENTIAL YARD (FRONT/BACK)', 'STREET', 'APARTMENT', 'STREET', 'APARTMENT', 'STREET', 'STREET', 'PARK PROPERTY', 'GOVERNMENT BUILDING/PROPERTY', 'RESIDENCE', 'STREET', 'STREET', 'RESIDENCE', 'ALLEY', 'STREET', 'BAR OR TAVERN', 'STREET', 'VEHICLE NON-COMMERCIAL', 'FIRE STATION', 'SIDEWALK', 'APARTMENT', 'STREET', 'RESIDENCE PORCH/HALLWAY', 'APARTMENT', 'STREET', 'JAIL / LOCK-UP FACILITY', 'RESIDENCE', 'STREET', 'APARTMENT', 'STREET', 'APARTMENT', 'DEPARTMENT STORE', 'PARK PROPERTY', 'GROCERY FOOD STORE', 'SCHOOL, PUBLIC, BUILDING', 'RESIDENCE', 'STREET', 'RESIDENCE', 'APARTMENT', 'GOVERNMENT BUILDING/PROPERTY', 'SCHOOL, PUBLIC, GROUNDS', 'RESIDENTIAL YARD (FRONT/BACK)', 'CTA BUS', 'APARTMENT', 'RESIDENCE', 'PARKING LOT/GARAGE(NON.RESID.)', 'RESIDENTIAL YARD (FRONT/BACK)', 'SIDEWALK', 'COMMERCIAL / BUSINESS OFFICE', 'SCHOOL, PUBLIC, BUILDING', 'ATHLETIC CLUB', 'SMALL RETAIL STORE', 'HOSPITAL BUILDING/GROUNDS', 'COMMERCIAL / BUSINESS OFFICE', 'PARKING LOT/GARAGE(NON.RESID.)', 'SIDEWALK', 'HOSPITAL BUILDING/GROUNDS', 'CTA TRAIN', 'RESIDENTIAL YARD (FRONT/BACK)', 'STREET', 'RESIDENCE', 'OTHER', 'SIDEWALK', 'SMALL RETAIL STORE', 'ALLEY', 'APARTMENT', 'GAS STATION', 'CTA PLATFORM', 'RESIDENCE', 'PARK PROPERTY', 'APARTMENT', 'STREET', 'PARK PROPERTY', 'SIDEWALK', 'SIDEWALK', 'VEHICLE NON-COMMERCIAL', 'APARTMENT', 'SIDEWALK', 'STREET', 'BAR OR TAVERN', 'BARBERSHOP', 'APARTMENT', 'OTHER', 'APARTMENT', 'SIDEWALK', 'SMALL RETAIL STORE', 'RESIDENTIAL YARD (FRONT/BACK)', 'RESIDENTIAL YARD (FRONT/BACK)', 'RESIDENCE', 'SIDEWALK', 'RESIDENCE', 'APARTMENT', 'SIDEWALK', 'RESTAURANT', 'STREET', 'STREET', 'APARTMENT', 'VEHICLE NON-COMMERCIAL', 'STREET', 'SIDEWALK', 'GROCERY FOOD STORE', 'OTHER', 'STREET', 'STREET', 'SIDEWALK', 'VEHICLE NON-COMMERCIAL', 'RESIDENCE', 'APARTMENT', 'STREET', 'STREET', 'SCHOOL, PUBLIC, GROUNDS', 'RESIDENTIAL YARD (FRONT/BACK)', 'RESIDENCE', 'STREET', 'STREET', 'ALLEY', 'APARTMENT', 'APARTMENT', 'DEPARTMENT STORE', 'OTHER', 'STREET', 'STREET', 'STREET', 'OTHER', 'RESIDENCE', 'APARTMENT', 'OTHER RAILROAD PROP / TRAIN DEPOT', 'STREET', 'STREET', 'RESIDENCE', 'CTA TRAIN', 'STREET', 'APARTMENT', 'CTA STATION', 'SIDEWALK', 'RESIDENTIAL YARD (FRONT/BACK)', 'STREET', 'APARTMENT', 'PARKING LOT/GARAGE(NON.RESID.)', 'SCHOOL, PUBLIC, GROUNDS', 'SMALL RETAIL STORE', 'APARTMENT', 'SIDEWALK', 'HIGHWAY/EXPRESSWAY', 'APARTMENT', 'APARTMENT', 'APARTMENT', 'PARKING LOT/GARAGE(NON.RESID.)', 'RESIDENTIAL YARD (FRONT/BACK)', 'APARTMENT', 'RESIDENCE-GARAGE', 'STREET', 'PARK PROPERTY', 'RESIDENCE', 'APARTMENT', 'ALLEY', 'APARTMENT', 'SMALL RETAIL STORE', 'SIDEWALK', 'RESIDENCE', 'RESIDENTIAL YARD (FRONT/BACK)', 'STREET', '', 'STREET', 'SIDEWALK', 'STREET', 'APARTMENT', 'SIDEWALK', 'RESIDENCE', 'RESIDENCE', 'APARTMENT', 'OTHER', 'SIDEWALK', 'RESIDENCE', 'STREET', 'ALLEY', 'RESIDENTIAL YARD (FRONT/BACK)', 'APARTMENT', 'SIDEWALK', 'APARTMENT', 'STREET', 'RESIDENCE PORCH/HALLWAY', 'RESIDENTIAL YARD (FRONT/BACK)', 'RESIDENCE', 'RESIDENTIAL YARD (FRONT/BACK)', 'GAS STATION', 'SIDEWALK', 'APARTMENT', 'RESIDENCE-GARAGE', 'APARTMENT', 'RESIDENCE', 'SIDEWALK', 'SCHOOL, PUBLIC, BUILDING', 'RESIDENCE', 'APARTMENT', 'SIDEWALK', 'STREET', 'SIDEWALK', 'PARKING LOT/GARAGE(NON.RESID.)', 'APARTMENT', 'AIRPORT BUILDING NON-TERMINAL - NON-SECURE AREA', 'SIDEWALK', 'APARTMENT', 'ALLEY', 'STREET', 'RESTAURANT', 'APARTMENT', 'STREET', 'STREET', 'APARTMENT', 'RESIDENCE', 'STREET', 'VEHICLE NON-COMMERCIAL', 'DEPARTMENT STORE', 'PARKING LOT/GARAGE(NON.RESID.)', 'RESIDENCE', 'SIDEWALK', 'SIDEWALK', 'CONVENIENCE STORE', 'STREET', 'DEPARTMENT STORE', 'CTA TRAIN', 'SIDEWALK', 'DEPARTMENT STORE', 'RESIDENCE', 'STREET', 'STREET', 'SIDEWALK', 'RESIDENCE', 'APARTMENT', 'STREET', 'RESIDENCE', 'SCHOOL, PUBLIC, BUILDING', 'SIDEWALK', 'RESTAURANT', 'STREET', 'RESTAURANT', 'RESIDENCE', 'SIDEWALK', 'OTHER', 'ALLEY', 'STREET', 'PARKING LOT/GARAGE(NON.RESID.)', 'STREET', 'SIDEWALK', 'RESIDENCE', 'SIDEWALK', 'STREET', 'STREET', 'VEHICLE NON-COMMERCIAL', 'SMALL RETAIL STORE', 'STREET', 'BANK', 'SIDEWALK', 'RESTAURANT', 'SMALL RETAIL STORE', 'APARTMENT', 'SIDEWALK', 'OTHER', 'ALLEY', 'RESIDENCE', 'APARTMENT', 'SMALL RETAIL STORE', 'CTA BUS STOP', 'GROCERY FOOD STORE', 'RESIDENTIAL YARD (FRONT/BACK)', 'RESIDENCE', 'CTA STATION', 'PARK PROPERTY', 'VEHICLE NON-COMMERCIAL', 'CTA STATION', 'PARKING LOT/GARAGE(NON.RESID.)', 'DRIVEWAY - RESIDENTIAL', 'ALLEY', 'RESTAURANT', 'STREET', 'STREET', 'OTHER', 'PARK PROPERTY', 'RESIDENCE', 'APARTMENT', 'RESIDENCE', 'APARTMENT', 'ATHLETIC CLUB', 'RESIDENCE PORCH/HALLWAY', 'RESIDENTIAL YARD (FRONT/BACK)', 'RESIDENCE', 'SIDEWALK', 'ATHLETIC CLUB', 'CTA TRAIN', 'SCHOOL, PUBLIC, BUILDING', 'HOTEL/MOTEL', 'CTA PLATFORM', 'SIDEWALK', 'RESIDENCE', 'SCHOOL, PUBLIC, BUILDING', 'PARKING LOT/GARAGE(NON.RESID.)', 'STREET', 'ALLEY', 'SIDEWALK', 'SMALL RETAIL STORE', 'RESIDENCE', 'PARK PROPERTY', 'STREET', 'PARK PROPERTY', 'STREET', 'STREET', 'OTHER', 'STREET', 'CONVENIENCE STORE', 'STREET', 'PARKING LOT/GARAGE(NON.RESID.)', 'HOTEL/MOTEL', 'STREET', 'APARTMENT', 'PARKING LOT/GARAGE(NON.RESID.)', 'RESTAURANT', 'RESIDENCE', 'STREET', 'APARTMENT', 'SIDEWALK', 'GROCERY FOOD STORE', 'PARK PROPERTY', 'STREET', 'STREET', 'OTHER', 'APARTMENT', 'RESIDENCE', 'RESIDENCE', 'STREET', 'STREET', 'RESIDENCE', 'APARTMENT', 'RESIDENCE-GARAGE', 'STREET', 'STREET', 'APARTMENT', 'SIDEWALK', 'SCHOOL, PUBLIC, BUILDING', 'GAS STATION', 'STREET', 'SCHOOL, PUBLIC, BUILDING', 'SIDEWALK', 'RESIDENCE', 'STREET', 'PARKING LOT/GARAGE(NON.RESID.)', 'STREET', 'STREET', 'RESIDENCE', 'OTHER', 'SMALL RETAIL STORE', 'STREET', 'RESIDENCE PORCH/HALLWAY', 'SMALL RETAIL STORE', 'STREET', 'APARTMENT', 'RESIDENCE-GARAGE', 'SCHOOL, PUBLIC, BUILDING', 'RESIDENCE PORCH/HALLWAY', 'ALLEY', 'COMMERCIAL / BUSINESS OFFICE', 'STREET', 'SCHOOL, PUBLIC, BUILDING', 'RESIDENCE', 'RESIDENCE', 'RESIDENCE', 'RESIDENCE-GARAGE', 'SCHOOL, PUBLIC, BUILDING', 'HOUSE', 'CTA TRAIN', 'SIDEWALK', 'STREET', 'RESIDENCE', 'STREET', 'RESIDENCE', 'GROCERY FOOD STORE', 'PARKING LOT/GARAGE(NON.RESID.)', 'RESIDENCE', 'SIDEWALK', 'SIDEWALK', 'STREET', 'STREET', 'RESIDENCE', 'PARKING LOT/GARAGE(NON.RESID.)', 'STREET', 'RESIDENTIAL YARD (FRONT/BACK)', 'APARTMENT', 'GROCERY FOOD STORE', 'STREET', 'RESIDENCE', 'APARTMENT', 'DEPARTMENT STORE', 'APARTMENT', 'APARTMENT', 'RESIDENCE', 'DEPARTMENT STORE', 'SMALL RETAIL STORE', 'STREET', 'RESIDENCE', 'STREET', 'RESIDENTIAL YARD (FRONT/BACK)', 'RESIDENCE PORCH/HALLWAY', 'STREET', 'SCHOOL, PRIVATE, BUILDING', 'SIDEWALK', 'SIDEWALK', 'RESIDENCE', 'STREET', 'STREET', 'CHA HALLWAY/STAIRWELL/ELEVATOR', 'GROCERY FOOD STORE', 'APARTMENT', 'RESIDENCE', 'APARTMENT', 'APARTMENT', 'STREET', 'APARTMENT', 'RESIDENCE', 'SIDEWALK', 'RESIDENTIAL YARD (FRONT/BACK)', 'STREET', 'SCHOOL, PUBLIC, BUILDING', 'STREET'], 7: ['OTHER', 'PARKING LOT/GARAGE(NON.RESID.)', 'APARTMENT', 'STREET', 'STREET', 'APARTMENT', 'RESIDENCE', 'STREET', 'CHA PARKING LOT/GROUNDS', 'PARKING LOT/GARAGE(NON.RESID.)', 'PARKING LOT/GARAGE(NON.RESID.)', 'APARTMENT', 'STREET', 'OTHER', 'SIDEWALK', 'APARTMENT', 'STREET', 'DEPARTMENT STORE', 'BAR OR TAVERN', 'APARTMENT', 'RESIDENCE-GARAGE', 'STREET', 'VEHICLE NON-COMMERCIAL', 'SIDEWALK', 'GROCERY FOOD STORE', 'STREET', 'ALLEY', 'OTHER', 'STREET', 'PARKING LOT/GARAGE(NON.RESID.)', 'STREET', 'SIDEWALK', 'STREET', 'DRUG STORE', 'STREET', 'STREET', 'OTHER', 'STREET', 'OTHER', 'PARKING LOT/GARAGE(NON.RESID.)', 'VEHICLE NON-COMMERCIAL', 'CHA APARTMENT', 'RESIDENCE', 'APARTMENT', 'PARKING LOT/GARAGE(NON.RESID.)', 'STREET', 'RESIDENCE', 'RESIDENCE', 'APARTMENT', 'RESIDENCE', 'STREET', 'DEPARTMENT STORE', 'CTA TRAIN', 'STREET', 'RESIDENCE', 'PARKING LOT/GARAGE(NON.RESID.)', 'RESIDENCE', 'RESIDENCE', 'STREET', 'PARK PROPERTY', 'RESIDENCE', 'OTHER', 'SIDEWALK', 'RESIDENCE', 'RESIDENCE PORCH/HALLWAY', 'PARKING LOT/GARAGE(NON.RESID.)', 'APARTMENT', 'GROCERY FOOD STORE', 'RESIDENCE-GARAGE', 'APARTMENT', 'STREET', 'VACANT LOT/LAND', 'SIDEWALK', 'STREET', 'STREET', 'RESIDENCE', 'STREET', 'SIDEWALK', 'RESIDENCE', 'RESIDENCE', 'STREET', 'SIDEWALK', 'SIDEWALK', 'STREET', 'RESIDENCE', 'GROCERY FOOD STORE', 'PARKING LOT/GARAGE(NON.RESID.)', 'STREET', 'PARK PROPERTY', 'RESIDENCE', 'SIDEWALK', 'APARTMENT', 'RESIDENCE', 'SMALL RETAIL STORE', 'ALLEY', 'STREET', 'RESIDENTIAL YARD (FRONT/BACK)', 'RESIDENTIAL YARD (FRONT/BACK)', 'OTHER', 'SIDEWALK', 'SIDEWALK', 'STREET', 'OTHER', 'ALLEY', 'OTHER', 'STREET', 'ATM (AUTOMATIC TELLER MACHINE)', 'VEHICLE NON-COMMERCIAL', 'APARTMENT', 'SIDEWALK', 'CTA BUS', 'APARTMENT', 'APARTMENT', 'RESIDENCE-GARAGE', 'STREET', 'STREET', 'RESIDENTIAL YARD (FRONT/BACK)', 'APARTMENT', 'RESIDENCE', 'STREET', 'RESIDENCE', 'RESIDENCE', 'RESIDENCE', 'STREET', 'RESIDENCE', 'RESIDENCE PORCH/HALLWAY', 'SIDEWALK', 'STREET', 'PARKING LOT/GARAGE(NON.RESID.)', 'SIDEWALK', 'STREET', 'STREET', 'RESIDENCE', 'STREET', 'POLICE FACILITY/VEH PARKING LOT', 'RESIDENCE', 'RESIDENCE', 'APARTMENT', 'AUTO', 'APARTMENT', 'STREET', 'STREET', 'RESIDENCE', 'APARTMENT', 'ATHLETIC CLUB', 'PARKING LOT/GARAGE(NON.RESID.)', 'STREET', 'CHA PARKING LOT/GROUNDS', 'STREET', 'STREET', 'SIDEWALK', 'SCHOOL, PRIVATE, GROUNDS', 'CHA APARTMENT', 'SIDEWALK', 'STREET', 'RESIDENCE', 'RESTAURANT', 'STREET', 'STREET', 'APARTMENT', 'VEHICLE - OTHER RIDE SERVICE', 'CHA PARKING LOT/GROUNDS', 'STREET', 'APARTMENT', 'SMALL RETAIL STORE', 'CHURCH/SYNAGOGUE/PLACE OF WORSHIP', 'OTHER', 'SIDEWALK', 'RESIDENCE', 'STREET', 'RESIDENCE', 'SIDEWALK', 'APARTMENT', 'CTA STATION', 'DRIVEWAY - RESIDENTIAL', 'STREET', 'RESIDENCE-GARAGE', 'DRUG STORE', 'STREET', 'CTA PLATFORM', 'RESTAURANT', 'RESIDENCE PORCH/HALLWAY', 'SMALL RETAIL STORE', 'GAS STATION', 'STREET', 'RESIDENCE', 'RESIDENTIAL YARD (FRONT/BACK)', 'BANK', 'OTHER', 'APARTMENT', 'RESIDENCE', 'STREET', 'APARTMENT', 'SIDEWALK', 'RESIDENTIAL YARD (FRONT/BACK)', 'STREET', 'VEHICLE NON-COMMERCIAL', 'CHA APARTMENT', 'RESIDENTIAL YARD (FRONT/BACK)', 'OTHER', 'APARTMENT', 'RESIDENCE PORCH/HALLWAY', 'APARTMENT', 'CHURCH/SYNAGOGUE/PLACE OF WORSHIP', 'APARTMENT', 'APARTMENT', 'DRUG STORE', 'RESIDENTIAL YARD (FRONT/BACK)', 'STREET', 'APARTMENT', 'RESTAURANT', 'PARKING LOT/GARAGE(NON.RESID.)', 'SIDEWALK', 'RESIDENCE', 'STREET', 'APARTMENT', 'STREET', 'STREET', 'STREET', 'RESIDENCE', 'CONSTRUCTION SITE', 'VEHICLE NON-COMMERCIAL', 'PARK PROPERTY', 'APARTMENT', 'SCHOOL, PUBLIC, BUILDING', 'APARTMENT', 'SIDEWALK', 'BAR OR TAVERN', 'APARTMENT', 'RESIDENCE', 'SIDEWALK', 'PARKING LOT/GARAGE(NON.RESID.)', 'HOSPITAL BUILDING/GROUNDS', 'STREET', 'STREET', 'RESIDENCE', 'RESIDENCE', 'CHA APARTMENT', 'STREET', 'STREET', 'VEHICLE NON-COMMERCIAL', 'STREET', 'VEHICLE NON-COMMERCIAL', 'STREET', 'STREET', 'VEHICLE NON-COMMERCIAL', 'DEPARTMENT STORE', 'STREET', 'STREET', 'RESIDENCE', 'POLICE FACILITY/VEH PARKING LOT', 'APARTMENT', 'BANK', 'RESIDENCE', 'APARTMENT', 'STREET', 'RESIDENCE-GARAGE', 'TAVERN/LIQUOR STORE', 'RESIDENCE-GARAGE', 'DEPARTMENT STORE', 'APARTMENT', 'SIDEWALK', 'SIDEWALK', 'STREET', 'RESTAURANT', 'RESIDENCE', 'RESIDENCE', 'STREET', 'RESIDENCE', 'RESIDENCE', 'DEPARTMENT STORE', 'STREET', 'PARKING LOT/GARAGE(NON.RESID.)', 'RESIDENCE', 'APARTMENT', 'STREET', 'SIDEWALK', 'SIDEWALK', 'RESIDENCE', 'OTHER', 'RESIDENCE', 'RESTAURANT', 'RESIDENCE', 'STREET', 'SMALL RETAIL STORE', 'RESIDENTIAL YARD (FRONT/BACK)', 'STREET', 'STREET', 'DRIVEWAY - RESIDENTIAL', 'STREET', 'STREET', 'PARKING LOT/GARAGE(NON.RESID.)', 'RESIDENTIAL YARD (FRONT/BACK)', 'STREET', 'RESTAURANT', 'OTHER', 'OTHER', 'BAR OR TAVERN', 'RESIDENCE', 'STREET', 'STREET', 'STREET', 'SIDEWALK', 'RESIDENCE-GARAGE', 'RESIDENCE', 'STREET', 'STREET', 'STREET', 'PARKING LOT/GARAGE(NON.RESID.)', 'STREET', 'OTHER', 'SIDEWALK', 'SIDEWALK', 'STREET', 'OTHER', 'SIDEWALK', 'OTHER', 'STREET', 'STREET', 'STREET', 'RESIDENCE-GARAGE', 'RESIDENCE-GARAGE', 'BAR OR TAVERN', 'STREET', 'RESIDENCE', 'RESIDENCE', 'STREET', 'SIDEWALK', 'OTHER', 'APARTMENT', 'STREET', 'SMALL RETAIL STORE', 'PARKING LOT/GARAGE(NON.RESID.)', 'STREET', 'RESIDENCE', 'APARTMENT', 'OTHER', 'STREET', 'RESIDENCE', 'APARTMENT', 'RESIDENCE', 'APARTMENT', 'APARTMENT', 'APARTMENT', 'STREET', 'DEPARTMENT STORE', 'RESIDENCE', 'SMALL RETAIL STORE', 'RESIDENTIAL YARD (FRONT/BACK)', 'RESIDENCE', 'RESIDENCE', 'SIDEWALK', 'STREET', 'SCHOOL, PUBLIC, GROUNDS', 'APARTMENT', 'RESIDENTIAL YARD (FRONT/BACK)', 'PARKING LOT/GARAGE(NON.RESID.)', 'STREET', 'SIDEWALK', 'RESIDENCE', 'SIDEWALK', 'SIDEWALK', 'APARTMENT', 'STREET', 'ATM (AUTOMATIC TELLER MACHINE)', 'STREET', 'SMALL RETAIL STORE', 'STREET', 'PARKING LOT/GARAGE(NON.RESID.)', 'STREET', 'APARTMENT', 'STREET', 'STREET', 'RESIDENCE-GARAGE', 'STREET', 'APARTMENT', 'SIDEWALK', 'RESTAURANT', 'SIDEWALK', 'SIDEWALK', 'PARKING LOT/GARAGE(NON.RESID.)', 'SCHOOL, PUBLIC, GROUNDS', 'RESIDENCE', 'STREET', 'STREET', 'RESIDENCE', 'STREET', 'RESIDENCE', 'DRUG STORE', 'GOVERNMENT BUILDING/PROPERTY', 'VEHICLE NON-COMMERCIAL', 'GROCERY FOOD STORE', 'APARTMENT', 'PARK PROPERTY', 'STREET', 'SIDEWALK', 'STREET', 'PARK PROPERTY', 'APARTMENT', 'OTHER', 'CHA PARKING LOT/GROUNDS', 'GAS STATION', 'RESIDENCE', 'RESIDENTIAL YARD (FRONT/BACK)', 'SIDEWALK', 'HOSPITAL BUILDING/GROUNDS', 'DEPARTMENT STORE', 'APARTMENT', 'APARTMENT', 'RESIDENCE', 'PARK PROPERTY', 'SIDEWALK', 'APARTMENT', 'STREET', 'SIDEWALK', 'VACANT LOT/LAND', 'OTHER', 'STREET', 'PARK PROPERTY', 'RESIDENCE', 'SIDEWALK', 'RESIDENCE PORCH/HALLWAY', 'RESIDENCE-GARAGE', 'STREET', 'STREET', 'SIDEWALK', 'APARTMENT', 'SIDEWALK', 'RESIDENCE', 'RESIDENCE', 'STREET', 'SMALL RETAIL STORE', 'ALLEY', 'HOSPITAL BUILDING/GROUNDS', 'OTHER', 'STREET', 'APARTMENT', 'RESIDENCE', 'APARTMENT', 'STREET', 'SIDEWALK', 'BAR OR TAVERN', 'APARTMENT', 'SMALL RETAIL STORE', 'STREET', 'PARK PROPERTY', 'APARTMENT', 'RESIDENCE', 'STREET', 'CTA BUS STOP', 'SIDEWALK', 'SIDEWALK', 'STREET', 'RESIDENTIAL YARD (FRONT/BACK)', 'STREET', 'DRUG STORE', 'ALLEY', 'SIDEWALK', 'SIDEWALK', 'SIDEWALK', 'SIDEWALK', 'APARTMENT', 'PARKING LOT/GARAGE(NON.RESID.)', 'SIDEWALK', 'STREET', 'SIDEWALK', 'RESIDENTIAL YARD (FRONT/BACK)', 'GOVERNMENT BUILDING/PROPERTY', 'RESIDENCE-GARAGE', 'STREET', 'RESIDENCE', 'RESIDENCE', 'RESIDENCE', 'STREET', 'STREET', 'SMALL RETAIL STORE', 'FACTORY/MANUFACTURING BUILDING', 'AIRPORT/AIRCRAFT', 'RESIDENCE', 'ALLEY', 'DRIVEWAY - RESIDENTIAL', 'SIDEWALK', 'STREET', 'RESIDENCE', 'OTHER', 'CTA BUS', 'RESIDENCE', 'RESIDENCE', 'RESIDENCE', 'STREET', 'RESIDENTIAL YARD (FRONT/BACK)', 'APARTMENT', 'GROCERY FOOD STORE', 'VEHICLE NON-COMMERCIAL', 'RESIDENCE', 'APARTMENT', 'STREET', 'SIDEWALK', 'STREET', 'STREET', 'SIDEWALK', 'CONVENIENCE STORE', 'APARTMENT', 'SIDEWALK', 'RESIDENCE', 'RESIDENCE', 'APARTMENT', 'STREET', 'PARKING LOT/GARAGE(NON.RESID.)', 'SIDEWALK', 'OTHER', 'GAS STATION', 'STREET', 'CONSTRUCTION SITE', 'STREET', 'RESIDENCE', 'RESIDENTIAL YARD (FRONT/BACK)', 'PARK PROPERTY', 'STREET', 'RESIDENCE', 'SMALL RETAIL STORE', 'STREET', 'SIDEWALK', 'RESIDENCE PORCH/HALLWAY', 'OTHER', 'STREET', 'SIDEWALK', 'STREET', 'RESIDENCE', 'RESTAURANT', 'RESIDENCE', 'RESIDENCE', 'BANK', 'STREET', 'COMMERCIAL / BUSINESS OFFICE', 'RESIDENCE', 'APARTMENT', 'APARTMENT', 'APARTMENT', 'DRIVEWAY - RESIDENTIAL', 'ALLEY', 'APARTMENT', 'DEPARTMENT STORE', 'STREET', 'NURSING HOME/RETIREMENT HOME', 'SIDEWALK', 'VACANT LOT/LAND', 'APARTMENT', 'RESIDENCE', 'BAR OR TAVERN', 'STREET', 'RESIDENCE', 'APARTMENT', 'GAS STATION', 'RESIDENCE', 'RESIDENCE', 'PARK PROPERTY', 'RESIDENCE', 'STREET', 'DEPARTMENT STORE', 'PARK PROPERTY', 'STREET', 'STREET', 'OTHER', 'OTHER', 'SIDEWALK', 'STREET', 'STREET', 'SIDEWALK', 'STREET', 'STREET', 'GROCERY FOOD STORE', 'RESTAURANT', 'STREET', 'RESTAURANT', 'STREET', 'STREET', 'DEPARTMENT STORE', 'STREET', 'STREET', 'APPLIANCE STORE', 'RESIDENCE', 'PARKING LOT/GARAGE(NON.RESID.)', 'PARKING LOT/GARAGE(NON.RESID.)', 'STREET', 'SIDEWALK', 'GAS STATION', 'SCHOOL, PRIVATE, GROUNDS', 'RESIDENCE-GARAGE', 'STREET', 'STREET', 'RESIDENCE', 'STREET', 'CONVENIENCE STORE', 'APARTMENT', 'RESTAURANT', 'STREET', 'STREET', 'STREET', 'NURSING HOME/RETIREMENT HOME', 'STREET', 'RESIDENCE', 'STREET', 'STREET', 'BAR OR TAVERN', 'STREET', 'STREET', 'RESIDENCE', 'PARKING LOT/GARAGE(NON.RESID.)', 'SIDEWALK', 'ALLEY', 'SIDEWALK', 'HOTEL/MOTEL', 'STREET', 'RESIDENCE', 'STREET', 'PARKING LOT/GARAGE(NON.RESID.)', 'RESIDENCE-GARAGE', 'RESTAURANT', 'SIDEWALK', 'APARTMENT', 'STREET', 'RESIDENCE', 'ALLEY', 'STREET', 'RESIDENCE', 'APARTMENT', 'SIDEWALK', 'APARTMENT', 'RESTAURANT', 'OTHER', 'RESIDENCE', 'STREET', '', 'STREET', 'OTHER', 'SIDEWALK', 'RESIDENCE', 'RESIDENCE', 'RESIDENCE-GARAGE', 'RESIDENCE', 'CONVENIENCE STORE', 'ALLEY', 'RESIDENCE', 'STREET', 'SIDEWALK', 'APARTMENT', 'RESIDENCE-GARAGE', 'STREET', 'RESIDENCE', 'RESIDENCE', 'RESIDENTIAL YARD (FRONT/BACK)', 'RESIDENCE', 'RESIDENCE', 'STREET', 'RESIDENCE', 'ABANDONED BUILDING', 'RESIDENCE', 'SMALL RETAIL STORE', 'APARTMENT', 'CTA BUS', 'STREET', 'RESIDENCE-GARAGE', 'PARKING LOT/GARAGE(NON.RESID.)', 'RESIDENCE', 'AIRPORT TERMINAL UPPER LEVEL - SECURE AREA', 'RESIDENTIAL YARD (FRONT/BACK)', 'STREET', 'CHA PARKING LOT/GROUNDS', 'APARTMENT', 'STREET', 'COMMERCIAL / BUSINESS OFFICE', 'APARTMENT', 'APARTMENT', 'BAR OR TAVERN', 'STREET', 'OTHER', 'CHURCH/SYNAGOGUE/PLACE OF WORSHIP', 'RESIDENCE', 'RESIDENCE', 'APARTMENT', 'BANK', 'STREET', 'CAR WASH', 'STREET', 'RESIDENCE', 'HOSPITAL BUILDING/GROUNDS', 'SIDEWALK', 'RESIDENCE', 'STREET', 'SIDEWALK', 'ALLEY', 'VEHICLE NON-COMMERCIAL', 'APARTMENT', 'RESTAURANT', 'STREET', 'RESIDENCE', 'PARK PROPERTY', 'SMALL RETAIL STORE', 'VEHICLE NON-COMMERCIAL', 'STREET', 'MOVIE HOUSE/THEATER', 'STREET', 'STREET', 'APARTMENT', 'SIDEWALK', 'PARKING LOT/GARAGE(NON.RESID.)', 'APARTMENT', 'STREET', 'SMALL RETAIL STORE', 'BAR OR TAVERN', 'SIDEWALK', 'STREET', 'STREET', 'VACANT LOT/LAND', 'APARTMENT', 'RESIDENCE', 'STREET', 'RESIDENCE-GARAGE', 'STREET', 'STREET', 'RESIDENCE', 'RESIDENCE', 'SIDEWALK', 'PARKING LOT/GARAGE(NON.RESID.)', 'RESIDENCE', 'RESIDENCE', 'RESIDENCE', 'RESIDENCE', 'OTHER', 'APARTMENT', 'ATHLETIC CLUB', 'RESIDENCE', 'APARTMENT', 'CHA PARKING LOT/GROUNDS', 'PARKING LOT/GARAGE(NON.RESID.)', 'RESIDENTIAL YARD (FRONT/BACK)', 'PARKING LOT/GARAGE(NON.RESID.)', 'VEHICLE NON-COMMERCIAL', 'STREET', 'SIDEWALK', 'STREET', 'RESIDENCE', 'STREET', 'STREET', 'COMMERCIAL / BUSINESS OFFICE', 'NURSING HOME/RETIREMENT HOME', 'STREET', 'RESIDENCE', 'APARTMENT', 'SIDEWALK', 'DEPARTMENT STORE', 'RESTAURANT', 'OTHER', 'CHA PARKING LOT/GROUNDS', 'STREET', 'RESIDENCE', 'STREET', 'STREET', 'APARTMENT', 'RESIDENCE', 'SIDEWALK', 'RESIDENCE PORCH/HALLWAY', 'STREET', 'OTHER', 'STREET', 'SIDEWALK', 'CTA TRAIN', 'SMALL RETAIL STORE', 'APARTMENT', 'TAXICAB', 'STREET', 'APARTMENT', 'APARTMENT', 'RESIDENCE', 'BAR OR TAVERN', 'APARTMENT', 'RESIDENTIAL YARD (FRONT/BACK)', 'APARTMENT', 'STREET', 'STREET', 'RESIDENCE PORCH/HALLWAY', 'STREET', 'STREET', 'STREET', 'VEHICLE NON-COMMERCIAL', 'DEPARTMENT STORE', 'STREET', 'APARTMENT', 'CTA STATION', 'APARTMENT', 'DRUG STORE', 'PARK PROPERTY', 'CHURCH/SYNAGOGUE/PLACE OF WORSHIP', 'APARTMENT', 'RESIDENCE', 'APARTMENT', 'RESIDENCE', 'SIDEWALK', 'RESIDENCE', 'RESIDENCE-GARAGE', 'APARTMENT', 'GAS STATION', 'ALLEY', 'STREET', 'STREET', 'STREET', 'CTA TRAIN', 'STREET', 'STREET', 'APARTMENT', 'DEPARTMENT STORE', 'RESIDENCE', 'RESIDENCE', 'STREET', 'STREET', 'SPORTS ARENA/STADIUM', 'APARTMENT', 'STREET', 'RESTAURANT', 'RESIDENCE-GARAGE', 'SIDEWALK', 'APARTMENT', 'STREET', 'PARK PROPERTY', 'APARTMENT', 'ATM (AUTOMATIC TELLER MACHINE)', 'OTHER', 'STREET', 'APARTMENT', 'SIDEWALK', 'RESIDENCE', 'APARTMENT', 'APARTMENT', 'CONVENIENCE STORE', 'CTA TRAIN', 'OTHER', 'DEPARTMENT STORE', 'ALLEY', 'PARK PROPERTY', 'GROCERY FOOD STORE', 'STREET', 'STREET', '', 'RESIDENCE', 'STREET', 'CTA TRAIN', 'RESIDENTIAL YARD (FRONT/BACK)', 'SMALL RETAIL STORE', 'APARTMENT', 'APARTMENT', 'SCHOOL, PUBLIC, BUILDING', 'STREET', 'CONVENIENCE STORE', 'APARTMENT', 'SMALL RETAIL STORE', 'RESIDENCE-GARAGE', 'GROCERY FOOD STORE', 'HOTEL/MOTEL', 'BANK', 'APARTMENT', 'STREET', 'APARTMENT', 'ALLEY', 'STREET', 'STREET', 'PARKING LOT/GARAGE(NON.RESID.)', 'APARTMENT', 'CTA GARAGE / OTHER PROPERTY', 'RESIDENCE', 'STREET', 'STREET', 'APARTMENT', 'CTA STATION', 'PAWN SHOP', 'SIDEWALK', 'STREET', 'STREET', 'GAS STATION', 'STREET', 'RESIDENTIAL YARD (FRONT/BACK)', 'STREET', 'APARTMENT', 'OTHER', 'RESIDENCE', 'STREET', 'OTHER', 'RESIDENCE', 'APARTMENT', 'SIDEWALK', 'SIDEWALK', 'APARTMENT', 'SMALL RETAIL STORE', 'SIDEWALK', 'STREET', 'RESIDENCE', 'ALLEY', 'CONVENIENCE STORE', 'PARKING LOT/GARAGE(NON.RESID.)', 'DEPARTMENT STORE', 'RESIDENCE', 'STREET', 'ALLEY', 'APARTMENT', 'STREET', 'RESIDENCE', 'STREET', '', 'STREET', 'STREET', 'PARKING LOT/GARAGE(NON.RESID.)', 'RESIDENCE', 'PARKING LOT/GARAGE(NON.RESID.)', 'APARTMENT', 'RESTAURANT', 'APARTMENT', 'PARK PROPERTY', 'PARK PROPERTY', 'RESTAURANT', 'HOSPITAL BUILDING/GROUNDS', 'APARTMENT', 'RESIDENCE', 'APARTMENT', 'STREET', 'RESIDENTIAL YARD (FRONT/BACK)', 'STREET', 'SMALL RETAIL STORE', 'GAS STATION', 'SIDEWALK', 'OTHER', 'APARTMENT', 'RESIDENCE', 'DEPARTMENT STORE', 'STREET', 'SIDEWALK', 'DRUG STORE', 'SIDEWALK', 'GAS STATION', 'PARKING LOT/GARAGE(NON.RESID.)', 'APARTMENT', 'SIDEWALK', 'STREET', 'APARTMENT', 'DEPARTMENT STORE', 'CHA PARKING LOT/GROUNDS', 'STREET', 'APARTMENT', 'APARTMENT', 'RESIDENCE', 'APARTMENT', 'APARTMENT', 'APARTMENT', 'APARTMENT', 'PARKING LOT/GARAGE(NON.RESID.)', 'STREET', 'STREET', 'OTHER', 'STREET', 'RESIDENCE', 'PARKING LOT/GARAGE(NON.RESID.)', 'APARTMENT', 'RESIDENCE', 'APARTMENT', 'SMALL RETAIL STORE', 'RESIDENCE', 'RESIDENCE', 'STREET', 'APARTMENT', 'APARTMENT', 'APARTMENT', 'SIDEWALK', 'RESIDENTIAL YARD (FRONT/BACK)', 'DEPARTMENT STORE', '', 'APARTMENT', 'GAS STATION', 'AIRCRAFT', '', 'HOTEL/MOTEL', 'APARTMENT', 'APARTMENT', 'SIDEWALK', 'STREET', 'STREET', 'STREET', 'DRUG STORE', 'RESIDENCE', 'VEHICLE NON-COMMERCIAL', 'OTHER', 'OTHER', 'SIDEWALK', 'SIDEWALK', 'RESIDENCE', 'CHA PARKING LOT/GROUNDS', 'STREET', 'CHA APARTMENT', 'RESIDENCE', 'SIDEWALK', 'ALLEY', 'STREET', 'RESIDENCE', 'GROCERY FOOD STORE', 'CTA TRAIN', 'SIDEWALK', 'BAR OR TAVERN', 'APARTMENT', 'ALLEY', 'RESIDENCE', 'DEPARTMENT STORE', 'APARTMENT', 'BAR OR TAVERN', 'ALLEY', 'STREET', 'RESIDENCE', 'APARTMENT', 'DEPARTMENT STORE', 'RESIDENCE', 'SIDEWALK', 'AIRPORT TRANSPORTATION SYSTEM (ATS)', 'APARTMENT', 'RESTAURANT', 'SIDEWALK', 'SIDEWALK', 'STREET', 'STREET', 'RESIDENCE', 'AIRPORT EXTERIOR - NON-SECURE AREA', 'APARTMENT', 'STREET', 'SIDEWALK', 'ABANDONED BUILDING', 'STREET', 'PARK PROPERTY', 'SMALL RETAIL STORE', 'RESIDENCE', 'RESIDENCE', 'BAR OR TAVERN', 'APARTMENT', 'BAR OR TAVERN', 'STREET', 'STREET', 'STREET', 'LAKEFRONT/WATERFRONT/RIVERBANK', 'APARTMENT', 'GOVERNMENT BUILDING/PROPERTY', 'STREET', 'APARTMENT', 'APARTMENT', 'RESIDENCE', 'RESIDENCE', 'APARTMENT', 'RESIDENTIAL YARD (FRONT/BACK)', 'SIDEWALK', 'SIDEWALK', 'STREET', 'APARTMENT', 'STREET', 'DRUG STORE', 'RESIDENCE', 'STREET', 'STREET', 'RESTAURANT', 'SIDEWALK', 'RESIDENCE', 'STREET', 'SPORTS ARENA/STADIUM', 'VEHICLE NON-COMMERCIAL', 'ALLEY', 'SIDEWALK', 'GROCERY FOOD STORE', 'STREET', 'SIDEWALK', 'SIDEWALK', 'APARTMENT', 'STREET', 'RESIDENCE-GARAGE', 'VEHICLE-COMMERCIAL', 'STREET', 'SIDEWALK', 'STREET', 'STREET', 'STREET', 'PARKING LOT/GARAGE(NON.RESID.)', 'APARTMENT', 'STREET', 'RESIDENCE', 'JAIL / LOCK-UP FACILITY', 'BANK', 'SIDEWALK', 'SMALL RETAIL STORE', 'RESIDENCE', 'STREET', 'CTA BUS STOP', 'PARKING LOT/GARAGE(NON.RESID.)', 'OTHER', 'PARKING LOT/GARAGE(NON.RESID.)', 'APARTMENT', 'APARTMENT', 'RESIDENTIAL YARD (FRONT/BACK)', 'RESIDENTIAL YARD (FRONT/BACK)', 'SIDEWALK', 'RESIDENCE', 'APARTMENT', 'APARTMENT', 'PARKING LOT/GARAGE(NON.RESID.)', 'SIDEWALK', 'DEPARTMENT STORE', 'APARTMENT', 'APARTMENT', 'ALLEY', '', 'RESTAURANT', 'STREET', 'RESIDENCE', 'APARTMENT', 'RESIDENCE', 'APARTMENT', 'STREET', 'SIDEWALK', 'APARTMENT', 'APARTMENT', 'STREET', 'STREET', 'SIDEWALK', 'SMALL RETAIL STORE', 'STREET', 'VEHICLE NON-COMMERCIAL', 'AIRPORT TERMINAL UPPER LEVEL - NON-SECURE AREA', 'RESIDENCE', 'STREET', 'STREET', 'STREET', 'STREET', 'TAVERN/LIQUOR STORE', 'PARK PROPERTY', 'STREET', 'RESTAURANT', 'STREET', 'SMALL RETAIL STORE', 'VEHICLE NON-COMMERCIAL', 'PARK PROPERTY', 'RESTAURANT', 'APARTMENT', 'RESIDENCE', 'RESIDENCE', 'VEHICLE NON-COMMERCIAL', 'ALLEY', 'STREET', 'RESIDENTIAL YARD (FRONT/BACK)', 'BAR OR TAVERN', 'RESIDENCE PORCH/HALLWAY', 'ALLEY', 'RESIDENCE', 'APARTMENT', 'SIDEWALK', 'STREET', 'SIDEWALK', 'STREET', 'SIDEWALK', 'HOTEL/MOTEL', 'SIDEWALK', 'STREET', 'SMALL RETAIL STORE', 'STREET', 'CTA BUS STOP', 'WAREHOUSE', 'APARTMENT', 'RESIDENCE', 'PARK PROPERTY', 'STREET', 'RESIDENCE', 'TAXICAB', 'STREET', 'STREET', 'STREET', 'SIDEWALK', 'RESIDENCE', 'FEDERAL BUILDING', 'SIDEWALK', 'CHA APARTMENT', 'RESIDENCE PORCH/HALLWAY', 'DEPARTMENT STORE', 'RESTAURANT', 'VEHICLE NON-COMMERCIAL', 'STREET', 'SIDEWALK', 'STREET', 'STREET', 'STREET', 'RESIDENCE-GARAGE', 'ATM (AUTOMATIC TELLER MACHINE)', 'SCHOOL, PRIVATE, BUILDING', 'STREET', 'APARTMENT', 'SIDEWALK', 'STREET', 'APARTMENT', 'STREET', 'VACANT LOT/LAND', 'STREET', 'STREET', 'APARTMENT', 'ANIMAL HOSPITAL', 'TAXICAB', 'STREET', 'STREET', 'RESIDENCE', 'OTHER', 'PARKING LOT/GARAGE(NON.RESID.)', 'STREET', 'PARKING LOT/GARAGE(NON.RESID.)', 'PARKING LOT/GARAGE(NON.RESID.)', 'RESIDENCE-GARAGE', 'RESIDENCE', 'VEHICLE NON-COMMERCIAL', 'SIDEWALK', 'VEHICLE NON-COMMERCIAL', 'PARK PROPERTY', 'RESTAURANT', 'SIDEWALK', 'SMALL RETAIL STORE', 'OTHER', 'OTHER', 'RESTAURANT', 'RESIDENCE', 'RESIDENCE PORCH/HALLWAY', 'VEHICLE NON-COMMERCIAL', 'HIGHWAY/EXPRESSWAY', 'SMALL RETAIL STORE', 'APARTMENT', 'GAS STATION', 'STREET', 'RESIDENTIAL YARD (FRONT/BACK)', 'STREET', 'STREET', 'RESIDENCE-GARAGE', 'STREET', 'VEHICLE NON-COMMERCIAL', 'STREET', 'APARTMENT', 'STREET', 'RESIDENCE', 'PARKING LOT/GARAGE(NON.RESID.)', 'SMALL RETAIL STORE', 'SIDEWALK', 'SIDEWALK', 'PARKING LOT/GARAGE(NON.RESID.)', 'RESIDENCE', 'OTHER', 'APARTMENT', 'DEPARTMENT STORE', 'STREET', 'CURRENCY EXCHANGE', 'STREET', 'RESIDENCE PORCH/HALLWAY', 'APARTMENT', 'ALLEY'], 10: ['STREET', 'NURSING HOME/RETIREMENT HOME', 'CTA PLATFORM', 'GAS STATION', 'RESIDENCE', 'APARTMENT', 'RESIDENTIAL YARD (FRONT/BACK)', 'RESIDENCE', 'GROCERY FOOD STORE', 'STREET', 'RESIDENCE', 'SIDEWALK', 'OTHER', 'ATHLETIC CLUB', 'PARKING LOT/GARAGE(NON.RESID.)', 'STREET', 'RESIDENCE', 'RESIDENCE-GARAGE', 'STREET', 'RESIDENTIAL YARD (FRONT/BACK)', 'SIDEWALK', 'RESTAURANT', 'RESIDENCE', 'APARTMENT', 'GROCERY FOOD STORE', 'APARTMENT', 'STREET', 'STREET', 'GAS STATION', 'JAIL / LOCK-UP FACILITY', 'STREET', 'STREET', 'CTA STATION', 'RESIDENCE', 'ALLEY', 'RESIDENCE', 'APARTMENT', 'ALLEY', 'ATHLETIC CLUB', 'APARTMENT', 'PARKING LOT/GARAGE(NON.RESID.)', 'CTA BUS', 'VEHICLE NON-COMMERCIAL', 'SMALL RETAIL STORE', 'RESIDENCE', 'STREET', 'ALLEY', 'STREET', 'OTHER', 'SMALL RETAIL STORE', 'APARTMENT', 'RESIDENCE', 'PARKING LOT/GARAGE(NON.RESID.)', 'STREET', 'OTHER', 'GAS STATION', 'SIDEWALK', 'STREET', 'APARTMENT', 'STREET', 'RESTAURANT', 'GROCERY FOOD STORE', 'PARKING LOT/GARAGE(NON.RESID.)', 'VEHICLE NON-COMMERCIAL', 'PARKING LOT/GARAGE(NON.RESID.)', 'RESIDENCE', 'RESIDENCE', 'RESIDENCE-GARAGE', 'GROCERY FOOD STORE', 'APARTMENT', 'STREET', 'SIDEWALK', 'PARK PROPERTY', 'STREET', 'PARKING LOT/GARAGE(NON.RESID.)', 'AIRCRAFT', 'RESTAURANT', 'CTA TRAIN', 'RESIDENCE', 'RESIDENTIAL YARD (FRONT/BACK)', 'COMMERCIAL / BUSINESS OFFICE', 'STREET', 'SIDEWALK', 'STREET', 'STREET', 'SIDEWALK', 'STREET', 'SIDEWALK', 'RESIDENCE', 'APARTMENT', 'RESIDENCE', 'RESIDENCE', 'DRUG STORE', 'APARTMENT', 'RESIDENCE', 'SPORTS ARENA/STADIUM', 'PARKING LOT/GARAGE(NON.RESID.)', 'RESIDENTIAL YARD (FRONT/BACK)', 'STREET', 'SIDEWALK', 'SIDEWALK', 'SIDEWALK', 'STREET', 'APARTMENT', 'RESIDENCE', 'RESIDENTIAL YARD (FRONT/BACK)', 'RESIDENCE', 'STREET', 'RESIDENCE', 'STREET', 'STREET', 'SIDEWALK', 'RESIDENCE', 'SIDEWALK', 'SIDEWALK', 'STREET', 'STREET', 'APARTMENT', 'RESIDENCE PORCH/HALLWAY', 'STREET', 'RESIDENCE', 'CTA STATION', 'RESTAURANT', 'RESIDENCE', 'STREET', 'CTA STATION', 'RESTAURANT', 'OTHER', 'STREET', 'SIDEWALK', 'SIDEWALK', 'STREET', 'STREET', 'APARTMENT', 'PARKING LOT/GARAGE(NON.RESID.)', 'STREET', 'RESIDENCE', 'GROCERY FOOD STORE', 'STREET', 'OTHER', 'RESIDENCE', 'APARTMENT', 'STREET', 'RESIDENTIAL YARD (FRONT/BACK)', 'SIDEWALK', 'STREET', 'OTHER', 'RESIDENCE', 'BAR OR TAVERN', 'OTHER', 'RESIDENCE', 'RESIDENCE', 'RESIDENCE', 'STREET', 'RESIDENTIAL YARD (FRONT/BACK)', 'RESTAURANT', 'RESIDENCE', 'STREET', 'RESIDENCE', 'RESIDENCE-GARAGE', 'STREET', 'STREET', 'SIDEWALK', 'STREET', 'PARKING LOT/GARAGE(NON.RESID.)', 'ALLEY', 'RESIDENCE', 'APARTMENT', 'ALLEY', 'STREET', 'APARTMENT', 'RESIDENCE', 'RESIDENTIAL YARD (FRONT/BACK)', 'RESIDENCE-GARAGE', 'PARKING LOT/GARAGE(NON.RESID.)', 'STREET', 'STREET', 'RESIDENCE', 'RESIDENCE', 'RESIDENCE', 'DEPARTMENT STORE', 'RESIDENCE', 'OTHER', 'SIDEWALK', 'SIDEWALK', 'RESIDENCE', 'APARTMENT', 'CTA STATION', 'DEPARTMENT STORE', 'APARTMENT', 'STREET', 'RESIDENTIAL YARD (FRONT/BACK)', 'BAR OR TAVERN', 'STREET', 'RESIDENTIAL YARD (FRONT/BACK)', 'SMALL RETAIL STORE', 'RESIDENCE', 'STREET', 'PARKING LOT/GARAGE(NON.RESID.)', 'APARTMENT', 'STREET', 'STREET', 'SIDEWALK', 'SIDEWALK', 'RESIDENCE', 'STREET', 'SCHOOL, PRIVATE, BUILDING', 'SMALL RETAIL STORE', 'PARKING LOT/GARAGE(NON.RESID.)', 'OTHER', 'APARTMENT', 'BAR OR TAVERN', 'STREET', 'RESIDENCE', 'RESIDENCE', 'STREET', 'APARTMENT', 'CHA APARTMENT', 'STREET', 'CTA BUS STOP', 'PARKING LOT/GARAGE(NON.RESID.)', 'SIDEWALK', 'APARTMENT', 'RESIDENCE', 'STREET', 'STREET', 'ALLEY', 'RESIDENCE', 'RESIDENCE', 'ALLEY', 'STREET', 'RESIDENCE', 'SCHOOL, PUBLIC, BUILDING', 'ATM (AUTOMATIC TELLER MACHINE)', 'DEPARTMENT STORE', 'RESIDENCE-GARAGE', 'STREET', 'RESIDENCE', 'RESIDENCE PORCH/HALLWAY', 'GAS STATION', 'APARTMENT', 'APARTMENT', 'RESIDENCE', 'STREET', 'STREET', 'SIDEWALK', 'RESIDENCE', 'STREET', 'STREET', 'PARKING LOT/GARAGE(NON.RESID.)', 'SCHOOL, PUBLIC, GROUNDS', 'RESIDENCE', 'RESIDENCE', 'OTHER', 'STREET', 'STREET', 'STREET', 'APARTMENT', 'VEHICLE NON-COMMERCIAL', 'CONVENIENCE STORE', 'RESIDENCE', 'APARTMENT', 'STREET', 'HOSPITAL BUILDING/GROUNDS', 'RESIDENTIAL YARD (FRONT/BACK)', 'OTHER', 'CHA APARTMENT', 'SIDEWALK', 'SIDEWALK', 'APARTMENT', 'STREET', 'HOSPITAL BUILDING/GROUNDS', 'SIDEWALK', 'RESIDENCE', 'APARTMENT', 'OTHER', 'CONVENIENCE STORE', 'STREET', 'RESTAURANT', 'PARKING LOT/GARAGE(NON.RESID.)', 'GROCERY FOOD STORE', 'STREET', 'STREET', 'RESIDENCE', 'APARTMENT', 'STREET', 'RESIDENCE', 'STREET', 'RESIDENCE', 'STREET', 'OTHER', 'RESIDENTIAL YARD (FRONT/BACK)', 'SMALL RETAIL STORE', 'RESIDENCE', 'GROCERY FOOD STORE', 'RESIDENCE', 'RESIDENCE-GARAGE', 'BAR OR TAVERN', 'PAWN SHOP', 'RESIDENCE', 'PARKING LOT/GARAGE(NON.RESID.)', 'SIDEWALK', 'RESIDENCE', 'ALLEY', 'RESIDENTIAL YARD (FRONT/BACK)', 'PARKING LOT/GARAGE(NON.RESID.)', 'STREET', 'CTA TRAIN', 'RESIDENCE', 'RESIDENCE', 'PARK PROPERTY', 'APARTMENT', 'STREET', 'SCHOOL, PUBLIC, BUILDING', 'GAS STATION', 'SIDEWALK', 'PARKING LOT/GARAGE(NON.RESID.)', 'OTHER', 'RESIDENTIAL YARD (FRONT/BACK)', 'SCHOOL, PUBLIC, GROUNDS', 'VEHICLE NON-COMMERCIAL', 'STREET', 'DEPARTMENT STORE', 'APARTMENT', 'PARKING LOT/GARAGE(NON.RESID.)', 'RESIDENCE', 'RESIDENCE', 'CHA HALLWAY/STAIRWELL/ELEVATOR', 'RESIDENCE PORCH/HALLWAY', 'RESIDENCE', 'STREET', 'RESIDENCE', 'SIDEWALK', 'RESTAURANT', 'RESIDENCE', 'STREET', 'RESTAURANT', 'RESIDENCE', 'STREET', 'SCHOOL, PUBLIC, GROUNDS', 'RESTAURANT', 'SIDEWALK', 'SIDEWALK', 'APARTMENT', 'STREET', 'APARTMENT', 'RESIDENCE', 'ATHLETIC CLUB', 'RESIDENCE', 'SIDEWALK', 'RESTAURANT', 'APARTMENT', 'RESIDENCE', 'RESTAURANT', 'CHURCH/SYNAGOGUE/PLACE OF WORSHIP', 'SIDEWALK', 'OTHER', 'APARTMENT', 'RESIDENCE', 'OTHER', 'OTHER', 'APARTMENT', 'RESIDENCE', 'RESIDENCE', 'STREET', 'APARTMENT', 'RESIDENCE', 'VEHICLE NON-COMMERCIAL', 'STREET', 'SIDEWALK', 'APARTMENT', 'STREET', 'RESTAURANT', 'RESIDENCE', 'STREET', 'APARTMENT', 'STREET', 'DRUG STORE', 'ALLEY', 'STREET', 'GAS STATION', 'RESIDENCE', 'STREET', 'APARTMENT', 'STREET', 'SIDEWALK', 'SMALL RETAIL STORE', 'APARTMENT', 'OTHER', 'RESIDENCE', 'APARTMENT', 'RESIDENTIAL YARD (FRONT/BACK)', 'APARTMENT', 'RESIDENCE-GARAGE', 'RESIDENCE', 'STREET', 'APARTMENT', 'CONVENIENCE STORE', 'STREET', 'RESIDENCE', 'RESIDENCE', 'AIRPORT TERMINAL UPPER LEVEL - SECURE AREA', 'SIDEWALK', 'GAS STATION', 'RESIDENCE', 'RESIDENCE', 'APARTMENT', 'APARTMENT', 'RESIDENCE', 'SMALL RETAIL STORE', 'COMMERCIAL / BUSINESS OFFICE', 'APARTMENT', 'PARKING LOT/GARAGE(NON.RESID.)', 'RESIDENCE', 'DEPARTMENT STORE', 'RESIDENCE', 'BOAT/WATERCRAFT', 'GAS STATION', 'APARTMENT', 'SCHOOL, PUBLIC, BUILDING', 'ALLEY', 'STREET', 'RESIDENCE', 'RESIDENCE-GARAGE', 'RESIDENTIAL YARD (FRONT/BACK)', 'CHURCH/SYNAGOGUE/PLACE OF WORSHIP', 'STREET', 'STREET', 'RESIDENCE', 'STREET', 'RESIDENCE', 'SCHOOL, PUBLIC, GROUNDS', 'PARK PROPERTY', 'RESIDENCE', 'APARTMENT', 'ABANDONED BUILDING', 'SMALL RETAIL STORE', 'VEHICLE NON-COMMERCIAL', 'GROCERY FOOD STORE', 'VEHICLE NON-COMMERCIAL', 'STREET', 'STREET', 'RESIDENCE', 'RESIDENCE', 'OTHER', 'RESIDENCE', 'APARTMENT', 'STREET', 'RESIDENCE-GARAGE', 'APARTMENT', 'ALLEY', 'APARTMENT', 'SIDEWALK', 'PARK PROPERTY', 'MEDICAL/DENTAL OFFICE', 'APARTMENT', 'RESIDENCE', 'OTHER', 'SIDEWALK', 'SMALL RETAIL STORE', 'APARTMENT', 'SCHOOL, PUBLIC, BUILDING', 'SIDEWALK', 'SIDEWALK', 'APARTMENT', 'RESIDENCE', 'APARTMENT', 'RESIDENCE PORCH/HALLWAY', 'STREET', 'STREET', 'STREET', 'DEPARTMENT STORE', 'STREET', 'CTA TRAIN', 'STREET', 'APARTMENT', 'APARTMENT', 'RESIDENCE', 'OTHER', 'COMMERCIAL / BUSINESS OFFICE', 'STREET', 'OTHER', 'PARKING LOT/GARAGE(NON.RESID.)', 'APARTMENT', 'STREET', 'OTHER', 'SIDEWALK', 'SMALL RETAIL STORE', 'APARTMENT', 'RESIDENCE', 'GROCERY FOOD STORE', 'RESIDENCE-GARAGE', 'TAXICAB', 'BAR OR TAVERN', 'STREET', 'RESIDENCE', 'STREET', 'RESIDENCE', 'RESIDENCE', 'STREET', 'SIDEWALK', 'STREET', 'DEPARTMENT STORE', 'OTHER', 'APARTMENT', 'SMALL RETAIL STORE', 'STREET', 'SIDEWALK', 'APARTMENT', 'PARKING LOT/GARAGE(NON.RESID.)', 'STREET', 'OTHER', 'RESIDENCE', 'RESIDENCE', 'POLICE FACILITY/VEH PARKING LOT', 'APARTMENT', 'SCHOOL, PUBLIC, GROUNDS', 'RESIDENCE', 'RESIDENCE', 'CTA TRAIN', 'DEPARTMENT STORE', 'STREET', 'ALLEY', 'STREET', 'CTA GARAGE / OTHER PROPERTY', 'HOTEL/MOTEL', 'APARTMENT', 'APARTMENT', 'PARKING LOT/GARAGE(NON.RESID.)', 'APARTMENT', 'OTHER', 'STREET', 'RESIDENTIAL YARD (FRONT/BACK)', 'RESIDENCE', 'STREET', 'STREET', 'RESIDENCE', 'STREET', 'STREET', 'RESIDENCE', 'APARTMENT', 'BANK', 'DEPARTMENT STORE', 'AIRPORT TRANSPORTATION SYSTEM (ATS)', 'RESIDENCE', 'RESIDENCE', 'SIDEWALK', 'CTA PLATFORM', 'ALLEY', 'SCHOOL, PUBLIC, BUILDING', 'GAS STATION', 'RESIDENCE', 'RESIDENCE', 'APARTMENT', 'SIDEWALK', 'RESIDENCE', 'GAS STATION', 'MEDICAL/DENTAL OFFICE', 'OTHER', 'SIDEWALK', 'RESIDENTIAL YARD (FRONT/BACK)', 'SIDEWALK', 'RESIDENCE', 'SCHOOL, PUBLIC, BUILDING', 'STREET', 'RESIDENCE', 'RESIDENCE-GARAGE', 'STREET', 'RESIDENCE-GARAGE', 'APARTMENT', 'STREET', 'OTHER', 'RESIDENCE PORCH/HALLWAY', 'RESTAURANT', 'STREET', 'RESIDENCE', 'SIDEWALK', 'RESIDENCE', 'VACANT LOT/LAND', 'RESIDENCE', 'GAS STATION', 'STREET', 'STREET', 'DRIVEWAY - RESIDENTIAL', 'APARTMENT', 'SIDEWALK', 'CTA PLATFORM', 'APARTMENT', 'SIDEWALK', 'JAIL / LOCK-UP FACILITY', 'STREET', 'RESTAURANT', 'RESIDENCE PORCH/HALLWAY', 'RESIDENCE', 'OTHER', 'RESIDENCE', 'STREET', 'STREET', 'STREET', 'RESIDENCE', 'PARKING LOT/GARAGE(NON.RESID.)', 'STREET', 'APARTMENT', 'STREET', 'APARTMENT', 'HOSPITAL BUILDING/GROUNDS', 'RESIDENCE', 'RESIDENTIAL YARD (FRONT/BACK)', 'STREET', 'STREET', 'BANK', 'RESIDENCE', 'APARTMENT', 'GAS STATION', 'STREET', 'RESIDENCE PORCH/HALLWAY', 'RESIDENTIAL YARD (FRONT/BACK)', 'STREET', 'CHA HALLWAY/STAIRWELL/ELEVATOR', 'ALLEY', 'STREET', 'STREET', 'HOSPITAL BUILDING/GROUNDS', 'RESIDENCE', 'STREET', 'STREET', 'STREET', 'GAS STATION', 'RESIDENCE', 'STREET', 'RESIDENTIAL YARD (FRONT/BACK)', 'OTHER RAILROAD PROP / TRAIN DEPOT', 'SIDEWALK', 'ALLEY', 'RESIDENCE-GARAGE', 'SMALL RETAIL STORE', 'RESIDENCE', 'OTHER', 'PARKING LOT/GARAGE(NON.RESID.)', 'RESIDENCE PORCH/HALLWAY', 'PARKING LOT/GARAGE(NON.RESID.)', 'APARTMENT', 'APARTMENT', 'STREET', 'RESIDENCE', 'CTA BUS STOP', 'RESIDENTIAL YARD (FRONT/BACK)', 'CHURCH/SYNAGOGUE/PLACE OF WORSHIP', 'SIDEWALK', 'STREET', 'STREET', 'SIDEWALK', 'RESIDENCE', 'RESIDENCE', 'STREET', 'VEHICLE NON-COMMERCIAL', 'ALLEY', 'STREET', 'DRIVEWAY - RESIDENTIAL', 'SMALL RETAIL STORE', 'RESIDENTIAL YARD (FRONT/BACK)', 'STREET', 'STREET', 'STREET', 'RESIDENCE', 'SIDEWALK', 'CONVENIENCE STORE', 'STREET', 'STREET', 'STREET', 'RESIDENCE', 'ATM (AUTOMATIC TELLER MACHINE)', 'STREET', 'SIDEWALK', 'RESIDENCE', 'STREET', 'GROCERY FOOD STORE', 'RESIDENCE', 'STREET', 'SIDEWALK', 'SIDEWALK', 'RESIDENCE-GARAGE', 'RESIDENCE', 'OTHER', 'RESIDENCE', 'RESIDENCE', 'DEPARTMENT STORE', 'SIDEWALK', 'ALLEY', 'STREET', 'SPORTS ARENA/STADIUM', 'STREET', 'PARKING LOT/GARAGE(NON.RESID.)', 'STREET', '', 'APARTMENT', 'OTHER', 'STREET', 'STREET', 'RESIDENCE', 'RESIDENCE', 'APARTMENT', 'STREET', 'ATM (AUTOMATIC TELLER MACHINE)', 'RESIDENTIAL YARD (FRONT/BACK)', 'DEPARTMENT STORE', 'SCHOOL, PUBLIC, BUILDING', 'DEPARTMENT STORE', 'STREET', 'APARTMENT', 'SCHOOL, PUBLIC, BUILDING', 'OTHER', 'RESIDENCE', 'APARTMENT', 'SCHOOL, PUBLIC, BUILDING', 'RESIDENCE', 'CTA TRAIN', 'RESIDENCE', 'RESIDENCE', 'PARKING LOT/GARAGE(NON.RESID.)', 'STREET', 'ALLEY', 'RESIDENCE', 'SIDEWALK', 'RESIDENCE PORCH/HALLWAY', 'STREET', 'STREET', 'SMALL RETAIL STORE', 'STREET', 'OTHER', 'DEPARTMENT STORE', 'STREET', 'RESIDENCE-GARAGE', 'NURSING HOME/RETIREMENT HOME', 'CTA TRAIN', 'APARTMENT', 'APARTMENT', 'GAS STATION', 'SMALL RETAIL STORE', 'APARTMENT', 'STREET', 'ALLEY', 'PARKING LOT/GARAGE(NON.RESID.)', 'RESIDENCE', 'OTHER', 'CTA TRAIN', 'RESIDENTIAL YARD (FRONT/BACK)', 'RESIDENCE', 'CONVENIENCE STORE', 'STREET', 'RESIDENCE', 'GROCERY FOOD STORE', 'GAS STATION', 'RESIDENCE', 'STREET', 'OTHER', 'APARTMENT', 'APARTMENT', 'ALLEY', 'SIDEWALK', 'CHA APARTMENT', 'APARTMENT', 'ATM (AUTOMATIC TELLER MACHINE)', 'AIRPORT TERMINAL LOWER LEVEL - NON-SECURE AREA', 'BAR OR TAVERN', 'RESIDENCE', 'APARTMENT', 'PARKING LOT/GARAGE(NON.RESID.)', 'STREET', 'RESIDENCE', 'RESIDENCE', 'ALLEY', 'SMALL RETAIL STORE', 'OTHER', 'RESIDENCE', 'RESIDENCE', 'RESIDENCE', 'RESIDENCE-GARAGE', 'STREET', 'STREET', 'RESIDENCE', 'SCHOOL, PUBLIC, BUILDING', 'APARTMENT', 'SIDEWALK', 'RESIDENCE', 'RESIDENTIAL YARD (FRONT/BACK)', 'STREET', 'OTHER', 'OTHER', 'STREET', 'RESTAURANT', 'CONVENIENCE STORE', 'STREET', 'RESIDENCE', 'RESIDENCE', 'RESIDENCE-GARAGE', 'RESIDENCE', 'RESIDENCE', 'CTA TRAIN', 'OTHER', 'APARTMENT', 'APARTMENT', 'VEHICLE NON-COMMERCIAL', 'SCHOOL, PUBLIC, BUILDING', 'STREET', 'APARTMENT', 'RESIDENTIAL YARD (FRONT/BACK)', 'RESIDENCE-GARAGE', 'STREET', 'DEPARTMENT STORE', 'CTA TRAIN', 'RESIDENCE', 'SIDEWALK', 'RESIDENCE', '', 'STREET', 'HOSPITAL BUILDING/GROUNDS', 'STREET', 'RESIDENCE', 'DRIVEWAY - RESIDENTIAL', 'CHA PARKING LOT/GROUNDS', 'OTHER', 'CTA BUS STOP', 'RESIDENTIAL YARD (FRONT/BACK)', 'RESIDENCE', 'CONSTRUCTION SITE', 'RESIDENCE', 'STREET', 'STREET', 'STREET', 'OTHER', 'RESTAURANT', 'APARTMENT', 'APARTMENT', 'RESIDENCE', 'RESIDENCE', 'COLLEGE/UNIVERSITY RESIDENCE HALL', 'APARTMENT', 'SIDEWALK', 'SIDEWALK', 'APARTMENT', 'RESIDENCE PORCH/HALLWAY', 'PARKING LOT/GARAGE(NON.RESID.)', 'STREET', 'CONSTRUCTION SITE', 'OTHER', 'STREET', 'DEPARTMENT STORE', 'STREET', 'OTHER', 'PARKING LOT/GARAGE(NON.RESID.)', 'STREET', 'SIDEWALK', 'APARTMENT', 'APARTMENT', 'APARTMENT', 'RESIDENCE', 'RESIDENTIAL YARD (FRONT/BACK)', 'STREET', 'RESTAURANT', 'STREET', 'STREET', 'GAS STATION', 'CTA TRAIN', 'APARTMENT', 'SIDEWALK', 'RESIDENCE', 'SMALL RETAIL STORE', 'APARTMENT', 'RESIDENCE', 'RESIDENCE', 'RESIDENTIAL YARD (FRONT/BACK)', 'PARKING LOT/GARAGE(NON.RESID.)', 'RESIDENCE PORCH/HALLWAY', 'APARTMENT', 'APARTMENT', 'STREET', 'CTA TRACKS - RIGHT OF WAY', 'SCHOOL, PRIVATE, BUILDING', 'STREET', 'ATM (AUTOMATIC TELLER MACHINE)', 'RESIDENCE', 'OTHER', 'COMMERCIAL / BUSINESS OFFICE', 'OTHER', 'RESIDENCE', 'SMALL RETAIL STORE', 'PARKING LOT/GARAGE(NON.RESID.)', 'OTHER', 'STREET', 'APARTMENT', 'RESIDENCE', 'APARTMENT', 'STREET', 'STREET', 'HOSPITAL BUILDING/GROUNDS', 'STREET', 'GROCERY FOOD STORE', 'GAS STATION', 'OTHER', 'APARTMENT', 'STREET', 'OTHER', 'STREET', 'PAWN SHOP', 'RESIDENCE PORCH/HALLWAY', 'STREET', 'SIDEWALK', 'OTHER', 'RESIDENCE-GARAGE', 'STREET', 'DRIVEWAY - RESIDENTIAL', 'VEHICLE NON-COMMERCIAL', 'APARTMENT', 'RESIDENCE', 'STREET', 'STREET', 'SIDEWALK', 'APARTMENT', 'APARTMENT', 'BARBERSHOP', 'STREET', 'STREET', 'RESIDENCE', 'OTHER', 'SIDEWALK', 'OTHER', 'RESTAURANT', 'STREET', 'OTHER', 'RESIDENCE', 'STREET', 'CHURCH/SYNAGOGUE/PLACE OF WORSHIP', 'RESIDENCE', 'APARTMENT', 'RESIDENCE', 'COMMERCIAL / BUSINESS OFFICE', 'SIDEWALK', 'STREET', 'APARTMENT', 'APARTMENT', 'COMMERCIAL / BUSINESS OFFICE', 'STREET', 'BAR OR TAVERN', 'RESIDENCE', 'STREET', 'STREET', 'RESIDENCE', 'STREET', 'CTA TRAIN', 'OTHER', 'ANIMAL HOSPITAL', 'STREET', 'RESIDENCE', 'STREET', 'APARTMENT', 'BAR OR TAVERN', 'RESIDENTIAL YARD (FRONT/BACK)', 'STREET', 'PARKING LOT/GARAGE(NON.RESID.)', 'STREET', 'GROCERY FOOD STORE', 'STREET', 'APARTMENT', 'RESIDENCE', 'SIDEWALK', 'STREET', 'STREET', 'STREET', 'SIDEWALK', 'APARTMENT', 'OTHER', 'PARK PROPERTY', 'APARTMENT', 'STREET', 'SIDEWALK', 'RESIDENCE', 'APARTMENT', 'SIDEWALK', 'STREET', 'RESIDENCE', 'RESIDENCE', 'RESIDENTIAL YARD (FRONT/BACK)', 'SIDEWALK', 'CTA PLATFORM', 'STREET', 'STREET', 'RESIDENCE', 'STREET', 'RESIDENCE', 'RESIDENCE-GARAGE', 'SMALL RETAIL STORE', 'RESIDENCE', 'STREET', 'SIDEWALK', 'STREET', 'SMALL RETAIL STORE', 'OTHER', 'APARTMENT', 'RESIDENTIAL YARD (FRONT/BACK)', 'APARTMENT', 'GAS STATION', 'BANK', 'ALLEY', 'RESIDENCE', 'HOTEL/MOTEL', 'GAS STATION', 'STREET', 'RESIDENCE', 'STREET', 'OTHER', 'SIDEWALK', 'SIDEWALK', 'STREET', 'COMMERCIAL / BUSINESS OFFICE', 'RESIDENCE', 'GAS STATION', 'GAS STATION', 'STREET', '', 'GROCERY FOOD STORE', 'OTHER', 'SIDEWALK', 'CTA TRACKS - RIGHT OF WAY', 'SIDEWALK', 'STREET', 'CHURCH/SYNAGOGUE/PLACE OF WORSHIP', 'STREET', 'CONVENIENCE STORE', 'STREET', 'APARTMENT', 'SIDEWALK', 'APARTMENT', 'RESIDENCE', 'STREET', 'SIDEWALK', 'STREET', 'VEHICLE NON-COMMERCIAL', 'STREET', 'STREET', 'ATHLETIC CLUB', 'STREET', 'SMALL RETAIL STORE', 'RESIDENCE-GARAGE', 'RESTAURANT', 'SCHOOL, PRIVATE, BUILDING', 'RESTAURANT', 'RESIDENCE', 'STREET', 'POLICE FACILITY/VEH PARKING LOT', 'OTHER', 'SIDEWALK', 'ALLEY', 'SIDEWALK', 'RESIDENCE', 'PARKING LOT/GARAGE(NON.RESID.)', 'RESIDENCE', 'GAS STATION', 'VEHICLE NON-COMMERCIAL', 'RESIDENCE', 'RESIDENCE', 'CTA GARAGE / OTHER PROPERTY', 'SMALL RETAIL STORE', 'STREET', 'SMALL RETAIL STORE', 'STREET', 'STREET', 'SIDEWALK', 'PARKING LOT/GARAGE(NON.RESID.)', 'RESIDENCE-GARAGE', 'SIDEWALK', 'STREET', 'SIDEWALK', 'SCHOOL, PUBLIC, BUILDING', 'RESIDENCE', 'PARK PROPERTY', 'RESIDENCE', 'RESIDENCE', 'RESIDENCE', 'RESIDENCE', 'DEPARTMENT STORE', 'RESIDENCE', 'NURSING HOME/RETIREMENT HOME', 'APARTMENT', 'CHA APARTMENT', 'RESIDENCE', 'ALLEY', 'OTHER RAILROAD PROP / TRAIN DEPOT', 'GAS STATION', 'ALLEY', 'CONVENIENCE STORE', 'SIDEWALK', 'STREET', 'STREET', 'OTHER', 'OTHER', 'RESIDENTIAL YARD (FRONT/BACK)', 'RESIDENCE', 'PARKING LOT/GARAGE(NON.RESID.)', 'STREET', 'SIDEWALK', 'RESIDENCE', 'CHURCH/SYNAGOGUE/PLACE OF WORSHIP', 'STREET', 'SIDEWALK', 'SMALL RETAIL STORE', 'STREET', 'GROCERY FOOD STORE', 'SMALL RETAIL STORE', 'PARKING LOT/GARAGE(NON.RESID.)', 'APARTMENT', 'SIDEWALK', 'RESIDENCE', 'SMALL RETAIL STORE', 'PARKING LOT/GARAGE(NON.RESID.)', 'RESIDENCE PORCH/HALLWAY', 'SIDEWALK', 'STREET', 'STREET', 'STREET', 'RESTAURANT', 'GOVERNMENT BUILDING/PROPERTY', 'CHA APARTMENT', 'RESIDENTIAL YARD (FRONT/BACK)', 'OTHER', 'DEPARTMENT STORE', 'RESIDENCE', 'STREET'], 12: ['APARTMENT', 'STREET', 'RESIDENCE', 'CONSTRUCTION SITE', 'APARTMENT', 'STREET', 'VEHICLE NON-COMMERCIAL', 'STREET', 'APARTMENT', 'STREET', 'OTHER', 'SMALL RETAIL STORE', 'VEHICLE NON-COMMERCIAL', 'APARTMENT', 'SMALL RETAIL STORE', 'STREET', 'OTHER', 'DEPARTMENT STORE', 'APARTMENT', 'RESIDENCE', 'RESIDENCE', 'STREET', 'PARKING LOT/GARAGE(NON.RESID.)', 'RESIDENCE', 'APARTMENT', 'DEPARTMENT STORE', 'APARTMENT', 'STREET', 'CHURCH/SYNAGOGUE/PLACE OF WORSHIP', 'SIDEWALK', 'STREET', 'APARTMENT', 'SIDEWALK', 'CHURCH/SYNAGOGUE/PLACE OF WORSHIP', 'APARTMENT', 'CTA PLATFORM', 'CONVENIENCE STORE', 'GROCERY FOOD STORE', 'DEPARTMENT STORE', 'RESIDENCE PORCH/HALLWAY', 'RESIDENCE', 'SCHOOL, PUBLIC, BUILDING', 'STREET', 'SCHOOL, PUBLIC, BUILDING', 'RESIDENCE', 'CONVENIENCE STORE', 'STREET', 'RESIDENCE PORCH/HALLWAY', 'RESIDENCE', 'STREET', 'STREET', 'RESTAURANT', 'OTHER', 'RESIDENCE-GARAGE', 'CTA PLATFORM', 'STREET', 'BAR OR TAVERN', 'RESIDENCE', 'STREET', 'STREET', 'SIDEWALK', 'RESIDENCE', 'APARTMENT', 'STREET', 'RESIDENTIAL YARD (FRONT/BACK)', 'BANK', 'COMMERCIAL / BUSINESS OFFICE', 'SCHOOL, PUBLIC, BUILDING', 'STREET', 'GAS STATION', 'STREET', 'APARTMENT', 'STREET', 'ALLEY', 'RESIDENCE PORCH/HALLWAY', 'RESIDENCE', 'APARTMENT', 'HOUSE', 'OTHER', 'RESIDENCE PORCH/HALLWAY', 'PARKING LOT/GARAGE(NON.RESID.)', 'DEPARTMENT STORE', 'CONVENIENCE STORE', 'RESIDENCE', 'STREET', 'VEHICLE NON-COMMERCIAL', 'SIDEWALK', 'RESTAURANT', 'RESIDENCE', 'APARTMENT', 'SMALL RETAIL STORE', 'SMALL RETAIL STORE', 'STREET', 'CTA BUS', 'STREET', 'RESTAURANT', 'APARTMENT', 'APARTMENT', 'OTHER', 'STREET', 'APARTMENT', 'OTHER', 'APARTMENT', 'APARTMENT', 'APARTMENT', 'ABANDONED BUILDING', 'STREET', 'APARTMENT', 'STREET', 'SMALL RETAIL STORE', 'RESTAURANT', 'STREET', 'STREET', 'APARTMENT', 'DEPARTMENT STORE', 'STREET', 'RESIDENCE', 'STREET', 'GAS STATION', 'STREET', 'OTHER', 'RESIDENCE', 'OTHER', 'SCHOOL, PUBLIC, BUILDING', 'DEPARTMENT STORE', 'STREET', 'DEPARTMENT STORE', 'RESIDENCE PORCH/HALLWAY', 'RESIDENCE PORCH/HALLWAY', 'RESIDENTIAL YARD (FRONT/BACK)', 'DRIVEWAY - RESIDENTIAL', 'OTHER', 'SCHOOL, PUBLIC, BUILDING', 'VEHICLE NON-COMMERCIAL', 'APARTMENT', 'PARKING LOT/GARAGE(NON.RESID.)', 'STREET', 'STREET', 'STREET', 'SCHOOL, PUBLIC, BUILDING', 'PARKING LOT/GARAGE(NON.RESID.)', 'VEHICLE NON-COMMERCIAL', 'STREET', 'RESIDENTIAL YARD (FRONT/BACK)', 'CTA PLATFORM', 'APARTMENT', 'PARKING LOT/GARAGE(NON.RESID.)', 'RESIDENCE', 'DEPARTMENT STORE', 'STREET', 'ALLEY', 'ATM (AUTOMATIC TELLER MACHINE)', 'STREET', 'RESIDENCE', 'SMALL RETAIL STORE', 'OTHER', 'APARTMENT', 'RESTAURANT', 'STREET', 'ALLEY', 'PARKING LOT/GARAGE(NON.RESID.)', '', 'RESIDENCE', 'STREET', 'STREET', 'DEPARTMENT STORE', 'GROCERY FOOD STORE', 'GROCERY FOOD STORE', 'STREET', 'SMALL RETAIL STORE', 'OTHER', 'STREET', 'CHA APARTMENT', 'GOVERNMENT BUILDING/PROPERTY', 'APARTMENT', 'STREET', 'APARTMENT', 'APARTMENT', 'ALLEY', 'OTHER', 'COMMERCIAL / BUSINESS OFFICE', 'SIDEWALK', 'STREET', 'STREET', 'APARTMENT', 'APARTMENT', 'RESTAURANT', 'DEPARTMENT STORE', 'RESIDENCE', 'STREET', 'GROCERY FOOD STORE', 'RESIDENCE', 'STREET', 'CTA TRAIN', 'APARTMENT', 'RESTAURANT', 'SIDEWALK', 'POLICE FACILITY/VEH PARKING LOT', 'STREET', 'RESIDENCE', 'APARTMENT', 'RESIDENCE-GARAGE', 'STREET', 'OTHER', 'RESIDENCE', 'STREET', 'STREET', 'GAS STATION', 'APARTMENT', 'STREET', 'RESIDENCE', 'STREET', 'RESIDENCE', 'VEHICLE - OTHER RIDE SERVICE', 'RESIDENTIAL YARD (FRONT/BACK)', 'RESIDENCE', 'RESIDENCE', 'STREET', 'APPLIANCE STORE', 'SIDEWALK', 'HOTEL/MOTEL', 'RESIDENCE', 'RESIDENCE', 'APARTMENT', 'RESIDENCE', 'APARTMENT', 'ALLEY', 'GAS STATION', 'STREET', 'STREET', 'RESIDENTIAL YARD (FRONT/BACK)', 'RESIDENCE', 'RESIDENCE', 'STREET', 'OTHER', 'RESIDENCE', 'APARTMENT', 'ALLEY', 'APARTMENT', 'PARKING LOT/GARAGE(NON.RESID.)', 'STREET', 'ALLEY', 'RESIDENCE', 'VEHICLE NON-COMMERCIAL', 'SIDEWALK', 'RESIDENCE', 'STREET', 'STREET', 'APARTMENT', 'RESIDENCE', 'RESTAURANT', 'GROCERY FOOD STORE', 'STREET', 'RESIDENCE', 'APARTMENT', 'APARTMENT', 'SMALL RETAIL STORE', 'RESIDENCE', 'RESIDENCE', 'STREET', 'STREET', 'HOTEL/MOTEL', 'STREET', 'PARKING LOT/GARAGE(NON.RESID.)', 'OTHER', 'RESIDENTIAL YARD (FRONT/BACK)', 'CLEANING STORE', 'STREET', 'PARKING LOT/GARAGE(NON.RESID.)', 'PARKING LOT/GARAGE(NON.RESID.)', 'COMMERCIAL / BUSINESS OFFICE', 'STREET', 'SIDEWALK', 'APARTMENT', 'APARTMENT', 'STREET', 'RESIDENCE', 'STREET', 'SIDEWALK', 'RESIDENCE', 'RESIDENCE', 'STREET', 'DEPARTMENT STORE', 'STREET', 'SIDEWALK', 'RESIDENTIAL YARD (FRONT/BACK)', 'STREET', 'GROCERY FOOD STORE', 'PARKING LOT/GARAGE(NON.RESID.)', 'RESTAURANT', 'CONVENIENCE STORE', 'RESIDENCE', 'BAR OR TAVERN', 'STREET', 'DEPARTMENT STORE', 'SIDEWALK', 'ALLEY', 'STREET', 'STREET', 'SIDEWALK', 'SMALL RETAIL STORE', 'APARTMENT', 'RESIDENCE-GARAGE', 'STREET', 'SMALL RETAIL STORE', 'SIDEWALK', 'ALLEY', 'RESIDENCE', 'RESTAURANT', 'RESIDENCE', 'RESIDENCE', 'BARBERSHOP', 'SMALL RETAIL STORE', 'RESIDENCE', 'STREET', 'SIDEWALK', 'RESIDENCE', 'WAREHOUSE', 'STREET', 'APARTMENT', 'RESTAURANT', 'RESIDENCE', 'STREET', 'RESIDENCE-GARAGE', 'PARKING LOT/GARAGE(NON.RESID.)', 'RESIDENTIAL YARD (FRONT/BACK)', 'DEPARTMENT STORE', 'RESIDENCE', 'STREET', 'WAREHOUSE', 'CTA TRAIN', 'PARKING LOT/GARAGE(NON.RESID.)', 'STREET', 'PARKING LOT/GARAGE(NON.RESID.)', 'APARTMENT', 'RESTAURANT', 'SIDEWALK', 'OTHER', 'HOSPITAL BUILDING/GROUNDS', 'RESIDENCE', 'STREET', 'RESIDENCE', 'PARKING LOT/GARAGE(NON.RESID.)', 'OTHER', 'STREET', 'STREET', 'STREET', 'RESIDENCE', 'VACANT LOT/LAND', 'RESIDENCE', 'RESIDENCE', 'SCHOOL, PUBLIC, BUILDING', 'STREET', 'STREET', 'RESIDENCE', 'RESTAURANT', 'APARTMENT', 'RESIDENCE', 'RESIDENCE', 'APARTMENT', 'STREET', 'HOSPITAL BUILDING/GROUNDS', 'STREET', 'GAS STATION', 'DEPARTMENT STORE', 'RESIDENCE-GARAGE', 'STREET', 'APARTMENT', 'RESIDENCE', 'STREET', 'GAS STATION', 'SIDEWALK', 'WAREHOUSE', 'RESIDENCE', 'STREET', 'STREET', 'DEPARTMENT STORE', 'RESIDENCE', 'RESIDENCE-GARAGE', 'RESIDENCE', 'DRIVEWAY - RESIDENTIAL', 'PARKING LOT/GARAGE(NON.RESID.)', 'STREET', 'APARTMENT', 'OTHER', 'PARK PROPERTY', 'STREET', 'APARTMENT', 'OTHER', '', 'SIDEWALK', 'APARTMENT', 'APARTMENT', 'RESIDENTIAL YARD (FRONT/BACK)', 'RESIDENCE', 'STREET', 'RESIDENCE', 'STREET', 'APARTMENT', 'CTA BUS STOP', 'RESIDENCE', 'OTHER', 'STREET', 'RESIDENCE', 'STREET', 'STREET', 'STREET', 'RESIDENCE', 'RESIDENCE PORCH/HALLWAY', 'COMMERCIAL / BUSINESS OFFICE', 'RESIDENCE', 'SCHOOL, PUBLIC, GROUNDS', 'STREET', 'RESIDENTIAL YARD (FRONT/BACK)', 'PARKING LOT/GARAGE(NON.RESID.)', 'SMALL RETAIL STORE', 'RESTAURANT', 'RESIDENCE', 'APARTMENT', 'RESIDENCE PORCH/HALLWAY', 'SCHOOL, PUBLIC, BUILDING', 'OTHER', 'APARTMENT', 'RESIDENCE', 'RESIDENCE', 'RESIDENCE', 'ATHLETIC CLUB', 'SCHOOL, PUBLIC, BUILDING', 'APARTMENT', 'RESTAURANT', 'APARTMENT', 'RESIDENCE PORCH/HALLWAY', 'APARTMENT', 'RESIDENCE', 'STREET', 'STREET', 'RESIDENCE PORCH/HALLWAY', 'APARTMENT', 'RESIDENCE', 'STREET', 'APARTMENT', 'CHA APARTMENT', 'OTHER', 'SMALL RETAIL STORE', 'STREET', 'BANK', 'RESIDENCE', 'RESIDENCE', 'STREET', 'RESIDENCE', 'SCHOOL, PUBLIC, BUILDING', 'RESIDENCE', 'TAXICAB', 'SIDEWALK', 'APARTMENT', 'CURRENCY EXCHANGE', 'OTHER', 'ATHLETIC CLUB', 'RESIDENCE', 'RESIDENCE', 'CAR WASH', 'RESIDENCE', 'APARTMENT', 'SCHOOL, PUBLIC, BUILDING', 'PARK PROPERTY', 'RESIDENCE', 'STREET', 'STREET', 'STREET', 'STREET', 'OFFICE', 'RESIDENCE', 'DEPARTMENT STORE', 'COMMERCIAL / BUSINESS OFFICE', 'APARTMENT', 'STREET', 'RESIDENCE', 'STREET', 'STREET', 'APARTMENT', 'STREET', 'STREET', 'SIDEWALK', 'SMALL RETAIL STORE', 'STREET', 'OTHER', 'STREET', 'GAS STATION', 'APARTMENT', 'RESIDENCE', 'SIDEWALK', 'SIDEWALK', 'FIRE STATION', 'STREET', 'STREET', 'OTHER', 'VEHICLE NON-COMMERCIAL', 'SIDEWALK', 'APARTMENT', 'STREET', 'SIDEWALK', 'CONVENIENCE STORE', 'RESIDENCE', 'STREET', 'STREET', 'VEHICLE NON-COMMERCIAL', 'APARTMENT', 'STREET', 'APARTMENT', 'RESIDENCE', 'OTHER', 'APARTMENT', 'VEHICLE NON-COMMERCIAL', 'STREET', 'RESTAURANT', 'GROCERY FOOD STORE', 'APARTMENT', 'STREET', 'RESIDENCE', 'POLICE FACILITY/VEH PARKING LOT', 'OTHER', 'APARTMENT', 'RESIDENCE', 'CLEANING STORE', 'OTHER', 'AIRPORT TERMINAL UPPER LEVEL - SECURE AREA', 'RESTAURANT', 'BAR OR TAVERN', 'RESIDENCE', 'SCHOOL, PUBLIC, BUILDING', 'SMALL RETAIL STORE', 'CTA TRAIN', 'CONVENIENCE STORE', 'BAR OR TAVERN', 'RESIDENCE', 'RESIDENCE', 'VEHICLE NON-COMMERCIAL', 'SIDEWALK', 'STREET', 'STREET', 'RESIDENCE', 'APARTMENT', 'RESIDENCE', 'STREET', 'STREET', 'STREET', 'SIDEWALK', 'ALLEY', 'RESIDENTIAL YARD (FRONT/BACK)', 'GROCERY FOOD STORE', 'SMALL RETAIL STORE', 'RESTAURANT', 'RESIDENCE', 'VACANT LOT/LAND', 'STREET', 'APARTMENT', 'STREET', 'APARTMENT', 'APARTMENT', 'RESTAURANT', 'APARTMENT', 'CTA TRAIN', 'AIRPORT TERMINAL UPPER LEVEL - SECURE AREA', 'RESIDENCE', 'APARTMENT', 'BAR OR TAVERN', 'RESIDENCE', 'RESIDENCE PORCH/HALLWAY', 'OTHER', 'GROCERY FOOD STORE', 'GAS STATION', 'RESIDENCE', 'STREET', 'TAXICAB', 'SIDEWALK', 'STREET', 'APARTMENT', 'SIDEWALK', 'OTHER', 'RESIDENCE', 'APARTMENT', 'STREET', 'RESIDENCE-GARAGE', 'APARTMENT', 'STREET', 'RESIDENCE', 'APARTMENT', 'APARTMENT', 'RESIDENCE', 'APARTMENT', 'STREET', 'RESTAURANT', 'STREET', 'APARTMENT', 'SMALL RETAIL STORE', 'APARTMENT', 'STREET', 'RESIDENCE', 'RESIDENCE', 'STREET', 'SCHOOL, PUBLIC, BUILDING', 'ATM (AUTOMATIC TELLER MACHINE)', 'APARTMENT', 'HOTEL/MOTEL', 'SCHOOL, PRIVATE, BUILDING', 'APARTMENT', 'CHURCH/SYNAGOGUE/PLACE OF WORSHIP', 'RESIDENCE PORCH/HALLWAY', 'APARTMENT', 'FIRE STATION', 'VEHICLE NON-COMMERCIAL', 'SIDEWALK', '', 'SIDEWALK', 'STREET', 'STREET', 'RESIDENCE', 'RESIDENCE', 'SMALL RETAIL STORE', 'RESIDENCE', 'STREET', 'RESIDENCE PORCH/HALLWAY', 'ALLEY', 'APARTMENT', 'RESTAURANT', 'STREET', 'RESIDENCE', 'APARTMENT', 'CTA BUS', 'RESIDENCE', 'STREET', 'APARTMENT', 'RESIDENCE', 'RESTAURANT', 'RESIDENCE', 'RESTAURANT', 'TAVERN/LIQUOR STORE', 'STREET', 'SIDEWALK', 'RESTAURANT', 'STREET', 'CTA BUS', 'STREET', 'RESIDENCE', 'RESIDENCE-GARAGE', 'SCHOOL, PUBLIC, GROUNDS', 'RESIDENCE', 'SCHOOL, PUBLIC, BUILDING', 'SCHOOL, PRIVATE, BUILDING', 'APARTMENT', 'APARTMENT', 'APARTMENT', 'OTHER', 'STREET', 'STREET', 'SIDEWALK', 'PARKING LOT/GARAGE(NON.RESID.)', 'RESIDENCE', 'RESIDENCE', 'STREET', 'RESIDENCE', 'RESIDENCE', 'APARTMENT', 'RESTAURANT', 'RESIDENCE', 'APARTMENT', 'APARTMENT', 'APARTMENT', 'SIDEWALK', 'SMALL RETAIL STORE', 'APARTMENT', 'VEHICLE NON-COMMERCIAL', 'RESTAURANT', 'APARTMENT', 'RESIDENCE', 'PARKING LOT/GARAGE(NON.RESID.)', 'APARTMENT', 'RESIDENCE', 'RESIDENCE', 'APARTMENT', 'APARTMENT', 'STREET', 'STREET', 'VEHICLE - OTHER RIDE SERVICE', 'STREET', 'STREET', 'PARKING LOT/GARAGE(NON.RESID.)', 'RESIDENCE', 'SIDEWALK', 'RESIDENCE-GARAGE', 'PARKING LOT/GARAGE(NON.RESID.)', 'VEHICLE NON-COMMERCIAL', 'RESIDENCE PORCH/HALLWAY', 'APARTMENT', 'APARTMENT', 'RESIDENCE', 'APARTMENT', 'RESIDENCE-GARAGE', 'RESIDENCE', 'RESIDENCE', 'DRUG STORE', 'SIDEWALK', 'APARTMENT', 'APARTMENT', 'STREET', 'APARTMENT', 'SIDEWALK', 'STREET', 'STREET', 'APARTMENT', 'STREET', 'SMALL RETAIL STORE', 'RESIDENCE-GARAGE', 'SMALL RETAIL STORE', 'SMALL RETAIL STORE', 'SCHOOL, PUBLIC, BUILDING', 'OTHER', 'OTHER', 'SMALL RETAIL STORE', 'RESIDENCE', 'RESIDENCE', 'RESIDENCE', 'RESIDENCE', 'RESTAURANT', 'STREET', 'SCHOOL, PUBLIC, GROUNDS', 'RESIDENCE PORCH/HALLWAY', 'OTHER', 'RESIDENCE', 'PARKING LOT/GARAGE(NON.RESID.)', 'APARTMENT', 'STREET', 'RESIDENCE PORCH/HALLWAY', 'DEPARTMENT STORE', 'RESIDENCE', 'RESIDENCE PORCH/HALLWAY', 'APARTMENT', 'OTHER', 'STREET', 'STREET', 'SCHOOL, PUBLIC, BUILDING', 'SCHOOL, PUBLIC, BUILDING', 'SMALL RETAIL STORE', 'APARTMENT', 'RESTAURANT', 'OTHER', 'PARKING LOT/GARAGE(NON.RESID.)', 'STREET', 'STREET', 'APARTMENT', 'CHURCH/SYNAGOGUE/PLACE OF WORSHIP', 'RESIDENCE', 'APARTMENT', 'DEPARTMENT STORE', 'STREET', 'STREET', 'RESIDENCE', 'STREET', 'SCHOOL, PUBLIC, BUILDING', 'STREET', 'RESTAURANT', 'RESIDENCE PORCH/HALLWAY', 'STREET', 'APARTMENT', 'APARTMENT', 'OTHER', 'STREET', 'CLEANING STORE', 'SIDEWALK', 'STREET', '', 'VEHICLE NON-COMMERCIAL', 'STREET', 'PARKING LOT/GARAGE(NON.RESID.)', 'SCHOOL, PUBLIC, BUILDING', 'RESIDENCE', 'PARKING LOT/GARAGE(NON.RESID.)', 'STREET', 'PARKING LOT/GARAGE(NON.RESID.)', 'STREET', 'RESIDENCE PORCH/HALLWAY', 'RESIDENCE', 'STREET', 'APARTMENT', 'COMMERCIAL / BUSINESS OFFICE', 'SIDEWALK', 'APARTMENT', 'RESIDENCE PORCH/HALLWAY', 'OTHER', 'VACANT LOT/LAND', 'VEHICLE NON-COMMERCIAL', 'RESIDENCE', 'APARTMENT', 'RESIDENCE-GARAGE', 'GAS STATION', 'STREET', 'STREET', 'RESIDENCE', 'RESIDENCE', 'GAS STATION', 'RESIDENCE', 'STREET', 'SIDEWALK', 'APARTMENT', 'PARKING LOT/GARAGE(NON.RESID.)', 'SIDEWALK', 'STREET', 'SMALL RETAIL STORE', 'SIDEWALK', 'STREET', 'FIRE STATION', 'APARTMENT', 'SIDEWALK', 'RESTAURANT', 'STREET', 'RESIDENCE', 'STREET', 'POLICE FACILITY/VEH PARKING LOT', 'STREET', 'RESIDENCE', 'OTHER', 'STREET', 'STREET', 'STREET', 'APARTMENT', 'STREET', 'RESIDENCE PORCH/HALLWAY', 'STREET', 'COMMERCIAL / BUSINESS OFFICE', 'APARTMENT', 'RESIDENCE', 'STREET', 'RESIDENCE-GARAGE', 'SIDEWALK', 'CONSTRUCTION SITE', 'RESIDENTIAL YARD (FRONT/BACK)', 'SIDEWALK', 'RESIDENCE-GARAGE', 'STREET', 'APARTMENT', 'APARTMENT', 'HOTEL/MOTEL', 'OTHER', 'RESIDENCE', 'BANK', 'RESIDENCE', 'RESTAURANT', 'RESIDENCE-GARAGE', 'STREET', 'APARTMENT', 'RESIDENCE', 'RESIDENCE', 'OTHER', 'RESIDENCE', 'SCHOOL, PUBLIC, BUILDING', 'RESIDENCE', 'APARTMENT', 'APARTMENT', 'STREET', 'STREET', 'CHA PARKING LOT/GROUNDS', 'STREET', 'RESTAURANT', 'STREET', 'OTHER', 'OTHER', 'APARTMENT', 'RESIDENCE', 'RESIDENCE PORCH/HALLWAY', 'STREET', 'APARTMENT', 'PARKING LOT/GARAGE(NON.RESID.)', 'STREET', 'RESIDENTIAL YARD (FRONT/BACK)', 'RESIDENCE', 'PARKING LOT/GARAGE(NON.RESID.)', 'OTHER', 'STREET', 'OTHER', 'STREET', 'RESIDENCE', 'SCHOOL, PUBLIC, BUILDING', 'RESIDENCE', 'COMMERCIAL / BUSINESS OFFICE', 'RESIDENCE', 'APARTMENT', 'DEPARTMENT STORE', 'OTHER', 'RESTAURANT', 'RESIDENCE', 'STREET', 'STREET', 'SIDEWALK', 'STREET', 'RESIDENCE', 'HOSPITAL BUILDING/GROUNDS', 'RESIDENCE', 'APARTMENT', 'RESIDENCE', 'OTHER', 'VEHICLE NON-COMMERCIAL', 'RESIDENCE-GARAGE', 'AIRPORT TERMINAL LOWER LEVEL - NON-SECURE AREA', 'STREET', 'APARTMENT', 'SMALL RETAIL STORE', 'DEPARTMENT STORE', 'ALLEY', 'GAS STATION', 'RESIDENCE', 'GROCERY FOOD STORE', 'CTA BUS', 'STREET', 'RESIDENCE', 'APARTMENT', '', 'APARTMENT', 'RESIDENCE', 'PARKING LOT/GARAGE(NON.RESID.)', 'RESIDENCE', 'APARTMENT', 'MEDICAL/DENTAL OFFICE', 'STREET', 'SMALL RETAIL STORE', 'BANK', 'STREET', 'CONVENIENCE STORE', 'SIDEWALK'], 1: ['BAR OR TAVERN', 'TAVERN/LIQUOR STORE', 'CLEANING STORE', 'APARTMENT', 'STREET', 'RESIDENCE', 'SIDEWALK', 'OTHER', 'SIDEWALK', 'STREET', 'PARKING LOT/GARAGE(NON.RESID.)', 'PARKING LOT/GARAGE(NON.RESID.)', 'HOTEL/MOTEL', 'RESIDENTIAL YARD (FRONT/BACK)', 'APARTMENT', 'APARTMENT', 'PARKING LOT/GARAGE(NON.RESID.)', 'PARKING LOT/GARAGE(NON.RESID.)', 'RESIDENCE', 'APARTMENT', 'RESIDENCE', 'CHA APARTMENT', 'STREET', 'SMALL RETAIL STORE', 'PARKING LOT/GARAGE(NON.RESID.)', 'RESIDENCE', 'PARKING LOT/GARAGE(NON.RESID.)', 'APARTMENT', 'RESIDENCE', 'SMALL RETAIL STORE', 'CONVENIENCE STORE', 'RESIDENCE', 'STREET', 'APARTMENT', 'RESIDENCE', 'APARTMENT', 'RESTAURANT', 'APARTMENT', 'GOVERNMENT BUILDING/PROPERTY', 'AIRPORT TERMINAL LOWER LEVEL - NON-SECURE AREA', 'PARKING LOT/GARAGE(NON.RESID.)', 'GAS STATION', 'STREET', 'APARTMENT', 'STREET', 'SMALL RETAIL STORE', 'APARTMENT', 'SCHOOL, PUBLIC, GROUNDS', 'APARTMENT', 'STREET', 'ATHLETIC CLUB', 'RESIDENCE-GARAGE', 'APARTMENT', 'SIDEWALK', 'APARTMENT', 'STREET', 'STREET', 'STREET', 'VEHICLE NON-COMMERCIAL', 'RESIDENCE', 'RESIDENCE', 'RESIDENCE', 'SCHOOL, PUBLIC, GROUNDS', 'RESIDENTIAL YARD (FRONT/BACK)', 'RESIDENCE PORCH/HALLWAY', 'PAWN SHOP', 'STREET', 'PARKING LOT/GARAGE(NON.RESID.)', 'STREET', 'STREET', 'STREET', 'GROCERY FOOD STORE', 'TAVERN/LIQUOR STORE', 'APARTMENT', 'STREET', 'STREET', 'SIDEWALK', 'ATHLETIC CLUB', 'APARTMENT', 'RESIDENCE', 'SCHOOL, PUBLIC, GROUNDS', 'RESIDENCE', 'RESIDENCE', 'RESIDENCE', 'TAVERN/LIQUOR STORE', 'RESTAURANT', 'RESIDENCE', 'APARTMENT', 'APARTMENT', 'STREET', 'GAS STATION', 'ALLEY', 'BAR OR TAVERN', 'TAXICAB', 'OTHER', 'CTA PLATFORM', 'RESIDENCE', 'STREET', 'STREET', 'SMALL RETAIL STORE', 'SCHOOL, PUBLIC, BUILDING', 'OTHER', 'SIDEWALK', 'STREET', 'DEPARTMENT STORE', 'APARTMENT', 'RESIDENCE', 'ALLEY', 'SIDEWALK', 'APARTMENT', 'SIDEWALK', 'STREET', 'APARTMENT', 'RESIDENCE', 'RESIDENCE', 'RESIDENCE PORCH/HALLWAY', 'RESIDENTIAL YARD (FRONT/BACK)', 'RESIDENCE', 'RESIDENCE', 'STREET', 'STREET', 'SIDEWALK', 'STREET', 'RESIDENCE', 'APARTMENT', 'STREET', 'SIDEWALK', 'STREET', 'STREET', 'PARKING LOT/GARAGE(NON.RESID.)', 'RESIDENCE-GARAGE', 'VEHICLE NON-COMMERCIAL', 'APARTMENT', 'COMMERCIAL / BUSINESS OFFICE', 'STREET', 'SCHOOL, PUBLIC, GROUNDS', 'CTA BUS', 'SIDEWALK', 'SIDEWALK', 'APARTMENT', 'RESIDENCE', 'RESTAURANT', 'ALLEY', 'APARTMENT', 'SIDEWALK', 'RESIDENCE', 'STREET', 'OTHER', 'APARTMENT', 'STREET', 'RESIDENCE', 'SIDEWALK', 'APARTMENT', 'SMALL RETAIL STORE', 'CTA PLATFORM', 'GROCERY FOOD STORE', 'DEPARTMENT STORE', 'RESIDENCE PORCH/HALLWAY', 'OTHER', 'RESTAURANT', 'APARTMENT', 'RESIDENCE', 'APARTMENT', 'RESIDENCE', 'RESIDENCE PORCH/HALLWAY', 'RESIDENCE', 'STREET', 'VEHICLE NON-COMMERCIAL', 'CTA TRAIN', 'STREET', 'RESIDENTIAL YARD (FRONT/BACK)', 'OTHER', 'APARTMENT', 'PARKING LOT/GARAGE(NON.RESID.)', 'STREET', 'STREET', 'STREET', 'SIDEWALK', 'RESIDENCE', 'RESIDENTIAL YARD (FRONT/BACK)', 'STREET', 'APARTMENT', 'APARTMENT', 'STREET', 'SIDEWALK', 'VEHICLE NON-COMMERCIAL', 'CHA APARTMENT', 'RESTAURANT', 'CTA BUS STOP', 'RESIDENCE', 'RESIDENCE', 'STREET', 'ALLEY', 'DEPARTMENT STORE', 'PARKING LOT/GARAGE(NON.RESID.)', 'SIDEWALK', 'CTA PLATFORM', 'RESIDENCE', 'PARKING LOT/GARAGE(NON.RESID.)', 'STREET', 'APARTMENT', 'SIDEWALK', 'AIRPORT TERMINAL LOWER LEVEL - NON-SECURE AREA', 'CTA TRAIN', 'APARTMENT', 'APARTMENT', 'ABANDONED BUILDING', 'RESIDENCE', 'RESIDENCE', 'RESIDENCE', 'APARTMENT', 'OTHER', 'RESIDENCE PORCH/HALLWAY', 'RESIDENCE', 'STREET', 'SCHOOL, PUBLIC, BUILDING', 'RESIDENCE', 'RESTAURANT', 'OTHER', 'APARTMENT', 'APARTMENT', 'STREET', 'PARKING LOT/GARAGE(NON.RESID.)', 'APARTMENT', 'SMALL RETAIL STORE', 'RESIDENCE', 'STREET', 'RESIDENCE', 'SIDEWALK', 'RESTAURANT', 'RESIDENCE', 'RESIDENTIAL YARD (FRONT/BACK)', 'RESIDENCE', 'STREET', 'STREET', 'SIDEWALK', 'APARTMENT', 'STREET', 'STREET', 'RESIDENCE', 'VEHICLE NON-COMMERCIAL', 'APARTMENT', 'RESIDENCE', 'STREET', 'CONVENIENCE STORE', 'RESIDENCE', 'APARTMENT', 'SIDEWALK', 'HOTEL/MOTEL', 'RESIDENCE', 'GROCERY FOOD STORE', 'APARTMENT', 'DEPARTMENT STORE', 'RESIDENCE', 'RESIDENCE', 'RESIDENCE', 'RESIDENCE-GARAGE', 'OTHER', 'RESIDENCE-GARAGE', 'DEPARTMENT STORE', 'APARTMENT', 'APARTMENT', 'VEHICLE NON-COMMERCIAL', 'SIDEWALK', 'DRUG STORE', 'RESIDENCE', 'APARTMENT', 'APARTMENT', 'CONVENIENCE STORE', 'STREET', 'RESTAURANT', 'APARTMENT', 'RESIDENCE', 'OTHER', 'STREET', 'STREET', 'SIDEWALK', 'SCHOOL, PUBLIC, BUILDING', 'STREET', 'DEPARTMENT STORE', 'STREET', 'RESIDENCE', 'APARTMENT', 'NURSING HOME/RETIREMENT HOME', 'STREET', 'STREET', 'CHA APARTMENT', 'SIDEWALK', 'OTHER', 'STREET', 'PARKING LOT/GARAGE(NON.RESID.)', 'SCHOOL, PUBLIC, BUILDING', 'STREET', 'BAR OR TAVERN', 'SIDEWALK', 'SCHOOL, PUBLIC, GROUNDS', 'RESIDENCE PORCH/HALLWAY', 'STREET', 'STREET', 'RESIDENCE', 'SIDEWALK', 'PARKING LOT/GARAGE(NON.RESID.)', 'RESIDENCE', 'SMALL RETAIL STORE', 'RESIDENCE', 'RESIDENCE', 'APARTMENT', 'SMALL RETAIL STORE', 'RESTAURANT', 'STREET', 'SIDEWALK', 'STREET', 'HOUSE', 'APARTMENT', 'STREET', 'RESIDENCE', 'APARTMENT', 'SIDEWALK', 'STREET', 'RESIDENCE', 'GROCERY FOOD STORE', 'CTA BUS', 'RESIDENCE', 'STREET', 'HOTEL/MOTEL', 'APARTMENT', 'APARTMENT', 'STREET', 'APARTMENT', 'STREET', 'APARTMENT', 'STREET', 'TAVERN/LIQUOR STORE', 'SMALL RETAIL STORE', 'RESIDENCE', 'RESTAURANT', 'APARTMENT', 'RESIDENCE', 'OTHER', 'AIRPORT TERMINAL UPPER LEVEL - SECURE AREA', 'RESIDENCE PORCH/HALLWAY', 'APARTMENT', 'STREET', 'RESIDENCE', 'OTHER', 'SCHOOL, PUBLIC, BUILDING', 'STREET', 'RESIDENCE', 'RESIDENCE', 'SIDEWALK', 'RESIDENCE', 'STREET', 'STREET', 'STREET', 'RESIDENCE', 'GROCERY FOOD STORE', 'APARTMENT', 'RESIDENCE', 'RESTAURANT', 'RESIDENCE', 'ALLEY', 'STREET', 'STREET', 'VEHICLE NON-COMMERCIAL', 'SCHOOL, PUBLIC, BUILDING', 'STREET', 'GAS STATION', 'APARTMENT', 'STREET', 'RESIDENCE', 'SCHOOL, PUBLIC, BUILDING', 'APARTMENT', 'STREET', 'APARTMENT', 'SIDEWALK', 'STREET', 'STREET', 'SIDEWALK', 'CURRENCY EXCHANGE', 'MEDICAL/DENTAL OFFICE', 'APARTMENT', 'OTHER', 'SMALL RETAIL STORE', 'SCHOOL, PUBLIC, BUILDING', 'APARTMENT', 'HOTEL/MOTEL', 'STREET', 'STREET', 'APARTMENT', 'STREET', 'RESIDENCE', 'ALLEY', 'RESIDENCE-GARAGE', 'SIDEWALK', 'APARTMENT', 'OTHER', 'SIDEWALK', 'APARTMENT', 'STREET', 'PARKING LOT/GARAGE(NON.RESID.)', 'STREET', 'STREET', 'STREET', 'RESTAURANT', 'PARKING LOT/GARAGE(NON.RESID.)', 'RESIDENCE', 'SCHOOL, PUBLIC, BUILDING', 'RESIDENTIAL YARD (FRONT/BACK)', 'CTA PLATFORM', 'RESIDENCE', 'BAR OR TAVERN', 'APARTMENT', 'STREET', 'RESIDENCE', 'STREET', 'RESIDENCE', 'TAVERN/LIQUOR STORE', 'HOTEL/MOTEL', 'APARTMENT', 'STREET', 'STREET', 'CONSTRUCTION SITE', 'SMALL RETAIL STORE', 'VEHICLE NON-COMMERCIAL', 'STREET', 'SIDEWALK', 'POOL ROOM', 'STREET', 'STREET', 'GROCERY FOOD STORE', 'SCHOOL, PUBLIC, BUILDING', 'STREET', 'RESIDENCE', 'SIDEWALK', 'CONVENIENCE STORE', 'RESIDENCE-GARAGE', 'GAS STATION', 'STREET', 'APARTMENT', 'CTA STATION', 'APARTMENT', 'RESIDENCE', 'STREET', 'APARTMENT', 'STREET', 'STREET', 'STREET', 'APARTMENT', 'STREET', 'RESIDENCE', 'APARTMENT', 'ALLEY', 'DEPARTMENT STORE', 'CAR WASH', 'RESIDENCE', 'STREET', '', 'APARTMENT', 'STREET', 'STREET', 'OTHER', 'RESIDENCE', 'APARTMENT', 'APARTMENT', 'RESIDENCE', 'APARTMENT', 'RESIDENCE', 'DEPARTMENT STORE', 'AUTO', 'RESTAURANT', 'STREET', 'APARTMENT', 'RESTAURANT', 'COMMERCIAL / BUSINESS OFFICE', 'STREET', 'GROCERY FOOD STORE', 'RESTAURANT', 'RESIDENCE', 'RESIDENCE', 'RESTAURANT', 'ALLEY', 'SIDEWALK', 'APARTMENT', 'APARTMENT', 'STREET', 'RESIDENCE-GARAGE', 'CTA PLATFORM', 'SCHOOL, PUBLIC, GROUNDS', 'APARTMENT', 'APARTMENT', 'RESTAURANT', 'PARKING LOT/GARAGE(NON.RESID.)', 'MOVIE HOUSE/THEATER', 'RESTAURANT', 'CTA PLATFORM', 'RESIDENCE', 'GAS STATION', 'SIDEWALK', 'APARTMENT', 'SIDEWALK', 'RESIDENCE PORCH/HALLWAY', 'RESIDENCE', 'STREET', 'RESIDENCE', 'RESIDENTIAL YARD (FRONT/BACK)', 'APARTMENT', 'STREET', 'APARTMENT', 'APARTMENT', 'APARTMENT', 'PARKING LOT/GARAGE(NON.RESID.)', 'HOSPITAL BUILDING/GROUNDS', 'RESIDENCE', 'RESIDENCE', 'APARTMENT', 'RESIDENCE PORCH/HALLWAY', 'ALLEY', 'STREET', 'APARTMENT', 'SCHOOL, PUBLIC, BUILDING', 'PARKING LOT/GARAGE(NON.RESID.)', 'ATHLETIC CLUB', 'OTHER', 'OTHER', 'STREET', 'RESIDENCE', 'PARKING LOT/GARAGE(NON.RESID.)', 'AIRPORT TERMINAL UPPER LEVEL - SECURE AREA', 'GAS STATION', 'APARTMENT', 'APARTMENT', 'DRIVEWAY - RESIDENTIAL', 'RESIDENCE', 'RESIDENCE', 'APARTMENT', 'PARKING LOT/GARAGE(NON.RESID.)', 'APARTMENT', 'STREET', 'PARKING LOT/GARAGE(NON.RESID.)', 'ATHLETIC CLUB', 'APARTMENT', 'OTHER', 'APARTMENT', 'PARKING LOT/GARAGE(NON.RESID.)', 'RESIDENCE', 'RESIDENCE', 'RESIDENTIAL YARD (FRONT/BACK)', 'GAS STATION', 'RESTAURANT', 'RESIDENCE', 'SIDEWALK', 'ALLEY', 'APARTMENT', 'SIDEWALK', 'GAS STATION', 'VEHICLE NON-COMMERCIAL', 'APARTMENT', 'VACANT LOT/LAND', 'OTHER', 'RESIDENCE', 'MEDICAL/DENTAL OFFICE', 'RESIDENCE', 'TAXICAB', 'STREET', 'RESIDENCE', 'APARTMENT', 'CONVENIENCE STORE', 'RESIDENCE', 'STREET', 'RESIDENCE', 'POLICE FACILITY/VEH PARKING LOT', 'RESIDENCE', 'PARKING LOT/GARAGE(NON.RESID.)', 'DRUG STORE', 'STREET', 'STREET', 'STREET', 'SIDEWALK', 'RESIDENCE', 'STREET', 'RESIDENCE', 'RESIDENCE', 'VEHICLE NON-COMMERCIAL', 'VEHICLE NON-COMMERCIAL', 'RESIDENCE', 'RESIDENCE', 'SIDEWALK', 'SIDEWALK', 'APARTMENT', 'RESIDENCE-GARAGE', 'PARK PROPERTY', 'STREET', 'STREET', 'BANK', 'BAR OR TAVERN', 'RESTAURANT', 'APARTMENT', 'ABANDONED BUILDING', 'SMALL RETAIL STORE', 'APARTMENT', 'APARTMENT', 'RESIDENCE', 'ALLEY', 'STREET', 'STREET', 'GAS STATION', 'RESIDENCE', 'RESIDENCE', 'PARKING LOT/GARAGE(NON.RESID.)', 'APARTMENT', 'RESIDENCE PORCH/HALLWAY', 'ALLEY', 'BAR OR TAVERN', 'STREET', 'ALLEY', 'RESIDENCE', 'SMALL RETAIL STORE', 'RESIDENCE-GARAGE', 'STREET', 'APARTMENT', 'RESIDENCE', 'OTHER', 'PARKING LOT/GARAGE(NON.RESID.)', 'RESIDENCE-GARAGE', 'STREET', 'OTHER', 'RESIDENCE', 'SIDEWALK', 'HOTEL/MOTEL', 'RESIDENCE', 'RESIDENCE PORCH/HALLWAY', 'PARKING LOT/GARAGE(NON.RESID.)', 'STREET', 'SMALL RETAIL STORE', 'DEPARTMENT STORE', 'RESIDENCE', 'RESIDENCE', 'RESIDENCE PORCH/HALLWAY', 'STREET', 'VEHICLE NON-COMMERCIAL', 'APARTMENT', 'RESIDENCE', 'CONVENIENCE STORE', 'STREET', 'CHA APARTMENT', 'CHURCH/SYNAGOGUE/PLACE OF WORSHIP', 'APARTMENT', 'STREET', 'SCHOOL, PUBLIC, BUILDING', 'APARTMENT', 'STREET', 'HOTEL/MOTEL', 'STREET', 'SMALL RETAIL STORE', 'CURRENCY EXCHANGE', 'APARTMENT', 'APARTMENT', 'VEHICLE NON-COMMERCIAL', 'PARKING LOT/GARAGE(NON.RESID.)', 'STREET', 'RESIDENCE', 'VEHICLE NON-COMMERCIAL', 'CTA STATION', 'SIDEWALK', 'RESIDENCE', 'COMMERCIAL / BUSINESS OFFICE', 'APARTMENT', 'APARTMENT', 'STREET', 'STREET', 'RESTAURANT', 'BAR OR TAVERN', 'STREET', 'SIDEWALK', 'RESIDENCE', 'SCHOOL, PUBLIC, BUILDING', 'DEPARTMENT STORE', 'APARTMENT', 'VEHICLE NON-COMMERCIAL', 'STREET', 'STREET', 'CONVENIENCE STORE', 'RESIDENCE', 'ALLEY', 'RESIDENCE', 'STREET', 'SCHOOL, PUBLIC, GROUNDS', 'SIDEWALK', 'SIDEWALK', 'APARTMENT', 'DEPARTMENT STORE', 'STREET', 'RESIDENCE', 'STREET', 'RESIDENCE-GARAGE', 'SCHOOL, PRIVATE, GROUNDS', 'COMMERCIAL / BUSINESS OFFICE', 'STREET', 'APARTMENT', 'STREET', 'RESIDENCE', 'RESIDENCE', 'PARKING LOT/GARAGE(NON.RESID.)', 'STREET', 'RESIDENCE', 'RESTAURANT', 'GOVERNMENT BUILDING/PROPERTY', 'SIDEWALK', 'RESIDENCE', 'OTHER', 'PARK PROPERTY', 'SIDEWALK', 'HOSPITAL BUILDING/GROUNDS', 'SCHOOL, PUBLIC, BUILDING', 'STREET', 'RESIDENCE', 'RESIDENCE-GARAGE', 'RESIDENCE', 'APARTMENT', 'PARKING LOT/GARAGE(NON.RESID.)', 'SMALL RETAIL STORE', 'STREET', 'RESIDENTIAL YARD (FRONT/BACK)', 'RESIDENCE', 'DEPARTMENT STORE', 'SIDEWALK', 'APARTMENT', 'APARTMENT', 'RESTAURANT', 'CTA BUS', 'APARTMENT', 'RESIDENCE', 'RESIDENCE', 'VACANT LOT/LAND', 'DEPARTMENT STORE', 'STREET', 'SIDEWALK', 'STREET', 'APARTMENT', 'APARTMENT', 'PARKING LOT/GARAGE(NON.RESID.)', 'STREET', 'SCHOOL, PUBLIC, BUILDING', '', 'PARKING LOT/GARAGE(NON.RESID.)', 'RESIDENCE', 'RESTAURANT', 'DEPARTMENT STORE', 'STREET', 'APARTMENT', 'CURRENCY EXCHANGE', 'CHA APARTMENT', 'RESIDENCE', 'STREET', 'STREET', 'RESTAURANT', 'APARTMENT', 'STREET', 'SIDEWALK', 'SIDEWALK', 'RESIDENCE-GARAGE', 'PARKING LOT/GARAGE(NON.RESID.)', 'STREET', 'RESIDENCE', 'APARTMENT', 'VACANT LOT/LAND', 'SMALL RETAIL STORE', 'CTA BUS', 'GAS STATION', 'STREET', 'DRIVEWAY - RESIDENTIAL', 'PARKING LOT/GARAGE(NON.RESID.)', 'STREET', 'STREET', 'RESTAURANT', 'APARTMENT', 'JAIL / LOCK-UP FACILITY', 'STREET', 'SIDEWALK', 'RESIDENCE', 'ALLEY', 'SIDEWALK', 'SIDEWALK', 'APARTMENT', 'STREET', 'APARTMENT', 'DAY CARE CENTER', 'PARKING LOT/GARAGE(NON.RESID.)', 'SIDEWALK', 'SIDEWALK', 'VEHICLE NON-COMMERCIAL', 'OTHER', 'RESIDENCE', 'SIDEWALK', 'APARTMENT', 'STREET', 'RESIDENCE', 'APARTMENT', 'APARTMENT', 'SIDEWALK', 'SMALL RETAIL STORE', 'RESIDENCE', 'STREET', 'SMALL RETAIL STORE', 'STREET', 'APARTMENT', 'STREET', 'OTHER', 'RESTAURANT', 'SIDEWALK', 'STREET', 'APARTMENT', 'SCHOOL, PUBLIC, BUILDING', 'STREET', 'PARKING LOT/GARAGE(NON.RESID.)', 'STREET', 'SCHOOL, PUBLIC, BUILDING', 'SIDEWALK', 'RESIDENCE', 'STREET', 'STREET', 'APARTMENT', 'STREET', 'APARTMENT', 'STREET', 'BANK', 'STREET', 'SIDEWALK', 'STREET', 'SCHOOL, PUBLIC, BUILDING', 'APARTMENT', 'RESIDENCE', 'OTHER', 'OTHER', 'RESIDENTIAL YARD (FRONT/BACK)', 'RESTAURANT', 'STREET', 'RESIDENCE', 'STREET', 'RESIDENCE-GARAGE', 'VEHICLE NON-COMMERCIAL', 'RESIDENCE', 'RESIDENCE', 'DRIVEWAY - RESIDENTIAL', 'STREET', 'GROCERY FOOD STORE', 'STREET', 'APARTMENT', 'APARTMENT', 'APARTMENT', 'RESIDENCE', 'VEHICLE NON-COMMERCIAL', 'RESIDENCE', 'RESIDENCE', 'PARKING LOT/GARAGE(NON.RESID.)', 'RESTAURANT', 'DRIVEWAY - RESIDENTIAL', 'STREET', 'CTA STATION', 'RESIDENTIAL YARD (FRONT/BACK)', 'RESIDENCE', 'STREET', 'APARTMENT', 'STREET', 'APARTMENT', 'STREET', 'SIDEWALK', 'APARTMENT', 'SIDEWALK', 'ALLEY', 'RESTAURANT', 'STREET', 'SMALL RETAIL STORE', 'SIDEWALK', 'RESIDENCE', '', 'PARKING LOT/GARAGE(NON.RESID.)', 'PARKING LOT/GARAGE(NON.RESID.)', 'DEPARTMENT STORE', 'SIDEWALK', 'BAR OR TAVERN', 'STREET', 'CTA BUS STOP', 'STREET', 'RESIDENCE', 'CHURCH/SYNAGOGUE/PLACE OF WORSHIP', 'STREET', 'GROCERY FOOD STORE', 'RESIDENCE', 'CONSTRUCTION SITE', 'STREET', 'STREET', 'CTA TRAIN', 'APARTMENT', 'SIDEWALK', 'CTA BUS', 'RESIDENCE', 'STREET', 'APARTMENT', 'STREET', 'APARTMENT', 'GAS STATION', 'HOSPITAL BUILDING/GROUNDS', 'RESIDENCE', 'SCHOOL, PUBLIC, BUILDING', 'RESIDENCE', 'CTA TRAIN', 'APARTMENT', 'BARBERSHOP', 'RESIDENCE', 'APARTMENT', 'RESIDENCE', 'APARTMENT', 'RESIDENCE', 'APARTMENT', 'APARTMENT', 'STREET', 'APARTMENT', 'RESIDENCE', 'RESIDENCE', 'STREET', 'STREET', 'STREET', 'SIDEWALK', 'GOVERNMENT BUILDING/PROPERTY', 'STREET', 'SCHOOL, PUBLIC, GROUNDS', 'PARKING LOT/GARAGE(NON.RESID.)', 'STREET', 'STREET', 'SIDEWALK', 'RESIDENCE', 'ABANDONED BUILDING', 'SIDEWALK', 'STREET', 'BAR OR TAVERN', 'APARTMENT', 'APARTMENT', 'APARTMENT', 'RESIDENTIAL YARD (FRONT/BACK)', 'RESIDENCE', 'OTHER', 'STREET', 'PARKING LOT/GARAGE(NON.RESID.)', 'RESIDENCE', 'OTHER', 'PARKING LOT/GARAGE(NON.RESID.)', '', 'OTHER', 'STREET', 'BANK', 'RESIDENCE', 'STREET', 'CHA PARKING LOT/GROUNDS', 'APARTMENT', 'SIDEWALK'], 9: ['RESIDENCE', 'DRIVEWAY - RESIDENTIAL', 'STREET', 'GAS STATION', 'STREET', 'RESIDENCE', 'WAREHOUSE', 'STREET', 'CTA BUS', 'APARTMENT', 'PARKING LOT/GARAGE(NON.RESID.)', 'STREET', 'OTHER', 'RESIDENCE', 'OTHER', 'ALLEY', 'VEHICLE NON-COMMERCIAL', 'STREET', 'STREET', '', 'APARTMENT', 'VEHICLE NON-COMMERCIAL', 'PARKING LOT/GARAGE(NON.RESID.)', 'GAS STATION', 'APARTMENT', 'SMALL RETAIL STORE', 'APARTMENT', 'SMALL RETAIL STORE', 'RESIDENTIAL YARD (FRONT/BACK)', 'STREET', 'STREET', 'SIDEWALK', 'RESTAURANT', 'RESIDENCE-GARAGE', 'RESIDENCE', 'CONSTRUCTION SITE', 'STREET', 'SMALL RETAIL STORE', 'DRIVEWAY - RESIDENTIAL', 'PARKING LOT/GARAGE(NON.RESID.)', 'CTA PLATFORM', 'SCHOOL, PUBLIC, GROUNDS', 'SMALL RETAIL STORE', 'HOSPITAL BUILDING/GROUNDS', 'APARTMENT', 'APARTMENT', 'CTA GARAGE / OTHER PROPERTY', 'STREET', 'SIDEWALK', 'SIDEWALK', 'PARKING LOT/GARAGE(NON.RESID.)', 'RESTAURANT', 'HOTEL/MOTEL', 'PARKING LOT/GARAGE(NON.RESID.)', 'CHA PARKING LOT/GROUNDS', 'APARTMENT', 'RESTAURANT', 'DRIVEWAY - RESIDENTIAL', 'SIDEWALK', 'RESIDENCE', 'SIDEWALK', 'STREET', 'STREET', 'RESTAURANT', 'OTHER', 'STREET', 'SIDEWALK', 'RESIDENCE', 'APARTMENT', 'STREET', 'RESIDENCE', 'STREET', 'APARTMENT', 'RESIDENCE', 'CTA BUS', 'STREET', 'RESIDENCE', 'SIDEWALK', 'STREET', 'STREET', 'RESIDENCE', 'RESIDENCE', 'STREET', 'APARTMENT', 'SIDEWALK', 'ATHLETIC CLUB', 'SIDEWALK', 'SIDEWALK', 'OTHER', 'PARK PROPERTY', 'DEPARTMENT STORE', 'RESIDENCE', 'SIDEWALK', 'RESIDENCE', 'RESIDENCE', 'RESIDENCE', 'APARTMENT', 'RESIDENCE', 'STREET', 'RESIDENCE', 'STREET', 'STREET', 'SIDEWALK', 'RESIDENCE', 'APARTMENT', 'CHA APARTMENT', 'STREET', 'STREET', 'APARTMENT', 'STREET', 'RESIDENCE', 'DEPARTMENT STORE', 'GAS STATION', 'CTA STATION', 'RESIDENCE', 'DEPARTMENT STORE', 'ABANDONED BUILDING', 'STREET', 'OTHER', 'RESIDENCE', 'OTHER', 'ALLEY', 'SMALL RETAIL STORE', 'BAR OR TAVERN', 'RESIDENCE', 'RESIDENCE', 'RESIDENCE', 'ATHLETIC CLUB', 'SIDEWALK', 'STREET', 'STREET', 'STREET', 'STREET', 'GROCERY FOOD STORE', 'STREET', 'APARTMENT', 'RESIDENCE', 'RESIDENCE PORCH/HALLWAY', 'COMMERCIAL / BUSINESS OFFICE', 'SIDEWALK', 'STREET', 'STREET', 'PARKING LOT/GARAGE(NON.RESID.)', 'OTHER', 'NURSING HOME/RETIREMENT HOME', 'STREET', 'STREET', 'STREET', 'RESIDENCE', 'GAS STATION', 'RESIDENCE PORCH/HALLWAY', 'STREET', 'SCHOOL, PUBLIC, BUILDING', 'RESIDENCE', 'SCHOOL, PUBLIC, BUILDING', 'RESIDENCE', 'COMMERCIAL / BUSINESS OFFICE', 'SCHOOL, PUBLIC, BUILDING', 'VEHICLE NON-COMMERCIAL', 'RESIDENCE', 'RESIDENCE', 'RESIDENCE-GARAGE', 'GROCERY FOOD STORE', 'PARKING LOT/GARAGE(NON.RESID.)', 'OTHER', 'APARTMENT', 'STREET', 'OTHER', 'RESIDENCE', 'STREET', 'APARTMENT', 'DAY CARE CENTER', 'STREET', 'VEHICLE NON-COMMERCIAL', 'RESIDENTIAL YARD (FRONT/BACK)', 'STREET', 'SIDEWALK', 'SIDEWALK', 'STREET', 'POLICE FACILITY/VEH PARKING LOT', 'RESIDENCE', 'RESIDENCE', 'STREET', 'PARKING LOT/GARAGE(NON.RESID.)', 'STREET', 'PARKING LOT/GARAGE(NON.RESID.)', 'RESIDENCE', 'RESIDENCE', 'STREET', 'SIDEWALK', 'RESIDENCE', 'RESIDENCE', 'DEPARTMENT STORE', 'STREET', 'PARK PROPERTY', 'SIDEWALK', 'STREET', 'VEHICLE NON-COMMERCIAL', 'APARTMENT', 'SIDEWALK', 'STREET', 'SIDEWALK', 'STREET', 'SIDEWALK', 'RESIDENCE-GARAGE', 'CONVENIENCE STORE', 'RESIDENCE PORCH/HALLWAY', 'STREET', 'RESIDENCE', 'STREET', 'APARTMENT', 'SIDEWALK', 'RESIDENCE', 'POLICE FACILITY/VEH PARKING LOT', 'APARTMENT', 'STREET', 'ALLEY', 'SPORTS ARENA/STADIUM', 'APARTMENT', 'APARTMENT', 'SIDEWALK', 'RESIDENCE', 'SIDEWALK', 'RESIDENCE PORCH/HALLWAY', 'RESIDENCE', 'STREET', 'VEHICLE NON-COMMERCIAL', 'GAS STATION', 'RESIDENCE-GARAGE', 'RESIDENCE', 'RESIDENTIAL YARD (FRONT/BACK)', 'SIDEWALK', 'SIDEWALK', 'PARKING LOT/GARAGE(NON.RESID.)', 'APARTMENT', 'STREET', 'SIDEWALK', 'STREET', 'SIDEWALK', 'RESIDENCE', 'STREET', 'SIDEWALK', 'SIDEWALK', 'RESTAURANT', 'APARTMENT', 'RESIDENCE', 'SIDEWALK', 'CHA HALLWAY/STAIRWELL/ELEVATOR', 'RESIDENCE', 'STREET', 'SIDEWALK', 'RESTAURANT', 'RESIDENTIAL YARD (FRONT/BACK)', 'STREET', 'RESIDENCE-GARAGE', 'CONSTRUCTION SITE', 'STREET', 'ALLEY', 'RESIDENTIAL YARD (FRONT/BACK)', 'SIDEWALK', 'APARTMENT', 'ALLEY', 'SCHOOL, PUBLIC, GROUNDS', 'PARKING LOT/GARAGE(NON.RESID.)', 'STREET', 'SIDEWALK', 'AIRPORT TERMINAL UPPER LEVEL - SECURE AREA', 'DRIVEWAY - RESIDENTIAL', 'RESIDENCE', 'RESIDENCE-GARAGE', 'RESIDENCE', 'TAVERN/LIQUOR STORE', 'SIDEWALK', 'STREET', 'CHA PARKING LOT/GROUNDS', 'SIDEWALK', 'RESIDENCE', 'OTHER', 'SMALL RETAIL STORE', 'STREET', 'STREET', 'RESIDENCE PORCH/HALLWAY', 'APARTMENT', 'SMALL RETAIL STORE', 'APARTMENT', 'APARTMENT', 'STREET', 'ALLEY', 'SIDEWALK', 'STREET', 'ALLEY', 'GAS STATION', 'SIDEWALK', 'GROCERY FOOD STORE', 'STREET', 'CTA TRAIN', 'RESIDENCE-GARAGE', 'APARTMENT', 'RESIDENCE', 'VEHICLE NON-COMMERCIAL', 'OTHER', 'STREET', 'STREET', 'SIDEWALK', 'APARTMENT', 'STREET', 'RESIDENCE', 'CTA STATION', 'STREET', 'STREET', 'OTHER', 'VEHICLE NON-COMMERCIAL', 'SCHOOL, PUBLIC, BUILDING', 'STREET', 'APARTMENT', 'RESTAURANT', 'STREET', 'BAR OR TAVERN', 'RESTAURANT', 'VEHICLE NON-COMMERCIAL', 'STREET', 'APARTMENT', 'APARTMENT', 'STREET', 'STREET', 'APARTMENT', 'SIDEWALK', 'GAS STATION', 'STREET', 'PARKING LOT/GARAGE(NON.RESID.)', 'VEHICLE NON-COMMERCIAL', 'COMMERCIAL / BUSINESS OFFICE', 'APARTMENT', 'OTHER', 'STREET', 'OTHER', 'APARTMENT', 'STREET', 'APARTMENT', 'RESIDENCE', 'CTA PLATFORM', 'STREET', 'CTA BUS', 'SMALL RETAIL STORE', 'SIDEWALK', 'OTHER', 'GAS STATION', 'BAR OR TAVERN', 'APARTMENT', 'PARK PROPERTY', 'STREET', 'APARTMENT', 'SIDEWALK', 'RESIDENCE', 'SIDEWALK', 'APARTMENT', 'RESIDENCE', 'VEHICLE NON-COMMERCIAL', 'STREET', 'NURSING HOME/RETIREMENT HOME', 'STREET', 'RESIDENCE', 'SIDEWALK', 'STREET', 'STREET', 'APARTMENT', 'APARTMENT', 'OTHER', 'SMALL RETAIL STORE', 'STREET', 'CTA GARAGE / OTHER PROPERTY', 'RESIDENCE PORCH/HALLWAY', 'RESIDENTIAL YARD (FRONT/BACK)', 'RESIDENCE-GARAGE', 'OTHER', 'APARTMENT', 'SIDEWALK', 'RESIDENCE', 'STREET', 'SIDEWALK', 'RESIDENCE', 'APARTMENT', 'RESIDENCE', 'RESIDENCE', 'RESIDENCE', 'SMALL RETAIL STORE', 'SIDEWALK', 'CTA BUS', 'STREET', 'DRUG STORE', 'ALLEY', 'RESIDENCE', 'STREET', 'STREET', 'RESIDENCE', 'SIDEWALK', 'STREET', 'STREET', 'PARKING LOT/GARAGE(NON.RESID.)', 'STREET', 'AIRPORT TERMINAL UPPER LEVEL - SECURE AREA', 'STREET', 'ALLEY', 'OTHER', 'STREET', 'HOTEL/MOTEL', 'HOSPITAL BUILDING/GROUNDS', 'PARK PROPERTY', 'APARTMENT', 'CTA BUS', 'SMALL RETAIL STORE', 'APARTMENT', 'RESIDENCE', 'PARKING LOT/GARAGE(NON.RESID.)', 'CTA BUS', 'STREET', 'COMMERCIAL / BUSINESS OFFICE', 'SIDEWALK', 'APARTMENT', 'RESIDENCE', 'STREET', 'RESIDENCE', 'RESIDENCE', 'ALLEY', 'RESTAURANT', 'SIDEWALK', 'PARKING LOT/GARAGE(NON.RESID.)', 'SIDEWALK', 'RESIDENCE-GARAGE', 'STREET', 'RESIDENCE', 'APARTMENT', 'SIDEWALK', 'STREET', 'STREET', 'RESIDENCE', 'OTHER', 'GROCERY FOOD STORE', 'APARTMENT', 'SMALL RETAIL STORE', 'SIDEWALK', 'COMMERCIAL / BUSINESS OFFICE', 'SCHOOL, PUBLIC, BUILDING', 'GAS STATION', 'LIBRARY', 'CHA APARTMENT', 'STREET', 'RESIDENCE', 'GROCERY FOOD STORE', 'RESIDENCE', 'STREET', 'RESIDENTIAL YARD (FRONT/BACK)', 'STREET', 'RESIDENCE', 'OTHER', 'DEPARTMENT STORE', 'SMALL RETAIL STORE', 'RESIDENCE', 'RESIDENCE-GARAGE', 'RESIDENCE', 'RESTAURANT', 'ATM (AUTOMATIC TELLER MACHINE)', 'APARTMENT', 'RESIDENCE', 'STREET', 'STREET', 'APARTMENT', 'SIDEWALK', 'GROCERY FOOD STORE', 'OTHER', 'STREET', 'VACANT LOT/LAND', 'SIDEWALK', 'RESIDENCE', 'APARTMENT', 'PARKING LOT/GARAGE(NON.RESID.)', 'RESIDENCE', 'RESIDENCE-GARAGE', 'COMMERCIAL / BUSINESS OFFICE', 'APARTMENT', 'APARTMENT', 'STREET', 'LIBRARY', 'STREET', 'RESIDENCE', 'OTHER', 'RESIDENCE', 'CHA APARTMENT', 'RESIDENCE', 'RESIDENCE', 'RESIDENCE', 'RESIDENCE', 'STREET', 'STREET', 'RESIDENCE', 'STREET', 'CTA TRAIN', 'APARTMENT', 'STREET', 'SMALL RETAIL STORE', 'STREET', 'APARTMENT', 'APARTMENT', 'DEPARTMENT STORE', 'SIDEWALK', 'STREET', 'WAREHOUSE', 'GAS STATION', 'STREET', 'VACANT LOT/LAND', 'SIDEWALK', 'PARKING LOT/GARAGE(NON.RESID.)', 'APARTMENT', 'ALLEY', 'PARKING LOT/GARAGE(NON.RESID.)', 'OTHER RAILROAD PROP / TRAIN DEPOT', 'STREET', 'APARTMENT', 'STREET', 'PARKING LOT/GARAGE(NON.RESID.)', 'PARKING LOT/GARAGE(NON.RESID.)', 'STREET', 'SIDEWALK', 'CTA PLATFORM', 'APARTMENT', 'AIRPORT TERMINAL UPPER LEVEL - NON-SECURE AREA', 'RESIDENCE', 'PARKING LOT/GARAGE(NON.RESID.)', 'OTHER', 'VEHICLE - OTHER RIDE SERVICE', 'ALLEY', 'RESIDENCE', 'RESTAURANT', 'RESIDENCE', 'GROCERY FOOD STORE', 'APARTMENT', 'APARTMENT', 'STREET', 'RESIDENCE', 'VEHICLE NON-COMMERCIAL', 'DEPARTMENT STORE', 'STREET', 'HOTEL/MOTEL', 'STREET', 'GAS STATION', 'RESIDENCE', 'STREET', 'STREET', 'STREET', 'SIDEWALK', 'RESIDENCE', 'STREET', 'STREET', 'PARKING LOT/GARAGE(NON.RESID.)', 'RESIDENTIAL YARD (FRONT/BACK)', 'APARTMENT', 'STREET', 'RESIDENCE', 'STREET', 'SMALL RETAIL STORE', 'RESIDENCE-GARAGE', 'CTA TRAIN', 'PARKING LOT/GARAGE(NON.RESID.)', 'STREET', 'STREET', 'RESIDENCE', 'APARTMENT', 'APARTMENT', 'RESIDENCE', 'APARTMENT', 'SMALL RETAIL STORE', 'CTA STATION', 'APARTMENT', 'STREET', 'STREET', 'RESIDENCE', 'STREET', 'RESIDENTIAL YARD (FRONT/BACK)', 'CHURCH/SYNAGOGUE/PLACE OF WORSHIP', 'RESIDENCE PORCH/HALLWAY', 'ATHLETIC CLUB', 'PARKING LOT/GARAGE(NON.RESID.)', 'SIDEWALK', 'SMALL RETAIL STORE', 'ALLEY', 'OTHER', 'SIDEWALK', 'PARKING LOT/GARAGE(NON.RESID.)', 'RESIDENCE', 'RESIDENTIAL YARD (FRONT/BACK)', 'STREET', 'RESIDENCE', 'RESTAURANT', 'RESIDENCE', 'RESIDENCE', 'BANK', 'RESIDENTIAL YARD (FRONT/BACK)', 'BAR OR TAVERN', 'STREET', 'SIDEWALK', 'SCHOOL, PUBLIC, BUILDING', 'DRUG STORE', 'SMALL RETAIL STORE', 'OTHER', 'SIDEWALK', 'RESIDENCE PORCH/HALLWAY', 'VEHICLE NON-COMMERCIAL', 'COMMERCIAL / BUSINESS OFFICE', 'SIDEWALK', 'VEHICLE NON-COMMERCIAL', 'APARTMENT', 'APARTMENT', 'SCHOOL, PUBLIC, BUILDING', 'SIDEWALK', 'COMMERCIAL / BUSINESS OFFICE', 'STREET', 'APARTMENT', 'RESIDENCE-GARAGE', 'STREET', 'SIDEWALK', 'SIDEWALK', 'APARTMENT', 'STREET', 'STREET', 'STREET', 'RESIDENCE', 'RESIDENCE', 'ALLEY', 'SIDEWALK', 'SCHOOL, PUBLIC, BUILDING', 'OTHER', 'STREET', 'SIDEWALK', 'STREET', 'STREET', 'STREET', 'STREET', 'SIDEWALK', 'STREET', 'STREET', 'STREET', 'ALLEY', 'STREET', 'RESIDENCE', 'APARTMENT', 'STREET', 'APARTMENT', 'STREET', 'APARTMENT', 'DEPARTMENT STORE', 'STREET', 'SIDEWALK', 'STREET', 'STREET', 'STREET', 'STREET', 'RESIDENCE', 'SMALL RETAIL STORE', 'STREET', 'RESIDENCE', 'BAR OR TAVERN', 'DEPARTMENT STORE', 'STREET', 'OTHER', 'OTHER', 'STREET', 'STREET', 'SMALL RETAIL STORE', 'LAKEFRONT/WATERFRONT/RIVERBANK', 'STREET', 'CONVENIENCE STORE', 'SIDEWALK', 'SIDEWALK', 'APARTMENT', 'STREET', 'PARKING LOT/GARAGE(NON.RESID.)', 'VEHICLE NON-COMMERCIAL', 'STREET', 'OTHER', 'SIDEWALK', 'STREET', 'BAR OR TAVERN', 'RESTAURANT', 'STREET', 'HOSPITAL BUILDING/GROUNDS', 'DRIVEWAY - RESIDENTIAL', 'ALLEY', 'CONVENIENCE STORE', 'PARKING LOT/GARAGE(NON.RESID.)', 'APARTMENT', 'BANK', 'RESIDENCE', 'SIDEWALK', 'APARTMENT', 'RESIDENCE', 'STREET', 'STREET', 'RESIDENCE PORCH/HALLWAY', 'VEHICLE NON-COMMERCIAL', 'RESIDENCE', 'STREET', 'RESIDENTIAL YARD (FRONT/BACK)', 'SIDEWALK', 'CHURCH/SYNAGOGUE/PLACE OF WORSHIP', 'RESIDENCE', 'RESIDENCE', 'APARTMENT', 'STREET', 'STREET', 'STREET', 'STREET', 'CTA PLATFORM', 'COMMERCIAL / BUSINESS OFFICE', 'STREET', 'DRIVEWAY - RESIDENTIAL', 'MEDICAL/DENTAL OFFICE', 'RESIDENCE', 'APARTMENT', 'GROCERY FOOD STORE', 'RESIDENCE', 'STREET', 'RESIDENCE-GARAGE', 'STREET', 'OTHER', 'APARTMENT', 'RESIDENCE PORCH/HALLWAY', 'STREET', 'SCHOOL, PUBLIC, GROUNDS', 'STREET', 'RESIDENCE', 'STREET', 'STREET', 'SIDEWALK', 'BAR OR TAVERN', 'SIDEWALK', 'STREET', 'STREET', 'RESIDENCE PORCH/HALLWAY', 'RESIDENTIAL YARD (FRONT/BACK)', 'STREET', 'APARTMENT', 'GAS STATION', 'APARTMENT', 'STREET', 'RESIDENCE', 'APARTMENT', 'DRUG STORE', 'PARKING LOT/GARAGE(NON.RESID.)', 'SMALL RETAIL STORE', 'STREET', 'STREET', 'APARTMENT', 'APARTMENT', 'GROCERY FOOD STORE', 'RESIDENCE-GARAGE', 'SIDEWALK', 'SMALL RETAIL STORE', 'POLICE FACILITY/VEH PARKING LOT', 'APARTMENT', 'SIDEWALK', 'STREET', 'GROCERY FOOD STORE', 'APARTMENT', 'SIDEWALK', 'RESTAURANT', 'RESIDENCE', 'RESIDENCE-GARAGE', 'ATHLETIC CLUB', 'ALLEY', 'PARKING LOT/GARAGE(NON.RESID.)', 'SIDEWALK', 'STREET', 'SIDEWALK', 'RESIDENTIAL YARD (FRONT/BACK)', 'RESIDENCE', 'SIDEWALK', 'RESIDENCE', 'ALLEY', 'APARTMENT', 'VEHICLE NON-COMMERCIAL', 'RESIDENCE', 'RESIDENCE', 'STREET', 'RESIDENCE', 'RESIDENCE', 'STREET', 'APARTMENT', 'APARTMENT', 'RESIDENCE', 'APARTMENT', 'STREET', 'APARTMENT', 'STREET', 'RESIDENCE PORCH/HALLWAY', 'ALLEY', 'APARTMENT', 'STREET', 'RESIDENCE', 'STREET', 'APARTMENT', 'STREET', 'APARTMENT', 'RESIDENCE', 'RESIDENCE', 'SIDEWALK', 'RESIDENCE', 'RESIDENCE', 'RESIDENCE', 'APARTMENT', 'STREET', 'SIDEWALK', 'APARTMENT', 'APARTMENT', 'STREET', 'SIDEWALK', 'FIRE STATION', 'STREET', 'STREET', 'APARTMENT', 'STREET', 'VACANT LOT/LAND', 'STREET', 'SCHOOL, PRIVATE, BUILDING', 'STREET', 'RESIDENCE PORCH/HALLWAY', 'SIDEWALK', 'RESIDENCE', 'OTHER', 'OTHER', 'SMALL RETAIL STORE', 'APARTMENT', 'APARTMENT', 'DEPARTMENT STORE', 'APARTMENT', 'RESTAURANT', 'STREET', 'CTA TRAIN', 'RESIDENCE-GARAGE', 'STREET', 'RESIDENTIAL YARD (FRONT/BACK)', 'RESIDENCE', 'STREET', 'GROCERY FOOD STORE', 'APARTMENT', 'STREET', 'STREET', 'RESTAURANT', 'APARTMENT', 'RESIDENCE PORCH/HALLWAY', 'RESIDENCE', 'PARKING LOT/GARAGE(NON.RESID.)', 'RESIDENCE', 'RESIDENCE', 'RESIDENCE', 'APARTMENT', 'OTHER', 'ALLEY', 'RESIDENCE', 'RESIDENCE', 'STREET', 'DRIVEWAY - RESIDENTIAL', 'RESIDENCE-GARAGE', 'ALLEY', 'STREET', 'APARTMENT', 'STREET', 'STREET', 'RESIDENCE', 'STREET', 'STREET', 'OTHER', 'POLICE FACILITY/VEH PARKING LOT', 'STREET', 'APARTMENT', 'STREET', 'STREET', 'STREET', 'SIDEWALK', 'SCHOOL, PUBLIC, BUILDING', 'APARTMENT', 'RESIDENCE', 'SIDEWALK', 'COMMERCIAL / BUSINESS OFFICE', 'RESIDENCE', 'RESIDENCE', 'LAKEFRONT/WATERFRONT/RIVERBANK', 'ALLEY', 'RESIDENCE PORCH/HALLWAY', 'SIDEWALK', 'APARTMENT', 'STREET', 'SMALL RETAIL STORE', 'RESIDENCE', 'SIDEWALK', 'GAS STATION', 'HOTEL/MOTEL', 'RESIDENCE', 'APARTMENT', 'CTA STATION', 'CTA BUS', 'SIDEWALK', 'RESIDENCE', 'RESIDENCE', 'OTHER', 'GAS STATION', 'STREET', 'POLICE FACILITY/VEH PARKING LOT', 'APARTMENT', 'SIDEWALK', 'BANK', 'APARTMENT', 'STREET', 'APARTMENT', 'STREET', 'RESIDENCE', 'BARBERSHOP', 'STREET', 'STREET', 'GROCERY FOOD STORE', 'CONVENIENCE STORE', 'RESIDENCE-GARAGE', 'SIDEWALK', 'SIDEWALK', 'OTHER', 'APARTMENT', 'STREET', 'STREET', 'STREET', 'APARTMENT', 'APARTMENT', 'RESIDENCE', 'SCHOOL, PUBLIC, GROUNDS', 'RESIDENCE', 'SIDEWALK', 'STREET', 'STREET', 'PARKING LOT/GARAGE(NON.RESID.)', 'STREET', 'AIRCRAFT', 'ALLEY', 'RESIDENCE', 'RESIDENCE', 'RESIDENCE', 'RESIDENCE', 'DRIVEWAY - RESIDENTIAL', 'STREET', 'RESIDENCE', 'RESIDENCE', 'STREET', 'STREET', 'SIDEWALK', 'PARKING LOT/GARAGE(NON.RESID.)', 'STREET', 'STREET', 'STREET', 'APARTMENT', 'SIDEWALK', 'STREET', 'SIDEWALK', 'SIDEWALK', 'FEDERAL BUILDING', 'HOTEL/MOTEL', 'SCHOOL, PUBLIC, GROUNDS', 'APARTMENT', 'RESIDENCE', 'HOTEL/MOTEL', 'STREET', 'RESIDENCE', 'STREET', 'SIDEWALK', 'APARTMENT', 'STREET', 'OTHER COMMERCIAL TRANSPORTATION', 'STREET', 'STREET', 'RESIDENCE', 'SIDEWALK', 'RESIDENCE', 'VEHICLE - DELIVERY TRUCK', 'STREET', 'COMMERCIAL / BUSINESS OFFICE', 'SMALL RETAIL STORE', 'APARTMENT', 'STREET', 'STREET', 'STREET', 'RESIDENCE', 'APARTMENT', 'RESIDENCE', 'RESIDENCE', 'APARTMENT', 'APARTMENT', 'STREET', 'APARTMENT', 'STREET', 'SIDEWALK', 'RESIDENCE', 'SIDEWALK', 'CHA PARKING LOT/GROUNDS', 'SMALL RETAIL STORE', 'SIDEWALK', 'STREET', 'GAS STATION', 'STREET', 'OTHER', 'RESIDENCE', 'RESIDENCE', 'RESIDENCE', 'RESIDENCE-GARAGE', 'STREET', 'SIDEWALK', 'APARTMENT', 'APARTMENT', 'RESIDENCE', 'APARTMENT', 'STREET', 'RESIDENCE', 'APARTMENT', 'CTA BUS', 'RESIDENCE', 'STREET', 'ALLEY', 'STREET', 'STREET', 'STREET', 'STREET', 'STREET', 'RESIDENCE', 'SIDEWALK', 'STREET', 'RESIDENCE', 'STREET', 'STREET', 'STREET', 'STREET', 'RESIDENCE', 'SIDEWALK', 'STREET', 'AIRPORT BUILDING NON-TERMINAL - SECURE AREA', 'APARTMENT', 'RESIDENCE-GARAGE', 'RESIDENCE-GARAGE', 'HOSPITAL BUILDING/GROUNDS', 'RESIDENCE', 'RESIDENCE', 'STREET', 'OTHER', 'POLICE FACILITY/VEH PARKING LOT', 'RESIDENCE', 'RESIDENCE', 'RESIDENCE', 'BAR OR TAVERN', 'APARTMENT', 'RESTAURANT', 'SIDEWALK', 'STREET', 'RESTAURANT', 'STREET', 'HOSPITAL BUILDING/GROUNDS', 'CTA BUS STOP', 'SIDEWALK', 'APARTMENT', 'SIDEWALK', 'SCHOOL, PRIVATE, GROUNDS', 'DRIVEWAY - RESIDENTIAL', 'SIDEWALK', 'BANK', 'STREET', 'STREET', 'APARTMENT', 'RESIDENCE', 'CTA TRAIN', 'DEPARTMENT STORE', 'STREET', 'SIDEWALK', 'SIDEWALK', 'RESTAURANT', 'SIDEWALK', 'CTA STATION', 'RESIDENCE', 'CTA TRAIN', 'DEPARTMENT STORE', 'RESIDENCE-GARAGE', 'STREET', 'APARTMENT', 'PARKING LOT/GARAGE(NON.RESID.)', 'SMALL RETAIL STORE', 'APARTMENT', 'RESIDENCE', 'RESIDENCE', 'VEHICLE NON-COMMERCIAL', 'APARTMENT', 'APARTMENT', 'APARTMENT', 'STREET', 'RESIDENCE-GARAGE', 'RESIDENCE', 'HOTEL/MOTEL', 'RESIDENTIAL YARD (FRONT/BACK)', 'RESIDENCE-GARAGE', 'FACTORY/MANUFACTURING BUILDING', 'STREET', 'VEHICLE NON-COMMERCIAL', 'APARTMENT', 'STREET', 'DRIVEWAY - RESIDENTIAL', 'APARTMENT', 'OTHER', 'STREET', 'RESIDENCE', 'RESIDENCE PORCH/HALLWAY', 'APARTMENT', 'ALLEY', 'PARKING LOT/GARAGE(NON.RESID.)', 'STREET', 'COMMERCIAL / BUSINESS OFFICE', 'APARTMENT', 'SCHOOL, PRIVATE, BUILDING', 'APARTMENT', 'RESIDENCE', 'GROCERY FOOD STORE', 'RESIDENCE', 'RESIDENCE-GARAGE', 'SIDEWALK', 'RESIDENCE', 'APARTMENT', 'STREET', 'CHA APARTMENT', 'SIDEWALK', 'APARTMENT', 'RESIDENCE', 'STREET', 'SCHOOL, PUBLIC, BUILDING', 'RESIDENCE', 'RESIDENCE', 'PARK PROPERTY', 'SIDEWALK', 'SIDEWALK', 'RESTAURANT', 'STREET', 'APARTMENT', 'PARKING LOT/GARAGE(NON.RESID.)', 'PARKING LOT/GARAGE(NON.RESID.)', 'STREET', 'SIDEWALK', 'STREET'], 11: ['RESIDENCE', 'RESIDENCE', 'VACANT LOT/LAND', 'APARTMENT', 'GROCERY FOOD STORE', 'APARTMENT', 'STREET', 'APARTMENT', 'RESIDENTIAL YARD (FRONT/BACK)', 'RESIDENCE', 'SIDEWALK', 'STREET', 'STREET', 'STREET', 'STREET', 'RESIDENCE', 'RESIDENCE', 'APARTMENT', 'STREET', 'RESIDENCE-GARAGE', 'SIDEWALK', 'SMALL RETAIL STORE', 'APARTMENT', 'APARTMENT', 'APARTMENT', 'APARTMENT', 'APARTMENT', 'VEHICLE NON-COMMERCIAL', 'STREET', 'OTHER RAILROAD PROP / TRAIN DEPOT', 'VEHICLE NON-COMMERCIAL', 'CTA TRAIN', 'STREET', 'CTA PLATFORM', 'SIDEWALK', 'SCHOOL, PUBLIC, BUILDING', 'RESTAURANT', 'RESIDENCE', 'APARTMENT', 'STREET', 'RESIDENCE', 'CTA BUS', 'APARTMENT', 'STREET', 'RESIDENCE', 'RESIDENCE', 'PARKING LOT/GARAGE(NON.RESID.)', 'CONVENIENCE STORE', 'DRUG STORE', 'PARKING LOT/GARAGE(NON.RESID.)', 'STREET', 'APARTMENT', 'STREET', 'RESIDENCE', 'STREET', 'STREET', 'APARTMENT', 'STREET', 'APARTMENT', 'SIDEWALK', 'SIDEWALK', 'STREET', 'APARTMENT', 'RESIDENTIAL YARD (FRONT/BACK)', 'RESIDENCE', 'STREET', 'APARTMENT', 'STREET', 'STREET', '', 'FACTORY/MANUFACTURING BUILDING', 'STREET', 'RESIDENCE', 'OTHER', 'VEHICLE NON-COMMERCIAL', 'APARTMENT', 'RESTAURANT', 'STREET', 'ALLEY', 'OTHER', 'CHA PARKING LOT/GROUNDS', 'ALLEY', 'SIDEWALK', 'STREET', 'APARTMENT', 'STREET', 'PARKING LOT/GARAGE(NON.RESID.)', 'PARK PROPERTY', 'DEPARTMENT STORE', 'RESIDENCE', 'SIDEWALK', 'RESIDENCE', 'SIDEWALK', 'STREET', 'STREET', 'RESIDENCE PORCH/HALLWAY', 'STREET', 'SCHOOL, PUBLIC, BUILDING', 'RESIDENCE-GARAGE', 'STREET', 'OTHER', 'APARTMENT', 'APARTMENT', 'ALLEY', 'RESIDENCE', 'APARTMENT', 'APARTMENT', 'RESIDENCE', 'APARTMENT', 'RESIDENCE', 'PARKING LOT/GARAGE(NON.RESID.)', 'SCHOOL, PUBLIC, BUILDING', 'GAS STATION', 'STREET', 'HOTEL/MOTEL', 'STREET', 'APARTMENT', 'STREET', 'RESIDENCE', 'RESIDENCE', 'RESIDENCE PORCH/HALLWAY', 'APARTMENT', 'APARTMENT', 'RESIDENCE', 'RESIDENCE', 'VEHICLE NON-COMMERCIAL', 'SMALL RETAIL STORE', 'APARTMENT', 'AIRCRAFT', 'PARKING LOT/GARAGE(NON.RESID.)', 'STREET', 'SIDEWALK', 'ALLEY', 'GAS STATION', 'APARTMENT', 'RESIDENCE', 'STREET', 'RESIDENCE-GARAGE', 'APARTMENT', 'SIDEWALK', 'RESIDENCE', 'SIDEWALK', 'SMALL RETAIL STORE', 'RESIDENCE', 'STREET', 'RESIDENCE', 'STREET', 'BAR OR TAVERN', 'STREET', 'SIDEWALK', 'PARKING LOT/GARAGE(NON.RESID.)', 'STREET', 'STREET', 'RESIDENCE-GARAGE', 'OTHER', 'HOTEL/MOTEL', 'PARKING LOT/GARAGE(NON.RESID.)', 'APARTMENT', 'STREET', 'RESIDENCE', 'RESIDENTIAL YARD (FRONT/BACK)', 'RESIDENCE', 'RESIDENTIAL YARD (FRONT/BACK)', 'APARTMENT', 'PARKING LOT/GARAGE(NON.RESID.)', 'APARTMENT', 'STREET', 'STREET', 'APARTMENT', 'SIDEWALK', 'RESIDENCE', 'RESIDENCE', 'STREET', 'RESIDENCE', 'CTA TRAIN', 'SMALL RETAIL STORE', 'APARTMENT', 'STREET', 'RESTAURANT', 'RESIDENCE', 'RESIDENCE-GARAGE', 'SMALL RETAIL STORE', 'RESIDENCE', 'RESIDENTIAL YARD (FRONT/BACK)', 'STREET', 'ALLEY', 'VACANT LOT/LAND', 'RESIDENTIAL YARD (FRONT/BACK)', 'ALLEY', 'SIDEWALK', 'RESIDENCE', 'APARTMENT', 'STREET', 'SIDEWALK', 'APARTMENT', 'SIDEWALK', 'BANK', 'APARTMENT', 'PARKING LOT/GARAGE(NON.RESID.)', 'APARTMENT', 'STREET', 'RESIDENCE', 'STREET', 'PARKING LOT/GARAGE(NON.RESID.)', 'TAXICAB', 'OTHER', 'PARKING LOT/GARAGE(NON.RESID.)', 'STREET', 'STREET', 'RESIDENCE', 'RESIDENCE', 'APARTMENT', 'APARTMENT', 'SCHOOL, PUBLIC, BUILDING', 'RESIDENCE', 'STREET', 'SIDEWALK', 'STREET', 'RESIDENCE', 'RESIDENCE', 'RESIDENCE', 'STREET', 'VEHICLE - DELIVERY TRUCK', 'RESIDENCE', 'RESIDENCE', 'APARTMENT', 'STREET', 'SIDEWALK', 'SMALL RETAIL STORE', 'RESIDENCE', 'RESIDENCE', 'APARTMENT', 'SCHOOL, PUBLIC, BUILDING', 'RESIDENCE', 'STREET', 'STREET', 'SIDEWALK', 'RESTAURANT', 'ABANDONED BUILDING', 'RESTAURANT', 'SMALL RETAIL STORE', 'RESIDENCE PORCH/HALLWAY', 'STREET', 'BAR OR TAVERN', 'RESIDENCE', 'APARTMENT', 'BAR OR TAVERN', 'SCHOOL, PUBLIC, BUILDING', 'STREET', 'RESIDENCE', 'SCHOOL, PUBLIC, BUILDING', 'STREET', 'HOTEL/MOTEL', 'OTHER', 'STREET', 'DEPARTMENT STORE', 'PARKING LOT/GARAGE(NON.RESID.)', 'ALLEY', 'SMALL RETAIL STORE', 'RESIDENCE', 'VEHICLE-COMMERCIAL', 'APARTMENT', 'CTA TRAIN', 'CTA BUS STOP', 'APARTMENT', 'STREET', 'VACANT LOT/LAND', 'STREET', 'OTHER', 'CTA STATION', 'APARTMENT', 'STREET', 'APARTMENT', 'APARTMENT', 'RESTAURANT', 'GAS STATION', 'APARTMENT', 'APARTMENT', 'DRUG STORE', 'APARTMENT', 'RESIDENCE-GARAGE', 'APARTMENT', 'APARTMENT', 'OTHER', 'HOTEL/MOTEL', 'SMALL RETAIL STORE', 'OTHER', 'RESIDENCE PORCH/HALLWAY', 'SIDEWALK', 'GOVERNMENT BUILDING/PROPERTY', 'STREET', 'RESIDENCE', 'RESIDENCE', 'RESTAURANT', 'RESIDENCE-GARAGE', 'CHA APARTMENT', 'PARKING LOT/GARAGE(NON.RESID.)', 'RESIDENCE', 'GROCERY FOOD STORE', 'STREET', 'DEPARTMENT STORE', 'RESIDENCE PORCH/HALLWAY', 'RESIDENCE', 'APARTMENT', 'RESIDENCE', 'STREET', 'DEPARTMENT STORE', 'GAS STATION', 'PARK PROPERTY', 'CTA TRAIN', 'VEHICLE NON-COMMERCIAL', 'RESIDENCE', 'STREET', 'OTHER', 'GAS STATION', 'RESIDENCE', 'STREET', 'OTHER', 'SIDEWALK', 'GAS STATION', 'OTHER', 'STREET', 'STREET', 'STREET', 'SMALL RETAIL STORE', 'STREET', 'APARTMENT', 'APARTMENT', 'STREET', 'RESIDENCE', 'HOTEL/MOTEL', 'SMALL RETAIL STORE', 'RESIDENCE', 'RESIDENCE', 'SMALL RETAIL STORE', 'APARTMENT', 'RESIDENCE', 'DEPARTMENT STORE', 'WAREHOUSE', 'STREET', 'APARTMENT', 'RESIDENCE', 'STREET', 'STREET', 'DRUG STORE', 'GROCERY FOOD STORE', 'RESIDENCE', 'RESIDENCE', 'PARKING LOT/GARAGE(NON.RESID.)', 'SIDEWALK', 'APARTMENT', 'SIDEWALK', 'APARTMENT', 'STREET', 'RESIDENCE', 'STREET', 'SCHOOL, PUBLIC, BUILDING', 'RESIDENCE', 'STREET', 'STREET', 'RESTAURANT', 'RESIDENCE', 'SIDEWALK', 'STREET', 'SIDEWALK', 'CTA TRAIN', 'CTA BUS STOP', 'STREET', 'PARKING LOT/GARAGE(NON.RESID.)', 'APARTMENT', 'SIDEWALK', 'APARTMENT', 'ALLEY', 'RESIDENCE', 'SMALL RETAIL STORE', 'RESIDENCE', 'SIDEWALK', 'STREET', 'ALLEY', 'OTHER', 'STREET', 'RESIDENCE', 'HOSPITAL BUILDING/GROUNDS', 'AIRPORT EXTERIOR - NON-SECURE AREA', 'SIDEWALK', 'STREET', 'GROCERY FOOD STORE', 'STREET', 'OTHER', 'GROCERY FOOD STORE', 'RESIDENCE-GARAGE', 'STREET', 'RESIDENCE', 'RESIDENCE', 'RESIDENCE PORCH/HALLWAY', 'STREET', 'STREET', 'HOTEL/MOTEL', 'STREET', 'STREET', 'BAR OR TAVERN', 'APARTMENT', 'ALLEY', 'DEPARTMENT STORE', 'APARTMENT', 'RESIDENCE', 'GAS STATION', 'APARTMENT', 'RESIDENCE', 'OTHER', 'APARTMENT', 'BANK', 'RESTAURANT', 'RESIDENCE', 'STREET', 'STREET', 'RESIDENCE', 'PARKING LOT/GARAGE(NON.RESID.)', 'APARTMENT', 'STREET', 'ALLEY', 'RESIDENCE', 'APARTMENT', 'SIDEWALK', 'RESIDENTIAL YARD (FRONT/BACK)', 'SIDEWALK', 'RESTAURANT', 'SCHOOL, PUBLIC, BUILDING', 'APARTMENT', 'OTHER', 'RESIDENCE', 'RESIDENCE-GARAGE', 'CTA BUS STOP', 'RESIDENCE', 'PARKING LOT/GARAGE(NON.RESID.)', 'CTA TRAIN', 'NURSING HOME/RETIREMENT HOME', 'RESIDENCE', 'APARTMENT', 'COMMERCIAL / BUSINESS OFFICE', 'LIBRARY', 'RESIDENCE PORCH/HALLWAY', 'ATM (AUTOMATIC TELLER MACHINE)', 'OTHER', 'OTHER', 'STREET', 'STREET', 'RESIDENCE PORCH/HALLWAY', 'STREET', 'APARTMENT', 'RESIDENCE', 'SCHOOL, PUBLIC, BUILDING', 'APARTMENT', 'STREET', 'DEPARTMENT STORE', 'STREET', 'RESIDENCE', 'STREET', 'STREET', 'ATHLETIC CLUB', 'SMALL RETAIL STORE', 'SIDEWALK', 'APARTMENT', 'STREET', 'APARTMENT', 'STREET', 'RESIDENCE', 'OTHER', 'RESIDENCE-GARAGE', 'RESIDENCE', 'SIDEWALK', 'STREET', 'AIRPORT TERMINAL UPPER LEVEL - SECURE AREA', 'APARTMENT', 'SMALL RETAIL STORE', 'APARTMENT', 'STREET', 'SIDEWALK', 'APARTMENT', 'RESIDENTIAL YARD (FRONT/BACK)', 'OTHER', 'RESTAURANT', 'RESIDENCE', 'RESIDENCE', 'GROCERY FOOD STORE', 'OTHER', 'RESIDENCE', 'RESIDENCE', 'SIDEWALK', 'OTHER', 'STREET', 'AUTO', 'APARTMENT', 'RESIDENTIAL YARD (FRONT/BACK)', 'SIDEWALK', 'CONVENIENCE STORE', 'GROCERY FOOD STORE', 'RESIDENCE', 'RESIDENCE-GARAGE', 'STREET', 'APARTMENT', 'STREET', 'RESIDENCE', 'ALLEY', 'STREET', 'RESTAURANT', 'RESIDENCE', 'STREET', '', 'STREET', 'STREET', 'SIDEWALK', 'GROCERY FOOD STORE', 'STREET', 'RESIDENCE-GARAGE', 'GAS STATION', 'CTA TRAIN', 'STREET', 'APARTMENT', 'GROCERY FOOD STORE', 'OTHER', 'STREET', 'CTA BUS', 'RESIDENCE', 'STREET', 'SIDEWALK', 'STREET', 'STREET', 'BAR OR TAVERN', 'COMMERCIAL / BUSINESS OFFICE', 'STREET', 'RESTAURANT', 'DEPARTMENT STORE', 'APARTMENT', 'STREET', 'RESIDENCE', 'APARTMENT', 'RESIDENCE', 'SIDEWALK', 'STREET', 'SIDEWALK', 'RESIDENCE', 'RESIDENCE', 'RESIDENCE', 'RESIDENCE', 'RESIDENCE', 'RESIDENCE', 'STREET', 'PARKING LOT/GARAGE(NON.RESID.)', 'CTA BUS', 'APARTMENT', 'HIGHWAY/EXPRESSWAY', 'APARTMENT', 'PARKING LOT/GARAGE(NON.RESID.)', 'SIDEWALK', 'APARTMENT', 'OTHER', 'APARTMENT', 'STREET', 'STREET', 'SIDEWALK', 'COMMERCIAL / BUSINESS OFFICE', 'STREET', 'RESTAURANT', 'PARKING LOT/GARAGE(NON.RESID.)', 'DEPARTMENT STORE', 'STREET', 'SCHOOL, PUBLIC, BUILDING', 'APARTMENT', 'APARTMENT', 'STREET', 'RESIDENCE', 'STREET', 'APARTMENT', 'STREET', 'APARTMENT', 'APARTMENT', 'STREET', 'STREET', 'STREET', 'APARTMENT', 'STREET', 'STREET', 'STREET', 'APARTMENT', 'STREET', 'STREET', 'RESIDENCE', 'STREET', 'STREET', 'SPORTS ARENA/STADIUM', 'RESTAURANT', 'APARTMENT', 'STREET', 'RESIDENCE', 'RESIDENCE', 'RESIDENCE-GARAGE', 'RESIDENCE', 'SIDEWALK', 'ALLEY', 'STREET', 'RESIDENCE', 'RESIDENCE', 'RESIDENCE', 'APARTMENT', 'AIRPORT PARKING LOT', 'RESIDENCE PORCH/HALLWAY', 'SCHOOL, PUBLIC, BUILDING', 'RESIDENCE', 'STREET', 'SMALL RETAIL STORE', 'APARTMENT', 'GROCERY FOOD STORE', 'POLICE FACILITY/VEH PARKING LOT', 'RESIDENCE', 'CTA STATION', 'STREET', 'APARTMENT', 'APARTMENT', 'DRUG STORE', 'RESIDENCE', 'PARKING LOT/GARAGE(NON.RESID.)', 'OTHER', 'DEPARTMENT STORE', 'RESIDENTIAL YARD (FRONT/BACK)', 'APARTMENT', 'RESIDENCE', 'PARKING LOT/GARAGE(NON.RESID.)', 'RESIDENTIAL YARD (FRONT/BACK)', 'STREET', 'APARTMENT', 'OTHER', 'PARKING LOT/GARAGE(NON.RESID.)', 'SIDEWALK', 'APARTMENT', 'STREET', 'RESIDENCE', 'APARTMENT', 'RESTAURANT', 'APARTMENT', 'ATHLETIC CLUB', 'APARTMENT', 'STREET', 'APARTMENT', 'APARTMENT', 'RESIDENCE', 'SMALL RETAIL STORE', 'SIDEWALK', 'SMALL RETAIL STORE', 'RESIDENCE', 'OTHER', 'STREET', 'STREET', 'COMMERCIAL / BUSINESS OFFICE', 'APARTMENT', 'APARTMENT', 'SIDEWALK', 'RESTAURANT', 'STREET', 'PARKING LOT/GARAGE(NON.RESID.)', 'STREET', 'ALLEY', 'STREET', 'RESIDENCE', 'APARTMENT', 'RESIDENCE', 'BAR OR TAVERN', 'RESIDENCE', 'STREET', 'HOUSE', 'STREET', 'RESIDENCE-GARAGE', 'RESIDENCE', 'RESIDENCE', 'APARTMENT', 'STREET', 'RESIDENCE PORCH/HALLWAY', 'PARKING LOT/GARAGE(NON.RESID.)', 'SIDEWALK', 'RESIDENCE', 'RESIDENCE', 'RESIDENCE-GARAGE', 'STREET', 'STREET', 'RESIDENCE', 'RESIDENCE-GARAGE', 'PARK PROPERTY', 'RESIDENCE', 'ALLEY', 'SIDEWALK', 'CTA BUS', 'STREET', 'APARTMENT', 'GAS STATION', 'RESIDENCE PORCH/HALLWAY', 'SIDEWALK', 'RESIDENCE', 'RESIDENCE-GARAGE', 'DRUG STORE', 'STREET', 'SIDEWALK', 'APARTMENT', 'APARTMENT', 'APARTMENT', 'SIDEWALK', 'CONVENIENCE STORE', 'DEPARTMENT STORE', 'APARTMENT', 'SMALL RETAIL STORE', 'STREET', 'APARTMENT', 'STREET', 'APARTMENT', 'BANK', 'STREET', 'RESIDENCE', 'PARKING LOT/GARAGE(NON.RESID.)', 'APARTMENT', 'STREET', 'SIDEWALK', 'STREET', 'APARTMENT', 'JAIL / LOCK-UP FACILITY', 'APARTMENT', 'APARTMENT', 'RESIDENCE', 'APARTMENT', 'STREET', 'PARKING LOT/GARAGE(NON.RESID.)', 'APARTMENT', 'STREET', 'LIBRARY', 'ALLEY', 'RESIDENCE', 'RESIDENCE', 'RESIDENCE', 'RESIDENCE', 'RESIDENCE', 'CONVENIENCE STORE', 'STREET', 'STREET', 'STREET', 'RESIDENCE', 'APARTMENT', 'AIRPORT PARKING LOT', 'STREET', 'SIDEWALK', 'CTA TRAIN', 'STREET', 'BAR OR TAVERN', 'RESIDENCE', 'PARKING LOT/GARAGE(NON.RESID.)', 'APARTMENT', 'VACANT LOT/LAND', 'STREET', 'SCHOOL, PUBLIC, BUILDING', 'SIDEWALK', 'RESIDENCE', 'SCHOOL, PRIVATE, BUILDING', 'APARTMENT', 'OTHER', 'STREET', 'RESIDENCE', 'RESIDENCE PORCH/HALLWAY', 'RESIDENCE', 'SCHOOL, PUBLIC, BUILDING', 'RESIDENTIAL YARD (FRONT/BACK)', 'CHA APARTMENT', 'VEHICLE NON-COMMERCIAL', 'GROCERY FOOD STORE', 'RESTAURANT', 'SIDEWALK', 'RESIDENCE', 'STREET', 'PARKING LOT/GARAGE(NON.RESID.)', 'DEPARTMENT STORE', 'STREET', 'APARTMENT', 'STREET', 'STREET', 'OTHER', 'STREET', 'COMMERCIAL / BUSINESS OFFICE', 'SIDEWALK', 'APARTMENT', 'RESIDENCE', 'RESIDENCE', 'MOVIE HOUSE/THEATER', 'RESIDENCE', 'RESTAURANT', 'STREET', 'RESIDENCE', 'DEPARTMENT STORE', 'CTA BUS', 'STREET', 'STREET', 'RESIDENCE', 'CTA STATION', 'APARTMENT', 'STREET', 'DAY CARE CENTER', 'RESIDENCE', 'MOVIE HOUSE/THEATER', 'MEDICAL/DENTAL OFFICE', 'OTHER', 'RESIDENTIAL YARD (FRONT/BACK)', 'SIDEWALK', 'RESIDENCE', 'STREET', 'STREET', 'OTHER', 'SIDEWALK', 'GAS STATION', 'DEPARTMENT STORE', 'STREET', 'STREET', 'PARKING LOT/GARAGE(NON.RESID.)', 'OTHER', 'CLEANING STORE', 'STREET', 'RESIDENCE', 'PARKING LOT/GARAGE(NON.RESID.)', 'STREET', 'STREET', 'STREET', 'SIDEWALK', 'OTHER', 'SIDEWALK', 'GAS STATION', 'SIDEWALK', 'PARKING LOT/GARAGE(NON.RESID.)', 'STREET', 'SMALL RETAIL STORE', 'STREET', 'RESIDENCE', 'CTA TRAIN', 'STREET', 'STREET', 'APARTMENT', 'APARTMENT', 'APARTMENT', 'PARKING LOT/GARAGE(NON.RESID.)', 'RESIDENCE', 'APARTMENT', 'SIDEWALK', 'STREET', 'GROCERY FOOD STORE', 'STREET', 'APARTMENT', 'APARTMENT', 'SIDEWALK', 'STREET', 'SIDEWALK', 'RESIDENCE', 'CTA BUS', 'VEHICLE NON-COMMERCIAL', 'ALLEY', 'APARTMENT', 'SIDEWALK', 'RESIDENCE', 'PARKING LOT/GARAGE(NON.RESID.)', 'APARTMENT', 'APARTMENT', 'STREET', 'RESTAURANT', 'STREET', 'SMALL RETAIL STORE', 'STREET', 'STREET', 'OTHER', 'STREET', 'SIDEWALK', 'RESIDENCE', 'SMALL RETAIL STORE', 'GAS STATION', 'APARTMENT', 'APARTMENT', 'STREET', 'RESIDENCE', 'RESIDENCE', 'PARKING LOT/GARAGE(NON.RESID.)', 'OTHER', 'SIDEWALK', 'AIRPORT VENDING ESTABLISHMENT', 'APARTMENT', 'RESIDENCE', 'SIDEWALK', 'RESIDENCE', 'SCHOOL, PUBLIC, GROUNDS', 'RESIDENCE', 'STREET', 'PARKING LOT/GARAGE(NON.RESID.)', 'RESIDENCE', 'OTHER', 'RESIDENCE', 'APARTMENT', 'STREET', 'RESIDENCE-GARAGE', 'APARTMENT', 'APARTMENT', 'ALLEY', 'STREET', 'SCHOOL, PUBLIC, BUILDING', 'SIDEWALK', 'RESIDENCE', 'PARKING LOT/GARAGE(NON.RESID.)', 'APARTMENT', 'RESIDENCE', 'GROCERY FOOD STORE', 'RESIDENCE', 'STREET', 'OTHER', 'STREET', 'RESIDENCE', 'APARTMENT', 'STREET', 'STREET', 'RESIDENCE', 'OTHER', 'STREET', 'SCHOOL, PUBLIC, GROUNDS', 'STREET', 'STREET', 'STREET', 'RESIDENCE', 'SIDEWALK', 'APARTMENT', 'RESTAURANT', 'RESIDENCE', 'SMALL RETAIL STORE', 'APARTMENT', 'RESIDENCE', 'STREET', 'OTHER', 'STREET', 'STREET', 'VEHICLE-COMMERCIAL', 'DEPARTMENT STORE', 'PARK PROPERTY', 'RESIDENCE', 'RESTAURANT', 'CTA STATION', 'RESIDENCE', 'STREET', 'RESIDENCE', 'RESIDENCE', 'RESIDENCE', 'HOTEL/MOTEL', 'APARTMENT', 'SCHOOL, PRIVATE, BUILDING', 'CTA BUS', 'RESTAURANT', 'GROCERY FOOD STORE', 'STREET', 'ABANDONED BUILDING', 'RESTAURANT', 'RESIDENCE', 'APARTMENT', 'GAS STATION', 'SIDEWALK', 'APARTMENT', 'STREET', 'SCHOOL, PUBLIC, BUILDING', 'OTHER', 'RESIDENCE', 'SIDEWALK', 'RESIDENCE PORCH/HALLWAY', 'STREET', 'RESIDENTIAL YARD (FRONT/BACK)', 'STREET', 'RESIDENCE', 'PARKING LOT/GARAGE(NON.RESID.)', 'COMMERCIAL / BUSINESS OFFICE', 'STREET', 'DEPARTMENT STORE', '', 'STREET', 'STREET', 'RESIDENCE', 'RESIDENCE', 'RESTAURANT', 'RESIDENCE', 'RESIDENCE', 'APARTMENT', 'STREET', 'STREET', 'STREET', 'SIDEWALK', 'DRIVEWAY - RESIDENTIAL', 'STREET', 'RESIDENCE', 'RESIDENCE', 'RESIDENCE', 'APARTMENT', 'APARTMENT', 'BAR OR TAVERN', 'STREET', 'SMALL RETAIL STORE', 'RESIDENCE PORCH/HALLWAY', 'STREET', 'RESIDENCE', 'RESIDENCE-GARAGE', 'STREET', 'STREET', 'RESIDENCE', 'STREET', 'PARKING LOT/GARAGE(NON.RESID.)', 'RESIDENCE', 'SMALL RETAIL STORE', 'OTHER', 'STREET', 'SCHOOL, PUBLIC, BUILDING', 'STREET', 'RESTAURANT', 'STREET', 'STREET', 'RESIDENCE-GARAGE', 'GROCERY FOOD STORE', 'STREET', 'CHA PARKING LOT/GROUNDS', 'RESTAURANT', 'SIDEWALK', 'SIDEWALK', 'PARKING LOT/GARAGE(NON.RESID.)', 'SIDEWALK', 'SCHOOL, PUBLIC, BUILDING'], 8: ['RESIDENCE', 'APARTMENT', 'PARKING LOT/GARAGE(NON.RESID.)', 'STREET', 'STREET', 'RESIDENCE', 'APARTMENT', 'STREET', 'STREET', 'APARTMENT', 'APARTMENT', 'SIDEWALK', 'CTA TRAIN', 'STREET', 'OTHER', 'VEHICLE NON-COMMERCIAL', 'VEHICLE NON-COMMERCIAL', 'BAR OR TAVERN', 'STREET', 'STREET', 'COMMERCIAL / BUSINESS OFFICE', 'STREET', 'SMALL RETAIL STORE', 'SCHOOL, PUBLIC, BUILDING', 'RESIDENCE', 'RESIDENCE', 'VEHICLE NON-COMMERCIAL', 'STREET', 'STREET', 'ATHLETIC CLUB', 'RESIDENCE', 'RESIDENTIAL YARD (FRONT/BACK)', 'OTHER', 'SCHOOL, PUBLIC, BUILDING', 'STREET', 'RESIDENCE', 'SMALL RETAIL STORE', 'RESIDENCE', 'RESIDENCE', 'RESIDENTIAL YARD (FRONT/BACK)', 'SIDEWALK', 'RESIDENCE', 'RESIDENTIAL YARD (FRONT/BACK)', 'STREET', 'RESIDENCE', 'APARTMENT', 'PARKING LOT/GARAGE(NON.RESID.)', 'STREET', 'RESIDENTIAL YARD (FRONT/BACK)', 'APARTMENT', 'RESIDENCE', 'OTHER', 'CTA TRAIN', 'SMALL RETAIL STORE', 'SIDEWALK', 'GROCERY FOOD STORE', 'GOVERNMENT BUILDING/PROPERTY', 'SIDEWALK', 'RESIDENCE', 'PARKING LOT/GARAGE(NON.RESID.)', 'CTA BUS STOP', 'APARTMENT', 'APARTMENT', 'STREET', 'RESIDENCE', 'STREET', 'SIDEWALK', 'APARTMENT', 'SIDEWALK', 'SMALL RETAIL STORE', 'STREET', 'RESIDENTIAL YARD (FRONT/BACK)', 'STREET', 'PARK PROPERTY', 'APARTMENT', 'RESIDENTIAL YARD (FRONT/BACK)', 'CONVENIENCE STORE', 'CTA TRAIN', 'VEHICLE - OTHER RIDE SERVICE', 'RESIDENCE', 'RESIDENCE', 'HOSPITAL BUILDING/GROUNDS', 'OTHER', 'GROCERY FOOD STORE', 'CTA STATION', '', 'STREET', 'COMMERCIAL / BUSINESS OFFICE', 'RESIDENCE', 'STREET', 'STREET', 'SIDEWALK', 'RESIDENCE', 'STREET', 'STREET', 'RESIDENTIAL YARD (FRONT/BACK)', 'RESIDENCE', 'RESIDENCE PORCH/HALLWAY', 'SIDEWALK', 'ALLEY', 'RESIDENCE', 'RESIDENTIAL YARD (FRONT/BACK)', 'STREET', 'SIDEWALK', 'RESIDENCE PORCH/HALLWAY', 'STREET', 'APARTMENT', 'APARTMENT', 'RESIDENCE', 'APARTMENT', 'RESIDENCE', 'RESIDENCE', 'STREET', 'RESTAURANT', 'PARKING LOT/GARAGE(NON.RESID.)', 'RESIDENCE', 'SIDEWALK', 'APARTMENT', 'RESIDENCE', 'DEPARTMENT STORE', 'SIDEWALK', 'RESIDENCE', 'PARK PROPERTY', 'RESIDENCE', 'STREET', 'RESIDENCE PORCH/HALLWAY', 'RESIDENTIAL YARD (FRONT/BACK)', 'RESIDENTIAL YARD (FRONT/BACK)', 'ALLEY', 'SIDEWALK', 'STREET', 'STREET', 'RESIDENTIAL YARD (FRONT/BACK)', 'STREET', 'SIDEWALK', 'RESIDENCE', 'DAY CARE CENTER', 'SIDEWALK', 'RESIDENTIAL YARD (FRONT/BACK)', 'RESIDENCE', 'APARTMENT', 'RESIDENCE', 'RESTAURANT', 'APARTMENT', 'RESIDENTIAL YARD (FRONT/BACK)', 'VEHICLE NON-COMMERCIAL', 'RESIDENCE', 'RESIDENCE', 'STREET', 'SIDEWALK', 'CHA APARTMENT', 'SIDEWALK', 'RESIDENCE', 'COMMERCIAL / BUSINESS OFFICE', 'HOSPITAL BUILDING/GROUNDS', 'DAY CARE CENTER', 'RESIDENCE', 'RESTAURANT', 'BARBERSHOP', 'APARTMENT', 'RESIDENCE', 'RESIDENCE-GARAGE', 'RESIDENCE', 'RESIDENCE', 'STREET', 'STREET', 'RESIDENCE', 'STREET', 'VEHICLE NON-COMMERCIAL', 'SIDEWALK', 'OTHER', 'APARTMENT', 'HOTEL/MOTEL', 'STREET', 'VEHICLE NON-COMMERCIAL', 'SIDEWALK', 'APARTMENT', 'OTHER', 'RESIDENCE', 'RESIDENCE', 'STREET', 'STREET', 'OTHER', 'CONVENIENCE STORE', 'SMALL RETAIL STORE', 'RESIDENCE-GARAGE', 'STREET', 'STREET', 'SMALL RETAIL STORE', 'RESIDENCE', 'STREET', 'RESIDENCE', 'RESIDENCE', 'SIDEWALK', 'SIDEWALK', 'COMMERCIAL / BUSINESS OFFICE', 'STREET', 'STREET', 'APARTMENT', 'RESIDENCE', 'APARTMENT', 'SIDEWALK', 'STREET', 'APARTMENT', 'SIDEWALK', 'SIDEWALK', 'OTHER', 'STREET', 'RESIDENCE', 'DRIVEWAY - RESIDENTIAL', 'SMALL RETAIL STORE', 'STREET', 'SCHOOL, PUBLIC, GROUNDS', 'RESIDENCE-GARAGE', 'HOSPITAL BUILDING/GROUNDS', 'STREET', 'RESIDENCE-GARAGE', 'RESIDENCE', 'HOSPITAL BUILDING/GROUNDS', 'RESIDENCE', 'STREET', 'ALLEY', 'STREET', 'STREET', 'APARTMENT', 'SIDEWALK', 'STREET', 'STREET', 'NURSING HOME/RETIREMENT HOME', 'RESIDENCE PORCH/HALLWAY', 'SIDEWALK', 'SIDEWALK', 'APARTMENT', 'RESIDENCE', 'STREET', 'RESIDENCE', 'OTHER', 'RESIDENCE', 'APARTMENT', 'SMALL RETAIL STORE', 'RESIDENCE', 'STREET', 'VEHICLE NON-COMMERCIAL', 'BAR OR TAVERN', 'RESIDENCE-GARAGE', 'DRUG STORE', 'VEHICLE NON-COMMERCIAL', 'STREET', 'STREET', 'VEHICLE NON-COMMERCIAL', 'STREET', 'GROCERY FOOD STORE', 'STREET', 'RESIDENCE-GARAGE', 'STREET', 'COIN OPERATED MACHINE', 'STREET', 'RESIDENCE', 'GROCERY FOOD STORE', 'RESIDENCE', 'RESTAURANT', 'RESIDENCE-GARAGE', 'APARTMENT', 'BANK', 'STREET', 'STREET', 'STREET', 'DEPARTMENT STORE', 'RESIDENCE', 'DRIVEWAY - RESIDENTIAL', 'OTHER', 'VEHICLE NON-COMMERCIAL', 'RESIDENCE', 'APARTMENT', 'CTA STATION', 'STREET', 'SIDEWALK', 'SIDEWALK', 'RESIDENCE', 'SIDEWALK', 'RESIDENCE-GARAGE', 'SMALL RETAIL STORE', 'RESIDENCE', 'RESIDENCE', 'SIDEWALK', 'GROCERY FOOD STORE', 'RESIDENCE', 'RESIDENCE', 'RESIDENCE', 'RESIDENCE', 'RESIDENTIAL YARD (FRONT/BACK)', 'BARBERSHOP', 'RESIDENCE', 'STREET', 'OTHER', 'STREET', 'STREET', 'RESIDENCE', 'GROCERY FOOD STORE', 'RESIDENCE', 'RESIDENCE PORCH/HALLWAY', 'PARKING LOT/GARAGE(NON.RESID.)', 'STREET', 'OTHER', 'RESIDENCE', 'GAS STATION', 'RESIDENCE PORCH/HALLWAY', 'RESIDENCE', 'RESIDENCE', 'BAR OR TAVERN', 'STREET', 'DEPARTMENT STORE', 'RESIDENCE-GARAGE', 'VEHICLE NON-COMMERCIAL', 'RESIDENCE', 'RESIDENCE-GARAGE', 'RESTAURANT', 'STREET', 'RESIDENCE', 'RESIDENCE', 'APARTMENT', 'APARTMENT', 'APARTMENT', 'RESTAURANT', 'RESIDENCE PORCH/HALLWAY', 'CLEANING STORE', 'HOSPITAL BUILDING/GROUNDS', 'RESIDENCE', 'SIDEWALK', 'PARK PROPERTY', 'STREET', 'STREET', 'RESIDENTIAL YARD (FRONT/BACK)', 'STREET', 'DEPARTMENT STORE', 'PARK PROPERTY', 'RESIDENCE', 'GAS STATION', 'APARTMENT', 'GAS STATION', 'RESIDENCE-GARAGE', 'SIDEWALK', 'STREET', 'RESIDENTIAL YARD (FRONT/BACK)', 'PARKING LOT/GARAGE(NON.RESID.)', 'RESIDENCE', 'ALLEY', 'RESIDENCE', 'CHA HALLWAY/STAIRWELL/ELEVATOR', 'SIDEWALK', 'OTHER RAILROAD PROP / TRAIN DEPOT', 'MEDICAL/DENTAL OFFICE', 'STREET', 'RESIDENCE', 'SIDEWALK', 'STREET', 'APARTMENT', 'RESIDENCE', 'SIDEWALK', 'STREET', 'STREET', 'OTHER', 'STREET', 'STREET', 'PARK PROPERTY', 'STREET', 'RESIDENCE', 'APARTMENT', 'STREET', 'STREET', 'APARTMENT', 'RESIDENCE', 'SIDEWALK', 'CTA STATION', 'SIDEWALK', 'STREET', 'RESIDENCE-GARAGE', 'RESIDENCE PORCH/HALLWAY', 'APARTMENT', 'OTHER', 'VEHICLE NON-COMMERCIAL', 'VEHICLE NON-COMMERCIAL', 'CURRENCY EXCHANGE', 'DAY CARE CENTER', 'APARTMENT', 'STREET', 'PAWN SHOP', 'VEHICLE NON-COMMERCIAL', 'ALLEY', 'OTHER', 'PARKING LOT/GARAGE(NON.RESID.)', 'APARTMENT', 'APARTMENT', 'STREET', 'GAS STATION', 'DRIVEWAY - RESIDENTIAL', 'PARKING LOT/GARAGE(NON.RESID.)', 'STREET', 'SIDEWALK', 'STREET', 'AIRPORT TERMINAL LOWER LEVEL - SECURE AREA', 'SIDEWALK', 'STREET', 'SIDEWALK', 'STREET', 'RESIDENCE', 'RESIDENCE', 'BAR OR TAVERN', 'APARTMENT', 'OTHER', 'STREET', 'RESIDENCE-GARAGE', 'PARKING LOT/GARAGE(NON.RESID.)', 'RESIDENCE-GARAGE', 'RESIDENCE', 'STREET', 'COMMERCIAL / BUSINESS OFFICE', 'STREET', 'SIDEWALK', 'SIDEWALK', 'STREET', 'RESIDENCE', 'RESIDENCE', 'VEHICLE NON-COMMERCIAL', 'COMMERCIAL / BUSINESS OFFICE', 'BANK', 'SIDEWALK', 'ALLEY', 'STREET', 'SMALL RETAIL STORE', 'APARTMENT', 'RESIDENTIAL YARD (FRONT/BACK)', 'TAXICAB', 'APARTMENT', 'OTHER', 'RESIDENCE', 'SIDEWALK', 'APARTMENT', 'CONVENIENCE STORE', 'DEPARTMENT STORE', 'RESIDENCE', 'APARTMENT', 'STREET', 'STREET', 'RESIDENCE', 'SIDEWALK', 'APARTMENT', 'OTHER', 'STREET', 'RESIDENCE', 'STREET', 'PARKING LOT/GARAGE(NON.RESID.)', 'RESIDENCE', 'RESTAURANT', 'APARTMENT', 'STREET', 'STREET', 'SIDEWALK', 'SIDEWALK', 'RESIDENCE-GARAGE', 'STREET', 'STREET', 'APARTMENT', 'APARTMENT', 'GAS STATION', 'STREET', 'STREET', 'RESIDENTIAL YARD (FRONT/BACK)', 'SIDEWALK', 'STREET', 'OTHER', 'RESIDENCE', 'RESIDENCE', 'SIDEWALK', 'SIDEWALK', 'RESIDENCE', 'RESIDENCE', 'DRUG STORE', 'STREET', 'STREET', 'APARTMENT', 'DAY CARE CENTER', 'OTHER', 'APARTMENT', 'GAS STATION', 'STREET', 'SIDEWALK', 'RESIDENTIAL YARD (FRONT/BACK)', 'OTHER', 'APARTMENT', 'STREET', 'RESIDENCE', 'RESIDENCE', 'SIDEWALK', 'RESIDENCE', 'BANK', 'RESIDENTIAL YARD (FRONT/BACK)', 'STREET', 'RESIDENCE', 'CHURCH/SYNAGOGUE/PLACE OF WORSHIP', 'RESIDENCE', 'SIDEWALK', 'RESIDENCE', 'SIDEWALK', 'STREET', 'PARKING LOT/GARAGE(NON.RESID.)', 'STREET', 'STREET', 'SCHOOL, PUBLIC, GROUNDS', 'RESIDENCE', 'PARKING LOT/GARAGE(NON.RESID.)', 'RESIDENCE', 'APARTMENT', 'RESTAURANT', 'PARKING LOT/GARAGE(NON.RESID.)', 'STREET', 'RESIDENCE', 'STREET', 'STREET', 'STREET', 'APARTMENT', 'SIDEWALK', 'RESIDENCE', 'RESIDENCE', 'RESIDENCE', 'STREET', 'APARTMENT', 'SIDEWALK', 'STREET', 'SCHOOL, PUBLIC, BUILDING', 'VEHICLE NON-COMMERCIAL', 'APARTMENT', 'SMALL RETAIL STORE', 'RESIDENCE', 'VACANT LOT/LAND', 'PARKING LOT/GARAGE(NON.RESID.)', 'DRUG STORE', 'DEPARTMENT STORE', 'RESIDENCE', 'STREET', 'STREET', 'DEPARTMENT STORE', 'RESIDENCE', 'SIDEWALK', 'CHA APARTMENT', 'APARTMENT', 'SIDEWALK', 'APARTMENT', 'RESIDENCE-GARAGE', 'PARK PROPERTY', 'APARTMENT', 'RESTAURANT', 'RESIDENCE', 'APARTMENT', 'STREET', 'OTHER', 'STREET', 'VEHICLE NON-COMMERCIAL', 'RESIDENCE', 'STREET', 'RESIDENCE-GARAGE', 'GAS STATION', 'PARKING LOT/GARAGE(NON.RESID.)', 'RESIDENCE-GARAGE', 'PARKING LOT/GARAGE(NON.RESID.)', 'PARK PROPERTY', 'SMALL RETAIL STORE', 'STREET', 'RESIDENCE', 'STREET', 'OTHER', 'OTHER', 'SIDEWALK', 'RESIDENCE', 'STREET', 'OTHER RAILROAD PROP / TRAIN DEPOT', 'STREET', 'OTHER', 'RESIDENTIAL YARD (FRONT/BACK)', 'CONVENIENCE STORE', 'RESTAURANT', 'STREET', 'RESIDENCE', 'VEHICLE NON-COMMERCIAL', 'BAR OR TAVERN', 'STREET', 'STREET', 'STREET', 'RESTAURANT', 'PARK PROPERTY', 'STREET', 'STREET', 'STREET', 'CONVENIENCE STORE', 'RESIDENTIAL YARD (FRONT/BACK)', 'STREET', 'APARTMENT', 'SIDEWALK', 'RESIDENCE', 'STREET', 'APARTMENT', 'STREET', 'STREET', 'VEHICLE NON-COMMERCIAL', 'RESIDENCE', 'SIDEWALK', 'SIDEWALK', 'RESIDENCE', '', 'STREET', 'RESTAURANT', 'SMALL RETAIL STORE', 'SPORTS ARENA/STADIUM', 'STREET', 'STREET', 'SIDEWALK', 'STREET', 'RESIDENCE PORCH/HALLWAY', 'STREET', 'SMALL RETAIL STORE', 'APARTMENT', 'CTA BUS', 'BAR OR TAVERN', 'SIDEWALK', 'SIDEWALK', 'GAS STATION', 'PARKING LOT/GARAGE(NON.RESID.)', 'APARTMENT', 'APARTMENT', 'RESTAURANT', 'STREET', 'APARTMENT', 'PARKING LOT/GARAGE(NON.RESID.)', 'APARTMENT', 'STREET', 'RESIDENCE', 'STREET', 'STREET', 'VEHICLE NON-COMMERCIAL', 'APARTMENT', 'STREET', 'APARTMENT', 'STREET', 'STREET', 'STREET', 'RESTAURANT', 'RESIDENCE', 'STREET', 'ALLEY', 'APARTMENT', 'RESIDENTIAL YARD (FRONT/BACK)', 'CHA APARTMENT', 'SIDEWALK', 'ALLEY', 'STREET', 'AIRPORT TERMINAL LOWER LEVEL - SECURE AREA', 'GAS STATION', 'APARTMENT', 'SIDEWALK', 'APARTMENT', 'STREET', 'PARK PROPERTY', 'RESIDENCE', 'OTHER', 'COMMERCIAL / BUSINESS OFFICE', 'RESIDENCE PORCH/HALLWAY', 'RESIDENCE', 'PARKING LOT/GARAGE(NON.RESID.)', 'STREET', 'APARTMENT', 'STREET', 'STREET', 'RESIDENCE', 'RESIDENCE', 'STREET', 'APARTMENT', 'RESIDENTIAL YARD (FRONT/BACK)', 'STREET', 'STREET', 'STREET', 'RESIDENCE', 'APARTMENT', 'SMALL RETAIL STORE', 'STREET', 'AIRPORT PARKING LOT', 'STREET', 'APARTMENT', 'APARTMENT', 'STREET', 'SIDEWALK', 'APARTMENT', 'RESIDENTIAL YARD (FRONT/BACK)', 'STREET', 'STREET', 'ABANDONED BUILDING', 'RESIDENCE', 'GAS STATION', 'SIDEWALK', 'RESIDENCE PORCH/HALLWAY', 'HOSPITAL BUILDING/GROUNDS', 'VEHICLE NON-COMMERCIAL', 'RESIDENCE', 'PARKING LOT/GARAGE(NON.RESID.)', 'RESIDENCE', 'COMMERCIAL / BUSINESS OFFICE', 'NURSING HOME/RETIREMENT HOME', 'PARK PROPERTY', 'STREET', 'PARK PROPERTY', 'RESIDENCE', 'SIDEWALK', 'SIDEWALK', 'ALLEY', 'STREET', 'DEPARTMENT STORE', 'TAXICAB', 'STREET', 'RESIDENCE', 'APARTMENT', 'RESIDENCE', 'GAS STATION', 'VEHICLE NON-COMMERCIAL', 'OTHER', 'PARKING LOT/GARAGE(NON.RESID.)', 'STREET', 'ALLEY', 'RESIDENTIAL YARD (FRONT/BACK)', 'SIDEWALK', 'OTHER', 'APARTMENT', 'OTHER', 'STREET', 'SIDEWALK', 'POLICE FACILITY/VEH PARKING LOT', 'GROCERY FOOD STORE', 'STREET', 'STREET', 'GROCERY FOOD STORE', 'STREET', 'RESIDENTIAL YARD (FRONT/BACK)', 'DEPARTMENT STORE', 'STREET', 'STREET', 'RESIDENCE', 'STREET', 'CTA PLATFORM', 'SMALL RETAIL STORE', 'RESIDENCE', 'GOVERNMENT BUILDING/PROPERTY', 'STREET', 'STREET', 'ALLEY', 'RESIDENCE', 'SMALL RETAIL STORE', 'STREET', 'PARK PROPERTY', 'RESIDENCE', 'RESIDENCE', 'OTHER', 'ALLEY', 'RESIDENTIAL YARD (FRONT/BACK)', 'STREET', 'GAS STATION', 'STREET', 'RESIDENCE', 'RESIDENTIAL YARD (FRONT/BACK)', 'APARTMENT', 'OTHER RAILROAD PROP / TRAIN DEPOT', 'STREET', 'GROCERY FOOD STORE', 'APARTMENT', 'OTHER', 'STREET', 'CURRENCY EXCHANGE', 'RESIDENCE', 'STREET', 'CTA TRAIN', 'RESIDENCE', 'WAREHOUSE', 'NURSING HOME/RETIREMENT HOME', 'PARKING LOT/GARAGE(NON.RESID.)', 'RESIDENTIAL YARD (FRONT/BACK)', 'STREET', 'STREET', 'RESIDENTIAL YARD (FRONT/BACK)', 'APARTMENT', 'STREET', 'RESIDENCE', 'RESIDENCE', 'ALLEY', 'STREET', 'SMALL RETAIL STORE', 'SIDEWALK', 'SMALL RETAIL STORE', 'ALLEY', 'APARTMENT', 'SIDEWALK', 'APARTMENT', 'RESIDENTIAL YARD (FRONT/BACK)', 'PARKING LOT/GARAGE(NON.RESID.)', 'STREET', 'STREET', 'OTHER', 'YARD', 'STREET', 'NURSING HOME/RETIREMENT HOME', 'DRUG STORE', 'RESIDENCE', 'STREET', 'RESIDENCE PORCH/HALLWAY', 'SIDEWALK', 'STREET', 'RESIDENCE', 'DEPARTMENT STORE', 'ALLEY', 'PARK PROPERTY', 'SMALL RETAIL STORE', 'BANK', 'STREET', 'RESIDENCE PORCH/HALLWAY', 'STREET', 'CHA PARKING LOT/GROUNDS', 'SIDEWALK', 'PARKING LOT/GARAGE(NON.RESID.)', 'RESIDENCE', 'RESIDENCE', 'PARKING LOT/GARAGE(NON.RESID.)', 'APARTMENT', 'SIDEWALK', 'APARTMENT', 'GAS STATION', 'SIDEWALK', 'OTHER', 'RESIDENCE', 'RESIDENCE', 'SMALL RETAIL STORE', 'RESIDENCE', 'STREET', 'STREET', 'APARTMENT', 'APARTMENT', 'ALLEY', 'STREET', 'RESTAURANT', 'STREET', 'RESIDENCE-GARAGE', 'STREET', 'STREET', 'APARTMENT', 'STREET', 'ALLEY', 'APARTMENT', 'ALLEY', 'RESIDENCE', 'RESIDENCE', 'APARTMENT', 'STREET', 'ALLEY', 'APARTMENT', 'VEHICLE NON-COMMERCIAL', 'RESIDENCE PORCH/HALLWAY', 'RESIDENTIAL YARD (FRONT/BACK)', 'OTHER', 'VACANT LOT/LAND', 'APARTMENT', 'APARTMENT', 'PARKING LOT/GARAGE(NON.RESID.)', 'STREET', 'OTHER', 'APARTMENT', 'RESIDENCE', 'RESIDENCE', 'STREET', 'STREET', 'RESIDENCE', 'RESIDENCE', 'RESIDENCE PORCH/HALLWAY', 'STREET', 'RESIDENCE-GARAGE', 'ALLEY', 'RESIDENCE', 'SIDEWALK', 'STREET', 'BANK', 'STREET', 'RESIDENCE-GARAGE', 'RESIDENCE', 'APARTMENT', 'RESTAURANT', 'APARTMENT', 'RESIDENCE', 'RESIDENCE', 'SIDEWALK', 'RESIDENCE-GARAGE', 'PARK PROPERTY', 'RESIDENCE', 'APARTMENT', 'APARTMENT', 'SIDEWALK', 'PARKING LOT/GARAGE(NON.RESID.)', 'APARTMENT', 'DEPARTMENT STORE', 'RESTAURANT', 'APARTMENT', 'STREET', 'OTHER', 'RESIDENCE', 'SIDEWALK', 'SIDEWALK', 'BAR OR TAVERN', 'SIDEWALK', 'STREET', 'SIDEWALK', 'APARTMENT', 'RESIDENCE-GARAGE', 'PARKING LOT/GARAGE(NON.RESID.)', 'CTA BUS', 'VEHICLE NON-COMMERCIAL', 'CHA PARKING LOT/GROUNDS', 'AIRPORT VENDING ESTABLISHMENT', 'PARKING LOT/GARAGE(NON.RESID.)', 'STREET', 'STREET', 'CONVENIENCE STORE', 'STREET', 'APARTMENT', 'RESIDENCE-GARAGE', 'STREET', 'RESIDENCE', 'OTHER', 'APARTMENT', 'PARK PROPERTY', 'APARTMENT', 'GROCERY FOOD STORE', 'STREET', 'STREET', 'RESTAURANT', 'RESIDENCE', 'STREET', 'SIDEWALK', 'FACTORY/MANUFACTURING BUILDING', 'APARTMENT', 'RESIDENCE-GARAGE', 'OTHER', 'GROCERY FOOD STORE', 'APARTMENT', 'CTA PLATFORM', 'RESIDENCE', 'RESIDENCE', 'PARKING LOT/GARAGE(NON.RESID.)', 'MEDICAL/DENTAL OFFICE', 'ATM (AUTOMATIC TELLER MACHINE)', 'RESIDENCE', 'STREET', 'SIDEWALK', 'BANK', 'STREET', 'APARTMENT', 'STREET', 'STREET', 'STREET', 'OTHER', 'RESIDENCE', 'SIDEWALK', 'CHA PARKING LOT/GROUNDS', 'STREET', 'RESIDENTIAL YARD (FRONT/BACK)', 'STREET', 'STREET', 'RESIDENCE', 'RESIDENCE', 'RESIDENCE', 'RESIDENCE', 'RESIDENCE', 'RESIDENCE', 'SIDEWALK', 'STREET', 'STREET', 'RESIDENCE', 'DEPARTMENT STORE', 'STREET', 'CONVENIENCE STORE', 'DRIVEWAY - RESIDENTIAL', 'DEPARTMENT STORE', 'STREET', 'STREET', 'APARTMENT', 'SIDEWALK', 'RESIDENCE', 'STREET', 'PARKING LOT/GARAGE(NON.RESID.)', 'RESIDENCE-GARAGE', 'RESIDENTIAL YARD (FRONT/BACK)', 'APARTMENT', 'OTHER', 'STREET', 'APARTMENT', 'RESIDENCE', 'CTA TRAIN', 'STREET', 'STREET', 'DRIVEWAY - RESIDENTIAL', 'HOTEL/MOTEL', 'RESIDENCE', 'GROCERY FOOD STORE', 'RESIDENCE', 'STREET', 'RESIDENCE PORCH/HALLWAY', 'RESIDENCE', 'BAR OR TAVERN', 'STREET', 'RESIDENCE-GARAGE', 'BANK', 'STREET', 'SIDEWALK', 'STREET', 'RESIDENCE', 'RESIDENTIAL YARD (FRONT/BACK)', 'APARTMENT', 'OTHER', 'BAR OR TAVERN', 'DRIVEWAY - RESIDENTIAL', 'APARTMENT', 'RESIDENTIAL YARD (FRONT/BACK)', 'RESIDENTIAL YARD (FRONT/BACK)', 'RESIDENTIAL YARD (FRONT/BACK)', 'ALLEY', 'SMALL RETAIL STORE', 'SCHOOL, PRIVATE, BUILDING', 'RESIDENCE', 'STREET', 'SIDEWALK', 'STREET', 'VACANT LOT/LAND', 'VEHICLE NON-COMMERCIAL', 'BAR OR TAVERN', 'APARTMENT', 'STREET', 'PARK PROPERTY', 'STREET', 'CONVENIENCE STORE', 'RESIDENCE PORCH/HALLWAY', 'SIDEWALK', 'APARTMENT', 'BAR OR TAVERN', 'OTHER', 'RESIDENCE', 'RESIDENCE', 'VACANT LOT/LAND', 'VEHICLE NON-COMMERCIAL', 'APARTMENT', 'APARTMENT', 'OTHER', 'CHA APARTMENT', 'STREET', 'BANK', 'RESIDENCE', 'SIDEWALK', 'RESTAURANT', 'PARK PROPERTY', 'RESIDENCE-GARAGE', 'STREET', 'DRIVEWAY - RESIDENTIAL', 'STREET', 'RESIDENCE-GARAGE', 'STREET', 'SMALL RETAIL STORE', 'RESIDENCE', 'APARTMENT', 'APARTMENT', 'APARTMENT', 'RESIDENCE', 'SIDEWALK', 'APARTMENT', 'RESIDENTIAL YARD (FRONT/BACK)', 'PARKING LOT/GARAGE(NON.RESID.)', 'PARKING LOT/GARAGE(NON.RESID.)', 'TAVERN/LIQUOR STORE', 'SIDEWALK', 'CURRENCY EXCHANGE', 'PARKING LOT/GARAGE(NON.RESID.)', 'RESIDENCE', 'SIDEWALK', 'STREET', 'STREET', 'STREET', 'APARTMENT', 'RESIDENCE PORCH/HALLWAY', 'RESIDENCE', 'APARTMENT', 'DEPARTMENT STORE', 'RESIDENCE', 'PARKING LOT/GARAGE(NON.RESID.)', 'OTHER', 'SIDEWALK', 'STREET', 'RESIDENCE', 'APARTMENT', 'PARKING LOT/GARAGE(NON.RESID.)', 'APARTMENT', 'OTHER', 'PARKING LOT/GARAGE(NON.RESID.)', 'RESIDENTIAL YARD (FRONT/BACK)', 'RESIDENCE', 'PARKING LOT/GARAGE(NON.RESID.)', 'RESTAURANT', 'RESIDENCE', 'STREET', 'DEPARTMENT STORE', 'DRIVEWAY - RESIDENTIAL', 'APARTMENT', 'SMALL RETAIL STORE', 'APARTMENT', 'STREET', 'RESIDENCE-GARAGE', 'STREET', 'APARTMENT', 'SIDEWALK', 'RESIDENCE', 'SIDEWALK', 'VEHICLE NON-COMMERCIAL', 'STREET', 'STREET', 'STREET', 'APARTMENT', 'RESIDENCE', 'RESIDENCE', 'STREET', 'SIDEWALK', 'APARTMENT', 'TAVERN/LIQUOR STORE', 'PARKING LOT/GARAGE(NON.RESID.)', 'OTHER', 'RESIDENTIAL YARD (FRONT/BACK)', 'SIDEWALK', 'SIDEWALK', 'SIDEWALK', 'VEHICLE NON-COMMERCIAL', 'STREET', 'SMALL RETAIL STORE', 'ALLEY', 'SIDEWALK', 'APARTMENT', 'APARTMENT', 'RESIDENCE', 'APARTMENT', 'STREET', 'STREET', 'GROCERY FOOD STORE', 'APARTMENT', 'BARBERSHOP', 'STREET', 'PARKING LOT/GARAGE(NON.RESID.)', 'STREET', 'APARTMENT', 'VEHICLE NON-COMMERCIAL', 'APARTMENT', 'RESIDENCE PORCH/HALLWAY', 'APARTMENT', 'GAS STATION', 'RESIDENCE', 'RESIDENCE', 'STREET', 'VEHICLE NON-COMMERCIAL', 'RESIDENCE', 'RESIDENCE', 'CURRENCY EXCHANGE', 'PARKING LOT/GARAGE(NON.RESID.)', 'RESIDENTIAL YARD (FRONT/BACK)', 'STREET', 'APARTMENT', 'STREET', 'SIDEWALK', 'CTA BUS', 'RESIDENCE-GARAGE', 'STREET', 'APARTMENT', 'RESTAURANT', 'RESIDENTIAL YARD (FRONT/BACK)', 'RESIDENCE-GARAGE', 'STREET', 'GROCERY FOOD STORE', 'RESTAURANT', 'STREET', 'STREET', 'APARTMENT', 'STREET', 'SIDEWALK', 'SMALL RETAIL STORE', 'SIDEWALK', 'CONVENIENCE STORE', 'STREET', 'APARTMENT', 'CTA TRAIN', 'APARTMENT', 'APARTMENT', 'RESIDENTIAL YARD (FRONT/BACK)', 'GAS STATION', 'FEDERAL BUILDING', 'RESIDENTIAL YARD (FRONT/BACK)', 'BAR OR TAVERN', 'STREET', 'OTHER', 'CTA PLATFORM', 'STREET', 'STREET', 'RESIDENCE', 'STREET', 'RESIDENCE', 'STREET', 'RESIDENCE', 'APARTMENT', 'HOTEL/MOTEL', 'APARTMENT', 'PARK PROPERTY', 'STREET', 'STREET', 'SMALL RETAIL STORE'], 2: ['SCHOOL, PUBLIC, BUILDING', 'RESIDENCE-GARAGE', 'CURRENCY EXCHANGE', 'CHA PARKING LOT/GROUNDS', 'STREET', 'RESIDENCE', 'RESIDENTIAL YARD (FRONT/BACK)', 'APARTMENT', 'SMALL RETAIL STORE', 'STREET', 'APARTMENT', 'STREET', 'STREET', 'STREET', 'RESIDENCE', 'APARTMENT', 'GAS STATION', 'SMALL RETAIL STORE', 'SIDEWALK', 'APARTMENT', 'RESIDENCE', 'STREET', 'STREET', 'SIDEWALK', 'STREET', 'SIDEWALK', 'STREET', 'SIDEWALK', 'RESIDENCE', 'APARTMENT', 'STREET', 'STREET', 'SIDEWALK', 'ALLEY', 'STREET', 'APARTMENT', 'RESIDENCE', 'STREET', 'PARKING LOT/GARAGE(NON.RESID.)', 'APARTMENT', 'RESIDENCE', 'STREET', 'RESIDENCE', 'SIDEWALK', 'STREET', 'SIDEWALK', 'STREET', 'STREET', 'TAVERN/LIQUOR STORE', 'STREET', 'RESIDENCE', 'RESIDENCE PORCH/HALLWAY', 'VEHICLE NON-COMMERCIAL', 'SIDEWALK', 'RESIDENCE', 'RESIDENCE', 'ALLEY', 'RESIDENCE', 'SIDEWALK', 'APARTMENT', 'SIDEWALK', 'STREET', 'APARTMENT', 'STREET', 'VEHICLE NON-COMMERCIAL', 'STREET', 'PARKING LOT/GARAGE(NON.RESID.)', 'STREET', 'RESIDENCE', 'GROCERY FOOD STORE', 'SIDEWALK', 'VEHICLE NON-COMMERCIAL', 'OTHER', 'APARTMENT', 'VEHICLE NON-COMMERCIAL', 'RESIDENCE', 'STREET', 'SCHOOL, PUBLIC, BUILDING', 'RESTAURANT', 'APARTMENT', 'STREET', 'SCHOOL, PUBLIC, BUILDING', 'STREET', 'PARKING LOT/GARAGE(NON.RESID.)', 'RESIDENCE', 'SIDEWALK', 'APARTMENT', 'SCHOOL, PUBLIC, BUILDING', 'PARKING LOT/GARAGE(NON.RESID.)', 'SIDEWALK', 'STREET', 'STREET', 'RESIDENCE', 'VEHICLE NON-COMMERCIAL', 'RESTAURANT', 'STREET', 'DEPARTMENT STORE', 'SIDEWALK', 'RESTAURANT', 'STREET', 'RESIDENCE', 'APARTMENT', 'OTHER', '', 'APARTMENT', 'STREET', 'SCHOOL, PUBLIC, GROUNDS', 'ALLEY', 'RESIDENCE', 'RESIDENCE-GARAGE', 'OTHER', 'RESIDENCE', 'SCHOOL, PUBLIC, BUILDING', 'APARTMENT', 'STREET', 'PARKING LOT/GARAGE(NON.RESID.)', 'RESIDENCE', 'RESIDENCE', 'GROCERY FOOD STORE', 'APARTMENT', 'STREET', 'APARTMENT', 'APARTMENT', 'APARTMENT', 'RESIDENCE', 'APARTMENT', 'APARTMENT', 'APARTMENT', 'RESIDENTIAL YARD (FRONT/BACK)', 'STREET', 'RESIDENCE', 'ATM (AUTOMATIC TELLER MACHINE)', 'STREET', 'PARKING LOT/GARAGE(NON.RESID.)', 'CTA BUS', 'RESIDENTIAL YARD (FRONT/BACK)', 'GAS STATION', 'OTHER', 'HOSPITAL BUILDING/GROUNDS', 'RESIDENCE PORCH/HALLWAY', 'APARTMENT', 'DEPARTMENT STORE', 'VACANT LOT/LAND', 'GROCERY FOOD STORE', 'RESIDENCE', 'GAS STATION', 'APARTMENT', 'MEDICAL/DENTAL OFFICE', 'STREET', 'APARTMENT', 'POLICE FACILITY/VEH PARKING LOT', 'PARKING LOT/GARAGE(NON.RESID.)', 'APARTMENT', 'PARK PROPERTY', 'APARTMENT', 'TAXICAB', 'RESIDENCE', 'PARK PROPERTY', 'RESIDENCE', 'RESIDENCE-GARAGE', 'STREET', 'APARTMENT', 'SMALL RETAIL STORE', 'APARTMENT', 'STREET', 'STREET', 'SIDEWALK', 'STREET', 'OTHER', 'PARKING LOT/GARAGE(NON.RESID.)', 'APARTMENT', 'STREET', 'RESIDENCE', 'RESIDENCE PORCH/HALLWAY', 'RESIDENCE', 'STREET', 'OTHER', 'STREET', 'RESIDENCE PORCH/HALLWAY', 'OTHER', 'RESIDENCE-GARAGE', 'RESIDENCE-GARAGE', 'RESIDENCE', 'RESIDENCE', 'CONSTRUCTION SITE', 'APARTMENT', 'TAXICAB', 'STREET', 'STREET', 'RESIDENCE', 'STREET', 'SIDEWALK', 'APARTMENT', 'APARTMENT', 'APARTMENT', 'RESIDENCE', 'RESIDENCE', 'SMALL RETAIL STORE', 'RESIDENCE', 'APARTMENT', 'APARTMENT', 'ABANDONED BUILDING', 'APARTMENT', 'SIDEWALK', 'PARKING LOT/GARAGE(NON.RESID.)', 'BAR OR TAVERN', 'APARTMENT', 'PARKING LOT/GARAGE(NON.RESID.)', 'DEPARTMENT STORE', 'STREET', 'APARTMENT', 'RESIDENCE', 'PARKING LOT/GARAGE(NON.RESID.)', 'APARTMENT', 'OTHER', 'SCHOOL, PUBLIC, BUILDING', 'STREET', 'RESIDENCE-GARAGE', 'VEHICLE - OTHER RIDE SERVICE', 'OTHER', 'ALLEY', 'TAVERN/LIQUOR STORE', 'RESIDENCE', 'APARTMENT', 'SIDEWALK', 'SIDEWALK', 'POOL ROOM', 'RESIDENCE', 'SIDEWALK', 'SIDEWALK', 'STREET', 'RESIDENCE', 'RESIDENCE', 'RESIDENCE', 'STREET', 'RESIDENTIAL YARD (FRONT/BACK)', 'APARTMENT', 'STREET', 'CHURCH/SYNAGOGUE/PLACE OF WORSHIP', 'PARKING LOT/GARAGE(NON.RESID.)', 'VACANT LOT/LAND', 'PARKING LOT/GARAGE(NON.RESID.)', 'SCHOOL, PUBLIC, BUILDING', 'STREET', 'STREET', 'PARKING LOT/GARAGE(NON.RESID.)', 'AIRPORT TERMINAL LOWER LEVEL - NON-SECURE AREA', 'STREET', 'OTHER', 'RESIDENCE PORCH/HALLWAY', 'APARTMENT', 'OTHER', 'RESIDENCE', 'VEHICLE NON-COMMERCIAL', 'SCHOOL, PUBLIC, BUILDING', 'RESIDENCE PORCH/HALLWAY', 'SIDEWALK', 'CHA APARTMENT', 'RESIDENTIAL YARD (FRONT/BACK)', 'HOTEL/MOTEL', 'STREET', 'STREET', 'HOUSE', 'STREET', 'TAVERN/LIQUOR STORE', 'SCHOOL, PUBLIC, BUILDING', 'ALLEY', 'APARTMENT', 'PARK PROPERTY', 'APARTMENT', 'SCHOOL, PUBLIC, BUILDING', 'APARTMENT', 'STREET', 'VEHICLE NON-COMMERCIAL', 'RESTAURANT', 'RESIDENCE', 'PARKING LOT/GARAGE(NON.RESID.)', 'STREET', 'RESTAURANT', 'RESIDENCE', 'GAS STATION', 'SMALL RETAIL STORE', 'SIDEWALK', 'SIDEWALK', 'APARTMENT', 'RESIDENCE PORCH/HALLWAY', 'SPORTS ARENA/STADIUM', 'SIDEWALK', 'APARTMENT', 'RESIDENCE', 'STREET', 'RESIDENCE', 'RESTAURANT', 'APARTMENT', 'RESIDENCE', 'STREET', 'RESIDENCE', 'RESIDENCE', 'RESIDENCE', 'STREET', 'APARTMENT', 'APARTMENT', 'RESIDENCE', 'VEHICLE-COMMERCIAL', 'STREET', 'RESTAURANT', 'RESIDENCE', 'APARTMENT', 'RESIDENCE', 'RESIDENCE', 'APARTMENT', 'APARTMENT', 'APARTMENT', 'RESIDENCE', 'STREET', 'RESIDENTIAL YARD (FRONT/BACK)', 'SCHOOL, PUBLIC, BUILDING', 'RESIDENTIAL YARD (FRONT/BACK)', 'RESIDENTIAL YARD (FRONT/BACK)', 'PARKING LOT/GARAGE(NON.RESID.)', 'RESIDENCE', 'RESIDENCE', 'AIRCRAFT', 'SMALL RETAIL STORE', 'RESIDENCE', 'BAR OR TAVERN', 'RESTAURANT', 'PARK PROPERTY', 'SIDEWALK', 'RESIDENCE', 'RESIDENCE-GARAGE', 'APARTMENT', 'ALLEY', 'OTHER', 'RESIDENCE', 'STREET', 'STREET', 'STREET', 'RESIDENCE', 'APARTMENT', 'RESIDENCE', 'STREET', 'STREET', 'RESIDENCE', 'STREET', 'SIDEWALK', 'PARKING LOT/GARAGE(NON.RESID.)', 'CTA BUS', 'APARTMENT', 'RESIDENCE', 'STREET', 'STREET', 'POLICE FACILITY/VEH PARKING LOT', 'RESIDENCE', 'SCHOOL, PUBLIC, BUILDING', 'APARTMENT', 'STREET', 'VEHICLE NON-COMMERCIAL', 'RESIDENCE', 'CONSTRUCTION SITE', 'STREET', 'APARTMENT', 'RESIDENCE', 'APARTMENT', 'APARTMENT', 'SCHOOL, PUBLIC, BUILDING', 'APARTMENT', 'CTA STATION', 'APARTMENT', 'STREET', 'RESIDENCE', 'APARTMENT', 'OTHER', 'STREET', 'SIDEWALK', 'APARTMENT', 'APARTMENT', 'APARTMENT', 'CTA TRAIN', 'RESIDENCE PORCH/HALLWAY', 'SIDEWALK', 'RESIDENCE', 'SCHOOL, PUBLIC, BUILDING', 'APARTMENT', 'STREET', 'STREET', 'BAR OR TAVERN', 'RESIDENCE', 'STREET', 'SIDEWALK', 'STREET', 'RESIDENCE', 'CURRENCY EXCHANGE', 'STREET', 'RESIDENCE', 'HIGHWAY/EXPRESSWAY', 'CHA APARTMENT', 'GROCERY FOOD STORE', 'DEPARTMENT STORE', 'ALLEY', 'RESTAURANT', 'RESIDENCE', 'APARTMENT', 'RESIDENCE', 'SMALL RETAIL STORE', 'SIDEWALK', 'POLICE FACILITY/VEH PARKING LOT', 'RESIDENCE', 'RESIDENCE', 'APARTMENT', 'ATHLETIC CLUB', 'RESIDENCE', 'STREET', 'RESTAURANT', 'STREET', 'SIDEWALK', 'RESIDENCE', 'STREET', 'APARTMENT', 'STREET', 'CLEANING STORE', 'SIDEWALK', 'PARKING LOT/GARAGE(NON.RESID.)', 'SIDEWALK', 'STREET', 'STREET', 'DEPARTMENT STORE', 'STREET', 'STREET', 'STREET', 'STREET', 'PARKING LOT/GARAGE(NON.RESID.)', 'OTHER', 'SMALL RETAIL STORE', 'DRUG STORE', 'STREET', 'RESTAURANT', 'OTHER', 'RESIDENCE PORCH/HALLWAY', 'OTHER', 'GAS STATION', 'STREET', 'CTA BUS STOP', 'RESIDENCE', 'RESIDENCE', 'APARTMENT', 'GROCERY FOOD STORE', 'PARKING LOT/GARAGE(NON.RESID.)', 'OTHER', 'APARTMENT', 'CTA BUS STOP', 'APARTMENT', 'APARTMENT', 'STREET', 'STREET', 'SIDEWALK', 'CONVENIENCE STORE', 'CHA PARKING LOT/GROUNDS', 'LIBRARY', 'APARTMENT', 'CHA APARTMENT', 'STREET', 'STREET', 'APARTMENT', 'STREET', 'RESIDENCE', 'RESIDENCE', 'RESIDENTIAL YARD (FRONT/BACK)', 'RESIDENCE', 'STREET', 'RESTAURANT', 'STREET', 'HOSPITAL BUILDING/GROUNDS', 'RESTAURANT', 'RESIDENCE', 'CTA STATION', 'STREET', 'RESIDENCE-GARAGE', 'RESIDENCE', 'STREET', 'RESIDENCE', 'STREET', 'RESIDENCE', 'SIDEWALK', 'RESIDENCE', 'CTA BUS STOP', 'RESIDENCE', 'RESIDENCE', 'STREET', 'PARKING LOT/GARAGE(NON.RESID.)', 'APARTMENT', 'SIDEWALK', 'STREET', 'DEPARTMENT STORE', 'RESTAURANT', 'APARTMENT', 'SMALL RETAIL STORE', 'RESIDENCE', 'RESIDENCE', 'SCHOOL, PUBLIC, GROUNDS', 'SIDEWALK', 'DEPARTMENT STORE', 'OTHER', 'APPLIANCE STORE', 'APARTMENT', 'RESIDENTIAL YARD (FRONT/BACK)', 'DRUG STORE', 'OTHER', 'SIDEWALK', 'STREET', 'APARTMENT', 'RESIDENCE PORCH/HALLWAY', 'OTHER', 'GROCERY FOOD STORE', 'RESIDENCE', 'POLICE FACILITY/VEH PARKING LOT', 'STREET', 'APARTMENT', 'SCHOOL, PUBLIC, BUILDING', 'STREET', 'STREET', 'RESIDENCE', 'SIDEWALK', 'VEHICLE NON-COMMERCIAL', 'RESIDENCE', 'RESIDENCE', 'STREET', 'RESIDENCE', 'APARTMENT', 'GROCERY FOOD STORE', 'APARTMENT', 'APARTMENT', 'RESTAURANT', 'STREET', 'APARTMENT', 'OTHER', 'RESIDENCE', 'CHA PARKING LOT/GROUNDS', 'SIDEWALK', 'RESIDENCE', 'RESIDENCE', 'STREET', 'GAS STATION', 'RESIDENTIAL YARD (FRONT/BACK)', 'STREET', 'STREET', 'RESIDENCE', 'SIDEWALK', 'RESTAURANT', 'CHURCH/SYNAGOGUE/PLACE OF WORSHIP', 'APARTMENT', 'STREET', 'APARTMENT', 'STREET', 'STREET', 'PARKING LOT/GARAGE(NON.RESID.)', 'HOSPITAL BUILDING/GROUNDS', 'RESIDENCE-GARAGE', 'STREET', 'SMALL RETAIL STORE', 'STREET', 'SIDEWALK', 'PARKING LOT/GARAGE(NON.RESID.)', '', 'APARTMENT', 'SIDEWALK', 'APARTMENT', 'APARTMENT', 'APARTMENT', 'APARTMENT', 'OTHER', 'RESIDENCE', 'DEPARTMENT STORE', 'STREET', 'APARTMENT', 'STREET', 'OTHER', 'APARTMENT', 'STREET', 'STREET', 'STREET', 'DEPARTMENT STORE', 'STREET', 'CTA GARAGE / OTHER PROPERTY', 'OTHER', 'RESIDENCE', 'SIDEWALK', 'RESIDENCE', 'STREET', 'STREET', 'AIRPORT TERMINAL UPPER LEVEL - SECURE AREA', 'DRUG STORE', 'RESIDENCE-GARAGE', 'RESIDENCE', 'APARTMENT', 'SCHOOL, PUBLIC, GROUNDS', 'STREET', 'STREET', 'SMALL RETAIL STORE', 'STREET', 'RESIDENCE', 'RESTAURANT', 'APARTMENT', 'RESIDENCE', 'STREET', 'STREET', 'RESIDENCE', 'RESIDENCE', 'RESIDENTIAL YARD (FRONT/BACK)', 'TAXICAB', 'RESIDENCE', 'STREET', 'RESIDENCE', 'SCHOOL, PUBLIC, BUILDING', 'STREET', 'DRIVEWAY - RESIDENTIAL', 'STREET', 'SIDEWALK', 'HOTEL/MOTEL', 'RESIDENCE', 'RESIDENCE', 'OTHER', 'APARTMENT', 'RESIDENCE', 'SIDEWALK', 'RESIDENCE PORCH/HALLWAY', 'PARKING LOT/GARAGE(NON.RESID.)', 'RESIDENCE', 'RESTAURANT', 'PARKING LOT/GARAGE(NON.RESID.)', 'STREET', 'STREET', 'RESIDENCE', 'RESIDENCE', 'PARKING LOT/GARAGE(NON.RESID.)', 'RESIDENCE', 'SIDEWALK', 'SCHOOL, PUBLIC, BUILDING', 'RESIDENCE', 'STREET', 'SMALL RETAIL STORE', 'RESIDENCE', 'APARTMENT', 'OTHER', 'BAR OR TAVERN', 'PARKING LOT/GARAGE(NON.RESID.)', 'AIRPORT EXTERIOR - NON-SECURE AREA', 'STREET', 'STREET', 'SIDEWALK', 'PARKING LOT/GARAGE(NON.RESID.)', 'CHA APARTMENT', 'SIDEWALK', 'VEHICLE NON-COMMERCIAL', 'APARTMENT', 'OTHER', 'APARTMENT', 'VEHICLE NON-COMMERCIAL', 'APARTMENT', 'OTHER', 'APARTMENT', 'APARTMENT', 'RESIDENCE', 'STREET', 'OTHER', 'OTHER', 'RESIDENCE', 'RESIDENCE', 'SIDEWALK', 'APARTMENT', 'OTHER', 'SMALL RETAIL STORE', 'APARTMENT', '', 'RESIDENCE', 'SCHOOL, PUBLIC, BUILDING', 'NURSING HOME/RETIREMENT HOME', 'APARTMENT', 'STREET', 'PARKING LOT/GARAGE(NON.RESID.)', 'OTHER', 'RESIDENCE', 'SIDEWALK', 'SIDEWALK', 'STREET', 'STREET', 'STREET', 'STREET', 'APARTMENT', 'RESIDENCE', 'POLICE FACILITY/VEH PARKING LOT', 'STREET', 'STREET', 'APARTMENT', 'APARTMENT', 'SCHOOL, PUBLIC, BUILDING', 'BANK', 'APARTMENT', 'APARTMENT', 'RESIDENCE-GARAGE', 'RESIDENCE', 'HOTEL/MOTEL', 'STREET', 'SIDEWALK', 'OTHER', 'GROCERY FOOD STORE', 'SIDEWALK', 'APARTMENT', 'RESIDENTIAL YARD (FRONT/BACK)', 'STREET', 'APARTMENT', 'SIDEWALK', 'APARTMENT', 'PARKING LOT/GARAGE(NON.RESID.)', 'GROCERY FOOD STORE', 'STREET', 'APARTMENT', 'CTA GARAGE / OTHER PROPERTY', 'STREET', '', 'APARTMENT', 'PARKING LOT/GARAGE(NON.RESID.)', 'SIDEWALK', 'BAR OR TAVERN', 'SIDEWALK', 'RESIDENCE', 'SIDEWALK', 'STREET', 'APARTMENT', 'APARTMENT', 'CAR WASH', 'SIDEWALK', 'GOVERNMENT BUILDING/PROPERTY', 'OTHER', 'SIDEWALK', 'GAS STATION', 'VACANT LOT/LAND', 'DEPARTMENT STORE', 'STREET', 'RESIDENCE', 'STREET', 'STREET', 'RESIDENCE', 'RESIDENCE', 'STREET', 'SIDEWALK', 'APARTMENT', 'APARTMENT', 'APARTMENT', 'OTHER', 'RESTAURANT', 'SMALL RETAIL STORE', 'STREET', 'RESIDENCE', 'NURSING HOME/RETIREMENT HOME', 'GAS STATION', 'SIDEWALK', 'CTA BUS', 'RESIDENCE-GARAGE', 'OTHER', 'GAS STATION', 'PARKING LOT/GARAGE(NON.RESID.)', 'STREET', 'CHA APARTMENT', 'CTA TRAIN', 'VEHICLE NON-COMMERCIAL', 'RESIDENCE', 'STREET', 'APARTMENT', 'ALLEY', 'APARTMENT', 'STREET', 'OTHER', 'APARTMENT', 'ATM (AUTOMATIC TELLER MACHINE)', 'SIDEWALK', 'STREET', 'STREET', 'STREET', 'SIDEWALK', 'RESTAURANT', 'APARTMENT', 'PARKING LOT/GARAGE(NON.RESID.)', 'STREET', 'BANK', 'APARTMENT', 'SCHOOL, PUBLIC, BUILDING', 'BANK', 'STREET', 'OTHER', 'DEPARTMENT STORE', 'STREET', 'GROCERY FOOD STORE', 'RESIDENCE', 'OTHER', 'RESIDENCE-GARAGE', 'RESIDENCE-GARAGE', 'RESIDENCE', 'STREET', 'APARTMENT', 'SIDEWALK', 'STREET', 'SCHOOL, PUBLIC, BUILDING', 'GROCERY FOOD STORE', 'APARTMENT', 'RESIDENCE-GARAGE', 'RESTAURANT', 'RESIDENCE', 'APARTMENT', 'RESIDENCE', 'RESIDENCE', 'STREET', 'RESIDENCE', 'PARK PROPERTY', 'STREET', 'AIRCRAFT', 'CTA PLATFORM', 'STREET', 'PARKING LOT/GARAGE(NON.RESID.)', 'RESIDENTIAL YARD (FRONT/BACK)', 'RESIDENCE', 'MEDICAL/DENTAL OFFICE', 'DRIVEWAY - RESIDENTIAL', 'RESIDENCE', 'ABANDONED BUILDING', 'APARTMENT', 'RESIDENCE', 'RESIDENCE', 'STREET', 'SIDEWALK', 'CONVENIENCE STORE', 'SMALL RETAIL STORE', 'APARTMENT', 'STREET', 'RESIDENCE', 'RESIDENCE', 'SIDEWALK', 'STREET', 'PARKING LOT/GARAGE(NON.RESID.)', 'RESIDENCE', 'STREET', 'GROCERY FOOD STORE', 'APARTMENT', 'STREET', 'OTHER', 'ALLEY', 'STREET', 'SCHOOL, PRIVATE, GROUNDS', 'RESIDENTIAL YARD (FRONT/BACK)', 'STREET', 'ALLEY', 'SCHOOL, PUBLIC, BUILDING', 'PARKING LOT/GARAGE(NON.RESID.)', 'PARKING LOT/GARAGE(NON.RESID.)', '', 'SIDEWALK', 'RESTAURANT', 'STREET', 'VEHICLE NON-COMMERCIAL', 'STREET', 'APARTMENT', 'RESIDENCE', 'AIRPORT/AIRCRAFT', 'RESIDENCE', 'GAS STATION', 'STREET', 'APARTMENT', 'CONVENIENCE STORE', 'APARTMENT', 'SMALL RETAIL STORE', 'RESTAURANT', 'RESIDENCE', 'RESIDENCE', 'SCHOOL, PUBLIC, BUILDING', 'RESIDENCE-GARAGE', 'SIDEWALK', 'SCHOOL, PRIVATE, BUILDING', 'RESIDENCE PORCH/HALLWAY', 'STREET', 'HOSPITAL BUILDING/GROUNDS', 'SIDEWALK', 'STREET', 'RESIDENCE PORCH/HALLWAY', 'STREET', 'RESIDENCE', 'RESTAURANT', 'RESIDENCE', 'SMALL RETAIL STORE', 'APARTMENT', 'VACANT LOT/LAND', 'RESIDENCE', 'GROCERY FOOD STORE', 'APARTMENT', 'SCHOOL, PUBLIC, BUILDING', 'SIDEWALK', 'ALLEY', 'RESIDENCE', 'SIDEWALK', 'RESIDENCE', 'RESIDENCE', 'STREET', 'RESIDENCE', 'POOL ROOM', 'SMALL RETAIL STORE', 'APARTMENT', 'STREET', 'APARTMENT', 'RESIDENCE', 'GROCERY FOOD STORE', 'CTA BUS', 'APARTMENT', 'AIRPORT TERMINAL LOWER LEVEL - NON-SECURE AREA', 'RESIDENCE', 'RESIDENCE', 'STREET', 'APARTMENT', 'STREET', 'RESIDENCE', 'APARTMENT']})\n"
     ]
    }
   ],
   "source": [
    "# Create a dictionary that defaults to a list: locations_by_month\n",
    "locations_by_month = defaultdict(list)\n",
    "\n",
    "# Loop over the crime_data list\n",
    "for row in crime_data:\n",
    "    # Convert the first element to a date object\n",
    "    date = datetime.strptime(row[0], '%m/%d/%Y %I:%M:%S %p')\n",
    "    \n",
    "    # If the year is 2016 \n",
    "    if date.year == 2016:\n",
    "        # Set the dictionary key to the month and append the location (fifth element) to the values list\n",
    "        locations_by_month[date.month].append(row[4])\n",
    "    \n",
    "# Print the dictionary\n",
    "print(locations_by_month)"
   ]
  },
  {
   "cell_type": "markdown",
   "metadata": {},
   "source": [
    "## Find the Most Common Crimes by Location Type by Month in 2016\n",
    "Using the `locations_by_month` dictionary from the prior exercise, you'll now determine common crimes by month and location type. Because your dataset is so large, it's a good idea to use Counter to look at an aspect of it in an easier to manageable size and learn more about it."
   ]
  },
  {
   "cell_type": "code",
   "execution_count": 93,
   "metadata": {},
   "outputs": [
    {
     "name": "stdout",
     "output_type": "stream",
     "text": [
      "5\n",
      "[('STREET', 241), ('RESIDENCE', 175), ('APARTMENT', 128), ('SIDEWALK', 111), ('OTHER', 41)]\n",
      "3\n",
      "[('STREET', 240), ('RESIDENCE', 190), ('APARTMENT', 139), ('SIDEWALK', 99), ('OTHER', 52)]\n",
      "4\n",
      "[('STREET', 213), ('RESIDENCE', 171), ('APARTMENT', 152), ('SIDEWALK', 96), ('OTHER', 40)]\n",
      "6\n",
      "[('STREET', 245), ('RESIDENCE', 164), ('APARTMENT', 159), ('SIDEWALK', 123), ('PARKING LOT/GARAGE(NON.RESID.)', 44)]\n",
      "7\n",
      "[('STREET', 309), ('RESIDENCE', 177), ('APARTMENT', 166), ('SIDEWALK', 125), ('OTHER', 47)]\n",
      "10\n",
      "[('STREET', 248), ('RESIDENCE', 206), ('APARTMENT', 122), ('SIDEWALK', 92), ('OTHER', 62)]\n",
      "12\n",
      "[('STREET', 207), ('RESIDENCE', 158), ('APARTMENT', 136), ('OTHER', 47), ('SIDEWALK', 46)]\n",
      "1\n",
      "[('STREET', 196), ('RESIDENCE', 160), ('APARTMENT', 153), ('SIDEWALK', 72), ('PARKING LOT/GARAGE(NON.RESID.)', 43)]\n",
      "9\n",
      "[('STREET', 279), ('RESIDENCE', 183), ('APARTMENT', 144), ('SIDEWALK', 121), ('OTHER', 39)]\n",
      "11\n",
      "[('STREET', 236), ('RESIDENCE', 182), ('APARTMENT', 154), ('SIDEWALK', 75), ('OTHER', 41)]\n",
      "8\n",
      "[('STREET', 280), ('RESIDENCE', 199), ('APARTMENT', 144), ('SIDEWALK', 109), ('OTHER', 47)]\n",
      "2\n",
      "[('STREET', 188), ('RESIDENCE', 159), ('APARTMENT', 144), ('SIDEWALK', 73), ('OTHER', 40)]\n"
     ]
    }
   ],
   "source": [
    "# Loop over the items from locations_by_month using tuple expansion of the month and locations\n",
    "for month, locations in locations_by_month.items():\n",
    "    location_count = Counter(locations)\n",
    "    print(month)\n",
    "    print(location_count.most_common(5))"
   ]
  },
  {
   "cell_type": "markdown",
   "metadata": {},
   "source": [
    "## Reading your Data with DictReader and Establishing your Data Containers\n",
    "Your data file, `crime_sampler.csv` contains in positional order: the date, block where it occurred, primary type of the crime, description of the crime, description of the location, if an arrest was made, was it a domestic case, and city district.\n",
    "\n",
    "You'll now use a DictReader to load up a dictionary to hold your data with the district as the key and the rest of the data in a list. The csv, defaultdict, and datetime modules have already been imported for you."
   ]
  },
  {
   "cell_type": "code",
   "execution_count": 94,
   "metadata": {},
   "outputs": [],
   "source": [
    "# Create the CSV file: csvfile\n",
    "csvfile = open('../data/14. Tipos de datos en Ciencia de Datos/crimes.csv', 'r')\n",
    "\n",
    "# Create a dictionary that defaults to a list: crimes_by_district\n",
    "crimes_by_district = defaultdict(list)\n",
    "\n",
    "# Loop over a DictReader of the CSV file\n",
    "for row in csv.DictReader(csvfile):\n",
    "    # Pop the district from each row: district\n",
    "    district = row.pop('District')\n",
    "    # Append the rest of the data to the list for proper district in crimes_by_district\n",
    "    crimes_by_district[district].append(row)"
   ]
  },
  {
   "cell_type": "markdown",
   "metadata": {},
   "source": [
    "## Determine the Arrests by District by Year\n",
    "Using your `crimes_by_district` dictionary from the previous exercise, you'll now determine the number arrests in each City district for each year. Counter is already imported for you. You'll want to use the IPython Shell to explore the `crimes_by_district` dictionary to determine how to check if an arrest was made."
   ]
  },
  {
   "cell_type": "code",
   "execution_count": 95,
   "metadata": {},
   "outputs": [
    {
     "name": "stdout",
     "output_type": "stream",
     "text": [
      "14\n",
      "Counter({2016: 59, 2017: 8})\n",
      "24\n",
      "Counter({2016: 51, 2017: 10})\n",
      "6\n",
      "Counter({2016: 157, 2017: 32})\n",
      "15\n",
      "Counter({2016: 154, 2017: 16})\n",
      "12\n",
      "Counter({2016: 72, 2017: 9})\n",
      "7\n",
      "Counter({2016: 181, 2017: 27})\n",
      "1\n",
      "Counter({2016: 124, 2017: 15})\n",
      "11\n",
      "Counter({2016: 275, 2017: 53})\n",
      "18\n",
      "Counter({2016: 92, 2017: 17})\n",
      "22\n",
      "Counter({2016: 78, 2017: 12})\n",
      "5\n",
      "Counter({2016: 149, 2017: 30})\n",
      "16\n",
      "Counter({2016: 66, 2017: 9})\n",
      "9\n",
      "Counter({2016: 116, 2017: 17})\n",
      "8\n",
      "Counter({2016: 124, 2017: 26})\n",
      "3\n",
      "Counter({2016: 98, 2017: 18})\n",
      "2\n",
      "Counter({2016: 84, 2017: 15})\n",
      "19\n",
      "Counter({2016: 88, 2017: 11})\n",
      "10\n",
      "Counter({2016: 144, 2017: 20})\n",
      "4\n",
      "Counter({2016: 134, 2017: 15})\n",
      "17\n",
      "Counter({2016: 38, 2017: 5})\n",
      "20\n",
      "Counter({2016: 27, 2017: 8})\n",
      "25\n",
      "Counter({2016: 150, 2017: 26})\n",
      "31\n",
      "Counter({2016: 1})\n"
     ]
    }
   ],
   "source": [
    "# Loop over the crimes_by_district using expansion as district and crimes\n",
    "for district, crimes in crimes_by_district.items():\n",
    "    print(district)\n",
    "    \n",
    "    # Create an empty Counter object: year_count\n",
    "    year_count = Counter()\n",
    "    \n",
    "    # Loop over the crimes:\n",
    "    for crime in crimes:\n",
    "         # If there was an arrest\n",
    "        if crime['Arrest'] == 'True':\n",
    "            year = datetime.strptime(crime['Date'], '%m/%d/%Y %I:%M:%S %p').year\n",
    "            year_count[year] += 1\n",
    "            \n",
    "    print(year_count)"
   ]
  },
  {
   "cell_type": "markdown",
   "metadata": {},
   "source": [
    "## Unique Crimes by City Block\n",
    "You're in the home stretch!\n",
    "\n",
    "Here, your data has been reshaped into a dictionary called crimes_by_block in which crimes are listed by city block. Your task in this exercise is to get a unique list of crimes that have occurred on a couple of the blocks that have been selected for you to learn more about. You might remember that you used `set()` to solve problems like this.\n",
    "\n",
    "Go for it!"
   ]
  },
  {
   "cell_type": "code",
   "execution_count": 96,
   "metadata": {},
   "outputs": [],
   "source": [
    "# Create the CSV file: csvfile\n",
    "csvfile = open('../data/14. Tipos de datos en Ciencia de Datos/crimes.csv', 'r')\n",
    "\n",
    "# Create a dictionary that defaults to a list: crimes_by_district\n",
    "crimes_by_block = defaultdict(list)\n",
    "\n",
    "# Loop over a DictReader of the CSV file\n",
    "for row in csv.DictReader(csvfile):\n",
    "    block = row.pop('Block')\n",
    "    crimes_by_block[block].append(row['Primary Type'])"
   ]
  },
  {
   "cell_type": "code",
   "execution_count": 97,
   "metadata": {},
   "outputs": [
    {
     "name": "stdout",
     "output_type": "stream",
     "text": [
      "{'CRIMINAL DAMAGE', 'THEFT', 'ROBBERY', 'ASSAULT', 'DECEPTIVE PRACTICE', 'BATTERY', 'CRIMINAL TRESPASS', 'OTHER OFFENSE'} \n",
      "\n",
      "{'CRIMINAL DAMAGE', 'THEFT', 'ASSAULT', 'NARCOTICS', 'DECEPTIVE PRACTICE', 'PUBLIC PEACE VIOLATION', 'OTHER OFFENSE', 'CRIMINAL TRESPASS'} \n",
      "\n",
      "{'ROBBERY', 'BATTERY'}\n"
     ]
    }
   ],
   "source": [
    "# Create a unique list of crimes for the first block: n_state_st_crimes\n",
    "n_state_st_crimes = set(crimes_by_block['001XX N STATE ST'])\n",
    "\n",
    "# Print the list\n",
    "print(n_state_st_crimes, '\\n')\n",
    "\n",
    "# Create a unique list of crimes for the second block: w_terminal_st_crimes\n",
    "w_terminal_st_crimes = set(crimes_by_block['0000X W TERMINAL ST'])\n",
    "\n",
    "# Print the list\n",
    "print(w_terminal_st_crimes, '\\n')\n",
    "\n",
    "# Find the differences between the two blocks: crime_differences\n",
    "crime_differences = n_state_st_crimes.difference(w_terminal_st_crimes)\n",
    "\n",
    "# Print the differences\n",
    "print(crime_differences)"
   ]
  },
  {
   "cell_type": "markdown",
   "metadata": {},
   "source": [
    "# MANIPULATING TIME SERIES \n",
    "\n",
    "## Method chaining and filtering\n",
    "We've seen that pandas supports method chaining. This technique can be very powerful when cleaning and filtering data.\n",
    "\n",
    "In this exercise, a DataFrame containing flight departure data for a single airline and a single airport for the month of July 2015 has been pre-loaded. Your job is to use `.str()` filtering and method chaining to generate summary statistics on flight delays each day to Dallas."
   ]
  },
  {
   "cell_type": "code",
   "execution_count": 177,
   "metadata": {
    "scrolled": true
   },
   "outputs": [
    {
     "data": {
      "text/html": [
       "<div>\n",
       "<style scoped>\n",
       "    .dataframe tbody tr th:only-of-type {\n",
       "        vertical-align: middle;\n",
       "    }\n",
       "\n",
       "    .dataframe tbody tr th {\n",
       "        vertical-align: top;\n",
       "    }\n",
       "\n",
       "    .dataframe thead th {\n",
       "        text-align: right;\n",
       "    }\n",
       "</style>\n",
       "<table border=\"1\" class=\"dataframe\">\n",
       "  <thead>\n",
       "    <tr style=\"text-align: right;\">\n",
       "      <th></th>\n",
       "      <th>Carrier Code</th>\n",
       "      <th>Date (MM/DD/YYYY)</th>\n",
       "      <th>Flight Number</th>\n",
       "      <th>Tail Number</th>\n",
       "      <th>Destination Airport</th>\n",
       "      <th>Scheduled Departure Time</th>\n",
       "      <th>Actual Departure Time</th>\n",
       "      <th>Scheduled Elapsed Time(Minutes)</th>\n",
       "      <th>Actual Elapsed Time(Minutes)</th>\n",
       "      <th>Departure Delay(Minutes)</th>\n",
       "      <th>Wheels-off Time</th>\n",
       "      <th>Taxi-out Time(Minutes)</th>\n",
       "      <th>DelayCarrier(Minutes)</th>\n",
       "      <th>DelayWeather(Minutes)</th>\n",
       "      <th>DelayNational Aviation System(Minutes)</th>\n",
       "      <th>DelaySecurity(Minutes)</th>\n",
       "      <th>DelayLate Aircraft Arrival(Minutes)</th>\n",
       "      <th>Unnamed: 17</th>\n",
       "    </tr>\n",
       "  </thead>\n",
       "  <tbody>\n",
       "    <tr>\n",
       "      <td>0</td>\n",
       "      <td>WN</td>\n",
       "      <td>07/01/2015</td>\n",
       "      <td>103</td>\n",
       "      <td>N8607M</td>\n",
       "      <td>MDW</td>\n",
       "      <td>06:30</td>\n",
       "      <td>06:52</td>\n",
       "      <td>165</td>\n",
       "      <td>147</td>\n",
       "      <td>22</td>\n",
       "      <td>07:01</td>\n",
       "      <td>9</td>\n",
       "      <td>0</td>\n",
       "      <td>0</td>\n",
       "      <td>0</td>\n",
       "      <td>0</td>\n",
       "      <td>0</td>\n",
       "      <td>NaN</td>\n",
       "    </tr>\n",
       "    <tr>\n",
       "      <td>1</td>\n",
       "      <td>WN</td>\n",
       "      <td>07/01/2015</td>\n",
       "      <td>144</td>\n",
       "      <td>N8609A</td>\n",
       "      <td>SAN</td>\n",
       "      <td>20:55</td>\n",
       "      <td>20:50</td>\n",
       "      <td>170</td>\n",
       "      <td>158</td>\n",
       "      <td>-5</td>\n",
       "      <td>21:03</td>\n",
       "      <td>13</td>\n",
       "      <td>0</td>\n",
       "      <td>0</td>\n",
       "      <td>0</td>\n",
       "      <td>0</td>\n",
       "      <td>0</td>\n",
       "      <td>NaN</td>\n",
       "    </tr>\n",
       "    <tr>\n",
       "      <td>2</td>\n",
       "      <td>WN</td>\n",
       "      <td>07/01/2015</td>\n",
       "      <td>178</td>\n",
       "      <td>N646SW</td>\n",
       "      <td>ELP</td>\n",
       "      <td>20:30</td>\n",
       "      <td>20:45</td>\n",
       "      <td>90</td>\n",
       "      <td>80</td>\n",
       "      <td>15</td>\n",
       "      <td>20:55</td>\n",
       "      <td>10</td>\n",
       "      <td>0</td>\n",
       "      <td>0</td>\n",
       "      <td>0</td>\n",
       "      <td>0</td>\n",
       "      <td>0</td>\n",
       "      <td>NaN</td>\n",
       "    </tr>\n",
       "    <tr>\n",
       "      <td>3</td>\n",
       "      <td>WN</td>\n",
       "      <td>07/01/2015</td>\n",
       "      <td>232</td>\n",
       "      <td>N204WN</td>\n",
       "      <td>ATL</td>\n",
       "      <td>05:45</td>\n",
       "      <td>05:49</td>\n",
       "      <td>135</td>\n",
       "      <td>137</td>\n",
       "      <td>4</td>\n",
       "      <td>06:01</td>\n",
       "      <td>12</td>\n",
       "      <td>0</td>\n",
       "      <td>0</td>\n",
       "      <td>0</td>\n",
       "      <td>0</td>\n",
       "      <td>0</td>\n",
       "      <td>NaN</td>\n",
       "    </tr>\n",
       "    <tr>\n",
       "      <td>4</td>\n",
       "      <td>WN</td>\n",
       "      <td>07/01/2015</td>\n",
       "      <td>238</td>\n",
       "      <td>N233LV</td>\n",
       "      <td>DAL</td>\n",
       "      <td>12:30</td>\n",
       "      <td>12:34</td>\n",
       "      <td>55</td>\n",
       "      <td>48</td>\n",
       "      <td>4</td>\n",
       "      <td>12:41</td>\n",
       "      <td>7</td>\n",
       "      <td>0</td>\n",
       "      <td>0</td>\n",
       "      <td>0</td>\n",
       "      <td>0</td>\n",
       "      <td>0</td>\n",
       "      <td>NaN</td>\n",
       "    </tr>\n",
       "    <tr>\n",
       "      <td>...</td>\n",
       "      <td>...</td>\n",
       "      <td>...</td>\n",
       "      <td>...</td>\n",
       "      <td>...</td>\n",
       "      <td>...</td>\n",
       "      <td>...</td>\n",
       "      <td>...</td>\n",
       "      <td>...</td>\n",
       "      <td>...</td>\n",
       "      <td>...</td>\n",
       "      <td>...</td>\n",
       "      <td>...</td>\n",
       "      <td>...</td>\n",
       "      <td>...</td>\n",
       "      <td>...</td>\n",
       "      <td>...</td>\n",
       "      <td>...</td>\n",
       "      <td>...</td>\n",
       "    </tr>\n",
       "    <tr>\n",
       "      <td>1735</td>\n",
       "      <td>WN</td>\n",
       "      <td>07/31/2015</td>\n",
       "      <td>4819</td>\n",
       "      <td>N7741C</td>\n",
       "      <td>PHX</td>\n",
       "      <td>17:25</td>\n",
       "      <td>17:48</td>\n",
       "      <td>150</td>\n",
       "      <td>139</td>\n",
       "      <td>23</td>\n",
       "      <td>17:59</td>\n",
       "      <td>11</td>\n",
       "      <td>0</td>\n",
       "      <td>0</td>\n",
       "      <td>0</td>\n",
       "      <td>0</td>\n",
       "      <td>0</td>\n",
       "      <td>NaN</td>\n",
       "    </tr>\n",
       "    <tr>\n",
       "      <td>1736</td>\n",
       "      <td>WN</td>\n",
       "      <td>07/31/2015</td>\n",
       "      <td>4913</td>\n",
       "      <td>N622SW</td>\n",
       "      <td>TPA</td>\n",
       "      <td>11:35</td>\n",
       "      <td>11:32</td>\n",
       "      <td>140</td>\n",
       "      <td>150</td>\n",
       "      <td>-3</td>\n",
       "      <td>11:46</td>\n",
       "      <td>14</td>\n",
       "      <td>0</td>\n",
       "      <td>0</td>\n",
       "      <td>0</td>\n",
       "      <td>0</td>\n",
       "      <td>0</td>\n",
       "      <td>NaN</td>\n",
       "    </tr>\n",
       "    <tr>\n",
       "      <td>1737</td>\n",
       "      <td>WN</td>\n",
       "      <td>07/31/2015</td>\n",
       "      <td>4924</td>\n",
       "      <td>N910WN</td>\n",
       "      <td>LAX</td>\n",
       "      <td>16:00</td>\n",
       "      <td>16:51</td>\n",
       "      <td>185</td>\n",
       "      <td>176</td>\n",
       "      <td>51</td>\n",
       "      <td>17:04</td>\n",
       "      <td>13</td>\n",
       "      <td>6</td>\n",
       "      <td>0</td>\n",
       "      <td>0</td>\n",
       "      <td>0</td>\n",
       "      <td>36</td>\n",
       "      <td>NaN</td>\n",
       "    </tr>\n",
       "    <tr>\n",
       "      <td>1738</td>\n",
       "      <td>WN</td>\n",
       "      <td>07/31/2015</td>\n",
       "      <td>4927</td>\n",
       "      <td>N8327A</td>\n",
       "      <td>DCA</td>\n",
       "      <td>12:40</td>\n",
       "      <td>13:48</td>\n",
       "      <td>195</td>\n",
       "      <td>175</td>\n",
       "      <td>68</td>\n",
       "      <td>13:59</td>\n",
       "      <td>11</td>\n",
       "      <td>0</td>\n",
       "      <td>0</td>\n",
       "      <td>0</td>\n",
       "      <td>0</td>\n",
       "      <td>48</td>\n",
       "      <td>NaN</td>\n",
       "    </tr>\n",
       "    <tr>\n",
       "      <td>1739</td>\n",
       "      <td>WN</td>\n",
       "      <td>07/31/2015</td>\n",
       "      <td>5888</td>\n",
       "      <td>N290WN</td>\n",
       "      <td>DAL</td>\n",
       "      <td>20:00</td>\n",
       "      <td>21:04</td>\n",
       "      <td>55</td>\n",
       "      <td>49</td>\n",
       "      <td>64</td>\n",
       "      <td>21:13</td>\n",
       "      <td>9</td>\n",
       "      <td>0</td>\n",
       "      <td>0</td>\n",
       "      <td>0</td>\n",
       "      <td>0</td>\n",
       "      <td>58</td>\n",
       "      <td>NaN</td>\n",
       "    </tr>\n",
       "  </tbody>\n",
       "</table>\n",
       "<p>1740 rows × 18 columns</p>\n",
       "</div>"
      ],
      "text/plain": [
       "     Carrier Code Date (MM/DD/YYYY)  Flight Number Tail Number  \\\n",
       "0              WN        07/01/2015            103      N8607M   \n",
       "1              WN        07/01/2015            144      N8609A   \n",
       "2              WN        07/01/2015            178      N646SW   \n",
       "3              WN        07/01/2015            232      N204WN   \n",
       "4              WN        07/01/2015            238      N233LV   \n",
       "...           ...               ...            ...         ...   \n",
       "1735           WN        07/31/2015           4819      N7741C   \n",
       "1736           WN        07/31/2015           4913      N622SW   \n",
       "1737           WN        07/31/2015           4924      N910WN   \n",
       "1738           WN        07/31/2015           4927      N8327A   \n",
       "1739           WN        07/31/2015           5888      N290WN   \n",
       "\n",
       "     Destination Airport  Scheduled Departure Time Actual Departure Time  \\\n",
       "0                     MDW                    06:30                 06:52   \n",
       "1                     SAN                    20:55                 20:50   \n",
       "2                     ELP                    20:30                 20:45   \n",
       "3                     ATL                    05:45                 05:49   \n",
       "4                     DAL                    12:30                 12:34   \n",
       "...                   ...                      ...                   ...   \n",
       "1735                  PHX                    17:25                 17:48   \n",
       "1736                  TPA                    11:35                 11:32   \n",
       "1737                  LAX                    16:00                 16:51   \n",
       "1738                  DCA                    12:40                 13:48   \n",
       "1739                  DAL                    20:00                 21:04   \n",
       "\n",
       "      Scheduled Elapsed Time(Minutes)  Actual Elapsed Time(Minutes)  \\\n",
       "0                                 165                           147   \n",
       "1                                 170                           158   \n",
       "2                                  90                            80   \n",
       "3                                 135                           137   \n",
       "4                                  55                            48   \n",
       "...                               ...                           ...   \n",
       "1735                              150                           139   \n",
       "1736                              140                           150   \n",
       "1737                              185                           176   \n",
       "1738                              195                           175   \n",
       "1739                               55                            49   \n",
       "\n",
       "      Departure Delay(Minutes) Wheels-off Time  Taxi-out Time(Minutes)  \\\n",
       "0                           22           07:01                       9   \n",
       "1                           -5           21:03                      13   \n",
       "2                           15           20:55                      10   \n",
       "3                            4           06:01                      12   \n",
       "4                            4           12:41                       7   \n",
       "...                        ...             ...                     ...   \n",
       "1735                        23           17:59                      11   \n",
       "1736                        -3           11:46                      14   \n",
       "1737                        51           17:04                      13   \n",
       "1738                        68           13:59                      11   \n",
       "1739                        64           21:13                       9   \n",
       "\n",
       "      DelayCarrier(Minutes)  DelayWeather(Minutes)  \\\n",
       "0                         0                      0   \n",
       "1                         0                      0   \n",
       "2                         0                      0   \n",
       "3                         0                      0   \n",
       "4                         0                      0   \n",
       "...                     ...                    ...   \n",
       "1735                      0                      0   \n",
       "1736                      0                      0   \n",
       "1737                      6                      0   \n",
       "1738                      0                      0   \n",
       "1739                      0                      0   \n",
       "\n",
       "      DelayNational Aviation System(Minutes)  DelaySecurity(Minutes)  \\\n",
       "0                                          0                       0   \n",
       "1                                          0                       0   \n",
       "2                                          0                       0   \n",
       "3                                          0                       0   \n",
       "4                                          0                       0   \n",
       "...                                      ...                     ...   \n",
       "1735                                       0                       0   \n",
       "1736                                       0                       0   \n",
       "1737                                       0                       0   \n",
       "1738                                       0                       0   \n",
       "1739                                       0                       0   \n",
       "\n",
       "      DelayLate Aircraft Arrival(Minutes)  Unnamed: 17  \n",
       "0                                       0          NaN  \n",
       "1                                       0          NaN  \n",
       "2                                       0          NaN  \n",
       "3                                       0          NaN  \n",
       "4                                       0          NaN  \n",
       "...                                   ...          ...  \n",
       "1735                                    0          NaN  \n",
       "1736                                    0          NaN  \n",
       "1737                                   36          NaN  \n",
       "1738                                   48          NaN  \n",
       "1739                                   58          NaN  \n",
       "\n",
       "[1740 rows x 18 columns]"
      ]
     },
     "execution_count": 177,
     "metadata": {},
     "output_type": "execute_result"
    }
   ],
   "source": [
    "df = pd.read_csv('../data/departures.csv', sep=',')\n",
    "df"
   ]
  },
  {
   "cell_type": "code",
   "execution_count": 185,
   "metadata": {
    "scrolled": true
   },
   "outputs": [
    {
     "data": {
      "text/html": [
       "<div>\n",
       "<style scoped>\n",
       "    .dataframe tbody tr th:only-of-type {\n",
       "        vertical-align: middle;\n",
       "    }\n",
       "\n",
       "    .dataframe tbody tr th {\n",
       "        vertical-align: top;\n",
       "    }\n",
       "\n",
       "    .dataframe thead th {\n",
       "        text-align: right;\n",
       "    }\n",
       "</style>\n",
       "<table border=\"1\" class=\"dataframe\">\n",
       "  <thead>\n",
       "    <tr style=\"text-align: right;\">\n",
       "      <th></th>\n",
       "      <th>Carrier Code</th>\n",
       "      <th>Date (MM/DD/YYYY)</th>\n",
       "      <th>Flight Number</th>\n",
       "      <th>Tail Number</th>\n",
       "      <th>Destination Airport</th>\n",
       "      <th>Scheduled Departure Time</th>\n",
       "      <th>Actual Departure Time</th>\n",
       "      <th>Scheduled Elapsed Time(Minutes)</th>\n",
       "      <th>Actual Elapsed Time(Minutes)</th>\n",
       "      <th>Departure Delay(Minutes)</th>\n",
       "      <th>Wheels-off Time</th>\n",
       "      <th>Taxi-out Time(Minutes)</th>\n",
       "      <th>DelayCarrier(Minutes)</th>\n",
       "      <th>DelayWeather(Minutes)</th>\n",
       "      <th>DelayNational Aviation System(Minutes)</th>\n",
       "      <th>DelaySecurity(Minutes)</th>\n",
       "      <th>DelayLate Aircraft Arrival(Minutes)</th>\n",
       "      <th>Unnamed: 17</th>\n",
       "    </tr>\n",
       "    <tr>\n",
       "      <th>Date (MM/DD/YYYY)</th>\n",
       "      <th></th>\n",
       "      <th></th>\n",
       "      <th></th>\n",
       "      <th></th>\n",
       "      <th></th>\n",
       "      <th></th>\n",
       "      <th></th>\n",
       "      <th></th>\n",
       "      <th></th>\n",
       "      <th></th>\n",
       "      <th></th>\n",
       "      <th></th>\n",
       "      <th></th>\n",
       "      <th></th>\n",
       "      <th></th>\n",
       "      <th></th>\n",
       "      <th></th>\n",
       "      <th></th>\n",
       "    </tr>\n",
       "  </thead>\n",
       "  <tbody>\n",
       "    <tr>\n",
       "      <td>2015-07-01</td>\n",
       "      <td>WN</td>\n",
       "      <td>2015-07-01</td>\n",
       "      <td>103</td>\n",
       "      <td>N8607M</td>\n",
       "      <td>MDW</td>\n",
       "      <td>06:30</td>\n",
       "      <td>06:52</td>\n",
       "      <td>165</td>\n",
       "      <td>147</td>\n",
       "      <td>22</td>\n",
       "      <td>07:01</td>\n",
       "      <td>9</td>\n",
       "      <td>0</td>\n",
       "      <td>0</td>\n",
       "      <td>0</td>\n",
       "      <td>0</td>\n",
       "      <td>0</td>\n",
       "      <td>NaN</td>\n",
       "    </tr>\n",
       "    <tr>\n",
       "      <td>2015-07-01</td>\n",
       "      <td>WN</td>\n",
       "      <td>2015-07-01</td>\n",
       "      <td>144</td>\n",
       "      <td>N8609A</td>\n",
       "      <td>SAN</td>\n",
       "      <td>20:55</td>\n",
       "      <td>20:50</td>\n",
       "      <td>170</td>\n",
       "      <td>158</td>\n",
       "      <td>-5</td>\n",
       "      <td>21:03</td>\n",
       "      <td>13</td>\n",
       "      <td>0</td>\n",
       "      <td>0</td>\n",
       "      <td>0</td>\n",
       "      <td>0</td>\n",
       "      <td>0</td>\n",
       "      <td>NaN</td>\n",
       "    </tr>\n",
       "    <tr>\n",
       "      <td>2015-07-01</td>\n",
       "      <td>WN</td>\n",
       "      <td>2015-07-01</td>\n",
       "      <td>178</td>\n",
       "      <td>N646SW</td>\n",
       "      <td>ELP</td>\n",
       "      <td>20:30</td>\n",
       "      <td>20:45</td>\n",
       "      <td>90</td>\n",
       "      <td>80</td>\n",
       "      <td>15</td>\n",
       "      <td>20:55</td>\n",
       "      <td>10</td>\n",
       "      <td>0</td>\n",
       "      <td>0</td>\n",
       "      <td>0</td>\n",
       "      <td>0</td>\n",
       "      <td>0</td>\n",
       "      <td>NaN</td>\n",
       "    </tr>\n",
       "    <tr>\n",
       "      <td>2015-07-01</td>\n",
       "      <td>WN</td>\n",
       "      <td>2015-07-01</td>\n",
       "      <td>232</td>\n",
       "      <td>N204WN</td>\n",
       "      <td>ATL</td>\n",
       "      <td>05:45</td>\n",
       "      <td>05:49</td>\n",
       "      <td>135</td>\n",
       "      <td>137</td>\n",
       "      <td>4</td>\n",
       "      <td>06:01</td>\n",
       "      <td>12</td>\n",
       "      <td>0</td>\n",
       "      <td>0</td>\n",
       "      <td>0</td>\n",
       "      <td>0</td>\n",
       "      <td>0</td>\n",
       "      <td>NaN</td>\n",
       "    </tr>\n",
       "    <tr>\n",
       "      <td>2015-07-01</td>\n",
       "      <td>WN</td>\n",
       "      <td>2015-07-01</td>\n",
       "      <td>238</td>\n",
       "      <td>N233LV</td>\n",
       "      <td>DAL</td>\n",
       "      <td>12:30</td>\n",
       "      <td>12:34</td>\n",
       "      <td>55</td>\n",
       "      <td>48</td>\n",
       "      <td>4</td>\n",
       "      <td>12:41</td>\n",
       "      <td>7</td>\n",
       "      <td>0</td>\n",
       "      <td>0</td>\n",
       "      <td>0</td>\n",
       "      <td>0</td>\n",
       "      <td>0</td>\n",
       "      <td>NaN</td>\n",
       "    </tr>\n",
       "  </tbody>\n",
       "</table>\n",
       "</div>"
      ],
      "text/plain": [
       "                  Carrier Code Date (MM/DD/YYYY)  Flight Number Tail Number  \\\n",
       "Date (MM/DD/YYYY)                                                             \n",
       "2015-07-01                  WN        2015-07-01            103      N8607M   \n",
       "2015-07-01                  WN        2015-07-01            144      N8609A   \n",
       "2015-07-01                  WN        2015-07-01            178      N646SW   \n",
       "2015-07-01                  WN        2015-07-01            232      N204WN   \n",
       "2015-07-01                  WN        2015-07-01            238      N233LV   \n",
       "\n",
       "                  Destination Airport Scheduled Departure Time  \\\n",
       "Date (MM/DD/YYYY)                                                \n",
       "2015-07-01                        MDW                    06:30   \n",
       "2015-07-01                        SAN                    20:55   \n",
       "2015-07-01                        ELP                    20:30   \n",
       "2015-07-01                        ATL                    05:45   \n",
       "2015-07-01                        DAL                    12:30   \n",
       "\n",
       "                  Actual Departure Time  Scheduled Elapsed Time(Minutes)  \\\n",
       "Date (MM/DD/YYYY)                                                          \n",
       "2015-07-01                        06:52                              165   \n",
       "2015-07-01                        20:50                              170   \n",
       "2015-07-01                        20:45                               90   \n",
       "2015-07-01                        05:49                              135   \n",
       "2015-07-01                        12:34                               55   \n",
       "\n",
       "                   Actual Elapsed Time(Minutes)  Departure Delay(Minutes)  \\\n",
       "Date (MM/DD/YYYY)                                                           \n",
       "2015-07-01                                  147                        22   \n",
       "2015-07-01                                  158                        -5   \n",
       "2015-07-01                                   80                        15   \n",
       "2015-07-01                                  137                         4   \n",
       "2015-07-01                                   48                         4   \n",
       "\n",
       "                  Wheels-off Time  Taxi-out Time(Minutes)  \\\n",
       "Date (MM/DD/YYYY)                                           \n",
       "2015-07-01                  07:01                       9   \n",
       "2015-07-01                  21:03                      13   \n",
       "2015-07-01                  20:55                      10   \n",
       "2015-07-01                  06:01                      12   \n",
       "2015-07-01                  12:41                       7   \n",
       "\n",
       "                   DelayCarrier(Minutes)  DelayWeather(Minutes)  \\\n",
       "Date (MM/DD/YYYY)                                                 \n",
       "2015-07-01                             0                      0   \n",
       "2015-07-01                             0                      0   \n",
       "2015-07-01                             0                      0   \n",
       "2015-07-01                             0                      0   \n",
       "2015-07-01                             0                      0   \n",
       "\n",
       "                   DelayNational Aviation System(Minutes)  \\\n",
       "Date (MM/DD/YYYY)                                           \n",
       "2015-07-01                                              0   \n",
       "2015-07-01                                              0   \n",
       "2015-07-01                                              0   \n",
       "2015-07-01                                              0   \n",
       "2015-07-01                                              0   \n",
       "\n",
       "                   DelaySecurity(Minutes)  \\\n",
       "Date (MM/DD/YYYY)                           \n",
       "2015-07-01                              0   \n",
       "2015-07-01                              0   \n",
       "2015-07-01                              0   \n",
       "2015-07-01                              0   \n",
       "2015-07-01                              0   \n",
       "\n",
       "                   DelayLate Aircraft Arrival(Minutes)  Unnamed: 17  \n",
       "Date (MM/DD/YYYY)                                                    \n",
       "2015-07-01                                           0          NaN  \n",
       "2015-07-01                                           0          NaN  \n",
       "2015-07-01                                           0          NaN  \n",
       "2015-07-01                                           0          NaN  \n",
       "2015-07-01                                           0          NaN  "
      ]
     },
     "execution_count": 185,
     "metadata": {},
     "output_type": "execute_result"
    }
   ],
   "source": [
    "# Strip extra whitespace from the column names: df.columns\n",
    "df.columns = df.columns.str.strip(' ')\n",
    "df.head()"
   ]
  },
  {
   "cell_type": "code",
   "execution_count": 186,
   "metadata": {
    "scrolled": true
   },
   "outputs": [
    {
     "data": {
      "text/html": [
       "<div>\n",
       "<style scoped>\n",
       "    .dataframe tbody tr th:only-of-type {\n",
       "        vertical-align: middle;\n",
       "    }\n",
       "\n",
       "    .dataframe tbody tr th {\n",
       "        vertical-align: top;\n",
       "    }\n",
       "\n",
       "    .dataframe thead th {\n",
       "        text-align: right;\n",
       "    }\n",
       "</style>\n",
       "<table border=\"1\" class=\"dataframe\">\n",
       "  <thead>\n",
       "    <tr style=\"text-align: right;\">\n",
       "      <th></th>\n",
       "      <th>Carrier Code</th>\n",
       "      <th>date</th>\n",
       "      <th>Flight Number</th>\n",
       "      <th>Tail Number</th>\n",
       "      <th>Destination Airport</th>\n",
       "      <th>Scheduled Departure Time</th>\n",
       "      <th>Actual Departure Time</th>\n",
       "      <th>Scheduled Elapsed Time(Minutes)</th>\n",
       "      <th>Actual Elapsed Time(Minutes)</th>\n",
       "      <th>Departure Delay(Minutes)</th>\n",
       "      <th>Wheels-off Time</th>\n",
       "      <th>Taxi-out Time(Minutes)</th>\n",
       "      <th>DelayCarrier(Minutes)</th>\n",
       "      <th>DelayWeather(Minutes)</th>\n",
       "      <th>DelayNational Aviation System(Minutes)</th>\n",
       "      <th>DelaySecurity(Minutes)</th>\n",
       "      <th>DelayLate Aircraft Arrival(Minutes)</th>\n",
       "      <th>Unnamed: 17</th>\n",
       "    </tr>\n",
       "    <tr>\n",
       "      <th>date</th>\n",
       "      <th></th>\n",
       "      <th></th>\n",
       "      <th></th>\n",
       "      <th></th>\n",
       "      <th></th>\n",
       "      <th></th>\n",
       "      <th></th>\n",
       "      <th></th>\n",
       "      <th></th>\n",
       "      <th></th>\n",
       "      <th></th>\n",
       "      <th></th>\n",
       "      <th></th>\n",
       "      <th></th>\n",
       "      <th></th>\n",
       "      <th></th>\n",
       "      <th></th>\n",
       "      <th></th>\n",
       "    </tr>\n",
       "  </thead>\n",
       "  <tbody>\n",
       "    <tr>\n",
       "      <td>2015-07-01</td>\n",
       "      <td>WN</td>\n",
       "      <td>2015-07-01</td>\n",
       "      <td>103</td>\n",
       "      <td>N8607M</td>\n",
       "      <td>MDW</td>\n",
       "      <td>06:30</td>\n",
       "      <td>06:52</td>\n",
       "      <td>165</td>\n",
       "      <td>147</td>\n",
       "      <td>22</td>\n",
       "      <td>07:01</td>\n",
       "      <td>9</td>\n",
       "      <td>0</td>\n",
       "      <td>0</td>\n",
       "      <td>0</td>\n",
       "      <td>0</td>\n",
       "      <td>0</td>\n",
       "      <td>NaN</td>\n",
       "    </tr>\n",
       "    <tr>\n",
       "      <td>2015-07-01</td>\n",
       "      <td>WN</td>\n",
       "      <td>2015-07-01</td>\n",
       "      <td>144</td>\n",
       "      <td>N8609A</td>\n",
       "      <td>SAN</td>\n",
       "      <td>20:55</td>\n",
       "      <td>20:50</td>\n",
       "      <td>170</td>\n",
       "      <td>158</td>\n",
       "      <td>-5</td>\n",
       "      <td>21:03</td>\n",
       "      <td>13</td>\n",
       "      <td>0</td>\n",
       "      <td>0</td>\n",
       "      <td>0</td>\n",
       "      <td>0</td>\n",
       "      <td>0</td>\n",
       "      <td>NaN</td>\n",
       "    </tr>\n",
       "    <tr>\n",
       "      <td>2015-07-01</td>\n",
       "      <td>WN</td>\n",
       "      <td>2015-07-01</td>\n",
       "      <td>178</td>\n",
       "      <td>N646SW</td>\n",
       "      <td>ELP</td>\n",
       "      <td>20:30</td>\n",
       "      <td>20:45</td>\n",
       "      <td>90</td>\n",
       "      <td>80</td>\n",
       "      <td>15</td>\n",
       "      <td>20:55</td>\n",
       "      <td>10</td>\n",
       "      <td>0</td>\n",
       "      <td>0</td>\n",
       "      <td>0</td>\n",
       "      <td>0</td>\n",
       "      <td>0</td>\n",
       "      <td>NaN</td>\n",
       "    </tr>\n",
       "    <tr>\n",
       "      <td>2015-07-01</td>\n",
       "      <td>WN</td>\n",
       "      <td>2015-07-01</td>\n",
       "      <td>232</td>\n",
       "      <td>N204WN</td>\n",
       "      <td>ATL</td>\n",
       "      <td>05:45</td>\n",
       "      <td>05:49</td>\n",
       "      <td>135</td>\n",
       "      <td>137</td>\n",
       "      <td>4</td>\n",
       "      <td>06:01</td>\n",
       "      <td>12</td>\n",
       "      <td>0</td>\n",
       "      <td>0</td>\n",
       "      <td>0</td>\n",
       "      <td>0</td>\n",
       "      <td>0</td>\n",
       "      <td>NaN</td>\n",
       "    </tr>\n",
       "    <tr>\n",
       "      <td>2015-07-01</td>\n",
       "      <td>WN</td>\n",
       "      <td>2015-07-01</td>\n",
       "      <td>238</td>\n",
       "      <td>N233LV</td>\n",
       "      <td>DAL</td>\n",
       "      <td>12:30</td>\n",
       "      <td>12:34</td>\n",
       "      <td>55</td>\n",
       "      <td>48</td>\n",
       "      <td>4</td>\n",
       "      <td>12:41</td>\n",
       "      <td>7</td>\n",
       "      <td>0</td>\n",
       "      <td>0</td>\n",
       "      <td>0</td>\n",
       "      <td>0</td>\n",
       "      <td>0</td>\n",
       "      <td>NaN</td>\n",
       "    </tr>\n",
       "  </tbody>\n",
       "</table>\n",
       "</div>"
      ],
      "text/plain": [
       "           Carrier Code       date  Flight Number Tail Number  \\\n",
       "date                                                            \n",
       "2015-07-01           WN 2015-07-01            103      N8607M   \n",
       "2015-07-01           WN 2015-07-01            144      N8609A   \n",
       "2015-07-01           WN 2015-07-01            178      N646SW   \n",
       "2015-07-01           WN 2015-07-01            232      N204WN   \n",
       "2015-07-01           WN 2015-07-01            238      N233LV   \n",
       "\n",
       "           Destination Airport Scheduled Departure Time Actual Departure Time  \\\n",
       "date                                                                            \n",
       "2015-07-01                 MDW                    06:30                 06:52   \n",
       "2015-07-01                 SAN                    20:55                 20:50   \n",
       "2015-07-01                 ELP                    20:30                 20:45   \n",
       "2015-07-01                 ATL                    05:45                 05:49   \n",
       "2015-07-01                 DAL                    12:30                 12:34   \n",
       "\n",
       "            Scheduled Elapsed Time(Minutes)  Actual Elapsed Time(Minutes)  \\\n",
       "date                                                                        \n",
       "2015-07-01                              165                           147   \n",
       "2015-07-01                              170                           158   \n",
       "2015-07-01                               90                            80   \n",
       "2015-07-01                              135                           137   \n",
       "2015-07-01                               55                            48   \n",
       "\n",
       "            Departure Delay(Minutes) Wheels-off Time  Taxi-out Time(Minutes)  \\\n",
       "date                                                                           \n",
       "2015-07-01                        22           07:01                       9   \n",
       "2015-07-01                        -5           21:03                      13   \n",
       "2015-07-01                        15           20:55                      10   \n",
       "2015-07-01                         4           06:01                      12   \n",
       "2015-07-01                         4           12:41                       7   \n",
       "\n",
       "            DelayCarrier(Minutes)  DelayWeather(Minutes)  \\\n",
       "date                                                       \n",
       "2015-07-01                      0                      0   \n",
       "2015-07-01                      0                      0   \n",
       "2015-07-01                      0                      0   \n",
       "2015-07-01                      0                      0   \n",
       "2015-07-01                      0                      0   \n",
       "\n",
       "            DelayNational Aviation System(Minutes)  DelaySecurity(Minutes)  \\\n",
       "date                                                                         \n",
       "2015-07-01                                       0                       0   \n",
       "2015-07-01                                       0                       0   \n",
       "2015-07-01                                       0                       0   \n",
       "2015-07-01                                       0                       0   \n",
       "2015-07-01                                       0                       0   \n",
       "\n",
       "            DelayLate Aircraft Arrival(Minutes)  Unnamed: 17  \n",
       "date                                                          \n",
       "2015-07-01                                    0          NaN  \n",
       "2015-07-01                                    0          NaN  \n",
       "2015-07-01                                    0          NaN  \n",
       "2015-07-01                                    0          NaN  \n",
       "2015-07-01                                    0          NaN  "
      ]
     },
     "execution_count": 186,
     "metadata": {},
     "output_type": "execute_result"
    }
   ],
   "source": [
    "time_format = '%m/%d/%Y'\n",
    "\n",
    "df.rename(columns={'Date (MM/DD/YYYY)':'date'}, inplace=True)\n",
    "df['date'] =  pd.to_datetime(df['date'], format=time_format)\n",
    "df.index = df['date']\n",
    "df.head()"
   ]
  },
  {
   "cell_type": "code",
   "execution_count": 193,
   "metadata": {
    "scrolled": true
   },
   "outputs": [
    {
     "data": {
      "text/plain": [
       "date\n",
       "2015-07-01    DAL\n",
       "2015-07-01    DAL\n",
       "2015-07-01    DAL\n",
       "2015-07-01    DAL\n",
       "2015-07-01    DAL\n",
       "Name: Destination Airport, dtype: object"
      ]
     },
     "execution_count": 193,
     "metadata": {},
     "output_type": "execute_result"
    }
   ],
   "source": [
    "# Extract data for which the destination airport is Dallas: dallas\n",
    "dallas = df.loc[df['Destination Airport'].str.contains('DAL'),'Destination Airport']\n",
    "dallas.head()"
   ]
  },
  {
   "cell_type": "markdown",
   "metadata": {},
   "source": [
    "## Method chaining and filtering\n",
    "We've seen that pandas supports method chaining. This technique can be very powerful when cleaning and filtering data."
   ]
  },
  {
   "cell_type": "code",
   "execution_count": 194,
   "metadata": {
    "scrolled": true
   },
   "outputs": [
    {
     "data": {
      "text/plain": [
       "date\n",
       "2015-07-01    10\n",
       "2015-07-02    10\n",
       "2015-07-03    11\n",
       "2015-07-04     3\n",
       "2015-07-05     9\n",
       "2015-07-06    10\n",
       "2015-07-07    10\n",
       "2015-07-08    10\n",
       "2015-07-09    10\n",
       "2015-07-10    11\n",
       "2015-07-11     5\n",
       "2015-07-12     9\n",
       "2015-07-13    10\n",
       "2015-07-14    10\n",
       "2015-07-15    10\n",
       "2015-07-16    10\n",
       "2015-07-17    11\n",
       "2015-07-18     5\n",
       "2015-07-19     9\n",
       "2015-07-20    10\n",
       "2015-07-21    10\n",
       "2015-07-22    10\n",
       "2015-07-23    10\n",
       "2015-07-24    11\n",
       "2015-07-25     5\n",
       "2015-07-26     9\n",
       "2015-07-27    10\n",
       "2015-07-28    10\n",
       "2015-07-29    10\n",
       "2015-07-30    10\n",
       "2015-07-31    11\n",
       "Freq: D, Name: Destination Airport, dtype: int64"
      ]
     },
     "execution_count": 194,
     "metadata": {},
     "output_type": "execute_result"
    }
   ],
   "source": [
    "# Compute the total number of Dallas departures each day: daily_departures\n",
    "daily_departures = dallas.resample('D').count()\n",
    "daily_departures"
   ]
  },
  {
   "cell_type": "code",
   "execution_count": 196,
   "metadata": {},
   "outputs": [
    {
     "data": {
      "text/plain": [
       "count    31.000000\n",
       "mean      9.322581\n",
       "std       1.989759\n",
       "min       3.000000\n",
       "25%       9.500000\n",
       "50%      10.000000\n",
       "75%      10.000000\n",
       "max      11.000000\n",
       "Name: Destination Airport, dtype: float64"
      ]
     },
     "execution_count": 196,
     "metadata": {},
     "output_type": "execute_result"
    }
   ],
   "source": [
    "stats = daily_departures.describe()\n",
    "stats"
   ]
  },
  {
   "cell_type": "markdown",
   "metadata": {},
   "source": [
    "## Time zones and conversion\n",
    "Time zone handling with pandas typically assumes that you are handling the Index of the Series. In this exercise, you will learn how to handle timezones that are associated with datetimes in the column data, and not just the Index.\n",
    "\n",
    "You will work with the flight departure dataset again, and this time you will select Los Angeles ('LAX') as the destination airport."
   ]
  },
  {
   "cell_type": "code",
   "execution_count": 207,
   "metadata": {},
   "outputs": [
    {
     "data": {
      "text/plain": [
       "33     2015-07-01 05:43:00\n",
       "55     2015-07-01 16:27:00\n",
       "91     2015-07-02 05:47:00\n",
       "113    2015-07-02 16:23:00\n",
       "134    2015-07-03 05:30:00\n",
       "               ...        \n",
       "1620   2015-07-29 16:29:00\n",
       "1656   2015-07-30 05:36:00\n",
       "1678   2015-07-30 16:41:00\n",
       "1714   2015-07-31 05:39:00\n",
       "1737   2015-07-31 17:04:00\n",
       "Length: 62, dtype: datetime64[ns]"
      ]
     },
     "execution_count": 207,
     "metadata": {},
     "output_type": "execute_result"
    }
   ],
   "source": [
    "df = pd.read_csv('../data/departures.csv', sep=',')\n",
    "df.columns = df.columns.str.strip(' ')\n",
    "\n",
    "# Build a Boolean mask to filter out all the 'LAX' departure flights: mask\n",
    "mask = df['Destination Airport'] == 'LAX'\n",
    "\n",
    "# Use the mask to subset the data: la\n",
    "la = df[mask]\n",
    "\n",
    "# Combine two columns of data to create a datetime series: times_tz_none \n",
    "times_tz_none = pd.to_datetime(la['Date (MM/DD/YYYY)'] + ' ' + la['Wheels-off Time'])\n",
    "times_tz_none"
   ]
  },
  {
   "cell_type": "code",
   "execution_count": 205,
   "metadata": {},
   "outputs": [
    {
     "data": {
      "text/plain": [
       "33     2015-07-01 05:43:00-05:00\n",
       "55     2015-07-01 16:27:00-05:00\n",
       "91     2015-07-02 05:47:00-05:00\n",
       "113    2015-07-02 16:23:00-05:00\n",
       "134    2015-07-03 05:30:00-05:00\n",
       "                  ...           \n",
       "1620   2015-07-29 16:29:00-05:00\n",
       "1656   2015-07-30 05:36:00-05:00\n",
       "1678   2015-07-30 16:41:00-05:00\n",
       "1714   2015-07-31 05:39:00-05:00\n",
       "1737   2015-07-31 17:04:00-05:00\n",
       "Length: 62, dtype: datetime64[ns, US/Central]"
      ]
     },
     "execution_count": 205,
     "metadata": {},
     "output_type": "execute_result"
    }
   ],
   "source": [
    "# Localize the time to US/Central: times_tz_central\n",
    "times_tz_central = times_tz_none.dt.tz_localize('US/Central')\n",
    "times_tz_central"
   ]
  },
  {
   "cell_type": "code",
   "execution_count": 206,
   "metadata": {
    "scrolled": true
   },
   "outputs": [
    {
     "data": {
      "text/plain": [
       "33     2015-07-01 03:43:00-07:00\n",
       "55     2015-07-01 14:27:00-07:00\n",
       "91     2015-07-02 03:47:00-07:00\n",
       "113    2015-07-02 14:23:00-07:00\n",
       "134    2015-07-03 03:30:00-07:00\n",
       "                  ...           \n",
       "1620   2015-07-29 14:29:00-07:00\n",
       "1656   2015-07-30 03:36:00-07:00\n",
       "1678   2015-07-30 14:41:00-07:00\n",
       "1714   2015-07-31 03:39:00-07:00\n",
       "1737   2015-07-31 15:04:00-07:00\n",
       "Length: 62, dtype: datetime64[ns, US/Pacific]"
      ]
     },
     "execution_count": 206,
     "metadata": {},
     "output_type": "execute_result"
    }
   ],
   "source": [
    "# Convert the datetimes from US/Central to US/Pacific\n",
    "times_tz_pacific = times_tz_central.dt.tz_convert('US/Pacific')\n",
    "times_tz_pacific"
   ]
  },
  {
   "cell_type": "markdown",
   "metadata": {},
   "source": [
    "# Practice\n",
    "Whats the probability of seeing a plane and it is going to LAX?"
   ]
  },
  {
   "cell_type": "code",
   "execution_count": 226,
   "metadata": {},
   "outputs": [
    {
     "data": {
      "text/plain": [
       "'17.0%'"
      ]
     },
     "execution_count": 226,
     "metadata": {},
     "output_type": "execute_result"
    }
   ],
   "source": [
    "df = pd.read_csv('../data/departures.csv', sep=',')\n",
    "df.columns = df.columns.str.strip(' ')\n",
    "df.rename(columns={'Date (MM/DD/YYYY)':'date'}, inplace=True)\n",
    "df['date'] =  pd.to_datetime(df['date'], format=time_format)\n",
    "df.index = df['date']\n",
    "df.head()\n",
    "\n",
    "mask = df['Destination Airport'] == 'DAL'\n",
    "dal = df[mask]"
   ]
  },
  {
   "cell_type": "code",
   "execution_count": 228,
   "metadata": {},
   "outputs": [
    {
     "data": {
      "text/plain": [
       "<matplotlib.axes._subplots.AxesSubplot at 0x22f341d0348>"
      ]
     },
     "execution_count": 228,
     "metadata": {},
     "output_type": "execute_result"
    },
    {
     "data": {
      "image/png": "[encoded data removed]",
      "text/plain": [
       "<Figure size 432x288 with 1 Axes>"
      ]
     },
     "metadata": {
      "needs_background": "light"
     },
     "output_type": "display_data"
    }
   ],
   "source": [
    "dal['Destination Airport'].resample('D').count().plot()\n",
    "mean_dal_flight = dal['Destination Airport'].resample('D').count().mean()"
   ]
  },
  {
   "cell_type": "code",
   "execution_count": 229,
   "metadata": {},
   "outputs": [
    {
     "data": {
      "image/png": "[encoded data removed]",
      "text/plain": [
       "<Figure size 432x288 with 1 Axes>"
      ]
     },
     "metadata": {
      "needs_background": "light"
     },
     "output_type": "display_data"
    }
   ],
   "source": [
    "df['Destination Airport'].resample('D').count().plot()\n",
    "mean_total_flight = df['Destination Airport'].resample('D').count().mean()"
   ]
  },
  {
   "cell_type": "code",
   "execution_count": null,
   "metadata": {},
   "outputs": [],
   "source": [
    "print(str(round(mean_dal_flight/mean_total_flight*100,0))+'%')"
   ]
  },
  {
   "cell_type": "code",
   "execution_count": null,
   "metadata": {},
   "outputs": [],
   "source": []
  }
 ],
 "metadata": {
  "kernelspec": {
   "display_name": "Python 3",
   "language": "python",
   "name": "python3"
  },
  "language_info": {
   "codemirror_mode": {
    "name": "ipython",
    "version": 3
   },
   "file_extension": ".py",
   "mimetype": "text/x-python",
   "name": "python",
   "nbconvert_exporter": "python",
   "pygments_lexer": "ipython3",
   "version": "3.8.3"
  }
 },
 "nbformat": 4,
 "nbformat_minor": 2
}
