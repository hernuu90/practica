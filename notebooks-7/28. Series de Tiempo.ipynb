{
 "cells": [
  {
   "cell_type": "markdown",
   "metadata": {},
   "source": [
    "# TIME SERIES DATA\n",
    "\n",
    "you will learn how to manipulate and visualize time series data using pandas. You will become familiar with concepts such as upsampling, downsampling, and interpolation. You will practice using method chaining to efficiently filter your data and perform time series analyses"
   ]
  },
  {
   "cell_type": "code",
   "execution_count": 24,
   "metadata": {},
   "outputs": [],
   "source": [
    "date_list = ['20100101 00:00', '20100101 01:00', '20100102 00:00', '20100102 01:00',\n",
    "             '20100103 00:00', '20100104 00:00', '20100105 00:00']\n",
    "\n",
    "temperature_list = [46.2, 44.6, 44.1, 43.8, 43.5, 43.0, 43.1]"
   ]
  },
  {
   "cell_type": "markdown",
   "metadata": {},
   "source": [
    "## Creating and using a DatetimeIndex\n",
    "The pandas Index is a powerful way to handle time series data, so it is valuable to know how to build one yourself. Pandas provides the `pd.to_datetime()` function for just this task. For example, if passed the list of strings `['2015-01-01 091234','2015-01-01 091234']` and a format specification variable, such as `format='%Y-%m-%d %H%M%S`, pandas will parse the string into the proper datetime elements and build the datetime objects."
   ]
  },
  {
   "cell_type": "code",
   "execution_count": 25,
   "metadata": {
    "scrolled": true
   },
   "outputs": [
    {
     "data": {
      "text/plain": [
       "2010-01-01 00:00:00    46.2\n",
       "2010-01-01 01:00:00    44.6\n",
       "2010-01-02 00:00:00    44.1\n",
       "2010-01-02 01:00:00    43.8\n",
       "2010-01-03 00:00:00    43.5\n",
       "2010-01-04 00:00:00    43.0\n",
       "2010-01-05 00:00:00    43.1\n",
       "dtype: float64"
      ]
     },
     "execution_count": 25,
     "metadata": {},
     "output_type": "execute_result"
    }
   ],
   "source": [
    "# Prepare a format string: time_format\n",
    "time_format = '%Y-%m-%d %H:%M'\n",
    "\n",
    "# Convert date_list into a datetime object: my_datetimes\n",
    "my_datetimes = pd.to_datetime(date_list, format=time_format)  \n",
    "\n",
    "# Construct a pandas Series using temperature_list and my_datetimes: time_series\n",
    "time_series = pd.Series(temperature_list, index=my_datetimes)\n",
    "time_series"
   ]
  },
  {
   "cell_type": "markdown",
   "metadata": {},
   "source": [
    "## Partial string indexing and slicing\n",
    "Pandas time series support \"partial string\" indexing. What this means is that even when passed only a portion of the datetime, such as the date but not the time, pandas is remarkably good at doing what one would expect. Pandas datetime indexing also supports a wide variety of commonly used datetime string formats, even when mixed."
   ]
  },
  {
   "cell_type": "code",
   "execution_count": 26,
   "metadata": {},
   "outputs": [
    {
     "name": "stdout",
     "output_type": "stream",
     "text": [
      "2010-01-01 00:00:00    46.2\n",
      "2010-01-01 01:00:00    44.6\n",
      "dtype: float64\n"
     ]
    }
   ],
   "source": [
    "# Extract the hour from 9pm to 10pm on '2010-10-11': ts1\n",
    "ts1 = time_series.loc['2010-01-01 00:00:00':'2010-01-01 01:00:00']\n",
    "print(ts1)"
   ]
  },
  {
   "cell_type": "code",
   "execution_count": 27,
   "metadata": {},
   "outputs": [
    {
     "name": "stdout",
     "output_type": "stream",
     "text": [
      "44.1\n"
     ]
    }
   ],
   "source": [
    "# Extract '2010-07-04' from ts0: ts2\n",
    "ts2 = time_series.loc['2010-01-02 00:00:00']\n",
    "print(ts2)"
   ]
  },
  {
   "cell_type": "code",
   "execution_count": 28,
   "metadata": {},
   "outputs": [
    {
     "name": "stdout",
     "output_type": "stream",
     "text": [
      "2010-01-03    43.5\n",
      "2010-01-04    43.0\n",
      "dtype: float64\n"
     ]
    }
   ],
   "source": [
    "# Extract data from '2010-12-15' to '2010-12-31': ts3\n",
    "ts3 = time_series.loc['2010-01-03':'2010-01-04']\n",
    "print(ts3)"
   ]
  },
  {
   "cell_type": "markdown",
   "metadata": {},
   "source": [
    "## Reindexing the Index\n",
    "Reindexing is useful in preparation for adding or otherwise combining two time series data sets. To reindex the data, we provide a new index and ask pandas to try and match the old data to the new index. If data is unavailable for one of the new index dates or times, you must tell pandas how to fill it in. Otherwise, pandas will fill with `NaN` by default."
   ]
  },
  {
   "cell_type": "code",
   "execution_count": 29,
   "metadata": {},
   "outputs": [
    {
     "data": {
      "text/plain": [
       "2011-01-01 00:00:00    46.2\n",
       "2011-01-01 01:00:00    44.6\n",
       "2011-01-02 00:00:00    44.1\n",
       "2011-01-02 01:00:00    43.8\n",
       "2011-01-03 00:00:00    43.5\n",
       "2011-01-04 00:00:00    43.0\n",
       "2011-01-05 00:00:00    43.1\n",
       "dtype: float64"
      ]
     },
     "execution_count": 29,
     "metadata": {},
     "output_type": "execute_result"
    }
   ],
   "source": [
    "new_date_list = ['20110101 00:00', '20110101 01:00', '20110102 00:00', '20110102 01:00',\n",
    "                 '20110103 00:00', '20110104 00:00', '20110105 00:00']\n",
    "\n",
    "new_my_datetimes = pd.to_datetime(new_date_list, format=time_format) \n",
    "\n",
    "time_series.index = new_my_datetimes\n",
    "time_series"
   ]
  },
  {
   "cell_type": "code",
   "execution_count": 30,
   "metadata": {
    "scrolled": true
   },
   "outputs": [
    {
     "data": {
      "text/html": [
       "<div>\n",
       "<style scoped>\n",
       "    .dataframe tbody tr th:only-of-type {\n",
       "        vertical-align: middle;\n",
       "    }\n",
       "\n",
       "    .dataframe tbody tr th {\n",
       "        vertical-align: top;\n",
       "    }\n",
       "\n",
       "    .dataframe thead th {\n",
       "        text-align: right;\n",
       "    }\n",
       "</style>\n",
       "<table border=\"1\" class=\"dataframe\">\n",
       "  <thead>\n",
       "    <tr style=\"text-align: right;\">\n",
       "      <th></th>\n",
       "      <th>Temperature</th>\n",
       "    </tr>\n",
       "  </thead>\n",
       "  <tbody>\n",
       "    <tr>\n",
       "      <td>2010-01-01 00:00:00</td>\n",
       "      <td>46.2</td>\n",
       "    </tr>\n",
       "    <tr>\n",
       "      <td>2010-01-01 01:00:00</td>\n",
       "      <td>44.6</td>\n",
       "    </tr>\n",
       "    <tr>\n",
       "      <td>2010-01-02 00:00:00</td>\n",
       "      <td>44.1</td>\n",
       "    </tr>\n",
       "    <tr>\n",
       "      <td>2010-01-02 01:00:00</td>\n",
       "      <td>43.8</td>\n",
       "    </tr>\n",
       "    <tr>\n",
       "      <td>2010-01-03 00:00:00</td>\n",
       "      <td>43.5</td>\n",
       "    </tr>\n",
       "    <tr>\n",
       "      <td>2010-01-04 00:00:00</td>\n",
       "      <td>43.0</td>\n",
       "    </tr>\n",
       "    <tr>\n",
       "      <td>2010-01-05 00:00:00</td>\n",
       "      <td>43.1</td>\n",
       "    </tr>\n",
       "  </tbody>\n",
       "</table>\n",
       "</div>"
      ],
      "text/plain": [
       "                     Temperature\n",
       "2010-01-01 00:00:00         46.2\n",
       "2010-01-01 01:00:00         44.6\n",
       "2010-01-02 00:00:00         44.1\n",
       "2010-01-02 01:00:00         43.8\n",
       "2010-01-03 00:00:00         43.5\n",
       "2010-01-04 00:00:00         43.0\n",
       "2010-01-05 00:00:00         43.1"
      ]
     },
     "execution_count": 30,
     "metadata": {},
     "output_type": "execute_result"
    }
   ],
   "source": [
    "# Prepare a format string: time_format\n",
    "time_format = '%Y-%m-%d %H:%M'\n",
    "\n",
    "# Convert date_list into a datetime object: my_datetimes\n",
    "my_datetimes = pd.to_datetime(date_list, format=time_format)  \n",
    "\n",
    "# Construct a pandas Series using temperature_list and my_datetimes: time_series\n",
    "df = pd.DataFrame(temperature_list, index=my_datetimes, columns=['Temperature'])\n",
    "df"
   ]
  },
  {
   "cell_type": "markdown",
   "metadata": {},
   "source": [
    "## Resampling and frequency\n",
    "Pandas provides methods for resampling time series data. When downsampling or upsampling, the syntax is similar, but the methods called are different. Both use the concept of 'method chaining' - `df.method1().method2().method3()` - to direct the output from one method call to the input of the next, and so on, as a sequence of operations, one feeding into the next.\n",
    "\n",
    "For example, if you have hourly data, and just need daily data, pandas will not guess how to throw out the 23 of 24 points. You must specify this in the method. One approach, for instance, could be to take the mean, as in `df.resample('D').mean()`."
   ]
  },
  {
   "cell_type": "code",
   "execution_count": 31,
   "metadata": {},
   "outputs": [
    {
     "name": "stdout",
     "output_type": "stream",
     "text": [
      "2010-01-01 00:00:00    45.40\n",
      "2010-01-01 02:00:00      NaN\n",
      "2010-01-01 04:00:00      NaN\n",
      "2010-01-01 06:00:00      NaN\n",
      "2010-01-01 08:00:00      NaN\n",
      "2010-01-01 10:00:00      NaN\n",
      "2010-01-01 12:00:00      NaN\n",
      "2010-01-01 14:00:00      NaN\n",
      "2010-01-01 16:00:00      NaN\n",
      "2010-01-01 18:00:00      NaN\n",
      "2010-01-01 20:00:00      NaN\n",
      "2010-01-01 22:00:00      NaN\n",
      "2010-01-02 00:00:00    43.95\n",
      "2010-01-02 02:00:00      NaN\n",
      "2010-01-02 04:00:00      NaN\n",
      "2010-01-02 06:00:00      NaN\n",
      "2010-01-02 08:00:00      NaN\n",
      "2010-01-02 10:00:00      NaN\n",
      "2010-01-02 12:00:00      NaN\n",
      "2010-01-02 14:00:00      NaN\n",
      "2010-01-02 16:00:00      NaN\n",
      "2010-01-02 18:00:00      NaN\n",
      "2010-01-02 20:00:00      NaN\n",
      "2010-01-02 22:00:00      NaN\n",
      "2010-01-03 00:00:00    43.50\n",
      "2010-01-03 02:00:00      NaN\n",
      "2010-01-03 04:00:00      NaN\n",
      "2010-01-03 06:00:00      NaN\n",
      "2010-01-03 08:00:00      NaN\n",
      "2010-01-03 10:00:00      NaN\n",
      "2010-01-03 12:00:00      NaN\n",
      "2010-01-03 14:00:00      NaN\n",
      "2010-01-03 16:00:00      NaN\n",
      "2010-01-03 18:00:00      NaN\n",
      "2010-01-03 20:00:00      NaN\n",
      "2010-01-03 22:00:00      NaN\n",
      "2010-01-04 00:00:00    43.00\n",
      "2010-01-04 02:00:00      NaN\n",
      "2010-01-04 04:00:00      NaN\n",
      "2010-01-04 06:00:00      NaN\n",
      "2010-01-04 08:00:00      NaN\n",
      "2010-01-04 10:00:00      NaN\n",
      "2010-01-04 12:00:00      NaN\n",
      "2010-01-04 14:00:00      NaN\n",
      "2010-01-04 16:00:00      NaN\n",
      "2010-01-04 18:00:00      NaN\n",
      "2010-01-04 20:00:00      NaN\n",
      "2010-01-04 22:00:00      NaN\n",
      "2010-01-05 00:00:00    43.10\n",
      "Freq: 2H, Name: Temperature, dtype: float64\n"
     ]
    }
   ],
   "source": [
    "# Downsample to 6 hour data and aggregate by mean: df1\n",
    "df1 = df['Temperature'].resample('2h').mean()\n",
    "print(df1)"
   ]
  },
  {
   "cell_type": "code",
   "execution_count": 32,
   "metadata": {},
   "outputs": [
    {
     "name": "stdout",
     "output_type": "stream",
     "text": [
      "2010-01-01    2\n",
      "2010-01-02    2\n",
      "2010-01-03    1\n",
      "2010-01-04    1\n",
      "2010-01-05    1\n",
      "Freq: D, Name: Temperature, dtype: int64\n"
     ]
    }
   ],
   "source": [
    "# Downsample to daily data and count the number of data points: df2\n",
    "df2 = df['Temperature'].resample('D').count()\n",
    "print(df2)"
   ]
  },
  {
   "cell_type": "code",
   "execution_count": 33,
   "metadata": {
    "scrolled": true
   },
   "outputs": [
    {
     "data": {
      "text/plain": [
       "2010-01-01 00:00:00    46.2\n",
       "2010-01-01 01:00:00    44.6\n",
       "2010-01-01 02:00:00     NaN\n",
       "2010-01-01 03:00:00     NaN\n",
       "2010-01-01 04:00:00     NaN\n",
       "                       ... \n",
       "2010-01-04 20:00:00     NaN\n",
       "2010-01-04 21:00:00     NaN\n",
       "2010-01-04 22:00:00     NaN\n",
       "2010-01-04 23:00:00     NaN\n",
       "2010-01-05 00:00:00    43.1\n",
       "Freq: H, Name: Temperature, Length: 97, dtype: float64"
      ]
     },
     "execution_count": 33,
     "metadata": {},
     "output_type": "execute_result"
    }
   ],
   "source": [
    "daily_highs = df['Temperature'].resample('H').max()\n",
    "daily_highs"
   ]
  },
  {
   "cell_type": "markdown",
   "metadata": {},
   "source": [
    "## Rolling mean and frequency\n",
    "In this exercise, some hourly weather data is pre-loaded for you. You will continue to practice resampling, this time using rolling means.\n",
    "\n",
    "Rolling means (or moving averages) are generally used to smooth out short-term fluctuations in time series data and highlight long-term trends. You can read more about them here.\n",
    "\n",
    "To use the `.rolling()` method, you must always use method chaining, first calling `.rolling()` and then chaining an aggregation method after it. For example, with a Series hourly_data, `hourly_data.rolling(window=24).mean()` would compute new values for each hourly point, based on a 24-hour window stretching out behind each point. The frequency of the output data is the same: it is still hourly. Such an operation is useful for smoothing time series data."
   ]
  },
  {
   "cell_type": "code",
   "execution_count": 170,
   "metadata": {
    "scrolled": true
   },
   "outputs": [
    {
     "data": {
      "image/png": "[encoded data removed]",
      "text/plain": [
       "<Figure size 432x288 with 1 Axes>"
      ]
     },
     "metadata": {
      "needs_background": "light"
     },
     "output_type": "display_data"
    }
   ],
   "source": [
    "# Apply a rolling mean with a 24 hour window: smoothed\n",
    "smoothed = df['Temperature'].rolling(2).mean().plot()"
   ]
  }
 ],
 "metadata": {
  "kernelspec": {
   "display_name": "Python 3",
   "language": "python",
   "name": "python3"
  },
  "language_info": {
   "codemirror_mode": {
    "name": "ipython",
    "version": 3
   },
   "file_extension": ".py",
   "mimetype": "text/x-python",
   "name": "python",
   "nbconvert_exporter": "python",
   "pygments_lexer": "ipython3",
   "version": "3.7.4"
  }
 },
 "nbformat": 4,
 "nbformat_minor": 2
}
