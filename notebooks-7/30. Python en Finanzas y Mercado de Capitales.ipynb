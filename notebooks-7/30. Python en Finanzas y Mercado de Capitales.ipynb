{
 "cells": [
  {
   "cell_type": "markdown",
   "metadata": {},
   "source": [
    "# Alpha Vantage\n",
    "\n",
    "Alpha Vantage APIs are grouped into four categories: \n",
    "- (1) Time Series Stock APIs, \n",
    "- (2) Fundamental Data, \n",
    "- (3) Physical and Digital/Crypto Currencies (e.g., Bitcoin), and \n",
    "- (4) Technical Indicators.\n",
    "\n",
    "\n",
    "https://www.alphavantage.co/documentation/"
   ]
  },
  {
   "cell_type": "code",
   "execution_count": null,
   "metadata": {},
   "outputs": [],
   "source": [
    "!pip install alpha_vantage"
   ]
  },
  {
   "cell_type": "code",
   "execution_count": 11,
   "metadata": {},
   "outputs": [],
   "source": [
    "import matplotlib.pyplot as plt\n",
    "from alpha_vantage.timeseries import TimeSeries"
   ]
  },
  {
   "cell_type": "code",
   "execution_count": 8,
   "metadata": {},
   "outputs": [],
   "source": [
    "# Api Key\n",
    "k = 'CTUT62DDBNIHLABT'"
   ]
  },
  {
   "cell_type": "markdown",
   "metadata": {},
   "source": [
    "## Time Series\n",
    "Using pandas support we can plot the intra-minute value for `'GOOGL'` stock quite easily:"
   ]
  },
  {
   "cell_type": "code",
   "execution_count": 9,
   "metadata": {},
   "outputs": [
    {
     "data": {
      "text/html": [
       "<div>\n",
       "<style scoped>\n",
       "    .dataframe tbody tr th:only-of-type {\n",
       "        vertical-align: middle;\n",
       "    }\n",
       "\n",
       "    .dataframe tbody tr th {\n",
       "        vertical-align: top;\n",
       "    }\n",
       "\n",
       "    .dataframe thead th {\n",
       "        text-align: right;\n",
       "    }\n",
       "</style>\n",
       "<table border=\"1\" class=\"dataframe\">\n",
       "  <thead>\n",
       "    <tr style=\"text-align: right;\">\n",
       "      <th></th>\n",
       "      <th>1. open</th>\n",
       "      <th>2. high</th>\n",
       "      <th>3. low</th>\n",
       "      <th>4. close</th>\n",
       "      <th>5. volume</th>\n",
       "    </tr>\n",
       "    <tr>\n",
       "      <th>date</th>\n",
       "      <th></th>\n",
       "      <th></th>\n",
       "      <th></th>\n",
       "      <th></th>\n",
       "      <th></th>\n",
       "    </tr>\n",
       "  </thead>\n",
       "  <tbody>\n",
       "    <tr>\n",
       "      <td>2020-10-08 17:45:00</td>\n",
       "      <td>1486.0000</td>\n",
       "      <td>1486.00</td>\n",
       "      <td>1486.0000</td>\n",
       "      <td>1486.0000</td>\n",
       "      <td>1047.0</td>\n",
       "    </tr>\n",
       "    <tr>\n",
       "      <td>2020-10-08 17:00:00</td>\n",
       "      <td>1485.9100</td>\n",
       "      <td>1485.93</td>\n",
       "      <td>1485.9100</td>\n",
       "      <td>1485.9300</td>\n",
       "      <td>514.0</td>\n",
       "    </tr>\n",
       "    <tr>\n",
       "      <td>2020-10-08 16:30:00</td>\n",
       "      <td>1483.4300</td>\n",
       "      <td>1483.43</td>\n",
       "      <td>1483.4300</td>\n",
       "      <td>1483.4300</td>\n",
       "      <td>2075.0</td>\n",
       "    </tr>\n",
       "    <tr>\n",
       "      <td>2020-10-08 16:15:00</td>\n",
       "      <td>1483.4300</td>\n",
       "      <td>1483.43</td>\n",
       "      <td>1483.2817</td>\n",
       "      <td>1483.2817</td>\n",
       "      <td>18301.0</td>\n",
       "    </tr>\n",
       "    <tr>\n",
       "      <td>2020-10-08 16:00:00</td>\n",
       "      <td>1483.7700</td>\n",
       "      <td>1484.89</td>\n",
       "      <td>1481.1100</td>\n",
       "      <td>1484.5500</td>\n",
       "      <td>125847.0</td>\n",
       "    </tr>\n",
       "    <tr>\n",
       "      <td>...</td>\n",
       "      <td>...</td>\n",
       "      <td>...</td>\n",
       "      <td>...</td>\n",
       "      <td>...</td>\n",
       "      <td>...</td>\n",
       "    </tr>\n",
       "    <tr>\n",
       "      <td>2020-10-06 11:15:00</td>\n",
       "      <td>1471.7500</td>\n",
       "      <td>1474.94</td>\n",
       "      <td>1466.8500</td>\n",
       "      <td>1468.9500</td>\n",
       "      <td>19607.0</td>\n",
       "    </tr>\n",
       "    <tr>\n",
       "      <td>2020-10-06 11:00:00</td>\n",
       "      <td>1473.3700</td>\n",
       "      <td>1476.36</td>\n",
       "      <td>1469.0201</td>\n",
       "      <td>1471.0300</td>\n",
       "      <td>26926.0</td>\n",
       "    </tr>\n",
       "    <tr>\n",
       "      <td>2020-10-06 10:45:00</td>\n",
       "      <td>1475.8200</td>\n",
       "      <td>1478.51</td>\n",
       "      <td>1470.0000</td>\n",
       "      <td>1471.6850</td>\n",
       "      <td>31462.0</td>\n",
       "    </tr>\n",
       "    <tr>\n",
       "      <td>2020-10-06 10:30:00</td>\n",
       "      <td>1476.0701</td>\n",
       "      <td>1478.09</td>\n",
       "      <td>1474.2900</td>\n",
       "      <td>1476.6200</td>\n",
       "      <td>32367.0</td>\n",
       "    </tr>\n",
       "    <tr>\n",
       "      <td>2020-10-06 10:15:00</td>\n",
       "      <td>1473.8300</td>\n",
       "      <td>1479.56</td>\n",
       "      <td>1473.4663</td>\n",
       "      <td>1476.9100</td>\n",
       "      <td>36008.0</td>\n",
       "    </tr>\n",
       "  </tbody>\n",
       "</table>\n",
       "<p>100 rows × 5 columns</p>\n",
       "</div>"
      ],
      "text/plain": [
       "                       1. open  2. high     3. low   4. close  5. volume\n",
       "date                                                                    \n",
       "2020-10-08 17:45:00  1486.0000  1486.00  1486.0000  1486.0000     1047.0\n",
       "2020-10-08 17:00:00  1485.9100  1485.93  1485.9100  1485.9300      514.0\n",
       "2020-10-08 16:30:00  1483.4300  1483.43  1483.4300  1483.4300     2075.0\n",
       "2020-10-08 16:15:00  1483.4300  1483.43  1483.2817  1483.2817    18301.0\n",
       "2020-10-08 16:00:00  1483.7700  1484.89  1481.1100  1484.5500   125847.0\n",
       "...                        ...      ...        ...        ...        ...\n",
       "2020-10-06 11:15:00  1471.7500  1474.94  1466.8500  1468.9500    19607.0\n",
       "2020-10-06 11:00:00  1473.3700  1476.36  1469.0201  1471.0300    26926.0\n",
       "2020-10-06 10:45:00  1475.8200  1478.51  1470.0000  1471.6850    31462.0\n",
       "2020-10-06 10:30:00  1476.0701  1478.09  1474.2900  1476.6200    32367.0\n",
       "2020-10-06 10:15:00  1473.8300  1479.56  1473.4663  1476.9100    36008.0\n",
       "\n",
       "[100 rows x 5 columns]"
      ]
     },
     "execution_count": 9,
     "metadata": {},
     "output_type": "execute_result"
    }
   ],
   "source": [
    "ts = TimeSeries(key=k, output_format='pandas', indexing_type='date')\n",
    "data, meta_data = ts.get_intraday('GOOGL')\n",
    "data"
   ]
  },
  {
   "cell_type": "code",
   "execution_count": 29,
   "metadata": {},
   "outputs": [
    {
     "data": {
      "image/png": "[encoded data removed]",
      "text/plain": [
       "<Figure size 432x288 with 1 Axes>"
      ]
     },
     "metadata": {
      "needs_background": "light"
     },
     "output_type": "display_data"
    }
   ],
   "source": [
    "data['4. close'].plot()\n",
    "plt.title('Intraday Times Series for the GOOL stock (1 min)')\n",
    "plt.show()"
   ]
  },
  {
   "cell_type": "code",
   "execution_count": 48,
   "metadata": {},
   "outputs": [
    {
     "data": {
      "text/html": [
       "<div>\n",
       "<style scoped>\n",
       "    .dataframe tbody tr th:only-of-type {\n",
       "        vertical-align: middle;\n",
       "    }\n",
       "\n",
       "    .dataframe tbody tr th {\n",
       "        vertical-align: top;\n",
       "    }\n",
       "\n",
       "    .dataframe thead th {\n",
       "        text-align: right;\n",
       "    }\n",
       "</style>\n",
       "<table border=\"1\" class=\"dataframe\">\n",
       "  <thead>\n",
       "    <tr style=\"text-align: right;\">\n",
       "      <th></th>\n",
       "      <th>1. open</th>\n",
       "      <th>2. high</th>\n",
       "      <th>3. low</th>\n",
       "      <th>4. close</th>\n",
       "      <th>5. volume</th>\n",
       "    </tr>\n",
       "    <tr>\n",
       "      <th>date</th>\n",
       "      <th></th>\n",
       "      <th></th>\n",
       "      <th></th>\n",
       "      <th></th>\n",
       "      <th></th>\n",
       "    </tr>\n",
       "  </thead>\n",
       "  <tbody>\n",
       "    <tr>\n",
       "      <td>2020-10-08 17:43:00</td>\n",
       "      <td>1486.0000</td>\n",
       "      <td>1486.0000</td>\n",
       "      <td>1486.0000</td>\n",
       "      <td>1486.0000</td>\n",
       "      <td>1047.0</td>\n",
       "    </tr>\n",
       "    <tr>\n",
       "      <td>2020-10-08 16:53:00</td>\n",
       "      <td>1485.9300</td>\n",
       "      <td>1485.9300</td>\n",
       "      <td>1485.9300</td>\n",
       "      <td>1485.9300</td>\n",
       "      <td>150.0</td>\n",
       "    </tr>\n",
       "    <tr>\n",
       "      <td>2020-10-08 16:49:00</td>\n",
       "      <td>1485.9100</td>\n",
       "      <td>1485.9100</td>\n",
       "      <td>1485.9100</td>\n",
       "      <td>1485.9100</td>\n",
       "      <td>364.0</td>\n",
       "    </tr>\n",
       "    <tr>\n",
       "      <td>2020-10-08 16:18:00</td>\n",
       "      <td>1483.4300</td>\n",
       "      <td>1483.4300</td>\n",
       "      <td>1483.4300</td>\n",
       "      <td>1483.4300</td>\n",
       "      <td>2075.0</td>\n",
       "    </tr>\n",
       "    <tr>\n",
       "      <td>2020-10-08 16:13:00</td>\n",
       "      <td>1483.2817</td>\n",
       "      <td>1483.2817</td>\n",
       "      <td>1483.2817</td>\n",
       "      <td>1483.2817</td>\n",
       "      <td>1285.0</td>\n",
       "    </tr>\n",
       "    <tr>\n",
       "      <td>...</td>\n",
       "      <td>...</td>\n",
       "      <td>...</td>\n",
       "      <td>...</td>\n",
       "      <td>...</td>\n",
       "      <td>...</td>\n",
       "    </tr>\n",
       "    <tr>\n",
       "      <td>2020-09-25 07:55:00</td>\n",
       "      <td>1419.4900</td>\n",
       "      <td>1419.4900</td>\n",
       "      <td>1419.4900</td>\n",
       "      <td>1419.4900</td>\n",
       "      <td>202.0</td>\n",
       "    </tr>\n",
       "    <tr>\n",
       "      <td>2020-09-25 07:22:00</td>\n",
       "      <td>1416.9000</td>\n",
       "      <td>1417.0000</td>\n",
       "      <td>1416.9000</td>\n",
       "      <td>1417.0000</td>\n",
       "      <td>1260.0</td>\n",
       "    </tr>\n",
       "    <tr>\n",
       "      <td>2020-09-25 07:19:00</td>\n",
       "      <td>1416.6000</td>\n",
       "      <td>1416.6000</td>\n",
       "      <td>1416.6000</td>\n",
       "      <td>1416.6000</td>\n",
       "      <td>739.0</td>\n",
       "    </tr>\n",
       "    <tr>\n",
       "      <td>2020-09-25 07:14:00</td>\n",
       "      <td>1417.0000</td>\n",
       "      <td>1417.0000</td>\n",
       "      <td>1417.0000</td>\n",
       "      <td>1417.0000</td>\n",
       "      <td>200.0</td>\n",
       "    </tr>\n",
       "    <tr>\n",
       "      <td>2020-09-25 07:07:00</td>\n",
       "      <td>1416.0200</td>\n",
       "      <td>1416.0200</td>\n",
       "      <td>1415.0000</td>\n",
       "      <td>1415.0000</td>\n",
       "      <td>647.0</td>\n",
       "    </tr>\n",
       "  </tbody>\n",
       "</table>\n",
       "<p>4003 rows × 5 columns</p>\n",
       "</div>"
      ],
      "text/plain": [
       "                       1. open    2. high     3. low   4. close  5. volume\n",
       "date                                                                      \n",
       "2020-10-08 17:43:00  1486.0000  1486.0000  1486.0000  1486.0000     1047.0\n",
       "2020-10-08 16:53:00  1485.9300  1485.9300  1485.9300  1485.9300      150.0\n",
       "2020-10-08 16:49:00  1485.9100  1485.9100  1485.9100  1485.9100      364.0\n",
       "2020-10-08 16:18:00  1483.4300  1483.4300  1483.4300  1483.4300     2075.0\n",
       "2020-10-08 16:13:00  1483.2817  1483.2817  1483.2817  1483.2817     1285.0\n",
       "...                        ...        ...        ...        ...        ...\n",
       "2020-09-25 07:55:00  1419.4900  1419.4900  1419.4900  1419.4900      202.0\n",
       "2020-09-25 07:22:00  1416.9000  1417.0000  1416.9000  1417.0000     1260.0\n",
       "2020-09-25 07:19:00  1416.6000  1416.6000  1416.6000  1416.6000      739.0\n",
       "2020-09-25 07:14:00  1417.0000  1417.0000  1417.0000  1417.0000      200.0\n",
       "2020-09-25 07:07:00  1416.0200  1416.0200  1415.0000  1415.0000      647.0\n",
       "\n",
       "[4003 rows x 5 columns]"
      ]
     },
     "execution_count": 48,
     "metadata": {},
     "output_type": "execute_result"
    }
   ],
   "source": [
    "ts = TimeSeries(key=k, output_format='pandas')\n",
    "data, meta_data = ts.get_intraday(symbol='GOOGL',interval='1min', outputsize='full')\n",
    "data"
   ]
  },
  {
   "cell_type": "code",
   "execution_count": 49,
   "metadata": {
    "scrolled": false
   },
   "outputs": [
    {
     "data": {
      "image/png": "[encoded data removed]",
      "text/plain": [
       "<Figure size 432x288 with 1 Axes>"
      ]
     },
     "metadata": {
      "needs_background": "light"
     },
     "output_type": "display_data"
    }
   ],
   "source": [
    "data['4. close'].plot()\n",
    "plt.title('Intraday Times Series for the GOOGL stock (1 min)')\n",
    "plt.show()"
   ]
  },
  {
   "cell_type": "markdown",
   "metadata": {},
   "source": [
    "## Technical indicators\n",
    "The same way we can get pandas to plot technical indicators like Bollinger Bands®"
   ]
  },
  {
   "cell_type": "code",
   "execution_count": null,
   "metadata": {},
   "outputs": [],
   "source": [
    "from alpha_vantage.techindicators import TechIndicators"
   ]
  },
  {
   "cell_type": "code",
   "execution_count": null,
   "metadata": {},
   "outputs": [],
   "source": [
    "ti = TechIndicators(key=k, output_format='pandas')\n",
    "data, meta_data = ti.get_bbands(symbol='GOOGL', interval='60min', time_period=60)\n",
    "data.plot()\n",
    "plt.title('BBbands indicator for  MELI stock (60 min)')\n",
    "plt.show()"
   ]
  },
  {
   "cell_type": "markdown",
   "metadata": {},
   "source": [
    "## Sector Performance\n",
    "We can also plot sector performance just as easy:"
   ]
  },
  {
   "cell_type": "code",
   "execution_count": null,
   "metadata": {},
   "outputs": [],
   "source": [
    "from alpha_vantage.sectorperformance import SectorPerformances"
   ]
  },
  {
   "cell_type": "code",
   "execution_count": null,
   "metadata": {},
   "outputs": [],
   "source": [
    "sp = SectorPerformances(key=k, output_format='pandas')\n",
    "data, meta_data = sp.get_sector()\n",
    "data['Rank A: Real-Time Performance'].plot(kind='bar')\n",
    "plt.title('Real Time Performance (%) per Sector')\n",
    "plt.tight_layout()\n",
    "plt.grid()\n",
    "plt.show()"
   ]
  },
  {
   "cell_type": "markdown",
   "metadata": {},
   "source": [
    "## Crypto currencies.\n",
    "We can also plot crypto currencies prices like `BTC`:"
   ]
  },
  {
   "cell_type": "code",
   "execution_count": null,
   "metadata": {},
   "outputs": [],
   "source": [
    "from alpha_vantage.cryptocurrencies import CryptoCurrencies"
   ]
  },
  {
   "cell_type": "code",
   "execution_count": null,
   "metadata": {},
   "outputs": [],
   "source": [
    "cc = CryptoCurrencies(key=k, output_format='pandas')\n",
    "data, meta_data = cc.get_digital_currency_daily(symbol='BTC', market='CNY')\n",
    "data['4b. close (USD)'].plot()\n",
    "plt.tight_layout()\n",
    "plt.title('Daily close value for bitcoin (BTC)')\n",
    "plt.grid()\n",
    "plt.show()"
   ]
  },
  {
   "cell_type": "markdown",
   "metadata": {},
   "source": [
    "## Foreign Exchange (FX)\n",
    "The foreign exchange endpoint has no metadata, thus only available as json format and pandas (using the 'csv' format will raise an Error)"
   ]
  },
  {
   "cell_type": "code",
   "execution_count": null,
   "metadata": {},
   "outputs": [],
   "source": [
    "from alpha_vantage.foreignexchange import ForeignExchange"
   ]
  },
  {
   "cell_type": "code",
   "execution_count": null,
   "metadata": {},
   "outputs": [],
   "source": [
    "cc = ForeignExchange(key=k)\n",
    "data, _ = cc.get_currency_exchange_rate(from_currency='BTC',to_currency='USD')\n",
    "data"
   ]
  },
  {
   "cell_type": "markdown",
   "metadata": {},
   "source": [
    "# Your first Bot\n",
    "\n",
    "The `telegram.ext` submodule is built on top of the pure API implementation. It provides an easy-to-use interface and takes some work off the programmer, so you don't have to repeat yourself.\n",
    "\n",
    "It consists of several classes, but the two most important ones are `telegram.ext.Updater` and `telegram.ext.Dispatcher`.\n",
    "\n",
    "The `Updater` class continuously fetches new updates from telegram and passes them on to the `Dispatcher` class. If you create an `Updater` object, it will create a `Dispatcher` for you and link them together with a `Queue`. You can then register handlers of different types in the `Dispatcher`, which will sort the updates fetched by the `Updater` according to the handlers you registered, and deliver them to a callback function that you defined.\n",
    "\n",
    "Every handler is an instance of any subclass of the `telegram.ext.Handler` class. The library provides handler classes for almost all use cases, but if you need something very specific, you can also subclass Handler yourself."
   ]
  },
  {
   "cell_type": "markdown",
   "metadata": {},
   "source": [
    "To begin, you'll need an Access Token. If you have already read and followed Introduction to the API, you can use the one you generated then. If not: To generate an Access Token, you have to talk to `@BotFather` and follow a few simple steps (described here: https://core.telegram.org/bots#6-botfather). You should really read the introduction first, though."
   ]
  },
  {
   "cell_type": "code",
   "execution_count": null,
   "metadata": {},
   "outputs": [],
   "source": [
    "!pip install python-telegram-bot --upgrade"
   ]
  },
  {
   "cell_type": "code",
   "execution_count": 26,
   "metadata": {},
   "outputs": [],
   "source": [
    "import telegram\n",
    "from telegram.ext import Updater\n",
    "from telegram.ext import CommandHandler, MessageHandler, Filters"
   ]
  },
  {
   "cell_type": "code",
   "execution_count": 32,
   "metadata": {},
   "outputs": [],
   "source": [
    "def set_bot(token_for_bot):\n",
    "    '''\n",
    "    Starts and sets up the bot\n",
    "    Parameters:\n",
    "        token_for_bot : token ID of the bot\n",
    "    '''\n",
    "    bot = telegram.Bot(token=token_for_bot)\n",
    "    updater = Updater(token=token_for_bot)\n",
    "    dispatcher = updater.dispatcher\n",
    "    return bot, updater, dispatcher"
   ]
  },
  {
   "cell_type": "code",
   "execution_count": 2,
   "metadata": {},
   "outputs": [],
   "source": [
    "# Set bot token\n",
    "token_for_bot = '623369080:AAFG4DaG8V0mYtejZOk66pJyVuqXE85dwWo'\n",
    "\n",
    "# Set Chat ID\n",
    "chatID = -328059589"
   ]
  },
  {
   "cell_type": "code",
   "execution_count": null,
   "metadata": {},
   "outputs": [],
   "source": [
    "bot, updater, dispatcher = set_bot(token_for_bot)\n",
    "m = 'Data Science rulez!'\n",
    "\n",
    "bot.send_message(chat_id=chatID, text=m)"
   ]
  },
  {
   "cell_type": "markdown",
   "metadata": {},
   "source": [
    "## Your first Bot, step-by-step\n",
    "\n",
    "So, let's get started! Again, please fire up a Python command line if you want to follow this tutorial.\n",
    "\n",
    "First, you have to create an `Updater` object. Replace 'TOKEN' with your Bot's API token."
   ]
  },
  {
   "cell_type": "code",
   "execution_count": 3,
   "metadata": {},
   "outputs": [],
   "source": [
    "updater = Updater(token=token_for_bot)"
   ]
  },
  {
   "cell_type": "markdown",
   "metadata": {},
   "source": [
    "**Note:** The `use_context=True` is a special argument only needed for version 12 of the library. The default value is False. It allows for better backwards compatibility with older versions of the library, and to give users some time to upgrade. From version 13 `use_context=True` will be the default.\n",
    "\n",
    "For quicker access to the Dispatcher used by your Updater, you can introduce it locally:"
   ]
  },
  {
   "cell_type": "code",
   "execution_count": 4,
   "metadata": {},
   "outputs": [],
   "source": [
    "dispatcher = updater.dispatcher"
   ]
  },
  {
   "cell_type": "markdown",
   "metadata": {},
   "source": [
    "Now, you can define a function that should process a specific type of update:"
   ]
  },
  {
   "cell_type": "code",
   "execution_count": 5,
   "metadata": {},
   "outputs": [],
   "source": [
    "def start(update, context):\n",
    "    context.bot.send_message(chat_id=update.effective_chat.id, text=\"I'm a bot, please talk to me!\")"
   ]
  },
  {
   "cell_type": "markdown",
   "metadata": {},
   "source": [
    "The goal is to have this function called every time the Bot receives a Telegram message that contains the `/start` command. To accomplish that, you can use a `CommandHandler` (one of the provided Handler subclasses) and register it in the dispatcher:"
   ]
  },
  {
   "cell_type": "code",
   "execution_count": 6,
   "metadata": {},
   "outputs": [],
   "source": [
    "start_handler = CommandHandler('start', start)\n",
    "dispatcher.add_handler(start_handler)"
   ]
  },
  {
   "cell_type": "markdown",
   "metadata": {},
   "source": [
    "And that's all you need. To start the bot, run:"
   ]
  },
  {
   "cell_type": "code",
   "execution_count": 28,
   "metadata": {},
   "outputs": [
    {
     "data": {
      "text/plain": [
       "<queue.Queue at 0x1dc26f15748>"
      ]
     },
     "execution_count": 28,
     "metadata": {},
     "output_type": "execute_result"
    }
   ],
   "source": [
    "updater.start_polling()"
   ]
  },
  {
   "cell_type": "code",
   "execution_count": 30,
   "metadata": {},
   "outputs": [],
   "source": [
    "updater.stop()"
   ]
  },
  {
   "cell_type": "markdown",
   "metadata": {},
   "source": [
    "Let's add some actual functionality to your bot. We want to implement a `/caps` command that will take some text as an argument and reply to it in CAPS. To make things easy, you can receive the arguments (as a list, split on spaces) that were passed to a command in the callback function:"
   ]
  },
  {
   "cell_type": "code",
   "execution_count": 20,
   "metadata": {},
   "outputs": [],
   "source": [
    "def caps(update, context):\n",
    "    text_caps = ' '.join(context.args).upper()\n",
    "    context.bot.send_message(chat_id=update.effective_chat.id, text=text_caps)"
   ]
  },
  {
   "cell_type": "code",
   "execution_count": 21,
   "metadata": {},
   "outputs": [],
   "source": [
    "caps_handler = CommandHandler('caps', caps)\n",
    "dispatcher.add_handler(caps_handler)"
   ]
  },
  {
   "cell_type": "markdown",
   "metadata": {},
   "source": [
    "Some confused users might try to send commands to the bot that it doesn't understand, so you can use a `MessageHandler` with a command filter to reply to all commands that were not recognized by the previous handlers."
   ]
  },
  {
   "cell_type": "code",
   "execution_count": 22,
   "metadata": {},
   "outputs": [],
   "source": [
    "def unknown(update, context):\n",
    "    context.bot.send_message(chat_id=update.effective_chat.id, text=\"Sorry, I didn't understand that command.\")"
   ]
  },
  {
   "cell_type": "code",
   "execution_count": 27,
   "metadata": {},
   "outputs": [],
   "source": [
    "unknown_handler = MessageHandler(Filters.command, unknown)\n",
    "dispatcher.add_handler(unknown_handler)"
   ]
  },
  {
   "cell_type": "markdown",
   "metadata": {},
   "source": [
    "# Telegram + Alpha Vantage"
   ]
  },
  {
   "cell_type": "code",
   "execution_count": 43,
   "metadata": {},
   "outputs": [],
   "source": [
    "bot, updater, dispatcher = set_bot(token_for_bot)"
   ]
  },
  {
   "cell_type": "code",
   "execution_count": 44,
   "metadata": {},
   "outputs": [],
   "source": [
    "def price(update, context):\n",
    "    ticker = context.args\n",
    "    ts = TimeSeries(key=k, output_format='pandas', indexing_type='date')\n",
    "    try:\n",
    "        data, meta_data = ts.get_intraday(symbol=ticker, interval='1min')\n",
    "        price = data.iloc[0, 3]\n",
    "        context.bot.send_message(chat_id=update.effective_chat.id, text=price)\n",
    "    except:\n",
    "        context.bot.send_message(chat_id=update.effective_chat.id, text='Wrong ticker name, try again!')"
   ]
  },
  {
   "cell_type": "code",
   "execution_count": 45,
   "metadata": {},
   "outputs": [],
   "source": [
    "price_handler = CommandHandler('price', price)\n",
    "dispatcher.add_handler(price_handler)"
   ]
  },
  {
   "cell_type": "code",
   "execution_count": 46,
   "metadata": {},
   "outputs": [
    {
     "data": {
      "text/plain": [
       "<queue.Queue at 0x1dc2a817c88>"
      ]
     },
     "execution_count": 46,
     "metadata": {},
     "output_type": "execute_result"
    }
   ],
   "source": [
    "updater.start_polling()"
   ]
  },
  {
   "cell_type": "code",
   "execution_count": 42,
   "metadata": {},
   "outputs": [],
   "source": [
    "updater.stop()"
   ]
  }
 ],
 "metadata": {
  "kernelspec": {
   "display_name": "Python 3",
   "language": "python",
   "name": "python3"
  },
  "language_info": {
   "codemirror_mode": {
    "name": "ipython",
    "version": 3
   },
   "file_extension": ".py",
   "mimetype": "text/x-python",
   "name": "python",
   "nbconvert_exporter": "python",
   "pygments_lexer": "ipython3",
   "version": "3.7.4"
  }
 },
 "nbformat": 4,
 "nbformat_minor": 2
}
